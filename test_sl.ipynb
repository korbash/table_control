{
 "cells": [
  {
   "cell_type": "code",
   "execution_count": 1,
   "metadata": {},
   "outputs": [],
   "source": [
    "from mylib import PlotDisplayer, Slider, Time\n",
    "from prototip import director\n",
    "import pandas as pd\n",
    "import random\n",
    "import asyncio"
   ]
  },
  {
   "cell_type": "code",
   "execution_count": 11,
   "metadata": {},
   "outputs": [],
   "source": [
    "sl = Slider()\n",
    "sl.NewSl('v', min=0.1, max=9, value=5, step=0.1)\n",
    "sl.NewSl('a', min=0.1, max=9, value=5, step=0.1)\n",
    "sl.NewSl('dhKof', min=0, max=3, value=1, step=0.1)\n",
    "sl.NewSl('window', min=50, max=10000, value=100, step=50)\n",
    "sl.NewSl('molibdenH', min=-10, max=2.5, value=0.0, step=0.1)\n",
    "sl.NewSl('Kp', min=0, max=10, value=0.15, step=0.01)\n",
    "sl.NewSl('Ki', min=0, max=10, value=0.4, step=0.01)\n",
    "sl.NewSl('Kd', min=-100, max=100, value=0, step=0.01)\n",
    "sl.NewSl('T0', min=0, max=200, value=5, step=0.01)\n",
    "sl.NewBtn('molibden', 'up molibden', 'doun molibden')\n",
    "sl.NewBtn('end', 'end', 'end2', 'end3', 'vse', 'bolshe ne jmi',\n",
    "          'nu pravda ne nado', 'samiy umniy da?')\n",
    "sl.NewTt('x')\n",
    "sl.NewTt('L')\n",
    "sl.NewTt('R')\n",
    "sl.NewTt('dv')\n",
    "sl.NewTt('T')\n",
    "sl.NewTt('ki')"
   ]
  },
  {
   "cell_type": "code",
   "execution_count": 12,
   "metadata": {},
   "outputs": [
    {
     "data": {
      "application/vnd.jupyter.widget-view+json": {
       "model_id": "664567bc1bdd4a2f8dde834043ce7fee",
       "version_major": 2,
       "version_minor": 0
      },
      "text/plain": [
       "VBox(children=(Box(children=(Output(layout=Layout(border_bottom='1px solid black', border_left='1px solid blac…"
      ]
     },
     "metadata": {},
     "output_type": "display_data"
    }
   ],
   "source": [
    "sl.Display()"
   ]
  },
  {
   "cell_type": "code",
   "execution_count": 29,
   "metadata": {},
   "outputs": [
    {
     "data": {
      "text/plain": [
       "1"
      ]
     },
     "execution_count": 29,
     "metadata": {},
     "output_type": "execute_result"
    }
   ],
   "source": [
    "sl.BtnFl['molibden']"
   ]
  },
  {
   "cell_type": "code",
   "execution_count": 18,
   "metadata": {},
   "outputs": [
    {
     "name": "stdout",
     "output_type": "stream",
     "text": [
      "0.0\n",
      "0.0\n",
      "0.0\n",
      "0.0\n",
      "0.0\n",
      "0.0\n",
      "0.0\n",
      "0.0\n",
      "0.0\n",
      "0.0\n",
      "0.0\n",
      "0.0\n",
      "0.0\n",
      "0.0\n",
      "0.0\n",
      "0.0\n",
      "0.0\n",
      "0.0\n",
      "0.0\n",
      "0.0\n",
      "0.0\n",
      "0.0\n",
      "0.0\n",
      "0.0\n",
      "0.0\n",
      "0.0\n",
      "0.0\n",
      "0.0\n",
      "0.0\n",
      "0.0\n",
      "0.0\n",
      "0.0\n",
      "0.0\n",
      "0.0\n",
      "0.0\n",
      "0.0\n",
      "0.0\n",
      "0.0\n",
      "0.0\n",
      "0.0\n",
      "0.0\n",
      "0.0\n",
      "0.0\n",
      "0.0\n",
      "0.0\n",
      "0.0\n",
      "0.0\n",
      "0.0\n",
      "0.0\n"
     ]
    },
    {
     "ename": "CancelledError",
     "evalue": "",
     "output_type": "error",
     "traceback": [
      "\u001b[0;31m---------------------------------------------------------------------------\u001b[0m",
      "\u001b[0;31mCancelledError\u001b[0m                            Traceback (most recent call last)",
      "Cell \u001b[0;32mIn[18], line 2\u001b[0m\n\u001b[1;32m      1\u001b[0m \u001b[39mwhile\u001b[39;00m \u001b[39mTrue\u001b[39;00m:\n\u001b[0;32m----> 2\u001b[0m     \u001b[39mawait\u001b[39;00m asyncio\u001b[39m.\u001b[39msleep(\u001b[39m0.5\u001b[39m)\n\u001b[1;32m      3\u001b[0m     \u001b[39mprint\u001b[39m(sl\u001b[39m.\u001b[39mslBtn[\u001b[39m'\u001b[39m\u001b[39mmolibdenH\u001b[39m\u001b[39m'\u001b[39m]\u001b[39m.\u001b[39mvalue)\n",
      "File \u001b[0;32m~/miniconda/envs/pooler/lib/python3.11/asyncio/tasks.py:639\u001b[0m, in \u001b[0;36msleep\u001b[0;34m(delay, result)\u001b[0m\n\u001b[1;32m    635\u001b[0m h \u001b[39m=\u001b[39m loop\u001b[39m.\u001b[39mcall_later(delay,\n\u001b[1;32m    636\u001b[0m                     futures\u001b[39m.\u001b[39m_set_result_unless_cancelled,\n\u001b[1;32m    637\u001b[0m                     future, result)\n\u001b[1;32m    638\u001b[0m \u001b[39mtry\u001b[39;00m:\n\u001b[0;32m--> 639\u001b[0m     \u001b[39mreturn\u001b[39;00m \u001b[39mawait\u001b[39;00m future\n\u001b[1;32m    640\u001b[0m \u001b[39mfinally\u001b[39;00m:\n\u001b[1;32m    641\u001b[0m     h\u001b[39m.\u001b[39mcancel()\n",
      "\u001b[0;31mCancelledError\u001b[0m: "
     ]
    }
   ],
   "source": [
    "while True:\n",
    "    await asyncio.sleep(0.5)\n",
    "    sl.slBtn['molibdenH']."
   ]
  },
  {
   "cell_type": "code",
   "execution_count": null,
   "metadata": {},
   "outputs": [],
   "source": [
    "sl"
   ]
  }
 ],
 "metadata": {
  "kernelspec": {
   "display_name": "pooler",
   "language": "python",
   "name": "python3"
  },
  "language_info": {
   "codemirror_mode": {
    "name": "ipython",
    "version": 3
   },
   "file_extension": ".py",
   "mimetype": "text/x-python",
   "name": "python",
   "nbconvert_exporter": "python",
   "pygments_lexer": "ipython3",
   "version": "3.11.0"
  },
  "orig_nbformat": 4,
  "vscode": {
   "interpreter": {
    "hash": "453f2ac05aafa32b495760f48c8e97cb5273fda8b507e3ca1c0cc81583e9abfd"
   }
  }
 },
 "nbformat": 4,
 "nbformat_minor": 2
}
