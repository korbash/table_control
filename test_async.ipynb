{
 "cells": [
  {
   "cell_type": "code",
   "execution_count": 1,
   "metadata": {},
   "outputs": [],
   "source": [
    "from mylib import  PlotDisplayer, Slider, Time\n",
    "import pandas as pd"
   ]
  },
  {
   "cell_type": "code",
   "execution_count": 2,
   "metadata": {},
   "outputs": [],
   "source": [
    "from bokeh.io import push_notebook, show, output_notebook\n",
    "from bokeh.plotting import figure\n",
    "from bokeh.layouts import gridplot, layout\n",
    "from jupyter_ui_poll import ui_events"
   ]
  },
  {
   "cell_type": "code",
   "execution_count": 3,
   "metadata": {},
   "outputs": [
    {
     "data": {
      "text/html": [
       "<style>\n",
       "        .bk-notebook-logo {\n",
       "            display: block;\n",
       "            width: 20px;\n",
       "            height: 20px;\n",
       "            background-image: url(data:image/png;base64,iVBORw0KGgoAAAANSUhEUgAAABQAAAAUCAYAAACNiR0NAAAABHNCSVQICAgIfAhkiAAAAAlwSFlzAAALEgAACxIB0t1+/AAAABx0RVh0U29mdHdhcmUAQWRvYmUgRmlyZXdvcmtzIENTNui8sowAAAOkSURBVDiNjZRtaJVlGMd/1/08zzln5zjP1LWcU9N0NkN8m2CYjpgQYQXqSs0I84OLIC0hkEKoPtiH3gmKoiJDU7QpLgoLjLIQCpEsNJ1vqUOdO7ppbuec5+V+rj4ctwzd8IIbbi6u+8f1539dt3A78eXC7QizUF7gyV1fD1Yqg4JWz84yffhm0qkFqBogB9rM8tZdtwVsPUhWhGcFJngGeWrPzHm5oaMmkfEg1usvLFyc8jLRqDOMru7AyC8saQr7GG7f5fvDeH7Ej8CM66nIF+8yngt6HWaKh7k49Soy9nXurCi1o3qUbS3zWfrYeQDTB/Qj6kX6Ybhw4B+bOYoLKCC9H3Nu/leUTZ1JdRWkkn2ldcCamzrcf47KKXdAJllSlxAOkRgyHsGC/zRday5Qld9DyoM4/q/rUoy/CXh3jzOu3bHUVZeU+DEn8FInkPBFlu3+nW3Nw0mk6vCDiWg8CeJaxEwuHS3+z5RgY+YBR6V1Z1nxSOfoaPa4LASWxxdNp+VWTk7+4vzaou8v8PN+xo+KY2xsw6une2frhw05CTYOmQvsEhjhWjn0bmXPjpE1+kplmmkP3suftwTubK9Vq22qKmrBhpY4jvd5afdRA3wGjFAgcnTK2s4hY0/GPNIb0nErGMCRxWOOX64Z8RAC4oCXdklmEvcL8o0BfkNK4lUg9HTl+oPlQxdNo3Mg4Nv175e/1LDGzZen30MEjRUtmXSfiTVu1kK8W4txyV6BMKlbgk3lMwYCiusNy9fVfvvwMxv8Ynl6vxoByANLTWplvuj/nF9m2+PDtt1eiHPBr1oIfhCChQMBw6Aw0UulqTKZdfVvfG7VcfIqLG9bcldL/+pdWTLxLUy8Qq38heUIjh4XlzZxzQm19lLFlr8vdQ97rjZVOLf8nclzckbcD4wxXMidpX30sFd37Fv/GtwwhzhxGVAprjbg0gCAEeIgwCZyTV2Z1REEW8O4py0wsjeloKoMr6iCY6dP92H6Vw/oTyICIthibxjm/DfN9lVz8IqtqKYLUXfoKVMVQVVJOElGjrnnUt9T9wbgp8AyYKaGlqingHZU/uG2NTZSVqwHQTWkx9hxjkpWDaCg6Ckj5qebgBVbT3V3NNXMSiWSDdGV3hrtzla7J+duwPOToIg42ChPQOQjspnSlp1V+Gjdged7+8UN5CRAV7a5EdFNwCjEaBR27b3W890TE7g24NAP/mMDXRWrGoFPQI9ls/MWO2dWFAar/xcOIImbbpA3zgAAAABJRU5ErkJggg==);\n",
       "        }\n",
       "    </style>\n",
       "    <div>\n",
       "        <a href=\"https://bokeh.org\" target=\"_blank\" class=\"bk-notebook-logo\"></a>\n",
       "        <span id=\"p1001\">Loading BokehJS ...</span>\n",
       "    </div>\n"
      ]
     },
     "metadata": {},
     "output_type": "display_data"
    },
    {
     "data": {
      "application/javascript": "(function(root) {\n  function now() {\n    return new Date();\n  }\n\n  const force = true;\n\n  if (typeof root._bokeh_onload_callbacks === \"undefined\" || force === true) {\n    root._bokeh_onload_callbacks = [];\n    root._bokeh_is_loading = undefined;\n  }\n\nconst JS_MIME_TYPE = 'application/javascript';\n  const HTML_MIME_TYPE = 'text/html';\n  const EXEC_MIME_TYPE = 'application/vnd.bokehjs_exec.v0+json';\n  const CLASS_NAME = 'output_bokeh rendered_html';\n\n  /**\n   * Render data to the DOM node\n   */\n  function render(props, node) {\n    const script = document.createElement(\"script\");\n    node.appendChild(script);\n  }\n\n  /**\n   * Handle when an output is cleared or removed\n   */\n  function handleClearOutput(event, handle) {\n    const cell = handle.cell;\n\n    const id = cell.output_area._bokeh_element_id;\n    const server_id = cell.output_area._bokeh_server_id;\n    // Clean up Bokeh references\n    if (id != null && id in Bokeh.index) {\n      Bokeh.index[id].model.document.clear();\n      delete Bokeh.index[id];\n    }\n\n    if (server_id !== undefined) {\n      // Clean up Bokeh references\n      const cmd_clean = \"from bokeh.io.state import curstate; print(curstate().uuid_to_server['\" + server_id + \"'].get_sessions()[0].document.roots[0]._id)\";\n      cell.notebook.kernel.execute(cmd_clean, {\n        iopub: {\n          output: function(msg) {\n            const id = msg.content.text.trim();\n            if (id in Bokeh.index) {\n              Bokeh.index[id].model.document.clear();\n              delete Bokeh.index[id];\n            }\n          }\n        }\n      });\n      // Destroy server and session\n      const cmd_destroy = \"import bokeh.io.notebook as ion; ion.destroy_server('\" + server_id + \"')\";\n      cell.notebook.kernel.execute(cmd_destroy);\n    }\n  }\n\n  /**\n   * Handle when a new output is added\n   */\n  function handleAddOutput(event, handle) {\n    const output_area = handle.output_area;\n    const output = handle.output;\n\n    // limit handleAddOutput to display_data with EXEC_MIME_TYPE content only\n    if ((output.output_type != \"display_data\") || (!Object.prototype.hasOwnProperty.call(output.data, EXEC_MIME_TYPE))) {\n      return\n    }\n\n    const toinsert = output_area.element.find(\".\" + CLASS_NAME.split(' ')[0]);\n\n    if (output.metadata[EXEC_MIME_TYPE][\"id\"] !== undefined) {\n      toinsert[toinsert.length - 1].firstChild.textContent = output.data[JS_MIME_TYPE];\n      // store reference to embed id on output_area\n      output_area._bokeh_element_id = output.metadata[EXEC_MIME_TYPE][\"id\"];\n    }\n    if (output.metadata[EXEC_MIME_TYPE][\"server_id\"] !== undefined) {\n      const bk_div = document.createElement(\"div\");\n      bk_div.innerHTML = output.data[HTML_MIME_TYPE];\n      const script_attrs = bk_div.children[0].attributes;\n      for (let i = 0; i < script_attrs.length; i++) {\n        toinsert[toinsert.length - 1].firstChild.setAttribute(script_attrs[i].name, script_attrs[i].value);\n        toinsert[toinsert.length - 1].firstChild.textContent = bk_div.children[0].textContent\n      }\n      // store reference to server id on output_area\n      output_area._bokeh_server_id = output.metadata[EXEC_MIME_TYPE][\"server_id\"];\n    }\n  }\n\n  function register_renderer(events, OutputArea) {\n\n    function append_mime(data, metadata, element) {\n      // create a DOM node to render to\n      const toinsert = this.create_output_subarea(\n        metadata,\n        CLASS_NAME,\n        EXEC_MIME_TYPE\n      );\n      this.keyboard_manager.register_events(toinsert);\n      // Render to node\n      const props = {data: data, metadata: metadata[EXEC_MIME_TYPE]};\n      render(props, toinsert[toinsert.length - 1]);\n      element.append(toinsert);\n      return toinsert\n    }\n\n    /* Handle when an output is cleared or removed */\n    events.on('clear_output.CodeCell', handleClearOutput);\n    events.on('delete.Cell', handleClearOutput);\n\n    /* Handle when a new output is added */\n    events.on('output_added.OutputArea', handleAddOutput);\n\n    /**\n     * Register the mime type and append_mime function with output_area\n     */\n    OutputArea.prototype.register_mime_type(EXEC_MIME_TYPE, append_mime, {\n      /* Is output safe? */\n      safe: true,\n      /* Index of renderer in `output_area.display_order` */\n      index: 0\n    });\n  }\n\n  // register the mime type if in Jupyter Notebook environment and previously unregistered\n  if (root.Jupyter !== undefined) {\n    const events = require('base/js/events');\n    const OutputArea = require('notebook/js/outputarea').OutputArea;\n\n    if (OutputArea.prototype.mime_types().indexOf(EXEC_MIME_TYPE) == -1) {\n      register_renderer(events, OutputArea);\n    }\n  }\n  if (typeof (root._bokeh_timeout) === \"undefined\" || force === true) {\n    root._bokeh_timeout = Date.now() + 5000;\n    root._bokeh_failed_load = false;\n  }\n\n  const NB_LOAD_WARNING = {'data': {'text/html':\n     \"<div style='background-color: #fdd'>\\n\"+\n     \"<p>\\n\"+\n     \"BokehJS does not appear to have successfully loaded. If loading BokehJS from CDN, this \\n\"+\n     \"may be due to a slow or bad network connection. Possible fixes:\\n\"+\n     \"</p>\\n\"+\n     \"<ul>\\n\"+\n     \"<li>re-rerun `output_notebook()` to attempt to load from CDN again, or</li>\\n\"+\n     \"<li>use INLINE resources instead, as so:</li>\\n\"+\n     \"</ul>\\n\"+\n     \"<code>\\n\"+\n     \"from bokeh.resources import INLINE\\n\"+\n     \"output_notebook(resources=INLINE)\\n\"+\n     \"</code>\\n\"+\n     \"</div>\"}};\n\n  function display_loaded() {\n    const el = document.getElementById(\"p1001\");\n    if (el != null) {\n      el.textContent = \"BokehJS is loading...\";\n    }\n    if (root.Bokeh !== undefined) {\n      if (el != null) {\n        el.textContent = \"BokehJS \" + root.Bokeh.version + \" successfully loaded.\";\n      }\n    } else if (Date.now() < root._bokeh_timeout) {\n      setTimeout(display_loaded, 100)\n    }\n  }\n\n  function run_callbacks() {\n    try {\n      root._bokeh_onload_callbacks.forEach(function(callback) {\n        if (callback != null)\n          callback();\n      });\n    } finally {\n      delete root._bokeh_onload_callbacks\n    }\n    console.debug(\"Bokeh: all callbacks have finished\");\n  }\n\n  function load_libs(css_urls, js_urls, callback) {\n    if (css_urls == null) css_urls = [];\n    if (js_urls == null) js_urls = [];\n\n    root._bokeh_onload_callbacks.push(callback);\n    if (root._bokeh_is_loading > 0) {\n      console.debug(\"Bokeh: BokehJS is being loaded, scheduling callback at\", now());\n      return null;\n    }\n    if (js_urls == null || js_urls.length === 0) {\n      run_callbacks();\n      return null;\n    }\n    console.debug(\"Bokeh: BokehJS not loaded, scheduling load and callback at\", now());\n    root._bokeh_is_loading = css_urls.length + js_urls.length;\n\n    function on_load() {\n      root._bokeh_is_loading--;\n      if (root._bokeh_is_loading === 0) {\n        console.debug(\"Bokeh: all BokehJS libraries/stylesheets loaded\");\n        run_callbacks()\n      }\n    }\n\n    function on_error(url) {\n      console.error(\"failed to load \" + url);\n    }\n\n    for (let i = 0; i < css_urls.length; i++) {\n      const url = css_urls[i];\n      const element = document.createElement(\"link\");\n      element.onload = on_load;\n      element.onerror = on_error.bind(null, url);\n      element.rel = \"stylesheet\";\n      element.type = \"text/css\";\n      element.href = url;\n      console.debug(\"Bokeh: injecting link tag for BokehJS stylesheet: \", url);\n      document.body.appendChild(element);\n    }\n\n    for (let i = 0; i < js_urls.length; i++) {\n      const url = js_urls[i];\n      const element = document.createElement('script');\n      element.onload = on_load;\n      element.onerror = on_error.bind(null, url);\n      element.async = false;\n      element.src = url;\n      console.debug(\"Bokeh: injecting script tag for BokehJS library: \", url);\n      document.head.appendChild(element);\n    }\n  };\n\n  function inject_raw_css(css) {\n    const element = document.createElement(\"style\");\n    element.appendChild(document.createTextNode(css));\n    document.body.appendChild(element);\n  }\n\n  const js_urls = [\"https://cdn.bokeh.org/bokeh/release/bokeh-3.0.3.min.js\", \"https://cdn.bokeh.org/bokeh/release/bokeh-gl-3.0.3.min.js\", \"https://cdn.bokeh.org/bokeh/release/bokeh-widgets-3.0.3.min.js\", \"https://cdn.bokeh.org/bokeh/release/bokeh-tables-3.0.3.min.js\", \"https://cdn.bokeh.org/bokeh/release/bokeh-mathjax-3.0.3.min.js\"];\n  const css_urls = [];\n\n  const inline_js = [    function(Bokeh) {\n      Bokeh.set_log_level(\"info\");\n    },\nfunction(Bokeh) {\n    }\n  ];\n\n  function run_inline_js() {\n    if (root.Bokeh !== undefined || force === true) {\n          for (let i = 0; i < inline_js.length; i++) {\n      inline_js[i].call(root, root.Bokeh);\n    }\nif (force === true) {\n        display_loaded();\n      }} else if (Date.now() < root._bokeh_timeout) {\n      setTimeout(run_inline_js, 100);\n    } else if (!root._bokeh_failed_load) {\n      console.log(\"Bokeh: BokehJS failed to load within specified timeout.\");\n      root._bokeh_failed_load = true;\n    } else if (force !== true) {\n      const cell = $(document.getElementById(\"p1001\")).parents('.cell').data().cell;\n      cell.output_area.append_execute_result(NB_LOAD_WARNING)\n    }\n  }\n\n  if (root._bokeh_is_loading === 0) {\n    console.debug(\"Bokeh: BokehJS loaded, going straight to plotting\");\n    run_inline_js();\n  } else {\n    load_libs(css_urls, js_urls, function() {\n      console.debug(\"Bokeh: BokehJS plotting callback run at\", now());\n      run_inline_js();\n    });\n  }\n}(window));",
      "application/vnd.bokehjs_load.v0+json": ""
     },
     "metadata": {},
     "output_type": "display_data"
    }
   ],
   "source": [
    "output_notebook()"
   ]
  },
  {
   "cell_type": "code",
   "execution_count": 1,
   "metadata": {},
   "outputs": [
    {
     "data": {
      "text/html": [
       "<style>\n",
       "        .bk-notebook-logo {\n",
       "            display: block;\n",
       "            width: 20px;\n",
       "            height: 20px;\n",
       "            background-image: url(data:image/png;base64,iVBORw0KGgoAAAANSUhEUgAAABQAAAAUCAYAAACNiR0NAAAABHNCSVQICAgIfAhkiAAAAAlwSFlzAAALEgAACxIB0t1+/AAAABx0RVh0U29mdHdhcmUAQWRvYmUgRmlyZXdvcmtzIENTNui8sowAAAOkSURBVDiNjZRtaJVlGMd/1/08zzln5zjP1LWcU9N0NkN8m2CYjpgQYQXqSs0I84OLIC0hkEKoPtiH3gmKoiJDU7QpLgoLjLIQCpEsNJ1vqUOdO7ppbuec5+V+rj4ctwzd8IIbbi6u+8f1539dt3A78eXC7QizUF7gyV1fD1Yqg4JWz84yffhm0qkFqBogB9rM8tZdtwVsPUhWhGcFJngGeWrPzHm5oaMmkfEg1usvLFyc8jLRqDOMru7AyC8saQr7GG7f5fvDeH7Ej8CM66nIF+8yngt6HWaKh7k49Soy9nXurCi1o3qUbS3zWfrYeQDTB/Qj6kX6Ybhw4B+bOYoLKCC9H3Nu/leUTZ1JdRWkkn2ldcCamzrcf47KKXdAJllSlxAOkRgyHsGC/zRday5Qld9DyoM4/q/rUoy/CXh3jzOu3bHUVZeU+DEn8FInkPBFlu3+nW3Nw0mk6vCDiWg8CeJaxEwuHS3+z5RgY+YBR6V1Z1nxSOfoaPa4LASWxxdNp+VWTk7+4vzaou8v8PN+xo+KY2xsw6une2frhw05CTYOmQvsEhjhWjn0bmXPjpE1+kplmmkP3suftwTubK9Vq22qKmrBhpY4jvd5afdRA3wGjFAgcnTK2s4hY0/GPNIb0nErGMCRxWOOX64Z8RAC4oCXdklmEvcL8o0BfkNK4lUg9HTl+oPlQxdNo3Mg4Nv175e/1LDGzZen30MEjRUtmXSfiTVu1kK8W4txyV6BMKlbgk3lMwYCiusNy9fVfvvwMxv8Ynl6vxoByANLTWplvuj/nF9m2+PDtt1eiHPBr1oIfhCChQMBw6Aw0UulqTKZdfVvfG7VcfIqLG9bcldL/+pdWTLxLUy8Qq38heUIjh4XlzZxzQm19lLFlr8vdQ97rjZVOLf8nclzckbcD4wxXMidpX30sFd37Fv/GtwwhzhxGVAprjbg0gCAEeIgwCZyTV2Z1REEW8O4py0wsjeloKoMr6iCY6dP92H6Vw/oTyICIthibxjm/DfN9lVz8IqtqKYLUXfoKVMVQVVJOElGjrnnUt9T9wbgp8AyYKaGlqingHZU/uG2NTZSVqwHQTWkx9hxjkpWDaCg6Ckj5qebgBVbT3V3NNXMSiWSDdGV3hrtzla7J+duwPOToIg42ChPQOQjspnSlp1V+Gjdged7+8UN5CRAV7a5EdFNwCjEaBR27b3W890TE7g24NAP/mMDXRWrGoFPQI9ls/MWO2dWFAar/xcOIImbbpA3zgAAAABJRU5ErkJggg==);\n",
       "        }\n",
       "    </style>\n",
       "    <div>\n",
       "        <a href=\"https://bokeh.org\" target=\"_blank\" class=\"bk-notebook-logo\"></a>\n",
       "        <span id=\"p1001\">Loading BokehJS ...</span>\n",
       "    </div>\n"
      ]
     },
     "metadata": {},
     "output_type": "display_data"
    },
    {
     "data": {
      "application/javascript": "(function(root) {\n  function now() {\n    return new Date();\n  }\n\n  const force = true;\n\n  if (typeof root._bokeh_onload_callbacks === \"undefined\" || force === true) {\n    root._bokeh_onload_callbacks = [];\n    root._bokeh_is_loading = undefined;\n  }\n\nconst JS_MIME_TYPE = 'application/javascript';\n  const HTML_MIME_TYPE = 'text/html';\n  const EXEC_MIME_TYPE = 'application/vnd.bokehjs_exec.v0+json';\n  const CLASS_NAME = 'output_bokeh rendered_html';\n\n  /**\n   * Render data to the DOM node\n   */\n  function render(props, node) {\n    const script = document.createElement(\"script\");\n    node.appendChild(script);\n  }\n\n  /**\n   * Handle when an output is cleared or removed\n   */\n  function handleClearOutput(event, handle) {\n    const cell = handle.cell;\n\n    const id = cell.output_area._bokeh_element_id;\n    const server_id = cell.output_area._bokeh_server_id;\n    // Clean up Bokeh references\n    if (id != null && id in Bokeh.index) {\n      Bokeh.index[id].model.document.clear();\n      delete Bokeh.index[id];\n    }\n\n    if (server_id !== undefined) {\n      // Clean up Bokeh references\n      const cmd_clean = \"from bokeh.io.state import curstate; print(curstate().uuid_to_server['\" + server_id + \"'].get_sessions()[0].document.roots[0]._id)\";\n      cell.notebook.kernel.execute(cmd_clean, {\n        iopub: {\n          output: function(msg) {\n            const id = msg.content.text.trim();\n            if (id in Bokeh.index) {\n              Bokeh.index[id].model.document.clear();\n              delete Bokeh.index[id];\n            }\n          }\n        }\n      });\n      // Destroy server and session\n      const cmd_destroy = \"import bokeh.io.notebook as ion; ion.destroy_server('\" + server_id + \"')\";\n      cell.notebook.kernel.execute(cmd_destroy);\n    }\n  }\n\n  /**\n   * Handle when a new output is added\n   */\n  function handleAddOutput(event, handle) {\n    const output_area = handle.output_area;\n    const output = handle.output;\n\n    // limit handleAddOutput to display_data with EXEC_MIME_TYPE content only\n    if ((output.output_type != \"display_data\") || (!Object.prototype.hasOwnProperty.call(output.data, EXEC_MIME_TYPE))) {\n      return\n    }\n\n    const toinsert = output_area.element.find(\".\" + CLASS_NAME.split(' ')[0]);\n\n    if (output.metadata[EXEC_MIME_TYPE][\"id\"] !== undefined) {\n      toinsert[toinsert.length - 1].firstChild.textContent = output.data[JS_MIME_TYPE];\n      // store reference to embed id on output_area\n      output_area._bokeh_element_id = output.metadata[EXEC_MIME_TYPE][\"id\"];\n    }\n    if (output.metadata[EXEC_MIME_TYPE][\"server_id\"] !== undefined) {\n      const bk_div = document.createElement(\"div\");\n      bk_div.innerHTML = output.data[HTML_MIME_TYPE];\n      const script_attrs = bk_div.children[0].attributes;\n      for (let i = 0; i < script_attrs.length; i++) {\n        toinsert[toinsert.length - 1].firstChild.setAttribute(script_attrs[i].name, script_attrs[i].value);\n        toinsert[toinsert.length - 1].firstChild.textContent = bk_div.children[0].textContent\n      }\n      // store reference to server id on output_area\n      output_area._bokeh_server_id = output.metadata[EXEC_MIME_TYPE][\"server_id\"];\n    }\n  }\n\n  function register_renderer(events, OutputArea) {\n\n    function append_mime(data, metadata, element) {\n      // create a DOM node to render to\n      const toinsert = this.create_output_subarea(\n        metadata,\n        CLASS_NAME,\n        EXEC_MIME_TYPE\n      );\n      this.keyboard_manager.register_events(toinsert);\n      // Render to node\n      const props = {data: data, metadata: metadata[EXEC_MIME_TYPE]};\n      render(props, toinsert[toinsert.length - 1]);\n      element.append(toinsert);\n      return toinsert\n    }\n\n    /* Handle when an output is cleared or removed */\n    events.on('clear_output.CodeCell', handleClearOutput);\n    events.on('delete.Cell', handleClearOutput);\n\n    /* Handle when a new output is added */\n    events.on('output_added.OutputArea', handleAddOutput);\n\n    /**\n     * Register the mime type and append_mime function with output_area\n     */\n    OutputArea.prototype.register_mime_type(EXEC_MIME_TYPE, append_mime, {\n      /* Is output safe? */\n      safe: true,\n      /* Index of renderer in `output_area.display_order` */\n      index: 0\n    });\n  }\n\n  // register the mime type if in Jupyter Notebook environment and previously unregistered\n  if (root.Jupyter !== undefined) {\n    const events = require('base/js/events');\n    const OutputArea = require('notebook/js/outputarea').OutputArea;\n\n    if (OutputArea.prototype.mime_types().indexOf(EXEC_MIME_TYPE) == -1) {\n      register_renderer(events, OutputArea);\n    }\n  }\n  if (typeof (root._bokeh_timeout) === \"undefined\" || force === true) {\n    root._bokeh_timeout = Date.now() + 5000;\n    root._bokeh_failed_load = false;\n  }\n\n  const NB_LOAD_WARNING = {'data': {'text/html':\n     \"<div style='background-color: #fdd'>\\n\"+\n     \"<p>\\n\"+\n     \"BokehJS does not appear to have successfully loaded. If loading BokehJS from CDN, this \\n\"+\n     \"may be due to a slow or bad network connection. Possible fixes:\\n\"+\n     \"</p>\\n\"+\n     \"<ul>\\n\"+\n     \"<li>re-rerun `output_notebook()` to attempt to load from CDN again, or</li>\\n\"+\n     \"<li>use INLINE resources instead, as so:</li>\\n\"+\n     \"</ul>\\n\"+\n     \"<code>\\n\"+\n     \"from bokeh.resources import INLINE\\n\"+\n     \"output_notebook(resources=INLINE)\\n\"+\n     \"</code>\\n\"+\n     \"</div>\"}};\n\n  function display_loaded() {\n    const el = document.getElementById(\"p1001\");\n    if (el != null) {\n      el.textContent = \"BokehJS is loading...\";\n    }\n    if (root.Bokeh !== undefined) {\n      if (el != null) {\n        el.textContent = \"BokehJS \" + root.Bokeh.version + \" successfully loaded.\";\n      }\n    } else if (Date.now() < root._bokeh_timeout) {\n      setTimeout(display_loaded, 100)\n    }\n  }\n\n  function run_callbacks() {\n    try {\n      root._bokeh_onload_callbacks.forEach(function(callback) {\n        if (callback != null)\n          callback();\n      });\n    } finally {\n      delete root._bokeh_onload_callbacks\n    }\n    console.debug(\"Bokeh: all callbacks have finished\");\n  }\n\n  function load_libs(css_urls, js_urls, callback) {\n    if (css_urls == null) css_urls = [];\n    if (js_urls == null) js_urls = [];\n\n    root._bokeh_onload_callbacks.push(callback);\n    if (root._bokeh_is_loading > 0) {\n      console.debug(\"Bokeh: BokehJS is being loaded, scheduling callback at\", now());\n      return null;\n    }\n    if (js_urls == null || js_urls.length === 0) {\n      run_callbacks();\n      return null;\n    }\n    console.debug(\"Bokeh: BokehJS not loaded, scheduling load and callback at\", now());\n    root._bokeh_is_loading = css_urls.length + js_urls.length;\n\n    function on_load() {\n      root._bokeh_is_loading--;\n      if (root._bokeh_is_loading === 0) {\n        console.debug(\"Bokeh: all BokehJS libraries/stylesheets loaded\");\n        run_callbacks()\n      }\n    }\n\n    function on_error(url) {\n      console.error(\"failed to load \" + url);\n    }\n\n    for (let i = 0; i < css_urls.length; i++) {\n      const url = css_urls[i];\n      const element = document.createElement(\"link\");\n      element.onload = on_load;\n      element.onerror = on_error.bind(null, url);\n      element.rel = \"stylesheet\";\n      element.type = \"text/css\";\n      element.href = url;\n      console.debug(\"Bokeh: injecting link tag for BokehJS stylesheet: \", url);\n      document.body.appendChild(element);\n    }\n\n    for (let i = 0; i < js_urls.length; i++) {\n      const url = js_urls[i];\n      const element = document.createElement('script');\n      element.onload = on_load;\n      element.onerror = on_error.bind(null, url);\n      element.async = false;\n      element.src = url;\n      console.debug(\"Bokeh: injecting script tag for BokehJS library: \", url);\n      document.head.appendChild(element);\n    }\n  };\n\n  function inject_raw_css(css) {\n    const element = document.createElement(\"style\");\n    element.appendChild(document.createTextNode(css));\n    document.body.appendChild(element);\n  }\n\n  const js_urls = [\"https://cdn.bokeh.org/bokeh/release/bokeh-3.0.3.min.js\", \"https://cdn.bokeh.org/bokeh/release/bokeh-gl-3.0.3.min.js\", \"https://cdn.bokeh.org/bokeh/release/bokeh-widgets-3.0.3.min.js\", \"https://cdn.bokeh.org/bokeh/release/bokeh-tables-3.0.3.min.js\", \"https://cdn.bokeh.org/bokeh/release/bokeh-mathjax-3.0.3.min.js\"];\n  const css_urls = [];\n\n  const inline_js = [    function(Bokeh) {\n      Bokeh.set_log_level(\"info\");\n    },\nfunction(Bokeh) {\n    }\n  ];\n\n  function run_inline_js() {\n    if (root.Bokeh !== undefined || force === true) {\n          for (let i = 0; i < inline_js.length; i++) {\n      inline_js[i].call(root, root.Bokeh);\n    }\nif (force === true) {\n        display_loaded();\n      }} else if (Date.now() < root._bokeh_timeout) {\n      setTimeout(run_inline_js, 100);\n    } else if (!root._bokeh_failed_load) {\n      console.log(\"Bokeh: BokehJS failed to load within specified timeout.\");\n      root._bokeh_failed_load = true;\n    } else if (force !== true) {\n      const cell = $(document.getElementById(\"p1001\")).parents('.cell').data().cell;\n      cell.output_area.append_execute_result(NB_LOAD_WARNING)\n    }\n  }\n\n  if (root._bokeh_is_loading === 0) {\n    console.debug(\"Bokeh: BokehJS loaded, going straight to plotting\");\n    run_inline_js();\n  } else {\n    load_libs(css_urls, js_urls, function() {\n      console.debug(\"Bokeh: BokehJS plotting callback run at\", now());\n      run_inline_js();\n    });\n  }\n}(window));",
      "application/vnd.bokehjs_load.v0+json": ""
     },
     "metadata": {},
     "output_type": "display_data"
    }
   ],
   "source": [
    "from bokeh.plotting import figure\n",
    "from bokeh.io import output_notebook, push_notebook, show\n",
    "import time\n",
    "output_notebook()"
   ]
  },
  {
   "cell_type": "code",
   "execution_count": 2,
   "metadata": {},
   "outputs": [
    {
     "data": {
      "text/html": [
       "\n",
       "  <div id=\"f37ed32f-621f-4aa0-a5b1-369c87fad034\" data-root-id=\"p1002\" style=\"display: contents;\"></div>\n"
      ]
     },
     "metadata": {},
     "output_type": "display_data"
    },
    {
     "data": {
      "application/javascript": "(function(root) {\n  function embed_document(root) {\n  const docs_json = {\"1c66a74f-7d80-443e-9a67-31a8e7f5b1a0\":{\"version\":\"3.0.3\",\"title\":\"Bokeh Application\",\"defs\":[],\"roots\":[{\"type\":\"object\",\"name\":\"Figure\",\"id\":\"p1002\",\"attributes\":{\"x_range\":{\"type\":\"object\",\"name\":\"DataRange1d\",\"id\":\"p1004\"},\"y_range\":{\"type\":\"object\",\"name\":\"DataRange1d\",\"id\":\"p1003\"},\"x_scale\":{\"type\":\"object\",\"name\":\"LinearScale\",\"id\":\"p1015\"},\"y_scale\":{\"type\":\"object\",\"name\":\"LinearScale\",\"id\":\"p1017\"},\"title\":{\"type\":\"object\",\"name\":\"Title\",\"id\":\"p1008\"},\"renderers\":[{\"type\":\"object\",\"name\":\"GlyphRenderer\",\"id\":\"p1054\",\"attributes\":{\"data_source\":{\"type\":\"object\",\"name\":\"ColumnDataSource\",\"id\":\"p1048\",\"attributes\":{\"selected\":{\"type\":\"object\",\"name\":\"Selection\",\"id\":\"p1049\",\"attributes\":{\"indices\":[],\"line_indices\":[]}},\"selection_policy\":{\"type\":\"object\",\"name\":\"UnionRenderers\",\"id\":\"p1050\"},\"data\":{\"type\":\"map\",\"entries\":[[\"x\",[1,2,3]],[\"y\",[4,6,5]]]}}},\"view\":{\"type\":\"object\",\"name\":\"CDSView\",\"id\":\"p1055\",\"attributes\":{\"filter\":{\"type\":\"object\",\"name\":\"AllIndices\",\"id\":\"p1056\"}}},\"glyph\":{\"type\":\"object\",\"name\":\"Circle\",\"id\":\"p1051\",\"attributes\":{\"x\":{\"type\":\"field\",\"field\":\"x\"},\"y\":{\"type\":\"field\",\"field\":\"y\"},\"line_color\":{\"type\":\"value\",\"value\":\"#1f77b4\"},\"fill_color\":{\"type\":\"value\",\"value\":\"#1f77b4\"}}},\"nonselection_glyph\":{\"type\":\"object\",\"name\":\"Circle\",\"id\":\"p1052\",\"attributes\":{\"x\":{\"type\":\"field\",\"field\":\"x\"},\"y\":{\"type\":\"field\",\"field\":\"y\"},\"line_color\":{\"type\":\"value\",\"value\":\"#1f77b4\"},\"line_alpha\":{\"type\":\"value\",\"value\":0.1},\"fill_color\":{\"type\":\"value\",\"value\":\"#1f77b4\"},\"fill_alpha\":{\"type\":\"value\",\"value\":0.1},\"hatch_alpha\":{\"type\":\"value\",\"value\":0.1}}},\"muted_glyph\":{\"type\":\"object\",\"name\":\"Circle\",\"id\":\"p1053\",\"attributes\":{\"x\":{\"type\":\"field\",\"field\":\"x\"},\"y\":{\"type\":\"field\",\"field\":\"y\"},\"line_color\":{\"type\":\"value\",\"value\":\"#1f77b4\"},\"line_alpha\":{\"type\":\"value\",\"value\":0.2},\"fill_color\":{\"type\":\"value\",\"value\":\"#1f77b4\"},\"fill_alpha\":{\"type\":\"value\",\"value\":0.2},\"hatch_alpha\":{\"type\":\"value\",\"value\":0.2}}}}}],\"toolbar\":{\"type\":\"object\",\"name\":\"Toolbar\",\"id\":\"p1007\",\"attributes\":{\"tools\":[{\"type\":\"object\",\"name\":\"PanTool\",\"id\":\"p1033\"},{\"type\":\"object\",\"name\":\"WheelZoomTool\",\"id\":\"p1034\"},{\"type\":\"object\",\"name\":\"BoxZoomTool\",\"id\":\"p1035\",\"attributes\":{\"overlay\":{\"type\":\"object\",\"name\":\"BoxAnnotation\",\"id\":\"p1036\",\"attributes\":{\"syncable\":false,\"level\":\"overlay\",\"visible\":false,\"left_units\":\"canvas\",\"right_units\":\"canvas\",\"bottom_units\":\"canvas\",\"top_units\":\"canvas\",\"line_color\":\"black\",\"line_alpha\":1.0,\"line_width\":2,\"line_dash\":[4,4],\"fill_color\":\"lightgrey\",\"fill_alpha\":0.5}}}},{\"type\":\"object\",\"name\":\"SaveTool\",\"id\":\"p1037\"},{\"type\":\"object\",\"name\":\"ResetTool\",\"id\":\"p1038\"},{\"type\":\"object\",\"name\":\"HelpTool\",\"id\":\"p1039\"}]}},\"left\":[{\"type\":\"object\",\"name\":\"LinearAxis\",\"id\":\"p1026\",\"attributes\":{\"ticker\":{\"type\":\"object\",\"name\":\"BasicTicker\",\"id\":\"p1027\",\"attributes\":{\"mantissas\":[1,2,5]}},\"formatter\":{\"type\":\"object\",\"name\":\"BasicTickFormatter\",\"id\":\"p1029\"},\"major_label_policy\":{\"type\":\"object\",\"name\":\"AllLabels\",\"id\":\"p1028\"}}}],\"below\":[{\"type\":\"object\",\"name\":\"LinearAxis\",\"id\":\"p1019\",\"attributes\":{\"ticker\":{\"type\":\"object\",\"name\":\"BasicTicker\",\"id\":\"p1020\",\"attributes\":{\"mantissas\":[1,2,5]}},\"formatter\":{\"type\":\"object\",\"name\":\"BasicTickFormatter\",\"id\":\"p1022\"},\"major_label_policy\":{\"type\":\"object\",\"name\":\"AllLabels\",\"id\":\"p1021\"}}}],\"center\":[{\"type\":\"object\",\"name\":\"Grid\",\"id\":\"p1025\",\"attributes\":{\"axis\":{\"id\":\"p1019\"}}},{\"type\":\"object\",\"name\":\"Grid\",\"id\":\"p1032\",\"attributes\":{\"dimension\":1,\"axis\":{\"id\":\"p1026\"}}}]}}]}};\n  const render_items = [{\"docid\":\"1c66a74f-7d80-443e-9a67-31a8e7f5b1a0\",\"roots\":{\"p1002\":\"f37ed32f-621f-4aa0-a5b1-369c87fad034\"},\"root_ids\":[\"p1002\"],\"notebook_comms_target\":\"p1071\"}];\n  root.Bokeh.embed.embed_items_notebook(docs_json, render_items);\n  }\n  if (root.Bokeh !== undefined) {\n    embed_document(root);\n  } else {\n    let attempts = 0;\n    const timer = setInterval(function(root) {\n      if (root.Bokeh !== undefined) {\n        clearInterval(timer);\n        embed_document(root);\n      } else {\n        attempts++;\n        if (attempts > 100) {\n          clearInterval(timer);\n          console.log(\"Bokeh: ERROR: Unable to run BokehJS code because BokehJS library is missing\");\n        }\n      }\n    }, 10, root)\n  }\n})(window);",
      "application/vnd.bokehjs_exec.v0+json": ""
     },
     "metadata": {
      "application/vnd.bokehjs_exec.v0+json": {
       "id": "p1002"
      }
     },
     "output_type": "display_data"
    }
   ],
   "source": [
    "plot = figure()\n",
    "plot.circle([1,2,3], [4,6,5])\n",
    "handle = show(plot, notebook_handle=True)\n",
    "time.sleep(3)\n",
    "plot.title.text = \"New Title\"\n",
    "push_notebook(handle=handle)"
   ]
  },
  {
   "cell_type": "code",
   "execution_count": 19,
   "metadata": {},
   "outputs": [],
   "source": [
    "plot.title.text = \"New Title\"\n",
    "push_notebook(handle=handle)"
   ]
  },
  {
   "cell_type": "code",
   "execution_count": 12,
   "metadata": {},
   "outputs": [],
   "source": [
    "data = pd.DataFrame([{'time': 0.0, 'power': 0.0}, {'time': 0.1, 'power': 0.0}])\n"
   ]
  },
  {
   "cell_type": "code",
   "execution_count": 13,
   "metadata": {},
   "outputs": [],
   "source": [
    "dp = PlotDisplayer()\n",
    "dp.CreateMaket(\n",
    "    mainParam='time',\n",
    "    power=data,\n",
    "    #   v_and_a=pl.data[['time','vL','vR','aL','aR']]\n",
    ")\n",
    "sl = Slider()\n",
    "sl.NewSl('v', min=0.1, max=9, value=5, step=0.1)\n",
    "sl.NewSl('a', min=0.1, max=9, value=5, step=0.1)\n",
    "sl.NewSl('dhKof', min=0, max=3, value=1, step=0.1)\n",
    "sl.NewSl('window', min=50, max=10000, value=100, step=50)\n",
    "sl.NewSl('molibdenH', min=-10, max=2.5, value=0.0, step=0.1)\n",
    "sl.NewSl('Kp', min=0, max=10, value=0.15, step=0.01)\n",
    "sl.NewSl('Ki', min=0, max=10, value=0.4, step=0.01)\n",
    "sl.NewSl('Kd', min=-100, max=100, value=0, step=0.01)\n",
    "sl.NewSl('T0', min=0, max=200, value=5, step=0.01)\n",
    "sl.NewBtn('molibden', 'up molibden', 'doun molibden')\n",
    "sl.NewBtn('end', 'end', 'end2', 'end3', 'vse', 'bolshe ne jmi',\n",
    "          'nu pravda ne nado', 'samiy umniy da?')\n",
    "sl.NewTt('x')\n",
    "sl.NewTt('L')\n",
    "sl.NewTt('R')\n",
    "sl.NewTt('dv')\n",
    "sl.NewTt('T')\n",
    "sl.NewTt('ki')"
   ]
  },
  {
   "cell_type": "code",
   "execution_count": 6,
   "metadata": {},
   "outputs": [
    {
     "data": {
      "text/plain": [
       "time     0.1\n",
       "power    0.0\n",
       "Name: 1, dtype: float64"
      ]
     },
     "execution_count": 6,
     "metadata": {},
     "output_type": "execute_result"
    }
   ],
   "source": [
    "data.iloc[-1]"
   ]
  },
  {
   "cell_type": "code",
   "execution_count": 7,
   "metadata": {},
   "outputs": [
    {
     "data": {
      "text/plain": [
       "time     0.0\n",
       "power    0.0\n",
       "dtype: float64"
      ]
     },
     "execution_count": 7,
     "metadata": {},
     "output_type": "execute_result"
    }
   ],
   "source": [
    "pd.Series({'time': 0.0, 'power': 0.0})"
   ]
  },
  {
   "cell_type": "code",
   "execution_count": 8,
   "metadata": {},
   "outputs": [],
   "source": [
    "import random"
   ]
  },
  {
   "cell_type": "code",
   "execution_count": 14,
   "metadata": {},
   "outputs": [
    {
     "data": {
      "text/html": [
       "\n",
       "  <div id=\"455462cc-01b6-452b-b613-c9a670f4d9a8\" data-root-id=\"p1543\" style=\"display: contents;\"></div>\n"
      ]
     },
     "metadata": {},
     "output_type": "display_data"
    },
    {
     "data": {
      "application/javascript": "(function(root) {\n  function embed_document(root) {\n  const docs_json = {\"b6775464-07a3-40c4-9dca-2805b3813f20\":{\"version\":\"3.0.3\",\"title\":\"Bokeh Application\",\"defs\":[],\"roots\":[{\"type\":\"object\",\"name\":\"Column\",\"id\":\"p1543\",\"attributes\":{\"children\":[{\"type\":\"object\",\"name\":\"Row\",\"id\":\"p1542\",\"attributes\":{\"children\":[{\"type\":\"object\",\"name\":\"Figure\",\"id\":\"p1468\",\"attributes\":{\"x_range\":{\"type\":\"object\",\"name\":\"DataRange1d\",\"id\":\"p1469\"},\"y_range\":{\"type\":\"object\",\"name\":\"DataRange1d\",\"id\":\"p1470\"},\"x_scale\":{\"type\":\"object\",\"name\":\"LinearScale\",\"id\":\"p1482\"},\"y_scale\":{\"type\":\"object\",\"name\":\"LinearScale\",\"id\":\"p1484\"},\"title\":{\"type\":\"object\",\"name\":\"Title\",\"id\":\"p1471\",\"attributes\":{\"text\":\"power\"}},\"renderers\":[{\"type\":\"object\",\"name\":\"GlyphRenderer\",\"id\":\"p1524\",\"attributes\":{\"data_source\":{\"type\":\"object\",\"name\":\"ColumnDataSource\",\"id\":\"p1515\",\"attributes\":{\"selected\":{\"type\":\"object\",\"name\":\"Selection\",\"id\":\"p1517\",\"attributes\":{\"indices\":[],\"line_indices\":[]}},\"selection_policy\":{\"type\":\"object\",\"name\":\"UnionRenderers\",\"id\":\"p1516\"},\"data\":{\"type\":\"map\",\"entries\":[[\"index\",{\"type\":\"ndarray\",\"array\":{\"type\":\"bytes\",\"data\":\"AAAAAAEAAAA=\"},\"shape\":[2],\"dtype\":\"int32\",\"order\":\"little\"}],[\"time\",{\"type\":\"ndarray\",\"array\":{\"type\":\"bytes\",\"data\":\"AAAAAAAAAACamZmZmZm5Pw==\"},\"shape\":[2],\"dtype\":\"float64\",\"order\":\"little\"}],[\"power\",{\"type\":\"ndarray\",\"array\":{\"type\":\"bytes\",\"data\":\"AAAAAAAAAAAAAAAAAAAAAA==\"},\"shape\":[2],\"dtype\":\"float64\",\"order\":\"little\"}]]}}},\"view\":{\"type\":\"object\",\"name\":\"CDSView\",\"id\":\"p1525\",\"attributes\":{\"filter\":{\"type\":\"object\",\"name\":\"AllIndices\",\"id\":\"p1526\"}}},\"glyph\":{\"type\":\"object\",\"name\":\"Line\",\"id\":\"p1521\",\"attributes\":{\"x\":{\"type\":\"field\",\"field\":\"time\"},\"y\":{\"type\":\"field\",\"field\":\"power\"},\"line_color\":\"red\"}},\"nonselection_glyph\":{\"type\":\"object\",\"name\":\"Line\",\"id\":\"p1522\",\"attributes\":{\"x\":{\"type\":\"field\",\"field\":\"time\"},\"y\":{\"type\":\"field\",\"field\":\"power\"},\"line_color\":\"red\",\"line_alpha\":0.1}},\"muted_glyph\":{\"type\":\"object\",\"name\":\"Line\",\"id\":\"p1523\",\"attributes\":{\"x\":{\"type\":\"field\",\"field\":\"time\"},\"y\":{\"type\":\"field\",\"field\":\"power\"},\"line_color\":\"red\",\"line_alpha\":0.2}}}}],\"toolbar\":{\"type\":\"object\",\"name\":\"Toolbar\",\"id\":\"p1476\",\"attributes\":{\"tools\":[{\"type\":\"object\",\"name\":\"PanTool\",\"id\":\"p1500\"},{\"type\":\"object\",\"name\":\"WheelZoomTool\",\"id\":\"p1501\"},{\"type\":\"object\",\"name\":\"BoxZoomTool\",\"id\":\"p1502\",\"attributes\":{\"overlay\":{\"type\":\"object\",\"name\":\"BoxAnnotation\",\"id\":\"p1503\",\"attributes\":{\"syncable\":false,\"level\":\"overlay\",\"visible\":false,\"left_units\":\"canvas\",\"right_units\":\"canvas\",\"bottom_units\":\"canvas\",\"top_units\":\"canvas\",\"line_color\":\"black\",\"line_alpha\":1.0,\"line_width\":2,\"line_dash\":[4,4],\"fill_color\":\"lightgrey\",\"fill_alpha\":0.5}}}},{\"type\":\"object\",\"name\":\"SaveTool\",\"id\":\"p1504\"},{\"type\":\"object\",\"name\":\"ResetTool\",\"id\":\"p1505\"},{\"type\":\"object\",\"name\":\"HelpTool\",\"id\":\"p1506\"}]}},\"left\":[{\"type\":\"object\",\"name\":\"LinearAxis\",\"id\":\"p1493\",\"attributes\":{\"ticker\":{\"type\":\"object\",\"name\":\"BasicTicker\",\"id\":\"p1494\",\"attributes\":{\"mantissas\":[1,2,5]}},\"formatter\":{\"type\":\"object\",\"name\":\"BasicTickFormatter\",\"id\":\"p1495\"},\"major_label_policy\":{\"type\":\"object\",\"name\":\"AllLabels\",\"id\":\"p1496\"}}}],\"below\":[{\"type\":\"object\",\"name\":\"LinearAxis\",\"id\":\"p1486\",\"attributes\":{\"ticker\":{\"type\":\"object\",\"name\":\"BasicTicker\",\"id\":\"p1487\",\"attributes\":{\"mantissas\":[1,2,5]}},\"formatter\":{\"type\":\"object\",\"name\":\"BasicTickFormatter\",\"id\":\"p1488\"},\"major_label_policy\":{\"type\":\"object\",\"name\":\"AllLabels\",\"id\":\"p1489\"}}}],\"center\":[{\"type\":\"object\",\"name\":\"Grid\",\"id\":\"p1492\",\"attributes\":{\"axis\":{\"id\":\"p1486\"}}},{\"type\":\"object\",\"name\":\"Grid\",\"id\":\"p1499\",\"attributes\":{\"dimension\":1,\"axis\":{\"id\":\"p1493\"}}},{\"type\":\"object\",\"name\":\"Legend\",\"id\":\"p1540\",\"attributes\":{\"items\":[{\"type\":\"object\",\"name\":\"LegendItem\",\"id\":\"p1541\",\"attributes\":{\"label\":{\"type\":\"value\",\"value\":\"power\"},\"renderers\":[{\"id\":\"p1524\"}]}}]}}]}}]}}]}}]}};\n  const render_items = [{\"docid\":\"b6775464-07a3-40c4-9dca-2805b3813f20\",\"roots\":{\"p1543\":\"455462cc-01b6-452b-b613-c9a670f4d9a8\"},\"root_ids\":[\"p1543\"],\"notebook_comms_target\":\"p1583\"}];\n  root.Bokeh.embed.embed_items_notebook(docs_json, render_items);\n  }\n  if (root.Bokeh !== undefined) {\n    embed_document(root);\n  } else {\n    let attempts = 0;\n    const timer = setInterval(function(root) {\n      if (root.Bokeh !== undefined) {\n        clearInterval(timer);\n        embed_document(root);\n      } else {\n        attempts++;\n        if (attempts > 100) {\n          clearInterval(timer);\n          console.log(\"Bokeh: ERROR: Unable to run BokehJS code because BokehJS library is missing\");\n        }\n      }\n    }, 10, root)\n  }\n})(window);",
      "application/vnd.bokehjs_exec.v0+json": ""
     },
     "metadata": {
      "application/vnd.bokehjs_exec.v0+json": {
       "id": "p1543"
      }
     },
     "output_type": "display_data"
    },
    {
     "name": "stdout",
     "output_type": "stream",
     "text": [
      "       time    power\n",
      "0  0.000000  0.00000\n",
      "1  0.100000  0.00000\n",
      "2  1.001084  0.39556\n",
      "       time    power\n",
      "0  0.000000  0.00000\n",
      "1  0.100000  0.00000\n",
      "2  1.001084  0.39556\n",
      "3  2.010236  0.52187\n",
      "       time     power\n",
      "0  0.000000  0.000000\n",
      "1  0.100000  0.000000\n",
      "2  1.001084  0.395560\n",
      "3  2.010236  0.521870\n",
      "4  3.019712  0.382519\n",
      "       time     power\n",
      "0  0.000000  0.000000\n",
      "1  0.100000  0.000000\n",
      "2  1.001084  0.395560\n",
      "3  2.010236  0.521870\n",
      "4  3.019712  0.382519\n",
      "5  4.028959  0.457428\n",
      "       time     power\n",
      "0  0.000000  0.000000\n",
      "1  0.100000  0.000000\n",
      "2  1.001084  0.395560\n",
      "3  2.010236  0.521870\n",
      "4  3.019712  0.382519\n",
      "5  4.028959  0.457428\n",
      "6  5.040113  0.385457\n",
      "       time     power\n",
      "0  0.000000  0.000000\n",
      "1  0.100000  0.000000\n",
      "2  1.001084  0.395560\n",
      "3  2.010236  0.521870\n",
      "4  3.019712  0.382519\n",
      "5  4.028959  0.457428\n",
      "6  5.040113  0.385457\n",
      "7  6.057094  0.533097\n",
      "       time     power\n",
      "0  0.000000  0.000000\n",
      "1  0.100000  0.000000\n",
      "2  1.001084  0.395560\n",
      "3  2.010236  0.521870\n",
      "4  3.019712  0.382519\n",
      "5  4.028959  0.457428\n",
      "6  5.040113  0.385457\n",
      "7  6.057094  0.533097\n",
      "8  7.074554  0.213403\n",
      "       time     power\n",
      "0  0.000000  0.000000\n",
      "1  0.100000  0.000000\n",
      "2  1.001084  0.395560\n",
      "3  2.010236  0.521870\n",
      "4  3.019712  0.382519\n",
      "5  4.028959  0.457428\n",
      "6  5.040113  0.385457\n",
      "7  6.057094  0.533097\n",
      "8  7.074554  0.213403\n",
      "9  8.082457  0.296366\n",
      "        time     power\n",
      "0   0.000000  0.000000\n",
      "1   0.100000  0.000000\n",
      "2   1.001084  0.395560\n",
      "3   2.010236  0.521870\n",
      "4   3.019712  0.382519\n",
      "5   4.028959  0.457428\n",
      "6   5.040113  0.385457\n",
      "7   6.057094  0.533097\n",
      "8   7.074554  0.213403\n",
      "9   8.082457  0.296366\n",
      "10  9.090282  0.315345\n",
      "         time     power\n",
      "0    0.000000  0.000000\n",
      "1    0.100000  0.000000\n",
      "2    1.001084  0.395560\n",
      "3    2.010236  0.521870\n",
      "4    3.019712  0.382519\n",
      "5    4.028959  0.457428\n",
      "6    5.040113  0.385457\n",
      "7    6.057094  0.533097\n",
      "8    7.074554  0.213403\n",
      "9    8.082457  0.296366\n",
      "10   9.090282  0.315345\n",
      "11  10.099941  0.195162\n"
     ]
    }
   ],
   "source": [
    "dp.Show()\n",
    "t = Time.time()\n",
    "Time.sleep(1)\n",
    "for i in range(10):\n",
    "    new = pd.DataFrame([{'time': Time.time() - t, 'power': random.random()}])\n",
    "    data = pd.concat([data,new], ignore_index=True)\n",
    "    print(data)\n",
    "    dp.Apdate(power=data)\n",
    "    push_notebook()\n",
    "    Time.sleep(1)"
   ]
  },
  {
   "cell_type": "code",
   "execution_count": 9,
   "metadata": {},
   "outputs": [
    {
     "data": {
      "text/html": [
       "\n",
       "  <div id=\"0177723a-d117-48b9-9a44-726aa926ab23\" data-root-id=\"p1078\" style=\"display: contents;\"></div>\n"
      ]
     },
     "metadata": {},
     "output_type": "display_data"
    },
    {
     "data": {
      "application/javascript": "(function(root) {\n  function embed_document(root) {\n  const docs_json = {\"4d52d685-73b1-43fd-87a9-4b93f0d1dafc\":{\"version\":\"3.0.3\",\"title\":\"Bokeh Application\",\"defs\":[],\"roots\":[{\"type\":\"object\",\"name\":\"Column\",\"id\":\"p1078\",\"attributes\":{\"children\":[{\"type\":\"object\",\"name\":\"Row\",\"id\":\"p1077\",\"attributes\":{\"children\":[{\"type\":\"object\",\"name\":\"Figure\",\"id\":\"p1003\",\"attributes\":{\"x_range\":{\"type\":\"object\",\"name\":\"DataRange1d\",\"id\":\"p1004\"},\"y_range\":{\"type\":\"object\",\"name\":\"DataRange1d\",\"id\":\"p1005\"},\"x_scale\":{\"type\":\"object\",\"name\":\"LinearScale\",\"id\":\"p1017\"},\"y_scale\":{\"type\":\"object\",\"name\":\"LinearScale\",\"id\":\"p1019\"},\"title\":{\"type\":\"object\",\"name\":\"Title\",\"id\":\"p1006\",\"attributes\":{\"text\":\"power\"}},\"renderers\":[{\"type\":\"object\",\"name\":\"GlyphRenderer\",\"id\":\"p1059\",\"attributes\":{\"data_source\":{\"type\":\"object\",\"name\":\"ColumnDataSource\",\"id\":\"p1050\",\"attributes\":{\"selected\":{\"type\":\"object\",\"name\":\"Selection\",\"id\":\"p1052\",\"attributes\":{\"indices\":[],\"line_indices\":[]}},\"selection_policy\":{\"type\":\"object\",\"name\":\"UnionRenderers\",\"id\":\"p1051\"},\"data\":{\"type\":\"map\",\"entries\":[[\"index\",{\"type\":\"ndarray\",\"array\":{\"type\":\"bytes\",\"data\":\"AAAAAAEAAAA=\"},\"shape\":[2],\"dtype\":\"int32\",\"order\":\"little\"}],[\"time\",{\"type\":\"ndarray\",\"array\":{\"type\":\"bytes\",\"data\":\"AAAAAAAAAACamZmZmZm5Pw==\"},\"shape\":[2],\"dtype\":\"float64\",\"order\":\"little\"}],[\"power\",{\"type\":\"ndarray\",\"array\":{\"type\":\"bytes\",\"data\":\"AAAAAAAAAAAAAAAAAAAAAA==\"},\"shape\":[2],\"dtype\":\"float64\",\"order\":\"little\"}]]}}},\"view\":{\"type\":\"object\",\"name\":\"CDSView\",\"id\":\"p1060\",\"attributes\":{\"filter\":{\"type\":\"object\",\"name\":\"AllIndices\",\"id\":\"p1061\"}}},\"glyph\":{\"type\":\"object\",\"name\":\"Line\",\"id\":\"p1056\",\"attributes\":{\"x\":{\"type\":\"field\",\"field\":\"time\"},\"y\":{\"type\":\"field\",\"field\":\"power\"},\"line_color\":\"red\"}},\"nonselection_glyph\":{\"type\":\"object\",\"name\":\"Line\",\"id\":\"p1057\",\"attributes\":{\"x\":{\"type\":\"field\",\"field\":\"time\"},\"y\":{\"type\":\"field\",\"field\":\"power\"},\"line_color\":\"red\",\"line_alpha\":0.1}},\"muted_glyph\":{\"type\":\"object\",\"name\":\"Line\",\"id\":\"p1058\",\"attributes\":{\"x\":{\"type\":\"field\",\"field\":\"time\"},\"y\":{\"type\":\"field\",\"field\":\"power\"},\"line_color\":\"red\",\"line_alpha\":0.2}}}}],\"toolbar\":{\"type\":\"object\",\"name\":\"Toolbar\",\"id\":\"p1011\",\"attributes\":{\"tools\":[{\"type\":\"object\",\"name\":\"PanTool\",\"id\":\"p1035\"},{\"type\":\"object\",\"name\":\"WheelZoomTool\",\"id\":\"p1036\"},{\"type\":\"object\",\"name\":\"BoxZoomTool\",\"id\":\"p1037\",\"attributes\":{\"overlay\":{\"type\":\"object\",\"name\":\"BoxAnnotation\",\"id\":\"p1038\",\"attributes\":{\"syncable\":false,\"level\":\"overlay\",\"visible\":false,\"left_units\":\"canvas\",\"right_units\":\"canvas\",\"bottom_units\":\"canvas\",\"top_units\":\"canvas\",\"line_color\":\"black\",\"line_alpha\":1.0,\"line_width\":2,\"line_dash\":[4,4],\"fill_color\":\"lightgrey\",\"fill_alpha\":0.5}}}},{\"type\":\"object\",\"name\":\"SaveTool\",\"id\":\"p1039\"},{\"type\":\"object\",\"name\":\"ResetTool\",\"id\":\"p1040\"},{\"type\":\"object\",\"name\":\"HelpTool\",\"id\":\"p1041\"}]}},\"left\":[{\"type\":\"object\",\"name\":\"LinearAxis\",\"id\":\"p1028\",\"attributes\":{\"ticker\":{\"type\":\"object\",\"name\":\"BasicTicker\",\"id\":\"p1029\",\"attributes\":{\"mantissas\":[1,2,5]}},\"formatter\":{\"type\":\"object\",\"name\":\"BasicTickFormatter\",\"id\":\"p1030\"},\"major_label_policy\":{\"type\":\"object\",\"name\":\"AllLabels\",\"id\":\"p1031\"}}}],\"below\":[{\"type\":\"object\",\"name\":\"LinearAxis\",\"id\":\"p1021\",\"attributes\":{\"ticker\":{\"type\":\"object\",\"name\":\"BasicTicker\",\"id\":\"p1022\",\"attributes\":{\"mantissas\":[1,2,5]}},\"formatter\":{\"type\":\"object\",\"name\":\"BasicTickFormatter\",\"id\":\"p1023\"},\"major_label_policy\":{\"type\":\"object\",\"name\":\"AllLabels\",\"id\":\"p1024\"}}}],\"center\":[{\"type\":\"object\",\"name\":\"Grid\",\"id\":\"p1027\",\"attributes\":{\"axis\":{\"id\":\"p1021\"}}},{\"type\":\"object\",\"name\":\"Grid\",\"id\":\"p1034\",\"attributes\":{\"dimension\":1,\"axis\":{\"id\":\"p1028\"}}},{\"type\":\"object\",\"name\":\"Legend\",\"id\":\"p1075\",\"attributes\":{\"items\":[{\"type\":\"object\",\"name\":\"LegendItem\",\"id\":\"p1076\",\"attributes\":{\"label\":{\"type\":\"value\",\"value\":\"power\"},\"renderers\":[{\"id\":\"p1059\"}]}}]}}]}}]}}]}}]}};\n  const render_items = [{\"docid\":\"4d52d685-73b1-43fd-87a9-4b93f0d1dafc\",\"roots\":{\"p1078\":\"0177723a-d117-48b9-9a44-726aa926ab23\"},\"root_ids\":[\"p1078\"],\"notebook_comms_target\":\"p1092\"}];\n  root.Bokeh.embed.embed_items_notebook(docs_json, render_items);\n  }\n  if (root.Bokeh !== undefined) {\n    embed_document(root);\n  } else {\n    let attempts = 0;\n    const timer = setInterval(function(root) {\n      if (root.Bokeh !== undefined) {\n        clearInterval(timer);\n        embed_document(root);\n      } else {\n        attempts++;\n        if (attempts > 100) {\n          clearInterval(timer);\n          console.log(\"Bokeh: ERROR: Unable to run BokehJS code because BokehJS library is missing\");\n        }\n      }\n    }, 10, root)\n  }\n})(window);",
      "application/vnd.bokehjs_exec.v0+json": ""
     },
     "metadata": {
      "application/vnd.bokehjs_exec.v0+json": {
       "id": "p1078"
      }
     },
     "output_type": "display_data"
    },
    {
     "data": {
      "application/vnd.jupyter.widget-view+json": {
       "model_id": "f7de9cf4625b4511bfdacb55d0bbdee1",
       "version_major": 2,
       "version_minor": 0
      },
      "text/plain": [
       "VBox(children=(Box(children=(Output(layout=Layout(border_bottom='1px solid black', border_left='1px solid blac…"
      ]
     },
     "metadata": {},
     "output_type": "display_data"
    },
    {
     "name": "stdout",
     "output_type": "stream",
     "text": [
      "       time     power\n",
      "0  0.000000  0.000000\n",
      "1  0.100000  0.000000\n",
      "2  1.058009  0.252513\n",
      "       time     power\n",
      "0  0.000000  0.000000\n",
      "1  0.100000  0.000000\n",
      "2  1.058009  0.252513\n",
      "3  2.089653  0.935844\n",
      "       time     power\n",
      "0  0.000000  0.000000\n",
      "1  0.100000  0.000000\n",
      "2  1.058009  0.252513\n",
      "3  2.089653  0.935844\n",
      "4  3.111051  0.983442\n",
      "       time     power\n",
      "0  0.000000  0.000000\n",
      "1  0.100000  0.000000\n",
      "2  1.058009  0.252513\n",
      "3  2.089653  0.935844\n",
      "4  3.111051  0.983442\n",
      "5  4.122406  0.050604\n",
      "       time     power\n",
      "0  0.000000  0.000000\n",
      "1  0.100000  0.000000\n",
      "2  1.058009  0.252513\n",
      "3  2.089653  0.935844\n",
      "4  3.111051  0.983442\n",
      "5  4.122406  0.050604\n",
      "6  5.143740  0.960218\n",
      "       time     power\n",
      "0  0.000000  0.000000\n",
      "1  0.100000  0.000000\n",
      "2  1.058009  0.252513\n",
      "3  2.089653  0.935844\n",
      "4  3.111051  0.983442\n",
      "5  4.122406  0.050604\n",
      "6  5.143740  0.960218\n",
      "7  6.163411  0.601371\n",
      "       time     power\n",
      "0  0.000000  0.000000\n",
      "1  0.100000  0.000000\n",
      "2  1.058009  0.252513\n",
      "3  2.089653  0.935844\n",
      "4  3.111051  0.983442\n",
      "5  4.122406  0.050604\n",
      "6  5.143740  0.960218\n",
      "7  6.163411  0.601371\n",
      "8  7.186179  0.627801\n",
      "       time     power\n",
      "0  0.000000  0.000000\n",
      "1  0.100000  0.000000\n",
      "2  1.058009  0.252513\n",
      "3  2.089653  0.935844\n",
      "4  3.111051  0.983442\n",
      "5  4.122406  0.050604\n",
      "6  5.143740  0.960218\n",
      "7  6.163411  0.601371\n",
      "8  7.186179  0.627801\n",
      "9  8.211166  0.291641\n",
      "        time     power\n",
      "0   0.000000  0.000000\n",
      "1   0.100000  0.000000\n",
      "2   1.058009  0.252513\n",
      "3   2.089653  0.935844\n",
      "4   3.111051  0.983442\n",
      "5   4.122406  0.050604\n",
      "6   5.143740  0.960218\n",
      "7   6.163411  0.601371\n",
      "8   7.186179  0.627801\n",
      "9   8.211166  0.291641\n",
      "10  9.222340  0.513584\n",
      "         time     power\n",
      "0    0.000000  0.000000\n",
      "1    0.100000  0.000000\n",
      "2    1.058009  0.252513\n",
      "3    2.089653  0.935844\n",
      "4    3.111051  0.983442\n",
      "5    4.122406  0.050604\n",
      "6    5.143740  0.960218\n",
      "7    6.163411  0.601371\n",
      "8    7.186179  0.627801\n",
      "9    8.211166  0.291641\n",
      "10   9.222340  0.513584\n",
      "11  10.242046  0.941347\n",
      "         time     power\n",
      "0    0.000000  0.000000\n",
      "1    0.100000  0.000000\n",
      "2    1.058009  0.252513\n",
      "3    2.089653  0.935844\n",
      "4    3.111051  0.983442\n",
      "5    4.122406  0.050604\n",
      "6    5.143740  0.960218\n",
      "7    6.163411  0.601371\n",
      "8    7.186179  0.627801\n",
      "9    8.211166  0.291641\n",
      "10   9.222340  0.513584\n",
      "11  10.242046  0.941347\n",
      "12  11.254075  0.844351\n",
      "         time     power\n",
      "0    0.000000  0.000000\n",
      "1    0.100000  0.000000\n",
      "2    1.058009  0.252513\n",
      "3    2.089653  0.935844\n",
      "4    3.111051  0.983442\n",
      "5    4.122406  0.050604\n",
      "6    5.143740  0.960218\n",
      "7    6.163411  0.601371\n",
      "8    7.186179  0.627801\n",
      "9    8.211166  0.291641\n",
      "10   9.222340  0.513584\n",
      "11  10.242046  0.941347\n",
      "12  11.254075  0.844351\n",
      "13  12.272807  0.820799\n",
      "         time     power\n",
      "0    0.000000  0.000000\n",
      "1    0.100000  0.000000\n",
      "2    1.058009  0.252513\n",
      "3    2.089653  0.935844\n",
      "4    3.111051  0.983442\n",
      "5    4.122406  0.050604\n",
      "6    5.143740  0.960218\n",
      "7    6.163411  0.601371\n",
      "8    7.186179  0.627801\n",
      "9    8.211166  0.291641\n",
      "10   9.222340  0.513584\n",
      "11  10.242046  0.941347\n",
      "12  11.254075  0.844351\n",
      "13  12.272807  0.820799\n",
      "14  13.284534  0.488629\n",
      "         time     power\n",
      "0    0.000000  0.000000\n",
      "1    0.100000  0.000000\n",
      "2    1.058009  0.252513\n",
      "3    2.089653  0.935844\n",
      "4    3.111051  0.983442\n",
      "5    4.122406  0.050604\n",
      "6    5.143740  0.960218\n",
      "7    6.163411  0.601371\n",
      "8    7.186179  0.627801\n",
      "9    8.211166  0.291641\n",
      "10   9.222340  0.513584\n",
      "11  10.242046  0.941347\n",
      "12  11.254075  0.844351\n",
      "13  12.272807  0.820799\n",
      "14  13.284534  0.488629\n",
      "15  14.296342  0.958712\n",
      "         time     power\n",
      "0    0.000000  0.000000\n",
      "1    0.100000  0.000000\n",
      "2    1.058009  0.252513\n",
      "3    2.089653  0.935844\n",
      "4    3.111051  0.983442\n",
      "5    4.122406  0.050604\n",
      "6    5.143740  0.960218\n",
      "7    6.163411  0.601371\n",
      "8    7.186179  0.627801\n",
      "9    8.211166  0.291641\n",
      "10   9.222340  0.513584\n",
      "11  10.242046  0.941347\n",
      "12  11.254075  0.844351\n",
      "13  12.272807  0.820799\n",
      "14  13.284534  0.488629\n",
      "15  14.296342  0.958712\n",
      "16  15.314839  0.201410\n",
      "         time     power\n",
      "0    0.000000  0.000000\n",
      "1    0.100000  0.000000\n",
      "2    1.058009  0.252513\n",
      "3    2.089653  0.935844\n",
      "4    3.111051  0.983442\n",
      "5    4.122406  0.050604\n",
      "6    5.143740  0.960218\n",
      "7    6.163411  0.601371\n",
      "8    7.186179  0.627801\n",
      "9    8.211166  0.291641\n",
      "10   9.222340  0.513584\n",
      "11  10.242046  0.941347\n",
      "12  11.254075  0.844351\n",
      "13  12.272807  0.820799\n",
      "14  13.284534  0.488629\n",
      "15  14.296342  0.958712\n",
      "16  15.314839  0.201410\n",
      "17  16.326493  0.451810\n",
      "         time     power\n",
      "0    0.000000  0.000000\n",
      "1    0.100000  0.000000\n",
      "2    1.058009  0.252513\n",
      "3    2.089653  0.935844\n",
      "4    3.111051  0.983442\n",
      "5    4.122406  0.050604\n",
      "6    5.143740  0.960218\n",
      "7    6.163411  0.601371\n",
      "8    7.186179  0.627801\n",
      "9    8.211166  0.291641\n",
      "10   9.222340  0.513584\n",
      "11  10.242046  0.941347\n",
      "12  11.254075  0.844351\n",
      "13  12.272807  0.820799\n",
      "14  13.284534  0.488629\n",
      "15  14.296342  0.958712\n",
      "16  15.314839  0.201410\n",
      "17  16.326493  0.451810\n",
      "18  17.337648  0.567175\n",
      "         time     power\n",
      "0    0.000000  0.000000\n",
      "1    0.100000  0.000000\n",
      "2    1.058009  0.252513\n",
      "3    2.089653  0.935844\n",
      "4    3.111051  0.983442\n",
      "5    4.122406  0.050604\n",
      "6    5.143740  0.960218\n",
      "7    6.163411  0.601371\n",
      "8    7.186179  0.627801\n",
      "9    8.211166  0.291641\n",
      "10   9.222340  0.513584\n",
      "11  10.242046  0.941347\n",
      "12  11.254075  0.844351\n",
      "13  12.272807  0.820799\n",
      "14  13.284534  0.488629\n",
      "15  14.296342  0.958712\n",
      "16  15.314839  0.201410\n",
      "17  16.326493  0.451810\n",
      "18  17.337648  0.567175\n",
      "19  18.348582  0.670478\n",
      "         time     power\n",
      "0    0.000000  0.000000\n",
      "1    0.100000  0.000000\n",
      "2    1.058009  0.252513\n",
      "3    2.089653  0.935844\n",
      "4    3.111051  0.983442\n",
      "5    4.122406  0.050604\n",
      "6    5.143740  0.960218\n",
      "7    6.163411  0.601371\n",
      "8    7.186179  0.627801\n",
      "9    8.211166  0.291641\n",
      "10   9.222340  0.513584\n",
      "11  10.242046  0.941347\n",
      "12  11.254075  0.844351\n",
      "13  12.272807  0.820799\n",
      "14  13.284534  0.488629\n",
      "15  14.296342  0.958712\n",
      "16  15.314839  0.201410\n",
      "17  16.326493  0.451810\n",
      "18  17.337648  0.567175\n",
      "19  18.348582  0.670478\n",
      "20  19.369035  0.149531\n",
      "         time     power\n",
      "0    0.000000  0.000000\n",
      "1    0.100000  0.000000\n",
      "2    1.058009  0.252513\n",
      "3    2.089653  0.935844\n",
      "4    3.111051  0.983442\n",
      "5    4.122406  0.050604\n",
      "6    5.143740  0.960218\n",
      "7    6.163411  0.601371\n",
      "8    7.186179  0.627801\n",
      "9    8.211166  0.291641\n",
      "10   9.222340  0.513584\n",
      "11  10.242046  0.941347\n",
      "12  11.254075  0.844351\n",
      "13  12.272807  0.820799\n",
      "14  13.284534  0.488629\n",
      "15  14.296342  0.958712\n",
      "16  15.314839  0.201410\n",
      "17  16.326493  0.451810\n",
      "18  17.337648  0.567175\n",
      "19  18.348582  0.670478\n",
      "20  19.369035  0.149531\n",
      "21  20.390970  0.662792\n",
      "         time     power\n",
      "0    0.000000  0.000000\n",
      "1    0.100000  0.000000\n",
      "2    1.058009  0.252513\n",
      "3    2.089653  0.935844\n",
      "4    3.111051  0.983442\n",
      "5    4.122406  0.050604\n",
      "6    5.143740  0.960218\n",
      "7    6.163411  0.601371\n",
      "8    7.186179  0.627801\n",
      "9    8.211166  0.291641\n",
      "10   9.222340  0.513584\n",
      "11  10.242046  0.941347\n",
      "12  11.254075  0.844351\n",
      "13  12.272807  0.820799\n",
      "14  13.284534  0.488629\n",
      "15  14.296342  0.958712\n",
      "16  15.314839  0.201410\n",
      "17  16.326493  0.451810\n",
      "18  17.337648  0.567175\n",
      "19  18.348582  0.670478\n",
      "20  19.369035  0.149531\n",
      "21  20.390970  0.662792\n",
      "22  21.414041  0.110217\n",
      "         time     power\n",
      "0    0.000000  0.000000\n",
      "1    0.100000  0.000000\n",
      "2    1.058009  0.252513\n",
      "3    2.089653  0.935844\n",
      "4    3.111051  0.983442\n",
      "5    4.122406  0.050604\n",
      "6    5.143740  0.960218\n",
      "7    6.163411  0.601371\n",
      "8    7.186179  0.627801\n",
      "9    8.211166  0.291641\n",
      "10   9.222340  0.513584\n",
      "11  10.242046  0.941347\n",
      "12  11.254075  0.844351\n",
      "13  12.272807  0.820799\n",
      "14  13.284534  0.488629\n",
      "15  14.296342  0.958712\n",
      "16  15.314839  0.201410\n",
      "17  16.326493  0.451810\n",
      "18  17.337648  0.567175\n",
      "19  18.348582  0.670478\n",
      "20  19.369035  0.149531\n",
      "21  20.390970  0.662792\n",
      "22  21.414041  0.110217\n",
      "23  22.435751  0.685117\n"
     ]
    },
    {
     "ename": "KeyboardInterrupt",
     "evalue": "",
     "output_type": "error",
     "traceback": [
      "\u001b[0;31m---------------------------------------------------------------------------\u001b[0m",
      "\u001b[0;31mKeyboardInterrupt\u001b[0m                         Traceback (most recent call last)",
      "Cell \u001b[0;32mIn[9], line 14\u001b[0m\n\u001b[1;32m     12\u001b[0m dp\u001b[38;5;241m.\u001b[39mApdate(power\u001b[38;5;241m=\u001b[39mdata)\n\u001b[1;32m     13\u001b[0m push_notebook()\n\u001b[0;32m---> 14\u001b[0m \u001b[43mTime\u001b[49m\u001b[38;5;241;43m.\u001b[39;49m\u001b[43msleep\u001b[49m\u001b[43m(\u001b[49m\u001b[38;5;241;43m1\u001b[39;49m\u001b[43m)\u001b[49m\n",
      "File \u001b[0;32m~/Desktop/projects/pulling/mylib/utilities.py:68\u001b[0m, in \u001b[0;36mTime.sleep\u001b[0;34m(dt)\u001b[0m\n\u001b[1;32m     66\u001b[0m     Time\u001b[38;5;241m.\u001b[39mt \u001b[38;5;241m+\u001b[39m\u001b[38;5;241m=\u001b[39m dt\n\u001b[1;32m     67\u001b[0m \u001b[38;5;28;01melse\u001b[39;00m:\n\u001b[0;32m---> 68\u001b[0m     time\u001b[38;5;241m.\u001b[39msleep(dt)\n",
      "\u001b[0;31mKeyboardInterrupt\u001b[0m: "
     ]
    }
   ],
   "source": [
    "dp.Show()\n",
    "# dp2.Show()\n",
    "sl.Display()\n",
    "t = Time.time()\n",
    "Time.sleep(1)\n",
    "with ui_events() as poll:\n",
    "    while True:\n",
    "        poll(10)\n",
    "        new = pd.DataFrame([{'time': Time.time() - t, 'power': random.random()}])\n",
    "        data = pd.concat([data,new], ignore_index=True)\n",
    "        print(data)\n",
    "        dp.Apdate(power=data)\n",
    "        push_notebook()\n",
    "        Time.sleep(1)\n"
   ]
  },
  {
   "cell_type": "code",
   "execution_count": null,
   "metadata": {},
   "outputs": [],
   "source": []
  },
  {
   "cell_type": "code",
   "execution_count": 1,
   "metadata": {},
   "outputs": [],
   "source": [
    "from test_async import main"
   ]
  },
  {
   "cell_type": "code",
   "execution_count": 2,
   "metadata": {},
   "outputs": [
    {
     "name": "stdout",
     "output_type": "stream",
     "text": [
      "start_move\n",
      "2\n",
      "2\n",
      "4.0\n",
      "4.0\n",
      "stoped\n",
      "start_move\n",
      "4.125581039058627\n",
      "4.125581039058627\n",
      "4.125581039058627\n",
      "4.2506664671286085\n",
      "4.2506664671286085\n",
      "4.37476262917145\n",
      "4.37476262917145\n",
      "4.37476262917145\n",
      "4.497379774329709\n",
      "4.497379774329709\n",
      "stoped\n",
      "start_move\n",
      "4.618033988749895\n",
      "4.618033988749895\n",
      "4.618033988749895\n",
      "4.736249105369356\n",
      "4.736249105369356\n",
      "4.851558583130146\n",
      "4.851558583130146\n",
      "4.851558583130146\n",
      "4.96350734820343\n",
      "4.96350734820343\n",
      "5.071653589957993\n",
      "5.071653589957993\n",
      "stoped\n",
      "start_move\n",
      "5.071653589957993\n",
      "5.175570504584947\n",
      "5.175570504584947\n",
      "5.2748479794973795\n",
      "5.2748479794973795\n",
      "5.2748479794973795\n",
      "5.3690942118573775\n",
      "5.3690942118573775\n"
     ]
    },
    {
     "ename": "CancelledError",
     "evalue": "",
     "output_type": "error",
     "traceback": [
      "\u001b[0;31m---------------------------------------------------------------------------\u001b[0m",
      "\u001b[0;31mCancelledError\u001b[0m                            Traceback (most recent call last)",
      "Cell \u001b[0;32mIn[2], line 1\u001b[0m\n\u001b[0;32m----> 1\u001b[0m \u001b[39mawait\u001b[39;00m main()\n",
      "File \u001b[0;32m~/Desktop/projects/pulling/test_async.py:43\u001b[0m, in \u001b[0;36mmain\u001b[0;34m()\u001b[0m\n\u001b[1;32m     41\u001b[0m \u001b[39masync\u001b[39;00m \u001b[39mdef\u001b[39;00m \u001b[39mmain\u001b[39m():\n\u001b[1;32m     42\u001b[0m     d \u001b[39m=\u001b[39m director()\n\u001b[0;32m---> 43\u001b[0m     \u001b[39masync\u001b[39;00m \u001b[39mfor\u001b[39;00m res \u001b[39min\u001b[39;00m sensor():\n\u001b[1;32m     44\u001b[0m         d\u001b[39m.\u001b[39madd_new_val(res)\n",
      "File \u001b[0;32m~/Desktop/projects/pulling/test_async.py:37\u001b[0m, in \u001b[0;36msensor\u001b[0;34m(n, p)\u001b[0m\n\u001b[1;32m     35\u001b[0m \u001b[39mfor\u001b[39;00m i \u001b[39min\u001b[39;00m \u001b[39mrange\u001b[39m(n):\n\u001b[1;32m     36\u001b[0m     x \u001b[39m=\u001b[39m (i \u001b[39m/\u001b[39m n) \u001b[39m*\u001b[39m \u001b[39m2\u001b[39m \u001b[39m*\u001b[39m math\u001b[39m.\u001b[39mpi\n\u001b[0;32m---> 37\u001b[0m     \u001b[39mawait\u001b[39;00m asyncio\u001b[39m.\u001b[39msleep(\u001b[39m1\u001b[39m)\n\u001b[1;32m     38\u001b[0m     \u001b[39myield\u001b[39;00m (\u001b[39m2\u001b[39m \u001b[39m+\u001b[39m math\u001b[39m.\u001b[39msin(x)) \u001b[39m*\u001b[39m \u001b[39m2\u001b[39m\n",
      "File \u001b[0;32m~/miniconda/envs/pooler/lib/python3.11/asyncio/tasks.py:639\u001b[0m, in \u001b[0;36msleep\u001b[0;34m(delay, result)\u001b[0m\n\u001b[1;32m    635\u001b[0m h \u001b[39m=\u001b[39m loop\u001b[39m.\u001b[39mcall_later(delay,\n\u001b[1;32m    636\u001b[0m                     futures\u001b[39m.\u001b[39m_set_result_unless_cancelled,\n\u001b[1;32m    637\u001b[0m                     future, result)\n\u001b[1;32m    638\u001b[0m \u001b[39mtry\u001b[39;00m:\n\u001b[0;32m--> 639\u001b[0m     \u001b[39mreturn\u001b[39;00m \u001b[39mawait\u001b[39;00m future\n\u001b[1;32m    640\u001b[0m \u001b[39mfinally\u001b[39;00m:\n\u001b[1;32m    641\u001b[0m     h\u001b[39m.\u001b[39mcancel()\n",
      "\u001b[0;31mCancelledError\u001b[0m: "
     ]
    }
   ],
   "source": [
    "await main()"
   ]
  },
  {
   "cell_type": "code",
   "execution_count": null,
   "metadata": {},
   "outputs": [],
   "source": []
  },
  {
   "cell_type": "code",
   "execution_count": null,
   "metadata": {},
   "outputs": [],
   "source": []
  },
  {
   "cell_type": "code",
   "execution_count": null,
   "metadata": {},
   "outputs": [],
   "source": []
  },
  {
   "cell_type": "markdown",
   "metadata": {},
   "source": [
    "await main()"
   ]
  },
  {
   "cell_type": "code",
   "execution_count": null,
   "metadata": {},
   "outputs": [
    {
     "name": "stdout",
     "output_type": "stream",
     "text": [
      "start_move\n",
      "2\n",
      "2\n",
      "4.0\n",
      "4.0\n",
      "stoped\n",
      "start_move\n",
      "4.125581039058627\n",
      "4.125581039058627\n",
      "4.125581039058627\n",
      "4.2506664671286085\n",
      "4.2506664671286085\n",
      "4.37476262917145\n",
      "4.37476262917145\n",
      "4.37476262917145\n",
      "4.497379774329709\n",
      "4.497379774329709\n",
      "stoped\n",
      "start_move\n",
      "4.618033988749895\n",
      "4.618033988749895\n",
      "4.618033988749895\n",
      "4.736249105369356\n",
      "4.736249105369356\n",
      "4.851558583130146\n",
      "4.851558583130146\n",
      "4.851558583130146\n",
      "4.96350734820343\n",
      "4.96350734820343\n",
      "5.071653589957993\n",
      "5.071653589957993\n",
      "stoped\n",
      "start_move\n",
      "5.071653589957993\n",
      "5.175570504584947\n",
      "5.175570504584947\n",
      "5.2748479794973795\n",
      "5.2748479794973795\n",
      "5.2748479794973795\n",
      "5.3690942118573775\n",
      "5.3690942118573775\n"
     ]
    },
    {
     "ename": "CancelledError",
     "evalue": "",
     "output_type": "error",
     "traceback": [
      "\u001b[0;31m---------------------------------------------------------------------------\u001b[0m\n",
      "\u001b[0;31mCancelledError\u001b[0m                            Traceback (most recent call last)\n",
      "Cell \u001b[0;32mIn[2], line 1\u001b[0m\n",
      "\u001b[0;32m----> 1\u001b[0m \u001b[39mawait\u001b[39;00m main()\n",
      "\n",
      "File \u001b[0;32m~/Desktop/projects/pulling/test_async.py:43\u001b[0m, in \u001b[0;36mmain\u001b[0;34m()\u001b[0m\n",
      "\u001b[1;32m     41\u001b[0m \u001b[39masync\u001b[39;00m \u001b[39mdef\u001b[39;00m \u001b[39mmain\u001b[39m():\n",
      "\u001b[1;32m     42\u001b[0m     d \u001b[39m=\u001b[39m director()\n",
      "\u001b[0;32m---> 43\u001b[0m     \u001b[39masync\u001b[39;00m \u001b[39mfor\u001b[39;00m res \u001b[39min\u001b[39;00m sensor():\n",
      "\u001b[1;32m     44\u001b[0m         d\u001b[39m.\u001b[39madd_new_val(res)\n",
      "\n",
      "File \u001b[0;32m~/Desktop/projects/pulling/test_async.py:37\u001b[0m, in \u001b[0;36msensor\u001b[0;34m(n, p)\u001b[0m\n",
      "\u001b[1;32m     35\u001b[0m \u001b[39mfor\u001b[39;00m i \u001b[39min\u001b[39;00m \u001b[39mrange\u001b[39m(n):\n",
      "\u001b[1;32m     36\u001b[0m     x \u001b[39m=\u001b[39m (i \u001b[39m/\u001b[39m n) \u001b[39m*\u001b[39m \u001b[39m2\u001b[39m \u001b[39m*\u001b[39m math\u001b[39m.\u001b[39mpi\n",
      "\u001b[0;32m---> 37\u001b[0m     \u001b[39mawait\u001b[39;00m asyncio\u001b[39m.\u001b[39msleep(\u001b[39m1\u001b[39m)\n",
      "\u001b[1;32m     38\u001b[0m     \u001b[39myield\u001b[39;00m (\u001b[39m2\u001b[39m \u001b[39m+\u001b[39m math\u001b[39m.\u001b[39msin(x)) \u001b[39m*\u001b[39m \u001b[39m2\u001b[39m\n",
      "\n",
      "File \u001b[0;32m~/miniconda/envs/pooler/lib/python3.11/asyncio/tasks.py:639\u001b[0m, in \u001b[0;36msleep\u001b[0;34m(delay, result)\u001b[0m\n",
      "\u001b[1;32m    635\u001b[0m h \u001b[39m=\u001b[39m loop\u001b[39m.\u001b[39mcall_later(delay,\n",
      "\u001b[1;32m    636\u001b[0m                     futures\u001b[39m.\u001b[39m_set_result_unless_cancelled,\n",
      "\u001b[1;32m    637\u001b[0m                     future, result)\n",
      "\u001b[1;32m    638\u001b[0m \u001b[39mtry\u001b[39;00m:\n",
      "\u001b[0;32m--> 639\u001b[0m     \u001b[39mreturn\u001b[39;00m \u001b[39mawait\u001b[39;00m future\n",
      "\u001b[1;32m    640\u001b[0m \u001b[39mfinally\u001b[39;00m:\n",
      "\u001b[1;32m    641\u001b[0m     h\u001b[39m.\u001b[39mcancel()\n",
      "\n",
      "\u001b[0;31mCancelledError\u001b[0m: "
     ]
    }
   ],
   "source": [
    "await main()"
   ]
  }
 ],
 "metadata": {
  "kernelspec": {
   "display_name": "Python 3 (ipykernel)",
   "language": "python",
   "name": "python3"
  },
  "language_info": {
   "codemirror_mode": {
    "name": "ipython",
    "version": 3
   },
   "file_extension": ".py",
   "mimetype": "text/x-python",
   "name": "python",
   "nbconvert_exporter": "python",
   "pygments_lexer": "ipython3",
   "version": "3.11.0"
  },
  "vscode": {
   "interpreter": {
    "hash": "453f2ac05aafa32b495760f48c8e97cb5273fda8b507e3ca1c0cc81583e9abfd"
   }
  }
 },
 "nbformat": 4,
 "nbformat_minor": 4
}
