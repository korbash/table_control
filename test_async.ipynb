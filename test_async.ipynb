{
 "cells": [
  {
   "cell_type": "code",
   "execution_count": 1,
   "metadata": {},
   "outputs": [],
   "source": [
    "from random import random\n",
    "import asyncio"
   ]
  },
  {
   "cell_type": "code",
   "execution_count": 9,
   "metadata": {},
   "outputs": [],
   "source": [
    "async def f():\n",
    "    print('kuku')\n",
    "    await asyncio.sleep(2)\n",
    "    print('kuku2')"
   ]
  },
  {
   "cell_type": "code",
   "execution_count": 12,
   "metadata": {},
   "outputs": [],
   "source": [
    "async def reader(buf: list, cd: asyncio.Condition):\n",
    "    while True:\n",
    "        print(buf)\n",
    "        await asyncio.sleep(2)\n",
    "\n",
    "async def writer(buf: list, cd: asyncio.Condition):\n",
    "    for i in range(5):\n",
    "        buf.append(i)\n",
    "        await asyncio.sleep(1.5)\n",
    "    # cd.notify_all()\n",
    "\n",
    "async def main():\n",
    "    condition = asyncio.Condition()\n",
    "    tasks = []\n",
    "    buf = []\n",
    "    # tasks.append(reader(buf, condition))\n",
    "    # tasks.append(writer(buf, condition))\n",
    "    tasks.append(f())\n",
    "    tasks.append(f())\n",
    "    await asyncio.wait(tasks)\n",
    "    # await f()"
   ]
  },
  {
   "cell_type": "code",
   "execution_count": 13,
   "metadata": {},
   "outputs": [
    {
     "ename": "TypeError",
     "evalue": "Passing coroutines is forbidden, use tasks explicitly.",
     "output_type": "error",
     "traceback": [
      "\u001b[0;31m---------------------------------------------------------------------------\u001b[0m",
      "\u001b[0;31mTypeError\u001b[0m                                 Traceback (most recent call last)",
      "Cell \u001b[0;32mIn[13], line 1\u001b[0m\n\u001b[0;32m----> 1\u001b[0m \u001b[39mawait\u001b[39;00m main()\n",
      "Cell \u001b[0;32mIn[12], line 20\u001b[0m, in \u001b[0;36mmain\u001b[0;34m()\u001b[0m\n\u001b[1;32m     18\u001b[0m tasks\u001b[39m.\u001b[39mappend(f())\n\u001b[1;32m     19\u001b[0m tasks\u001b[39m.\u001b[39mappend(f())\n\u001b[0;32m---> 20\u001b[0m \u001b[39mawait\u001b[39;00m asyncio\u001b[39m.\u001b[39mwait(tasks)\n",
      "File \u001b[0;32m~/miniconda/envs/pooler/lib/python3.11/asyncio/tasks.py:415\u001b[0m, in \u001b[0;36mwait\u001b[0;34m(fs, timeout, return_when)\u001b[0m\n\u001b[1;32m    412\u001b[0m fs \u001b[39m=\u001b[39m \u001b[39mset\u001b[39m(fs)\n\u001b[1;32m    414\u001b[0m \u001b[39mif\u001b[39;00m \u001b[39many\u001b[39m(coroutines\u001b[39m.\u001b[39miscoroutine(f) \u001b[39mfor\u001b[39;00m f \u001b[39min\u001b[39;00m fs):\n\u001b[0;32m--> 415\u001b[0m     \u001b[39mraise\u001b[39;00m \u001b[39mTypeError\u001b[39;00m(\u001b[39m\"\u001b[39m\u001b[39mPassing coroutines is forbidden, use tasks explicitly.\u001b[39m\u001b[39m\"\u001b[39m)\n\u001b[1;32m    417\u001b[0m loop \u001b[39m=\u001b[39m events\u001b[39m.\u001b[39mget_running_loop()\n\u001b[1;32m    418\u001b[0m \u001b[39mreturn\u001b[39;00m \u001b[39mawait\u001b[39;00m _wait(fs, timeout, return_when, loop)\n",
      "\u001b[0;31mTypeError\u001b[0m: Passing coroutines is forbidden, use tasks explicitly."
     ]
    }
   ],
   "source": [
    "await main()"
   ]
  }
 ],
 "metadata": {
  "kernelspec": {
   "display_name": "pooler",
   "language": "python",
   "name": "python3"
  },
  "language_info": {
   "codemirror_mode": {
    "name": "ipython",
    "version": 3
   },
   "file_extension": ".py",
   "mimetype": "text/x-python",
   "name": "python",
   "nbconvert_exporter": "python",
   "pygments_lexer": "ipython3",
   "version": "3.11.0"
  },
  "orig_nbformat": 4,
  "vscode": {
   "interpreter": {
    "hash": "453f2ac05aafa32b495760f48c8e97cb5273fda8b507e3ca1c0cc81583e9abfd"
   }
  }
 },
 "nbformat": 4,
 "nbformat_minor": 2
}
