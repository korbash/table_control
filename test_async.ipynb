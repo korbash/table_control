{
 "cells": [
  {
   "cell_type": "code",
   "execution_count": 1,
   "metadata": {},
   "outputs": [],
   "source": [
    "from random import random\n",
    "import asyncio\n",
    "\n",
    "\n",
    "# task coroutine\n",
    "async def task(condition, number):\n",
    "    # report a message\n",
    "    print(f'Task {number} waiting...')\n",
    "    # acquire the condition\n",
    "    async with condition:\n",
    "        # wait to be notified\n",
    "        await condition.wait()\n",
    "    # generate a random number between 0 and 1\n",
    "    value = random()\n",
    "    # block for a moment\n",
    "    await asyncio.sleep(value)\n",
    "    # report a result\n",
    "    print(f'Task {number} got {value}')\n",
    "\n",
    "\n",
    "# main coroutine\n",
    "async def main():\n",
    "    # create a condition\n",
    "    condition = asyncio.Condition()\n",
    "    # create and start many tasks\n",
    "    tasks = [asyncio.create_task(task(condition, i)) for i in range(5)]\n",
    "    print('kuku')\n",
    "    # allow the tasks to run\n",
    "    await asyncio.sleep(0)\n",
    "    print('kuku2')\n",
    "    # acquire the condition\n",
    "    async with condition:\n",
    "        # notify all waiting tasks\n",
    "        condition.notify_all()\n",
    "    # wait for all tasks to complete\n",
    "    _ = await asyncio.wait(tasks)"
   ]
  },
  {
   "cell_type": "code",
   "execution_count": 3,
   "metadata": {},
   "outputs": [
    {
     "name": "stdout",
     "output_type": "stream",
     "text": [
      "kuku\n",
      "Task 0 waiting...\n",
      "Task 1 waiting...\n",
      "Task 2 waiting...\n",
      "Task 3 waiting...\n",
      "Task 4 waiting...\n",
      "kuku2\n",
      "Task 1 got 0.18755426607809833\n",
      "Task 3 got 0.21508512709345828\n",
      "Task 4 got 0.3484842303253295\n",
      "Task 2 got 0.5111133684041549\n",
      "Task 0 got 0.8409277645065294\n"
     ]
    }
   ],
   "source": [
    "await main()"
   ]
  }
 ],
 "metadata": {
  "kernelspec": {
   "display_name": "pooler",
   "language": "python",
   "name": "python3"
  },
  "language_info": {
   "codemirror_mode": {
    "name": "ipython",
    "version": 3
   },
   "file_extension": ".py",
   "mimetype": "text/x-python",
   "name": "python",
   "nbconvert_exporter": "python",
   "pygments_lexer": "ipython3",
   "version": "3.11.0"
  },
  "orig_nbformat": 4,
  "vscode": {
   "interpreter": {
    "hash": "453f2ac05aafa32b495760f48c8e97cb5273fda8b507e3ca1c0cc81583e9abfd"
   }
  }
 },
 "nbformat": 4,
 "nbformat_minor": 2
}
