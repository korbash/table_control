{
 "cells": [
  {
   "cell_type": "code",
   "execution_count": null,
   "metadata": {},
   "outputs": [],
   "source": [
    "from korbash_lib import PowerMeter, TensionGauge, Motor, MotorSystem, Puller, Everage, Exp_everage, PlotDisplayer, Slider\n",
    "import thorlabs_apt as apt\n",
    "import time\n",
    "import numpy as np\n",
    "import pandas as pd\n",
    "import datetime\n",
    "import PySimpleGUI as sg\n",
    "from tkinter import messagebox as mb\n",
    "from bokeh.io import push_notebook, show, output_notebook\n",
    "from bokeh.plotting import figure\n",
    "from bokeh.layouts import gridplot, layout\n",
    "from jupyter_ui_poll import ui_events\n",
    "import ipywidgets\n",
    "import matplotlib\n",
    "import scipy\n",
    "from scipy import stats\n",
    "import random\n",
    "output_notebook()\n",
    "pl = Puller()\n",
    "random.seed()"
   ]
  },
  {
   "cell_type": "code",
   "execution_count": null,
   "metadata": {},
   "outputs": [],
   "source": [
    "pl.ms.StopButton()"
   ]
  },
  {
   "cell_type": "code",
   "execution_count": null,
   "metadata": {},
   "outputs": [],
   "source": [
    "pl.ms.MoveToStart(0)\n",
    "pl.ms.motorM.MoveTo(20)"
   ]
  },
  {
   "cell_type": "code",
   "execution_count": null,
   "metadata": {},
   "outputs": [],
   "source": [
    "pl.tg.SetZeroWeight(10)"
   ]
  },
  {
   "cell_type": "code",
   "execution_count": null,
   "metadata": {},
   "outputs": [],
   "source": [
    "pl.SetW(50, dw=0.2, tau=0.3)"
   ]
  },
  {
   "cell_type": "code",
   "execution_count": null,
   "metadata": {},
   "outputs": [],
   "source": [
    "fitData=pd.DataFrame(columns = ['a', 'b', 'x0'])\n",
    "for i in range(10):\n",
    "    pl.ms.motorM.MoveTo(12+random.random()*20)\n",
    "    x0 = pl.SetH_podgon(Tpr=2,v=1,b=50,show=False)\n",
    "    xStart=x0+0.9\n",
    "    xFin=x0-1.2\n",
    "    pl.ms.motorM.MoveTo(xStart)\n",
    "    while pl.ms.motorM.is_in_motion:\n",
    "        pass\n",
    "    time.sleep(0.2)\n",
    "    pl.SetW(50, dw=0.2, tau=1)\n",
    "\n",
    "    a,b,x0,data=pl.SetH(xStart=xStart, xFin=xFin, v=0.05,show=False)\n",
    "    q = datetime.datetime.today()\n",
    "    st = str(q.day) + '_' + str(q.month) + '_' + str(q.year) + '__' + str(q.hour) + '_' + str(q.minute)\n",
    "    st = r'C:\\Users\\Fiber\\Desktop\\table_control_data\\hM_T\\data50_' + st + '.csv'\n",
    "    data.to_csv(st, index=False)\n",
    "    fitData.loc[i]=[a,b,x0]"
   ]
  },
  {
   "cell_type": "code",
   "execution_count": null,
   "metadata": {},
   "outputs": [],
   "source": [
    "st = str(q.day) + '_' + str(q.month) + '_' + str(q.year) + '__' + str(q.hour) + '_' + str(q.minute)\n",
    "st = r'C:\\Users\\Fiber\\Desktop\\table_control_data\\dataStart_' + st + '.csv'\n",
    "fitData.to_csv(st, index=False)"
   ]
  },
  {
   "cell_type": "code",
   "execution_count": null,
   "metadata": {},
   "outputs": [],
   "source": [
    "fitData['x0'].plot()"
   ]
  }
 ],
 "metadata": {
  "kernelspec": {
   "display_name": "Python 3",
   "language": "python",
   "name": "python3"
  },
  "language_info": {
   "codemirror_mode": {
    "name": "ipython",
    "version": 3
   },
   "file_extension": ".py",
   "mimetype": "text/x-python",
   "name": "python",
   "nbconvert_exporter": "python",
   "pygments_lexer": "ipython3",
   "version": "3.8.3"
  }
 },
 "nbformat": 4,
 "nbformat_minor": 4
}
