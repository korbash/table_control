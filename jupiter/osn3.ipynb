{
 "cells": [
  {
   "cell_type": "code",
   "execution_count": 1,
   "metadata": {
    "pycharm": {
     "name": "#%%\n"
    }
   },
   "outputs": [
    {
     "data": {
      "text/html": [
       "\n",
       "    <div class=\"bk-root\">\n",
       "        <a href=\"https://bokeh.org\" target=\"_blank\" class=\"bk-logo bk-logo-small bk-logo-notebook\"></a>\n",
       "        <span id=\"1001\">Loading BokehJS ...</span>\n",
       "    </div>"
      ]
     },
     "metadata": {},
     "output_type": "display_data"
    },
    {
     "data": {
      "application/javascript": [
       "\n",
       "(function(root) {\n",
       "  function now() {\n",
       "    return new Date();\n",
       "  }\n",
       "\n",
       "  var force = true;\n",
       "\n",
       "  if (typeof root._bokeh_onload_callbacks === \"undefined\" || force === true) {\n",
       "    root._bokeh_onload_callbacks = [];\n",
       "    root._bokeh_is_loading = undefined;\n",
       "  }\n",
       "\n",
       "  var JS_MIME_TYPE = 'application/javascript';\n",
       "  var HTML_MIME_TYPE = 'text/html';\n",
       "  var EXEC_MIME_TYPE = 'application/vnd.bokehjs_exec.v0+json';\n",
       "  var CLASS_NAME = 'output_bokeh rendered_html';\n",
       "\n",
       "  /**\n",
       "   * Render data to the DOM node\n",
       "   */\n",
       "  function render(props, node) {\n",
       "    var script = document.createElement(\"script\");\n",
       "    node.appendChild(script);\n",
       "  }\n",
       "\n",
       "  /**\n",
       "   * Handle when an output is cleared or removed\n",
       "   */\n",
       "  function handleClearOutput(event, handle) {\n",
       "    var cell = handle.cell;\n",
       "\n",
       "    var id = cell.output_area._bokeh_element_id;\n",
       "    var server_id = cell.output_area._bokeh_server_id;\n",
       "    // Clean up Bokeh references\n",
       "    if (id != null && id in Bokeh.index) {\n",
       "      Bokeh.index[id].model.document.clear();\n",
       "      delete Bokeh.index[id];\n",
       "    }\n",
       "\n",
       "    if (server_id !== undefined) {\n",
       "      // Clean up Bokeh references\n",
       "      var cmd = \"from bokeh.io.state import curstate; print(curstate().uuid_to_server['\" + server_id + \"'].get_sessions()[0].document.roots[0]._id)\";\n",
       "      cell.notebook.kernel.execute(cmd, {\n",
       "        iopub: {\n",
       "          output: function(msg) {\n",
       "            var id = msg.content.text.trim();\n",
       "            if (id in Bokeh.index) {\n",
       "              Bokeh.index[id].model.document.clear();\n",
       "              delete Bokeh.index[id];\n",
       "            }\n",
       "          }\n",
       "        }\n",
       "      });\n",
       "      // Destroy server and session\n",
       "      var cmd = \"import bokeh.io.notebook as ion; ion.destroy_server('\" + server_id + \"')\";\n",
       "      cell.notebook.kernel.execute(cmd);\n",
       "    }\n",
       "  }\n",
       "\n",
       "  /**\n",
       "   * Handle when a new output is added\n",
       "   */\n",
       "  function handleAddOutput(event, handle) {\n",
       "    var output_area = handle.output_area;\n",
       "    var output = handle.output;\n",
       "\n",
       "    // limit handleAddOutput to display_data with EXEC_MIME_TYPE content only\n",
       "    if ((output.output_type != \"display_data\") || (!output.data.hasOwnProperty(EXEC_MIME_TYPE))) {\n",
       "      return\n",
       "    }\n",
       "\n",
       "    var toinsert = output_area.element.find(\".\" + CLASS_NAME.split(' ')[0]);\n",
       "\n",
       "    if (output.metadata[EXEC_MIME_TYPE][\"id\"] !== undefined) {\n",
       "      toinsert[toinsert.length - 1].firstChild.textContent = output.data[JS_MIME_TYPE];\n",
       "      // store reference to embed id on output_area\n",
       "      output_area._bokeh_element_id = output.metadata[EXEC_MIME_TYPE][\"id\"];\n",
       "    }\n",
       "    if (output.metadata[EXEC_MIME_TYPE][\"server_id\"] !== undefined) {\n",
       "      var bk_div = document.createElement(\"div\");\n",
       "      bk_div.innerHTML = output.data[HTML_MIME_TYPE];\n",
       "      var script_attrs = bk_div.children[0].attributes;\n",
       "      for (var i = 0; i < script_attrs.length; i++) {\n",
       "        toinsert[toinsert.length - 1].firstChild.setAttribute(script_attrs[i].name, script_attrs[i].value);\n",
       "        toinsert[toinsert.length - 1].firstChild.textContent = bk_div.children[0].textContent\n",
       "      }\n",
       "      // store reference to server id on output_area\n",
       "      output_area._bokeh_server_id = output.metadata[EXEC_MIME_TYPE][\"server_id\"];\n",
       "    }\n",
       "  }\n",
       "\n",
       "  function register_renderer(events, OutputArea) {\n",
       "\n",
       "    function append_mime(data, metadata, element) {\n",
       "      // create a DOM node to render to\n",
       "      var toinsert = this.create_output_subarea(\n",
       "        metadata,\n",
       "        CLASS_NAME,\n",
       "        EXEC_MIME_TYPE\n",
       "      );\n",
       "      this.keyboard_manager.register_events(toinsert);\n",
       "      // Render to node\n",
       "      var props = {data: data, metadata: metadata[EXEC_MIME_TYPE]};\n",
       "      render(props, toinsert[toinsert.length - 1]);\n",
       "      element.append(toinsert);\n",
       "      return toinsert\n",
       "    }\n",
       "\n",
       "    /* Handle when an output is cleared or removed */\n",
       "    events.on('clear_output.CodeCell', handleClearOutput);\n",
       "    events.on('delete.Cell', handleClearOutput);\n",
       "\n",
       "    /* Handle when a new output is added */\n",
       "    events.on('output_added.OutputArea', handleAddOutput);\n",
       "\n",
       "    /**\n",
       "     * Register the mime type and append_mime function with output_area\n",
       "     */\n",
       "    OutputArea.prototype.register_mime_type(EXEC_MIME_TYPE, append_mime, {\n",
       "      /* Is output safe? */\n",
       "      safe: true,\n",
       "      /* Index of renderer in `output_area.display_order` */\n",
       "      index: 0\n",
       "    });\n",
       "  }\n",
       "\n",
       "  // register the mime type if in Jupyter Notebook environment and previously unregistered\n",
       "  if (root.Jupyter !== undefined) {\n",
       "    var events = require('base/js/events');\n",
       "    var OutputArea = require('notebook/js/outputarea').OutputArea;\n",
       "\n",
       "    if (OutputArea.prototype.mime_types().indexOf(EXEC_MIME_TYPE) == -1) {\n",
       "      register_renderer(events, OutputArea);\n",
       "    }\n",
       "  }\n",
       "\n",
       "  \n",
       "  if (typeof (root._bokeh_timeout) === \"undefined\" || force === true) {\n",
       "    root._bokeh_timeout = Date.now() + 5000;\n",
       "    root._bokeh_failed_load = false;\n",
       "  }\n",
       "\n",
       "  var NB_LOAD_WARNING = {'data': {'text/html':\n",
       "     \"<div style='background-color: #fdd'>\\n\"+\n",
       "     \"<p>\\n\"+\n",
       "     \"BokehJS does not appear to have successfully loaded. If loading BokehJS from CDN, this \\n\"+\n",
       "     \"may be due to a slow or bad network connection. Possible fixes:\\n\"+\n",
       "     \"</p>\\n\"+\n",
       "     \"<ul>\\n\"+\n",
       "     \"<li>re-rerun `output_notebook()` to attempt to load from CDN again, or</li>\\n\"+\n",
       "     \"<li>use INLINE resources instead, as so:</li>\\n\"+\n",
       "     \"</ul>\\n\"+\n",
       "     \"<code>\\n\"+\n",
       "     \"from bokeh.resources import INLINE\\n\"+\n",
       "     \"output_notebook(resources=INLINE)\\n\"+\n",
       "     \"</code>\\n\"+\n",
       "     \"</div>\"}};\n",
       "\n",
       "  function display_loaded() {\n",
       "    var el = document.getElementById(\"1001\");\n",
       "    if (el != null) {\n",
       "      el.textContent = \"BokehJS is loading...\";\n",
       "    }\n",
       "    if (root.Bokeh !== undefined) {\n",
       "      if (el != null) {\n",
       "        el.textContent = \"BokehJS \" + root.Bokeh.version + \" successfully loaded.\";\n",
       "      }\n",
       "    } else if (Date.now() < root._bokeh_timeout) {\n",
       "      setTimeout(display_loaded, 100)\n",
       "    }\n",
       "  }\n",
       "\n",
       "\n",
       "  function run_callbacks() {\n",
       "    try {\n",
       "      root._bokeh_onload_callbacks.forEach(function(callback) {\n",
       "        if (callback != null)\n",
       "          callback();\n",
       "      });\n",
       "    } finally {\n",
       "      delete root._bokeh_onload_callbacks\n",
       "    }\n",
       "    console.debug(\"Bokeh: all callbacks have finished\");\n",
       "  }\n",
       "\n",
       "  function load_libs(css_urls, js_urls, callback) {\n",
       "    if (css_urls == null) css_urls = [];\n",
       "    if (js_urls == null) js_urls = [];\n",
       "\n",
       "    root._bokeh_onload_callbacks.push(callback);\n",
       "    if (root._bokeh_is_loading > 0) {\n",
       "      console.debug(\"Bokeh: BokehJS is being loaded, scheduling callback at\", now());\n",
       "      return null;\n",
       "    }\n",
       "    if (js_urls == null || js_urls.length === 0) {\n",
       "      run_callbacks();\n",
       "      return null;\n",
       "    }\n",
       "    console.debug(\"Bokeh: BokehJS not loaded, scheduling load and callback at\", now());\n",
       "    root._bokeh_is_loading = css_urls.length + js_urls.length;\n",
       "\n",
       "    function on_load() {\n",
       "      root._bokeh_is_loading--;\n",
       "      if (root._bokeh_is_loading === 0) {\n",
       "        console.debug(\"Bokeh: all BokehJS libraries/stylesheets loaded\");\n",
       "        run_callbacks()\n",
       "      }\n",
       "    }\n",
       "\n",
       "    function on_error() {\n",
       "      console.error(\"failed to load \" + url);\n",
       "    }\n",
       "\n",
       "    for (var i = 0; i < css_urls.length; i++) {\n",
       "      var url = css_urls[i];\n",
       "      const element = document.createElement(\"link\");\n",
       "      element.onload = on_load;\n",
       "      element.onerror = on_error;\n",
       "      element.rel = \"stylesheet\";\n",
       "      element.type = \"text/css\";\n",
       "      element.href = url;\n",
       "      console.debug(\"Bokeh: injecting link tag for BokehJS stylesheet: \", url);\n",
       "      document.body.appendChild(element);\n",
       "    }\n",
       "\n",
       "    const hashes = {\"https://cdn.bokeh.org/bokeh/release/bokeh-2.2.3.min.js\": \"T2yuo9Oe71Cz/I4X9Ac5+gpEa5a8PpJCDlqKYO0CfAuEszu1JrXLl8YugMqYe3sM\", \"https://cdn.bokeh.org/bokeh/release/bokeh-widgets-2.2.3.min.js\": \"98GDGJ0kOMCUMUePhksaQ/GYgB3+NH9h996V88sh3aOiUNX3N+fLXAtry6xctSZ6\", \"https://cdn.bokeh.org/bokeh/release/bokeh-tables-2.2.3.min.js\": \"89bArO+nlbP3sgakeHjCo1JYxYR5wufVgA3IbUvDY+K7w4zyxJqssu7wVnfeKCq8\"};\n",
       "\n",
       "    for (var i = 0; i < js_urls.length; i++) {\n",
       "      var url = js_urls[i];\n",
       "      var element = document.createElement('script');\n",
       "      element.onload = on_load;\n",
       "      element.onerror = on_error;\n",
       "      element.async = false;\n",
       "      element.src = url;\n",
       "      if (url in hashes) {\n",
       "        element.crossOrigin = \"anonymous\";\n",
       "        element.integrity = \"sha384-\" + hashes[url];\n",
       "      }\n",
       "      console.debug(\"Bokeh: injecting script tag for BokehJS library: \", url);\n",
       "      document.head.appendChild(element);\n",
       "    }\n",
       "  };\n",
       "\n",
       "  function inject_raw_css(css) {\n",
       "    const element = document.createElement(\"style\");\n",
       "    element.appendChild(document.createTextNode(css));\n",
       "    document.body.appendChild(element);\n",
       "  }\n",
       "\n",
       "  \n",
       "  var js_urls = [\"https://cdn.bokeh.org/bokeh/release/bokeh-2.2.3.min.js\", \"https://cdn.bokeh.org/bokeh/release/bokeh-widgets-2.2.3.min.js\", \"https://cdn.bokeh.org/bokeh/release/bokeh-tables-2.2.3.min.js\"];\n",
       "  var css_urls = [];\n",
       "  \n",
       "\n",
       "  var inline_js = [\n",
       "    function(Bokeh) {\n",
       "      Bokeh.set_log_level(\"info\");\n",
       "    },\n",
       "    function(Bokeh) {\n",
       "    \n",
       "    \n",
       "    }\n",
       "  ];\n",
       "\n",
       "  function run_inline_js() {\n",
       "    \n",
       "    if (root.Bokeh !== undefined || force === true) {\n",
       "      \n",
       "    for (var i = 0; i < inline_js.length; i++) {\n",
       "      inline_js[i].call(root, root.Bokeh);\n",
       "    }\n",
       "    if (force === true) {\n",
       "        display_loaded();\n",
       "      }} else if (Date.now() < root._bokeh_timeout) {\n",
       "      setTimeout(run_inline_js, 100);\n",
       "    } else if (!root._bokeh_failed_load) {\n",
       "      console.log(\"Bokeh: BokehJS failed to load within specified timeout.\");\n",
       "      root._bokeh_failed_load = true;\n",
       "    } else if (force !== true) {\n",
       "      var cell = $(document.getElementById(\"1001\")).parents('.cell').data().cell;\n",
       "      cell.output_area.append_execute_result(NB_LOAD_WARNING)\n",
       "    }\n",
       "\n",
       "  }\n",
       "\n",
       "  if (root._bokeh_is_loading === 0) {\n",
       "    console.debug(\"Bokeh: BokehJS loaded, going straight to plotting\");\n",
       "    run_inline_js();\n",
       "  } else {\n",
       "    load_libs(css_urls, js_urls, function() {\n",
       "      console.debug(\"Bokeh: BokehJS plotting callback run at\", now());\n",
       "      run_inline_js();\n",
       "    });\n",
       "  }\n",
       "}(window));"
      ],
      "application/vnd.bokehjs_load.v0+json": "\n(function(root) {\n  function now() {\n    return new Date();\n  }\n\n  var force = true;\n\n  if (typeof root._bokeh_onload_callbacks === \"undefined\" || force === true) {\n    root._bokeh_onload_callbacks = [];\n    root._bokeh_is_loading = undefined;\n  }\n\n  \n\n  \n  if (typeof (root._bokeh_timeout) === \"undefined\" || force === true) {\n    root._bokeh_timeout = Date.now() + 5000;\n    root._bokeh_failed_load = false;\n  }\n\n  var NB_LOAD_WARNING = {'data': {'text/html':\n     \"<div style='background-color: #fdd'>\\n\"+\n     \"<p>\\n\"+\n     \"BokehJS does not appear to have successfully loaded. If loading BokehJS from CDN, this \\n\"+\n     \"may be due to a slow or bad network connection. Possible fixes:\\n\"+\n     \"</p>\\n\"+\n     \"<ul>\\n\"+\n     \"<li>re-rerun `output_notebook()` to attempt to load from CDN again, or</li>\\n\"+\n     \"<li>use INLINE resources instead, as so:</li>\\n\"+\n     \"</ul>\\n\"+\n     \"<code>\\n\"+\n     \"from bokeh.resources import INLINE\\n\"+\n     \"output_notebook(resources=INLINE)\\n\"+\n     \"</code>\\n\"+\n     \"</div>\"}};\n\n  function display_loaded() {\n    var el = document.getElementById(\"1001\");\n    if (el != null) {\n      el.textContent = \"BokehJS is loading...\";\n    }\n    if (root.Bokeh !== undefined) {\n      if (el != null) {\n        el.textContent = \"BokehJS \" + root.Bokeh.version + \" successfully loaded.\";\n      }\n    } else if (Date.now() < root._bokeh_timeout) {\n      setTimeout(display_loaded, 100)\n    }\n  }\n\n\n  function run_callbacks() {\n    try {\n      root._bokeh_onload_callbacks.forEach(function(callback) {\n        if (callback != null)\n          callback();\n      });\n    } finally {\n      delete root._bokeh_onload_callbacks\n    }\n    console.debug(\"Bokeh: all callbacks have finished\");\n  }\n\n  function load_libs(css_urls, js_urls, callback) {\n    if (css_urls == null) css_urls = [];\n    if (js_urls == null) js_urls = [];\n\n    root._bokeh_onload_callbacks.push(callback);\n    if (root._bokeh_is_loading > 0) {\n      console.debug(\"Bokeh: BokehJS is being loaded, scheduling callback at\", now());\n      return null;\n    }\n    if (js_urls == null || js_urls.length === 0) {\n      run_callbacks();\n      return null;\n    }\n    console.debug(\"Bokeh: BokehJS not loaded, scheduling load and callback at\", now());\n    root._bokeh_is_loading = css_urls.length + js_urls.length;\n\n    function on_load() {\n      root._bokeh_is_loading--;\n      if (root._bokeh_is_loading === 0) {\n        console.debug(\"Bokeh: all BokehJS libraries/stylesheets loaded\");\n        run_callbacks()\n      }\n    }\n\n    function on_error() {\n      console.error(\"failed to load \" + url);\n    }\n\n    for (var i = 0; i < css_urls.length; i++) {\n      var url = css_urls[i];\n      const element = document.createElement(\"link\");\n      element.onload = on_load;\n      element.onerror = on_error;\n      element.rel = \"stylesheet\";\n      element.type = \"text/css\";\n      element.href = url;\n      console.debug(\"Bokeh: injecting link tag for BokehJS stylesheet: \", url);\n      document.body.appendChild(element);\n    }\n\n    const hashes = {\"https://cdn.bokeh.org/bokeh/release/bokeh-2.2.3.min.js\": \"T2yuo9Oe71Cz/I4X9Ac5+gpEa5a8PpJCDlqKYO0CfAuEszu1JrXLl8YugMqYe3sM\", \"https://cdn.bokeh.org/bokeh/release/bokeh-widgets-2.2.3.min.js\": \"98GDGJ0kOMCUMUePhksaQ/GYgB3+NH9h996V88sh3aOiUNX3N+fLXAtry6xctSZ6\", \"https://cdn.bokeh.org/bokeh/release/bokeh-tables-2.2.3.min.js\": \"89bArO+nlbP3sgakeHjCo1JYxYR5wufVgA3IbUvDY+K7w4zyxJqssu7wVnfeKCq8\"};\n\n    for (var i = 0; i < js_urls.length; i++) {\n      var url = js_urls[i];\n      var element = document.createElement('script');\n      element.onload = on_load;\n      element.onerror = on_error;\n      element.async = false;\n      element.src = url;\n      if (url in hashes) {\n        element.crossOrigin = \"anonymous\";\n        element.integrity = \"sha384-\" + hashes[url];\n      }\n      console.debug(\"Bokeh: injecting script tag for BokehJS library: \", url);\n      document.head.appendChild(element);\n    }\n  };\n\n  function inject_raw_css(css) {\n    const element = document.createElement(\"style\");\n    element.appendChild(document.createTextNode(css));\n    document.body.appendChild(element);\n  }\n\n  \n  var js_urls = [\"https://cdn.bokeh.org/bokeh/release/bokeh-2.2.3.min.js\", \"https://cdn.bokeh.org/bokeh/release/bokeh-widgets-2.2.3.min.js\", \"https://cdn.bokeh.org/bokeh/release/bokeh-tables-2.2.3.min.js\"];\n  var css_urls = [];\n  \n\n  var inline_js = [\n    function(Bokeh) {\n      Bokeh.set_log_level(\"info\");\n    },\n    function(Bokeh) {\n    \n    \n    }\n  ];\n\n  function run_inline_js() {\n    \n    if (root.Bokeh !== undefined || force === true) {\n      \n    for (var i = 0; i < inline_js.length; i++) {\n      inline_js[i].call(root, root.Bokeh);\n    }\n    if (force === true) {\n        display_loaded();\n      }} else if (Date.now() < root._bokeh_timeout) {\n      setTimeout(run_inline_js, 100);\n    } else if (!root._bokeh_failed_load) {\n      console.log(\"Bokeh: BokehJS failed to load within specified timeout.\");\n      root._bokeh_failed_load = true;\n    } else if (force !== true) {\n      var cell = $(document.getElementById(\"1001\")).parents('.cell').data().cell;\n      cell.output_area.append_execute_result(NB_LOAD_WARNING)\n    }\n\n  }\n\n  if (root._bokeh_is_loading === 0) {\n    console.debug(\"Bokeh: BokehJS loaded, going straight to plotting\");\n    run_inline_js();\n  } else {\n    load_libs(css_urls, js_urls, function() {\n      console.debug(\"Bokeh: BokehJS plotting callback run at\", now());\n      run_inline_js();\n    });\n  }\n}(window));"
     },
     "metadata": {},
     "output_type": "display_data"
    }
   ],
   "source": [
    "from korbash_lib import Puller, PlotDisplayer, Slider\n",
    "import time\n",
    "import numpy as np\n",
    "import pandas as pd\n",
    "import datetime\n",
    "from bokeh.io import push_notebook, show, output_notebook\n",
    "from bokeh.plotting import figure\n",
    "from bokeh.layouts import gridplot, layout\n",
    "from jupyter_ui_poll import ui_events\n",
    "import ipywidgets\n",
    "import matplotlib\n",
    "import scipy\n",
    "from scipy import stats\n",
    "import random\n",
    "import os\n",
    "output_notebook()\n",
    "pl = Puller(simulate=True) #simulate=True\n",
    "random.seed()\n",
    "\n",
    "# инициализация запускать только один раз"
   ]
  },
  {
   "cell_type": "code",
   "execution_count": 2,
   "metadata": {
    "pycharm": {
     "name": "#%%\n"
    }
   },
   "outputs": [],
   "source": [
    "#pl.ms.motorM.MoveTo(30);"
   ]
  },
  {
   "cell_type": "code",
   "execution_count": 3,
   "metadata": {
    "pycharm": {
     "name": "#%%\n"
    }
   },
   "outputs": [
    {
     "data": {
      "application/vnd.jupyter.widget-view+json": {
       "model_id": "bf02785568ef4de5add42a0d3dc108c6",
       "version_major": 2,
       "version_minor": 0
      },
      "text/plain": [
       "GridspecLayout(children=(Button(description='Stop All Motors', layout=Layout(grid_area='widget001'), style=But…"
      ]
     },
     "metadata": {},
     "output_type": "display_data"
    }
   ],
   "source": [
    "pl.ms.StopButton() # кнопки для остоновки моторчиков в нештатной ситуации"
   ]
  },
  {
   "cell_type": "code",
   "execution_count": 2,
   "metadata": {
    "pycharm": {
     "name": "#%%\n"
    }
   },
   "outputs": [],
   "source": [
    "pl.ms.MoveToStart(zapas=10) # сдвиг моторчиков на начальные позиции для растяжки\n",
    "pl.ms.motorM.MoveTo(17);\n",
    "while pl.ms.IsInMotion():\n",
    "    pass"
   ]
  },
  {
   "cell_type": "code",
   "execution_count": null,
   "metadata": {
    "pycharm": {
     "name": "#%%\n"
    }
   },
   "outputs": [],
   "source": [
    "pl.tg.SetZeroWeight(15) # калибровка тензодатчика"
   ]
  },
  {
   "cell_type": "code",
   "execution_count": 2,
   "metadata": {
    "pycharm": {
     "name": "#%%\n"
    }
   },
   "outputs": [
    {
     "name": "stdout",
     "output_type": "stream",
     "text": [
      "0.03130979185453874    -49.96869020814546    0.1155848690272698\n",
      "45.93889610591334    -4.0611038940866635    0.009393925671232114\n",
      "52.98730212640349    2.987302126403492    -0.006910065554789077\n",
      "51.08076546574494    1.080765465744939    -0.002499968165804787\n",
      "49.70620123116281    -0.2937987688371919    0.000679599406647731\n",
      "49.40071750181839    -0.5992824981816085    0.0013862278313503764\n",
      "49.88126611774739    -0.11873388225261294    0.0002746487885133799\n",
      "50.030454223447585    0.03045422344758464    -7.044506097425128e-05\n",
      "SetW finish value= 50.013825438915745\n",
      "            time    tension     motorM\n",
      "0   1.603716e+09  49.942967  15.761482\n",
      "1   1.603716e+09  49.969120  15.748895\n",
      "2   1.603716e+09  49.958991  15.727557\n",
      "3   1.603716e+09  50.000110  15.697383\n",
      "4   1.603716e+09  49.932839  15.658373\n",
      "5   1.603716e+09  49.954758  15.609970\n",
      "6   1.603716e+09  49.938205  15.553194\n",
      "7   1.603716e+09  49.921576  15.487582\n",
      "8   1.603716e+09  49.989452  15.414810\n",
      "9   1.603716e+09  49.893837  15.335430\n",
      "10  1.603716e+09  49.956346  15.238095\n",
      "11  1.603716e+09  49.932839  15.148095\n",
      "12  1.603716e+09  49.968061  15.058095\n",
      "13  1.603716e+09  49.955817  14.958095\n",
      "14  1.603716e+09  49.918931  14.868095\n",
      "15  1.603716e+09  50.034350  14.768095\n",
      "16  1.603716e+09  50.108046  14.678095\n",
      "17  1.603716e+09  50.387409  14.578095\n",
      "18  1.603716e+09  50.778412  14.488095\n",
      "19  1.603716e+09  51.343564  14.398095\n",
      "20  1.603716e+09  51.919449  14.298095\n",
      "21  1.603716e+09  52.613852  14.208095\n",
      "22  1.603716e+09  53.485049  14.108095\n",
      "23  1.603716e+09  54.352543  14.018095\n",
      "24  1.603716e+09  55.379219  13.918095\n",
      "25  1.603716e+09  56.435827  13.828095\n",
      "26  1.603716e+09  57.621157  13.738095\n",
      "27  1.603716e+09  58.891974  13.640095\n",
      "23.60157818262649\n",
      "SetH_podgon [ 7.         49.95193079 14.64288616]\n",
      "podgon a= 5.871370990925422   b= 49.94303180740283   x0= 14.879561961519329\n"
     ]
    },
    {
     "data": {
      "text/html": [
       "\n",
       "\n",
       "\n",
       "\n",
       "\n",
       "\n",
       "  <div class=\"bk-root\" id=\"902cfafd-136f-4270-8e7d-ae44598cc767\" data-root-id=\"1119\"></div>\n"
      ]
     },
     "metadata": {},
     "output_type": "display_data"
    },
    {
     "data": {
      "application/javascript": [
       "(function(root) {\n",
       "  function embed_document(root) {\n",
       "    \n",
       "  var docs_json = {\"a424bb22-3095-441a-8129-7a46a42e324b\":{\"roots\":{\"references\":[{\"attributes\":{\"children\":[{\"id\":\"1117\"},{\"id\":\"1118\"}]},\"id\":\"1119\",\"type\":\"Column\"},{\"attributes\":{},\"id\":\"1071\",\"type\":\"WheelZoomTool\"},{\"attributes\":{},\"id\":\"1070\",\"type\":\"PanTool\"},{\"attributes\":{},\"id\":\"1026\",\"type\":\"HelpTool\"},{\"attributes\":{\"overlay\":{\"id\":\"1076\"}},\"id\":\"1072\",\"type\":\"BoxZoomTool\"},{\"attributes\":{},\"id\":\"1022\",\"type\":\"WheelZoomTool\"},{\"attributes\":{},\"id\":\"1025\",\"type\":\"ResetTool\"},{\"attributes\":{},\"id\":\"1073\",\"type\":\"SaveTool\"},{\"attributes\":{},\"id\":\"1075\",\"type\":\"HelpTool\"},{\"attributes\":{},\"id\":\"1094\",\"type\":\"BasicTickFormatter\"},{\"attributes\":{\"line_alpha\":0.1,\"line_color\":\"red\",\"x\":{\"field\":\"motorM\"},\"y\":{\"field\":\"tension\"}},\"id\":\"1087\",\"type\":\"Line\"},{\"attributes\":{},\"id\":\"1074\",\"type\":\"ResetTool\"},{\"attributes\":{\"data_source\":{\"id\":\"1035\"},\"glyph\":{\"id\":\"1037\"},\"hover_glyph\":null,\"muted_glyph\":null,\"nonselection_glyph\":{\"id\":\"1038\"},\"selection_glyph\":null,\"view\":{\"id\":\"1040\"}},\"id\":\"1039\",\"type\":\"GlyphRenderer\"},{\"attributes\":{\"source\":{\"id\":\"1084\"}},\"id\":\"1089\",\"type\":\"CDSView\"},{\"attributes\":{\"data_source\":{\"id\":\"1084\"},\"glyph\":{\"id\":\"1086\"},\"hover_glyph\":null,\"muted_glyph\":null,\"nonselection_glyph\":{\"id\":\"1087\"},\"selection_glyph\":null,\"view\":{\"id\":\"1089\"}},\"id\":\"1088\",\"type\":\"GlyphRenderer\"},{\"attributes\":{\"children\":[{\"id\":\"1002\"}]},\"id\":\"1117\",\"type\":\"Row\"},{\"attributes\":{\"line_color\":\"blue\",\"x\":{\"field\":\"motorM\"},\"y\":{\"field\":\"fit\"}},\"id\":\"1102\",\"type\":\"Line\"},{\"attributes\":{\"below\":[{\"id\":\"1013\"}],\"center\":[{\"id\":\"1016\"},{\"id\":\"1020\"},{\"id\":\"1049\"}],\"left\":[{\"id\":\"1017\"}],\"plot_height\":300,\"plot_width\":980,\"renderers\":[{\"id\":\"1039\"}],\"title\":{\"id\":\"1003\"},\"toolbar\":{\"id\":\"1028\"},\"x_range\":{\"id\":\"1005\"},\"x_scale\":{\"id\":\"1009\"},\"y_range\":{\"id\":\"1007\"},\"y_scale\":{\"id\":\"1011\"}},\"id\":\"1002\",\"subtype\":\"Figure\",\"type\":\"Plot\"},{\"attributes\":{\"label\":{\"value\":\"error\"},\"renderers\":[{\"id\":\"1039\"}]},\"id\":\"1050\",\"type\":\"LegendItem\"},{\"attributes\":{\"line_color\":\"red\",\"x\":{\"field\":\"motorM\"},\"y\":{\"field\":\"tension\"}},\"id\":\"1086\",\"type\":\"Line\"},{\"attributes\":{\"items\":[{\"id\":\"1050\"}]},\"id\":\"1049\",\"type\":\"Legend\"},{\"attributes\":{\"items\":[{\"id\":\"1099\"},{\"id\":\"1116\"}]},\"id\":\"1098\",\"type\":\"Legend\"},{\"attributes\":{},\"id\":\"1114\",\"type\":\"Selection\"},{\"attributes\":{},\"id\":\"1047\",\"type\":\"Selection\"},{\"attributes\":{\"formatter\":{\"id\":\"1045\"},\"ticker\":{\"id\":\"1014\"}},\"id\":\"1013\",\"type\":\"LinearAxis\"},{\"attributes\":{\"data\":{\"error\":{\"__ndarray__\":\"j0AiWhADMj5tN5M+Dk1GP1ZNbMkqsTA/711u7kGwaj+e0xBkszwbPwN3+A4lBiI/bJ4v+JZt+D65gyZ+JCs+P4kGU9EGp2E/9cPiv3jTYz9jX+Kx0DsnP57TEGSzPBs/UbwnM0yHRD+DRui9eGwlPxYschO+RUQ/kMGDZUkbNj8DFmoX3QF2P9b0sBcmToA/qxktjC77cD/mm6S6UotZP5a8bU6l6xM/H1Y8Y/FBQj/52UPVD5BiP8EQWZVLVWY/2kDcRN9JEz/XM7cr4QHDPoGfc4JJwUk/Wd5dQna4dD8=\",\"dtype\":\"float64\",\"order\":\"little\",\"shape\":[28]},\"index\":[0,1,2,3,4,5,6,7,8,9,10,11,12,13,14,15,16,17,18,19,20,21,22,23,24,25,26,27],\"motorM\":{\"__ndarray__\":\"AG+BAOGFL0DwY8whb38vQAA8MFCCdC9AAHDsWQ9lL0DwLt45FlEvQHCL+QZOOC9AAP+URjwbL0BwJJdepPkuQABckAVi1C5AAPxTgr2rLkAAAACI53kuQAAAABDTSy5AAAAAmL4dLkAAAABgi+otQAAAAOh2vC1AAAAAsEOJLUAAAAA4L1stQAAAAAj8Jy1AAAAAiOf5LEAAAAAQ08ssQAAAAOCfmCxAAAAAYItqLEAAAAAwWDcsQAAAALBDCSxAAAAAgBDWK0AAAAAI/KcrQAAAAIjneStAAAAAeLpHK0A=\",\"dtype\":\"float64\",\"order\":\"little\",\"shape\":[28]}},\"selected\":{\"id\":\"1047\"},\"selection_policy\":{\"id\":\"1048\"}},\"id\":\"1035\",\"type\":\"ColumnDataSource\"},{\"attributes\":{\"data\":{\"fit\":{\"__ndarray__\":\"BPEpRLX4SEAE8SlEtfhIQATxKUS1+EhABPEpRLX4SEAE8SlEtfhIQATxKUS1+EhABPEpRLX4SEAE8SlEtfhIQATxKUS1+EhABPEpRLX4SEAE8SlEtfhIQATxKUS1+EhABPEpRLX4SEAE8SlEtfhIQP1Yz5DO+EhAt59nvwsCSUC+Z3VTNhdJQEhBJG4CPUlAZWoc4OBrSUC6OBQO7KZJQJluHCnO9klAew6SO41LSkB4A09F/rdKQCLYEDNxJktAPYyCK3GvS0BL3d7blzdMQLkoHmrry0xAxfyA00Z7TUA=\",\"dtype\":\"float64\",\"order\":\"little\",\"shape\":[28]},\"index\":[0,1,2,3,4,5,6,7,8,9,10,11,12,13,14,15,16,17,18,19,20,21,22,23,24,25,26,27],\"motorM\":{\"__ndarray__\":\"AG+BAOGFL0DwY8whb38vQAA8MFCCdC9AAHDsWQ9lL0DwLt45FlEvQHCL+QZOOC9AAP+URjwbL0BwJJdepPkuQABckAVi1C5AAPxTgr2rLkAAAACI53kuQAAAABDTSy5AAAAAmL4dLkAAAABgi+otQAAAAOh2vC1AAAAAsEOJLUAAAAA4L1stQAAAAAj8Jy1AAAAAiOf5LEAAAAAQ08ssQAAAAOCfmCxAAAAAYItqLEAAAAAwWDcsQAAAALBDCSxAAAAAgBDWK0AAAAAI/KcrQAAAAIjneStAAAAAeLpHK0A=\",\"dtype\":\"float64\",\"order\":\"little\",\"shape\":[28]},\"tension\":{\"__ndarray__\":\"d+HsJLP4SEC6NVscDPxIQE+81DjA+khAa6VhlwMASUALaGZBZ/dIQFCkr4U1+khAeCZjGxf4SEAySAg39vVIQACJdl2m/khA7wpsPGnySEBQjd2IafpIQAtoZkFn90hAu++Rb+n7SEBP6ngyWPpIQDMZEYef9UhAiEfSkmUESUBUiZNv1A1JQBq5I5+WMUlAyUGmA6NjSUDBpYzp+atJQJGGbIOw9UlASgdbtZJOSkBLkqQYFr5KQE2oLR8gLUtAwAT8P4qwS0DkigcvyTdMQMiKthOCz0xAUY/pNSxyTUA=\",\"dtype\":\"float64\",\"order\":\"little\",\"shape\":[28]}},\"selected\":{\"id\":\"1114\"},\"selection_policy\":{\"id\":\"1115\"}},\"id\":\"1100\",\"type\":\"ColumnDataSource\"},{\"attributes\":{},\"id\":\"1115\",\"type\":\"UnionRenderers\"},{\"attributes\":{},\"id\":\"1048\",\"type\":\"UnionRenderers\"},{\"attributes\":{},\"id\":\"1096\",\"type\":\"Selection\"},{\"attributes\":{\"bottom_units\":\"screen\",\"fill_alpha\":0.5,\"fill_color\":\"lightgrey\",\"left_units\":\"screen\",\"level\":\"overlay\",\"line_alpha\":1.0,\"line_color\":\"black\",\"line_dash\":[4,4],\"line_width\":2,\"right_units\":\"screen\",\"top_units\":\"screen\"},\"id\":\"1027\",\"type\":\"BoxAnnotation\"},{\"attributes\":{\"bottom_units\":\"screen\",\"fill_alpha\":0.5,\"fill_color\":\"lightgrey\",\"left_units\":\"screen\",\"level\":\"overlay\",\"line_alpha\":1.0,\"line_color\":\"black\",\"line_dash\":[4,4],\"line_width\":2,\"right_units\":\"screen\",\"top_units\":\"screen\"},\"id\":\"1076\",\"type\":\"BoxAnnotation\"},{\"attributes\":{},\"id\":\"1097\",\"type\":\"UnionRenderers\"},{\"attributes\":{\"below\":[{\"id\":\"1062\"}],\"center\":[{\"id\":\"1065\"},{\"id\":\"1069\"},{\"id\":\"1098\"}],\"left\":[{\"id\":\"1066\"}],\"plot_height\":300,\"plot_width\":980,\"renderers\":[{\"id\":\"1088\"},{\"id\":\"1104\"}],\"title\":{\"id\":\"1052\"},\"toolbar\":{\"id\":\"1077\"},\"x_range\":{\"id\":\"1054\"},\"x_scale\":{\"id\":\"1058\"},\"y_range\":{\"id\":\"1056\"},\"y_scale\":{\"id\":\"1060\"}},\"id\":\"1051\",\"subtype\":\"Figure\",\"type\":\"Plot\"},{\"attributes\":{\"overlay\":{\"id\":\"1027\"}},\"id\":\"1023\",\"type\":\"BoxZoomTool\"},{\"attributes\":{\"children\":[{\"id\":\"1051\"}]},\"id\":\"1118\",\"type\":\"Row\"},{\"attributes\":{\"line_alpha\":0.1,\"line_color\":\"red\",\"x\":{\"field\":\"motorM\"},\"y\":{\"field\":\"error\"}},\"id\":\"1038\",\"type\":\"Line\"},{\"attributes\":{},\"id\":\"1011\",\"type\":\"LinearScale\"},{\"attributes\":{},\"id\":\"1056\",\"type\":\"DataRange1d\"},{\"attributes\":{\"formatter\":{\"id\":\"1043\"},\"ticker\":{\"id\":\"1018\"}},\"id\":\"1017\",\"type\":\"LinearAxis\"},{\"attributes\":{},\"id\":\"1054\",\"type\":\"DataRange1d\"},{\"attributes\":{\"source\":{\"id\":\"1035\"}},\"id\":\"1040\",\"type\":\"CDSView\"},{\"attributes\":{\"data\":{\"fit\":{\"__ndarray__\":\"BPEpRLX4SEAE8SlEtfhIQATxKUS1+EhABPEpRLX4SEAE8SlEtfhIQATxKUS1+EhABPEpRLX4SEAE8SlEtfhIQATxKUS1+EhABPEpRLX4SEAE8SlEtfhIQATxKUS1+EhABPEpRLX4SEAE8SlEtfhIQP1Yz5DO+EhAt59nvwsCSUC+Z3VTNhdJQEhBJG4CPUlAZWoc4OBrSUC6OBQO7KZJQJluHCnO9klAew6SO41LSkB4A09F/rdKQCLYEDNxJktAPYyCK3GvS0BL3d7blzdMQLkoHmrry0xAxfyA00Z7TUA=\",\"dtype\":\"float64\",\"order\":\"little\",\"shape\":[28]},\"index\":[0,1,2,3,4,5,6,7,8,9,10,11,12,13,14,15,16,17,18,19,20,21,22,23,24,25,26,27],\"motorM\":{\"__ndarray__\":\"AG+BAOGFL0DwY8whb38vQAA8MFCCdC9AAHDsWQ9lL0DwLt45FlEvQHCL+QZOOC9AAP+URjwbL0BwJJdepPkuQABckAVi1C5AAPxTgr2rLkAAAACI53kuQAAAABDTSy5AAAAAmL4dLkAAAABgi+otQAAAAOh2vC1AAAAAsEOJLUAAAAA4L1stQAAAAAj8Jy1AAAAAiOf5LEAAAAAQ08ssQAAAAOCfmCxAAAAAYItqLEAAAAAwWDcsQAAAALBDCSxAAAAAgBDWK0AAAAAI/KcrQAAAAIjneStAAAAAeLpHK0A=\",\"dtype\":\"float64\",\"order\":\"little\",\"shape\":[28]},\"tension\":{\"__ndarray__\":\"d+HsJLP4SEC6NVscDPxIQE+81DjA+khAa6VhlwMASUALaGZBZ/dIQFCkr4U1+khAeCZjGxf4SEAySAg39vVIQACJdl2m/khA7wpsPGnySEBQjd2IafpIQAtoZkFn90hAu++Rb+n7SEBP6ngyWPpIQDMZEYef9UhAiEfSkmUESUBUiZNv1A1JQBq5I5+WMUlAyUGmA6NjSUDBpYzp+atJQJGGbIOw9UlASgdbtZJOSkBLkqQYFr5KQE2oLR8gLUtAwAT8P4qwS0DkigcvyTdMQMiKthOCz0xAUY/pNSxyTUA=\",\"dtype\":\"float64\",\"order\":\"little\",\"shape\":[28]}},\"selected\":{\"id\":\"1096\"},\"selection_policy\":{\"id\":\"1097\"}},\"id\":\"1084\",\"type\":\"ColumnDataSource\"},{\"attributes\":{},\"id\":\"1005\",\"type\":\"DataRange1d\"},{\"attributes\":{\"text\":\"pl2\"},\"id\":\"1052\",\"type\":\"Title\"},{\"attributes\":{},\"id\":\"1007\",\"type\":\"DataRange1d\"},{\"attributes\":{\"label\":{\"value\":\"tension\"},\"renderers\":[{\"id\":\"1088\"}]},\"id\":\"1099\",\"type\":\"LegendItem\"},{\"attributes\":{\"formatter\":{\"id\":\"1094\"},\"ticker\":{\"id\":\"1063\"}},\"id\":\"1062\",\"type\":\"LinearAxis\"},{\"attributes\":{},\"id\":\"1014\",\"type\":\"BasicTicker\"},{\"attributes\":{},\"id\":\"1063\",\"type\":\"BasicTicker\"},{\"attributes\":{},\"id\":\"1009\",\"type\":\"LinearScale\"},{\"attributes\":{\"text\":\"pl1\"},\"id\":\"1003\",\"type\":\"Title\"},{\"attributes\":{\"axis\":{\"id\":\"1013\"},\"ticker\":null},\"id\":\"1016\",\"type\":\"Grid\"},{\"attributes\":{},\"id\":\"1060\",\"type\":\"LinearScale\"},{\"attributes\":{\"formatter\":{\"id\":\"1092\"},\"ticker\":{\"id\":\"1067\"}},\"id\":\"1066\",\"type\":\"LinearAxis\"},{\"attributes\":{\"line_alpha\":0.1,\"line_color\":\"blue\",\"x\":{\"field\":\"motorM\"},\"y\":{\"field\":\"fit\"}},\"id\":\"1103\",\"type\":\"Line\"},{\"attributes\":{},\"id\":\"1058\",\"type\":\"LinearScale\"},{\"attributes\":{},\"id\":\"1043\",\"type\":\"BasicTickFormatter\"},{\"attributes\":{\"axis\":{\"id\":\"1062\"},\"ticker\":null},\"id\":\"1065\",\"type\":\"Grid\"},{\"attributes\":{\"axis\":{\"id\":\"1017\"},\"dimension\":1,\"ticker\":null},\"id\":\"1020\",\"type\":\"Grid\"},{\"attributes\":{\"source\":{\"id\":\"1100\"}},\"id\":\"1105\",\"type\":\"CDSView\"},{\"attributes\":{\"data_source\":{\"id\":\"1100\"},\"glyph\":{\"id\":\"1102\"},\"hover_glyph\":null,\"muted_glyph\":null,\"nonselection_glyph\":{\"id\":\"1103\"},\"selection_glyph\":null,\"view\":{\"id\":\"1105\"}},\"id\":\"1104\",\"type\":\"GlyphRenderer\"},{\"attributes\":{},\"id\":\"1018\",\"type\":\"BasicTicker\"},{\"attributes\":{},\"id\":\"1045\",\"type\":\"BasicTickFormatter\"},{\"attributes\":{\"line_color\":\"red\",\"x\":{\"field\":\"motorM\"},\"y\":{\"field\":\"error\"}},\"id\":\"1037\",\"type\":\"Line\"},{\"attributes\":{\"label\":{\"value\":\"fit\"},\"renderers\":[{\"id\":\"1104\"}]},\"id\":\"1116\",\"type\":\"LegendItem\"},{\"attributes\":{\"axis\":{\"id\":\"1066\"},\"dimension\":1,\"ticker\":null},\"id\":\"1069\",\"type\":\"Grid\"},{\"attributes\":{},\"id\":\"1024\",\"type\":\"SaveTool\"},{\"attributes\":{},\"id\":\"1092\",\"type\":\"BasicTickFormatter\"},{\"attributes\":{},\"id\":\"1067\",\"type\":\"BasicTicker\"},{\"attributes\":{\"active_drag\":\"auto\",\"active_inspect\":\"auto\",\"active_multi\":null,\"active_scroll\":\"auto\",\"active_tap\":\"auto\",\"tools\":[{\"id\":\"1070\"},{\"id\":\"1071\"},{\"id\":\"1072\"},{\"id\":\"1073\"},{\"id\":\"1074\"},{\"id\":\"1075\"}]},\"id\":\"1077\",\"type\":\"Toolbar\"},{\"attributes\":{},\"id\":\"1021\",\"type\":\"PanTool\"},{\"attributes\":{\"active_drag\":\"auto\",\"active_inspect\":\"auto\",\"active_multi\":null,\"active_scroll\":\"auto\",\"active_tap\":\"auto\",\"tools\":[{\"id\":\"1021\"},{\"id\":\"1022\"},{\"id\":\"1023\"},{\"id\":\"1024\"},{\"id\":\"1025\"},{\"id\":\"1026\"}]},\"id\":\"1028\",\"type\":\"Toolbar\"}],\"root_ids\":[\"1119\"]},\"title\":\"Bokeh Application\",\"version\":\"2.2.3\"}};\n",
       "  var render_items = [{\"docid\":\"a424bb22-3095-441a-8129-7a46a42e324b\",\"notebook_comms_target\":\"1138\",\"root_ids\":[\"1119\"],\"roots\":{\"1119\":\"902cfafd-136f-4270-8e7d-ae44598cc767\"}}];\n",
       "  root.Bokeh.embed.embed_items_notebook(docs_json, render_items);\n",
       "\n",
       "  }\n",
       "  if (root.Bokeh !== undefined) {\n",
       "    embed_document(root);\n",
       "  } else {\n",
       "    var attempts = 0;\n",
       "    var timer = setInterval(function(root) {\n",
       "      if (root.Bokeh !== undefined) {\n",
       "        clearInterval(timer);\n",
       "        embed_document(root);\n",
       "      } else {\n",
       "        attempts++;\n",
       "        if (attempts > 100) {\n",
       "          clearInterval(timer);\n",
       "          console.log(\"Bokeh: ERROR: Unable to run BokehJS code because BokehJS library is missing\");\n",
       "        }\n",
       "      }\n",
       "    }, 10, root)\n",
       "  }\n",
       "})(window);"
      ],
      "application/vnd.bokehjs_exec.v0+json": ""
     },
     "metadata": {
      "application/vnd.bokehjs_exec.v0+json": {
       "id": "1119"
      }
     },
     "output_type": "display_data"
    },
    {
     "name": "stdout",
     "output_type": "stream",
     "text": [
      "podgon a= 6.9985364149181555   b= 49.31118217944893   x0= 14.957302960741417\n"
     ]
    },
    {
     "data": {
      "text/html": [
       "\n",
       "\n",
       "\n",
       "\n",
       "\n",
       "\n",
       "  <div class=\"bk-root\" id=\"c8769846-2fc5-489e-8a3b-8ae44fc4d3b0\" data-root-id=\"1346\"></div>\n"
      ]
     },
     "metadata": {},
     "output_type": "display_data"
    },
    {
     "data": {
      "application/javascript": [
       "(function(root) {\n",
       "  function embed_document(root) {\n",
       "    \n",
       "  var docs_json = {\"e22c8178-4442-4a37-9186-99050e05d180\":{\"roots\":{\"references\":[{\"attributes\":{\"children\":[{\"id\":\"1344\"},{\"id\":\"1345\"}]},\"id\":\"1346\",\"type\":\"Column\"},{\"attributes\":{\"children\":[{\"id\":\"1278\"}]},\"id\":\"1345\",\"type\":\"Row\"},{\"attributes\":{},\"id\":\"1302\",\"type\":\"HelpTool\"},{\"attributes\":{},\"id\":\"1298\",\"type\":\"WheelZoomTool\"},{\"attributes\":{\"bottom_units\":\"screen\",\"fill_alpha\":0.5,\"fill_color\":\"lightgrey\",\"left_units\":\"screen\",\"level\":\"overlay\",\"line_alpha\":1.0,\"line_color\":\"black\",\"line_dash\":[4,4],\"line_width\":2,\"right_units\":\"screen\",\"top_units\":\"screen\"},\"id\":\"1254\",\"type\":\"BoxAnnotation\"},{\"attributes\":{\"overlay\":{\"id\":\"1303\"}},\"id\":\"1299\",\"type\":\"BoxZoomTool\"},{\"attributes\":{},\"id\":\"1274\",\"type\":\"Selection\"},{\"attributes\":{},\"id\":\"1252\",\"type\":\"ResetTool\"},{\"attributes\":{},\"id\":\"1297\",\"type\":\"PanTool\"},{\"attributes\":{\"data\":{\"fit\":{\"__ndarray__\":\"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\",\"dtype\":\"float64\",\"order\":\"little\",\"shape\":[892]},\"index\":[0,1,2,3,4,5,6,7,8,9,10,11,12,13,14,15,16,17,18,19,20,21,22,23,24,25,26,27,28,29,30,31,32,33,34,35,36,37,38,39,40,41,42,43,44,45,46,47,48,49,50,51,52,53,54,55,56,57,58,59,60,61,62,63,64,65,66,67,68,69,70,71,72,73,74,75,76,77,78,79,80,81,82,83,84,85,86,87,88,89,90,91,92,93,94,95,96,97,98,99,100,101,102,103,104,105,106,107,108,109,110,111,112,113,114,115,116,117,118,119,120,121,122,123,124,125,126,127,128,129,130,131,132,133,134,135,136,137,138,139,140,141,142,143,144,145,146,147,148,149,150,151,152,153,154,155,156,157,158,159,160,161,162,163,164,165,166,167,168,169,170,171,172,173,174,175,176,177,178,179,180,181,182,183,184,185,186,187,188,189,190,191,192,193,194,195,196,197,198,199,200,201,202,203,204,205,206,207,208,209,210,211,212,213,214,215,216,217,218,219,220,221,222,223,224,225,226,227,228,229,230,231,232,233,234,235,236,237,238,239,240,241,242,243,244,245,246,247,248,249,250,251,252,253,254,255,256,257,258,259,260,261,262,263,264,265,266,267,268,269,270,271,272,273,274,275,276,277,278,279,280,281,282,283,284,285,286,287,288,289,290,291,292,293,294,295,296,297,298,299,300,301,302,303,304,305,306,307,308,309,310,311,312,313,314,315,316,317,318,319,320,321,322,323,324,325,326,327,328,329,330,331,332,333,334,335,336,337,338,339,340,341,342,343,344,345,346,347,348,349,350,351,352,353,354,355,356,357,358,359,360,361,362,363,364,365,366,367,368,369,370,371,372,373,374,375,376,377,378,379,380,381,382,383,384,385,386,387,388,389,390,391,392,393,394,395,396,397,398,399,400,401,402,403,404,405,406,407,408,409,410,411,412,413,414,415,416,417,418,419,420,421,422,423,424,425,426,427,428,429,430,431,432,433,434,435,436,437,438,439,440,441,442,443,444,445,446,447,448,449,450,451,452,453,454,455,456,457,458,459,460,461,462,463,464,465,466,467,468,469,470,471,472,473,474,475,476,477,478,479,480,481,482,483,484,485,486,487,488,489,490,491,492,493,494,495,496,497,498,499,500,501,502,503,504,505,506,507,508,509,510,511,512,513,514,515,516,517,518,519,520,521,522,523,524,525,526,527,528,529,530,531,532,533,534,535,536,537,538,539,540,541,542,543,544,545,546,547,548,549,550,551,552,553,554,555,556,557,558,559,560,561,562,563,564,565,566,567,568,569,570,571,572,573,574,575,576,577,578,579,580,581,582,583,584,585,586,587,588,589,590,591,592,593,594,595,596,597,598,599,600,601,602,603,604,605,606,607,608,609,610,611,612,613,614,615,616,617,618,619,620,621,622,623,624,625,626,627,628,629,630,631,632,633,634,635,636,637,638,639,640,641,642,643,644,645,646,647,648,649,650,651,652,653,654,655,656,657,658,659,660,661,662,663,664,665,666,667,668,669,670,671,672,673,674,675,676,677,678,679,680,681,682,683,684,685,686,687,688,689,690,691,692,693,694,695,696,697,698,699,700,701,702,703,704,705,706,707,708,709,710,711,712,713,714,715,716,717,718,719,720,721,722,723,724,725,726,727,728,729,730,731,732,733,734,735,736,737,738,739,740,741,742,743,744,745,746,747,748,749,750,751,752,753,754,755,756,757,758,759,760,761,762,763,764,765,766,767,768,769,770,771,772,773,774,775,776,777,778,779,780,781,782,783,784,785,786,787,788,789,790,791,792,793,794,795,796,797,798,799,800,801,802,803,804,805,806,807,808,809,810,811,812,813,814,815,816,817,818,819,820,821,822,823,824,825,826,827,828,829,830,831,832,833,834,835,836,837,838,839,840,841,842,843,844,845,846,847,848,849,850,851,852,853,854,855,856,857,858,859,860,861,862,863,864,865,866,867,868,869,870,871,872,873,874,875,876,877,878,879,880,881,882,883,884,885,886,887,888,889,890,891],\"motorM\":{\"__ndarray__\":\"lIBEnEeFL0CUgEQE2YIvQPrmqvpwgC9A+uaq8Ah+L0D65qrmoHsvQGFNEd04eS9Ax7N3Rcp2L0AuGt47YnQvQC4a3jH6cS9AlIBEKJJvL0CUgEQeKm0vQGFNEYe7ai9A+uaqfFNoL0D65qpy62UvQGFNEWmDYy9Ax7N3XxthL0AuGt7HrF4vQC4a3r1EXC9AlIBEtNxZL0CUgESqdFcvQPrmqqAMVS9AYU0RCZ5SL0BhTRH/NVAvQGFNEfXNTS9Ax7N362VLL0AuGt5T90gvQC4a3kmPRi9AlIBEQCdEL0D65qqouEEvQGFNEZ9QPy9AYU0Rleg8L0BhTRGLgDovQMezd4EYOC9ALhre6ak1L0AuGt5tSDMvQGFNEQ30MC9Ax7N3A4wuL0BhTRH5IywvQMezd2G1KS9ALhreV00nL0CUgETA3iQvQJSARER9Ii9AlIBEOhUgL0D65qowrR0vQGFNEZk+Gy9Ax7N3j9YYL0DHs3eFbhYvQC4a3nsGFC9ALhre45cRL0CUgETaLw8vQJSARNDHDC9AlIBExl8KL0BhTREv8QcvQGFNESWJBS9Ax7N3GyEDL0DHs3cRuQAvQC4a3gdR/i5ALhre/ej7LkD65qrYc/kuQPrmqlwS9y5AlIBEUqr0LkD65qpIQvIuQGFNET/a7y5Ax7N3p2vtLkDHs3edA+suQC4a3pOb6C5ALhreiTPmLkD65qryxOMuQPrmquhc4S5A+uaq3vTeLkBhTRHVjNwuQMezd8sk2i5Ax7N3M7bXLkCUgERgaNUuQPrmqlYA0y5A+uaqTJjQLkBhTRFDMM4uQMezd6vByy5ALhreoVnJLkAuGt6X8cYuQC4a3o2JxC5A+uaq9hrCLkD65qrssr8uQMezd1VEvS5AYU0R2eK6LkDHs3fPerguQMezdzcMti5ALhren52zLkAuGt4jPLEuQC4a3hnUri5AlIBEEGysLkD65qoGBKouQGFNEW+Vpy5AYU0RZS2lLkDHs3dbxaIuQMezd1FdoC5AlIBEuu6dLkAuGt6vhpsuQC4a3qUemS5AlIBEnLaWLkD65qoESJQuQGFNEfvfkS5AYU0R8XePLkDHs3fnD40uQC4a3k+hii5AlIBERjmILkCUgEQ80YUuQJSARDJpgy5AlIBEKAGBLkD65qoemX4uQC4a3r1EfC5ALhres9x5LkCUgESqdHcuQJSARKAMdS5A+uaqlqRyLkBhTRH/NXAuQMezd2fHbS5ALhreXV9rLkDHs3fh/WguQJSAREqPZi5AlIBEQCdkLkD65qo2v2EuQJSARCxXXy5A+uaqlOhcLkD65qoYh1ouQMezd4EYWC5Ax7N3d7BVLkDHs3dtSFMuQC4a3mPgUC5AlIBEzHFOLkD65qrCCUwuQPrmqrihSS5AYU0RrzlHLkBhTRGF/0QuQPrmqihwQi5AlIBEViJALkD65qqipj0uQJSARNBYOy5AlIBEWLw4LkD65qpOVDYuQPrmqkTsMy5AYU0RO4QxLkBhTRExHC8uQC4a3pmtLC5ALhrej0UqLkDHs3eF3ScuQC4a3nt1JS5AlIBE5AYjLkD65qraniAuQMezdwdRHi5ALhre/egbLkCUgERmehkuQJSAROoYFy5A+uaqUqoULkBhTRFJQhIuQGFNET/aDy5AYU0RNXINLkDHs3crCgsuQMezd5ObCC5ALhreiTMGLkAuGt5/ywMuQJSARHZjAS5AlIBEbPv+LUBhTRFHhvwtQGFNEcsk+i1AYU0Rwbz3LUAuGt4pTvUtQC4a3h/m8i1AlIBEFn7wLUCUgEQMFu4tQPrmqgKu6y1AlIBE+EXpLUBhTRHT0OYtQGFNEVdv5C1AYU0RTQfiLUDHs3dDn98tQC4a3qsw3S1AlIBEosjaLUCUgESYYNgtQPrmqo741S1A+uaqhJDTLUBhTRFfG9EtQGFNEeO5zi1AYU0R2VHMLUDHs3fP6cktQC4a3sWBxy1ALhreuxnFLUCUgEQkq8ItQPrmqhpDwC1AYU0Rg9S9LUBhTREHc7stQJSARKYeuS1A+uaqDrC2LUD65qqSTrQtQPrmqojmsS1AYU0Rf36vLUBhTRHnD60tQMezd92nqi1Ax7N30z+oLUAuGt7J16UtQJSARDJpoy1A+uaqKAGhLUD65qoemZ4tQPrmqhQxnC1AYU0RC8mZLUDHs3dzWpctQC4a3mnylC1Ax7N3X4qSLUAuGt5VIpAtQC4a3ku6jS1A+uaqtEuLLUD65qqq44gtQPrmqqB7hi1AYU0RlxOELUDHs3f/pIEtQC4a3vU8fy1ALhre69R8LUCUgETibHotQC4a3tcEeC1AlIBEzpx1LUD65qo2LnMtQPrmqizGcC1AYU0RI15uLUDHs3eL72stQC4a3oGHaS1ALhredx9nLUCUgERut2QtQJSARGRPYi1A+uaqWudfLUBhTRHDeF0tQJSARPAqWy1AlIBE5sJYLUAuGt7bWlYtQPrmqkTsUy1A+uaqOoRRLUBhTRExHE8tQGFNESe0TC1Ax7N3HUxKLUAuGt6F3UctQJSARHx1RS1AlIBEcg1DLUCUgERopUAtQPrmql49Pi1A+uaqxs47LUBhTRG9ZjktQGFNEbP+Ni1Ax7N3qZY0LUAuGt4RKDItQJSARAjALy1AlIBE/lctLUCUgET07yotQPrmquqHKC1AYU0R4R8mLUDHs3dJsSMtQMezdz9JIS1ALhreNeEeLUDHs3dHhhwtQJSARHQ4Gi1ALhreF6kXLUBhTRFFWxUtQJSARHINEy1ALhreFX4QLUBhTRFDMA4tQGFNEeegCy1ALhreE1MJLUAuGt63wwYtQJSARK5bBC1AlIBEFu0BLUCUgEQMhf8sQPrmqgId/SxAYU0R+bT6LECUgESYYPgsQJSARI749SxA+uaqhJDzLED65qp6KPEsQGFNEXHA7ixAx7N32VHsLEAuGt7P6eksQC4a3sWB5yxALhreuxnlLECUgESyseIsQJSARIh34CxAYU0Rg9TdLED65qoGc9ssQGFNEW8E2SxALhreKb3WLEAuGt7NLdQsQC4a3lHM0SxALhreR2TPLECUgEQ+/MwsQPrmqqaNyixAYU0RnSXILED65qqSvcUsQGFNEYlVwyxAx7N38ebALEAuGt7nfr4sQC4a3t0WvCxALhre0665LECUgETKRrcsQPrmqjLYtCxAYU0RKXCyLEBhTREfCLAsQGFNEYeZrSxAYU0RCzirLEAuGt5zyagsQC4a3mlhpixALhreX/mjLECUgERWkaEsQPrmqkwpnyxAYU0RtbqcLEAuGt7hbJosQJSARNgEmCxAlIBEzpyVLED65qrENJMsQGFNES3GkCxAx7N3I16OLEAuGt6L74ssQGFNEQ+OiSxAx7N3BSaHLEBhTREXy4QsQPrmqkR9gixALhre5+1/LEBhTREVoH0sQGFNEbkQeyxALhre5cJ4LEBhTRETdXYsQGFNEbflcyxALhre45dxLECUgESICG8sQGFNEbW6bCxAlIBE5jFqLED65qrcyWcsQPrmqtJhZSxAx7N3rexiLEDHs3cxi2AsQMezdycjXixAlIBEkLRbLECUgESGTFksQPrmqnzkVixAYU0R5XVULED65qraDVIsQPrmql6sTyxAx7N3xz1NLEDHs3e91UosQMezd7NtSCxAlIBEHP9FLECUgEQkq0IsQAAAAAAAAPh/YU0RoxU/LEBhTRFHhjwsQGFNEev2OSxAlIBEfOQ2LED65qqAOjUsQGFNEVvFMixA+uaqbGowLED65qpiAi4sQMezd8uTKyxAx7N3wSspLEAuGt63wyYsQC4a3q1bJCxAlIBEpPMhLED65qoMhR8sQGFNEQMdHSxAlIBEFMIaLEDHs3dBdBgsQMezd+XkFSxAlIBEEpcTLEDHs3c/SREsQGFNEeO5DixAlIBEEGwMLECUgES03AksQGFNEeGOByxAYU0Rhf8ELEBhTRF7lwIsQMezd3EvACxALhre2cD9K0CUgETQWPsrQC4a3sXw+CtAlIBEvIj2K0CUgESyIPQrQGFNEY2r8StAYU0REUrvK0BhTREH4uwrQMezd92n6itAx7N3gRjoK0CUgESuyuUrQJSARFI74ytAx7N3f+3gK0CUgESsn94rQMezd9lR3CtAx7N3fcLZK0CUgESqdNcrQC4a3k3l1CtAlIBEtnbSK0BhTREfCNArQGFNERWgzStAx7N3CzjLK0DHs3cB0MgrQC4a3vdnxitAlIBEYPnDK0D65qpWkcErQPrmqkwpvytAlIBEQsG8K0D65qo4WborQGFNEaHqtytAlIBEQJa1K0AuGt5tSLMrQMezdxG5sCtAlIBEPmuuK0D65qri26srQMezdw+OqStAlIBEPECnK0D65qrgsKQrQMezdw1joitAYU0RsdOfK0DHs3cZZZ0rQC4a3g/9mitALhreBZWYK0D65qpuJpYrQPrmqmS+kytAYU0RzU+RK0DHs3fD544rQMezd7l/jCtALhrerxeKK0AuGt6lr4crQGBNEWUthStAYE0RCZ6CK0CUgESai38rQAAAAAAAAPh/lIBE4mx6K0D65qqq43grQGBNEWHXditALhrejYl0K0BgTRG7O3IrQGBNEV+sbytALhrei15tK0DHs3e91WorQC4a3rNtaCtALhreG/9lK0CUgEQyaWMrQC4a3pU1YStALhreeUpeK0CKHXImY1wrQIqpoIvvWytAswUwzAJdK0BNn8ljcV8rQE2fyd/SYStAGWyWsiBkK0AZbJYOsGYrQE2fyeH9aCtAgNL8xs5rK0AZbJYQ220rQE2fyeMocCtAswUwQLhyK0CA0vwSBnUrQE2fyeVTdytAswUwQuN5K0CA0vwUMXwrQIDS/P7GfitAGWyWCC+BK0CzBTCgnYMrQE2fyakFhitAswUwtG2IK0BNn8m91YorQE2fycc9jStAgNL8XqyPK0CA0vxoFJIrQIDS/HJ8lCtA5jhj09CWK0AZbJamHpkrQBlslgKumytA5jhj1fudK0AZbJaoSaArQBlslgTZoitA5jhj1yalK0AZbJaqdKcrQLMFMKLIqitA5jhjdRatK0BNn8k14a4rQAAAAAAAAPh/gNL8ZL6zK0BNn8k3DLYrQIDS/ApauCtAgNL8Zum6K0BNn8k5N70rQE2fyZXGvytAAAAAAAAA+H9Nn8k7YsQrQE2fyZfxxitAgNL82HPJK0AZbJbi28srQBlsluxDzitAgNL82p7QK0BNn8lbNNQrQAAAAAAAAPh/TZ/JAdDYK0AAAAAAAAD4f02fyQun3CtAgNL83vTeK0CA0vw6hOErQE2fyQ3S4ytAswUwSo/mK0CzBTB0yegrQOY4Yws46ytA5jhjFaDtK0DmOGMfCPArQIDS/Chw8itAGWyWMtj0K0DmOGOTLPcrQOY4Y52U+StAgNL8pvz7K0CzBTDsQ/4rQOY4Y7+RACxA5jhjGyEDLECzBTDubgUsQIDS/Er+ByxA5jhjHUwKLEBNn8l52wwsQIDS/EwpDyxATZ/JH3cRLEBNn8l7BhQsQIDS/E5UFixAGWyWquMYLEBNn8l9MRssQLMFMNrAHSxAGWyWrA4gLEBNn8l/XCIsQLMFMNzrJCxAGWyWrjknLEDmOGMLySksQLMFMN4WLCxAswUwOqYuLEBNn8lDDjEsQE2fyU12MyxATZ/JV941LEDmOGNhRjgsQOY4Y/m0OixAgNL8Ah09LECA0vwMhT8sQBlslhbtQSxAswUwrltELEBNn8m3w0YsQE2fycErSSxATZ/Jy5NLLEDmOGPV+00sQIDS/GxqUCxAGWyWdtJSLECA0vyAOlUsQBlsloqiVyxATZ/JXfBZLEDmOGNnWFwsQIDS/P7GXixAGWyWljVhLEAZbJYSl2MsQBlslhz/ZSxATZ/Js21oLEBNn8m91WosQOY4Y8c9bSxATZ/JtZhvLECA0vyI5nEsQIDS/OR1dCxATZ/Jt8N2LECA0vyKEXksQOY4Y+egeyxATZ/Jue59LECzBTAWfoAsQOY4Y+nLgixA5jhjRVuFLECzBTAYqYcsQOY4Y+v2iSxA5jhjR4aMLECzBTAa1I4sQLMFMHZjkSxA5jhjSbGTLEBNn8mlQJYsQOY4Y6+omCxA5jhjuRCbLECA0vzCeJ0sQBlsllrnnyxAswUwZE+iLECzBTBut6QsQLMFMHgfpyxATZ/JgYepLEBNn8kZ9qssQOY4YyNerixAswUw9quwLECA0vzI+bIsQOY4YyWJtSxAGWyW+Na3LECA0vzKJLosQOY4Yye0vCxAGWyW+gG/LEDmOGPNT8EsQOY4YynfwyxAGWyW/CzGLEBNn8lzycgsQE2fyX0xyyxA5jhjh5nNLEDmOGMfCNAsQIDS/Chw0ixAgNL8MtjULECA0vw8QNcsQLMFMNSu2SxAswUw3hbcLEBNn8nnft4sQE2fyfHm4CxA5jhj+07jLECA0vySveUsQBlslpwl6CxAGWyWNJTqLECA0vyw9ewsQBlslrpd7yxAswUwxMXxLEBNn8lbNPQsQE2fyWWc9ixA5jhjbwT5LEDmOGN5bPssQBlslhDb/SxAswUwqEkALUAZbJYkqwItQLMFMC4TBS1AswUwlJsILUBNn8nP6QktQBlslrD1DC1A5jhjg0MPLUCA0vwashEtQLMFME52Ey1ATZ/JV94VLUDmOGNhRhgtQOY4Y2uuGi1AgNL8Ah0dLUAZbJYMhR8tQBlslhbtIS1AswUwIFUkLUCzBTC4wyYtQLMFMDQlKS1ATZ/Jy5MrLUDmOGNjAi4tQOY4Y99jMC1A5jhj6csyLUAZbJaAOjUtQBlsloqiNy1AswUwlAo6LUBNn8kreTwtQE2fyafaPi1A5jhjP0lBLUDmOGNJsUMtQOY4Y1MZRi1A5jhjXYFILUCA0vxm6UotQBlslv5XTS1AswUwCMBPLUBNn8mfLlItQE2fyRuQVC1A5jhjs/5WLUCA0vxKbVktQIDS/MbOWy1A5jhj0TZeLUCA0vzanmAtQBlslnINYy1AswUwfHVlLUBMn8kT5GctQEyfyY9Fai1AgNL8YpNsLUAZbJZs+24tQLMFMARqcS1ATJ/Jm9hzLUBMn8kXOnYtQIDS/DyveC1AgNL8uBB7LUCA0vzCeH0tQBlslszgfy1AgNL81kiCLUAZbJbgsIQtQLMFMHgfhy1ATJ/JgYeJLUBMn8mL74stQOY4YyNeji1AgNL8LMaQLUCA0vw2LpMtQBlslkCWlS1AGWyWSv6XLUCzBTBUZpotQLMFMOzUnC1ATJ/J9TyfLUBMn8n/pKEtQEyfyQkNpC1A5jhjE3WmLUCA0vwc3agtQBlslrRLqy1AGWyWvrOtLUCzBTDIG7AtQEyfyV+Ksi1A5jhjafK0LUBMn8lzWrctQEyfyX3CuS1AgNL8FDG8LUBMn8mjFb8tQOY4Y+0hwS1ATZ/J+07DLUDmOGMFt8UtQOY4Yw8fyC1AgNL8po3KLUBNn8kZZc0tQIDS/KwO0C1AswUwxMXRLUBNn8lbNNQtQOY4Y2Wc1i1ATZ/JbwTZLUDmOGN5bNstQOY4Y4PU3S1AgNL8GkPgLUAZbJYkq+ItQLMFMC4T5S1AswUwOHvnLUCzBTBC4+ktQE2fyUtL7C1A5jhj47nuLUCA0vzsIfEtQOY4Y/eJ8y1AgNL8APL1LUAZbJaYYPgtQLMFMKLI+i1AswUwrDD9LUCzBTC2mP8tQOY4Y00HAi5A5jhjV28ELkCA0vxg1wYuQIDS/Go/CS5AGWyWdKcLLkCzBTAMFg4uQLMFMBZ+EC5AswUwIOYSLkCzBTAqThUuQIDS/PybFy5AgNL8BgQaLkCzBTCechwuQLMFMKjaHi5ATZ/JsUIhLkBNn8m7qiMuQOY4Y1MZJi5AgNL8XIEoLkAZbJZm6SouQBlslnBRLS5AGWyWerkvLkCzBTASKDIuQLMFMByQNC5ATZ/JJfg2LkBNn8kvYDkuQOY4Y8fOOy5AgNL80DY+LkAZbJbankAuQBlsluQGQy5AGWyW7m5FLkBNn8mF3UcuQE2fyY9FSi5A5jhjma1MLkBNn8mjFU8uQOY4Y619US5AgNL8ROxTLkAZbJZOVFYuQBlslli8WC5AGWyWYiRbLkBNn8n5kl0uQE2fyQP7Xy5A5jhjDWNiLkDmOGMXy2QuQIDS/CAzZy5AswUw9IBpLkBNn8n96GsuQE2fyZVXbi5AgNL8TJhwLkDmOGOpJ3MuQE2fyXt1dS5AgNL8TsN3LkDmOGOrUnouQLMFMF7OfC5AswUwaDZ/LkBNn8n/pIEuQOY4YwkNhC5AGWyWLoKGLkCA0vwc3YguQIDS/LRLiy5AGWyWvrONLkAabJbIG5AuQLMFMNKDki5AswUw3OuULkBNn8lzWpcuQOY4Y33CmS5AgNL8hiqcLkCA0vyQkp4uQBpsligBoS5AswUwMmmjLkAabJY80aUuQLMFMEY5qC5AswUwUKGqLkBNn8lZCa0uQOY4Y/F3ry5AgNL8iOaxLkCA0vwESLQuQIDS/A6wti5AswUwph65LkCzBTCwhrsuQOY4Y0f1vS5AswUwxFbALkBNn8nNvsIuQLMFMC4TxS5AGmyWOHvHLkCzBTBC48kuQE2fyUtLzC5A5jhj47nOLkDmOGPtIdEuQIDS/PaJ0y5AgNL8APLVLkAabJYKWtguQBpslhTC2i5AswUwrDDdLkBNn8m1mN8uQOY4Y78A4i5ATZ/JyWjkLkBNn8nT0OYuQIDS/Go/6S5AgNL8dKfrLkCzBTAMFu4uQBpsloh38C5AswUwIObyLkBNn8kpTvUuQOY4Y8G89y5AgNL8yiT6LkDmOGNHhvwuQIDS/N70/i5AgNL86FwBL0CzBTCAywMvQBpslvwsBi9AswUwBpUIL0BNn8mdAwsvQOY4Y6drDS9A5jhjsdMPL0DmOGO7OxIvQBpsllKqFC9AGmyWXBIXL0CzBTD0gBkvQBpslnDiGy9AswUwekoeL0CzBTCEsiAvQOY4YxshIy9AGmyW7m4lL0CzBTD41icvQE2fyY9FKi9ATZ/Jma0sL0DmOGOjFS8vQOY4Y619MS9AgNL8tuUzL0CA0vzATTYvQBpslli8OC9AGmyWYiQ7L0CzBTBsjD0vQE2fyQP7Py9AswUwgFxCL0DmOGMXy0QvQOY4YyEzRy9AgNL8KptJL0CA0vw0A0wvQBpslj5rTi9AswUw1tlQL0BNn8nfQVMvQOY4Y3ewVS9AswUw9BFYL0DmOGOLgFovQOY4Y5XoXC9AgNL8nlBfL0CA0vyouGEvQBpslkAnZC9AswUwSo9mL0BNn8lT92gvQOY4Y+tlay9A5jhj9c1tL0CA0vz+NXAvQOY4Ywmeci9AgNL8EgZ1L0CA0vwcbncvQBpslibWeS9A5jhjhyp8L0DmOGORkn4vQIDS/Jr6gC9AGmyWpGKDL0AabJauyoUvQLMFMEY5iC9ATZ/JT6GKL0BNn8lZCY0vQFbJc6sXjy9AvdzTviKPL0A=\",\"dtype\":\"float64\",\"order\":\"little\",\"shape\":[892]},\"tension\":{\"__ndarray__\":\"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\",\"dtype\":\"float64\",\"order\":\"little\",\"shape\":[892]}},\"selected\":{\"id\":\"1341\"},\"selection_policy\":{\"id\":\"1342\"}},\"id\":\"1327\",\"type\":\"ColumnDataSource\"},{\"attributes\":{},\"id\":\"1275\",\"type\":\"UnionRenderers\"},{\"attributes\":{},\"id\":\"1294\",\"type\":\"BasicTicker\"},{\"attributes\":{\"axis\":{\"id\":\"1293\"},\"dimension\":1,\"ticker\":null},\"id\":\"1296\",\"type\":\"Grid\"},{\"attributes\":{},\"id\":\"1301\",\"type\":\"ResetTool\"},{\"attributes\":{\"overlay\":{\"id\":\"1254\"}},\"id\":\"1250\",\"type\":\"BoxZoomTool\"},{\"attributes\":{\"line_alpha\":0.1,\"line_color\":\"blue\",\"x\":{\"field\":\"motorM\"},\"y\":{\"field\":\"fit\"}},\"id\":\"1330\",\"type\":\"Line\"},{\"attributes\":{},\"id\":\"1251\",\"type\":\"SaveTool\"},{\"attributes\":{},\"id\":\"1249\",\"type\":\"WheelZoomTool\"},{\"attributes\":{\"below\":[{\"id\":\"1289\"}],\"center\":[{\"id\":\"1292\"},{\"id\":\"1296\"},{\"id\":\"1325\"}],\"left\":[{\"id\":\"1293\"}],\"plot_height\":300,\"plot_width\":980,\"renderers\":[{\"id\":\"1315\"},{\"id\":\"1331\"}],\"title\":{\"id\":\"1279\"},\"toolbar\":{\"id\":\"1304\"},\"x_range\":{\"id\":\"1281\"},\"x_scale\":{\"id\":\"1285\"},\"y_range\":{\"id\":\"1283\"},\"y_scale\":{\"id\":\"1287\"}},\"id\":\"1278\",\"subtype\":\"Figure\",\"type\":\"Plot\"},{\"attributes\":{},\"id\":\"1281\",\"type\":\"DataRange1d\"},{\"attributes\":{},\"id\":\"1248\",\"type\":\"PanTool\"},{\"attributes\":{\"items\":[{\"id\":\"1277\"}]},\"id\":\"1276\",\"type\":\"Legend\"},{\"attributes\":{\"source\":{\"id\":\"1327\"}},\"id\":\"1332\",\"type\":\"CDSView\"},{\"attributes\":{\"data_source\":{\"id\":\"1327\"},\"glyph\":{\"id\":\"1329\"},\"hover_glyph\":null,\"muted_glyph\":null,\"nonselection_glyph\":{\"id\":\"1330\"},\"selection_glyph\":null,\"view\":{\"id\":\"1332\"}},\"id\":\"1331\",\"type\":\"GlyphRenderer\"},{\"attributes\":{},\"id\":\"1319\",\"type\":\"BasicTickFormatter\"},{\"attributes\":{\"axis\":{\"id\":\"1244\"},\"dimension\":1,\"ticker\":null},\"id\":\"1247\",\"type\":\"Grid\"},{\"attributes\":{\"label\":{\"value\":\"fit\"},\"renderers\":[{\"id\":\"1331\"}]},\"id\":\"1343\",\"type\":\"LegendItem\"},{\"attributes\":{},\"id\":\"1245\",\"type\":\"BasicTicker\"},{\"attributes\":{\"formatter\":{\"id\":\"1321\"},\"ticker\":{\"id\":\"1290\"}},\"id\":\"1289\",\"type\":\"LinearAxis\"},{\"attributes\":{\"line_color\":\"blue\",\"x\":{\"field\":\"motorM\"},\"y\":{\"field\":\"fit\"}},\"id\":\"1329\",\"type\":\"Line\"},{\"attributes\":{},\"id\":\"1321\",\"type\":\"BasicTickFormatter\"},{\"attributes\":{\"data\":{\"fit\":{\"__ndarray__\":\"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\",\"dtype\":\"float64\",\"order\":\"little\",\"shape\":[892]},\"index\":[0,1,2,3,4,5,6,7,8,9,10,11,12,13,14,15,16,17,18,19,20,21,22,23,24,25,26,27,28,29,30,31,32,33,34,35,36,37,38,39,40,41,42,43,44,45,46,47,48,49,50,51,52,53,54,55,56,57,58,59,60,61,62,63,64,65,66,67,68,69,70,71,72,73,74,75,76,77,78,79,80,81,82,83,84,85,86,87,88,89,90,91,92,93,94,95,96,97,98,99,100,101,102,103,104,105,106,107,108,109,110,111,112,113,114,115,116,117,118,119,120,121,122,123,124,125,126,127,128,129,130,131,132,133,134,135,136,137,138,139,140,141,142,143,144,145,146,147,148,149,150,151,152,153,154,155,156,157,158,159,160,161,162,163,164,165,166,167,168,169,170,171,172,173,174,175,176,177,178,179,180,181,182,183,184,185,186,187,188,189,190,191,192,193,194,195,196,197,198,199,200,201,202,203,204,205,206,207,208,209,210,211,212,213,214,215,216,217,218,219,220,221,222,223,224,225,226,227,228,229,230,231,232,233,234,235,236,237,238,239,240,241,242,243,244,245,246,247,248,249,250,251,252,253,254,255,256,257,258,259,260,261,262,263,264,265,266,267,268,269,270,271,272,273,274,275,276,277,278,279,280,281,282,283,284,285,286,287,288,289,290,291,292,293,294,295,296,297,298,299,300,301,302,303,304,305,306,307,308,309,310,311,312,313,314,315,316,317,318,319,320,321,322,323,324,325,326,327,328,329,330,331,332,333,334,335,336,337,338,339,340,341,342,343,344,345,346,347,348,349,350,351,352,353,354,355,356,357,358,359,360,361,362,363,364,365,366,367,368,369,370,371,372,373,374,375,376,377,378,379,380,381,382,383,384,385,386,387,388,389,390,391,392,393,394,395,396,397,398,399,400,401,402,403,404,405,406,407,408,409,410,411,412,413,414,415,416,417,418,419,420,421,422,423,424,425,426,427,428,429,430,431,432,433,434,435,436,437,438,439,440,441,442,443,444,445,446,447,448,449,450,451,452,453,454,455,456,457,458,459,460,461,462,463,464,465,466,467,468,469,470,471,472,473,474,475,476,477,478,479,480,481,482,483,484,485,486,487,488,489,490,491,492,493,494,495,496,497,498,499,500,501,502,503,504,505,506,507,508,509,510,511,512,513,514,515,516,517,518,519,520,521,522,523,524,525,526,527,528,529,530,531,532,533,534,535,536,537,538,539,540,541,542,543,544,545,546,547,548,549,550,551,552,553,554,555,556,557,558,559,560,561,562,563,564,565,566,567,568,569,570,571,572,573,574,575,576,577,578,579,580,581,582,583,584,585,586,587,588,589,590,591,592,593,594,595,596,597,598,599,600,601,602,603,604,605,606,607,608,609,610,611,612,613,614,615,616,617,618,619,620,621,622,623,624,625,626,627,628,629,630,631,632,633,634,635,636,637,638,639,640,641,642,643,644,645,646,647,648,649,650,651,652,653,654,655,656,657,658,659,660,661,662,663,664,665,666,667,668,669,670,671,672,673,674,675,676,677,678,679,680,681,682,683,684,685,686,687,688,689,690,691,692,693,694,695,696,697,698,699,700,701,702,703,704,705,706,707,708,709,710,711,712,713,714,715,716,717,718,719,720,721,722,723,724,725,726,727,728,729,730,731,732,733,734,735,736,737,738,739,740,741,742,743,744,745,746,747,748,749,750,751,752,753,754,755,756,757,758,759,760,761,762,763,764,765,766,767,768,769,770,771,772,773,774,775,776,777,778,779,780,781,782,783,784,785,786,787,788,789,790,791,792,793,794,795,796,797,798,799,800,801,802,803,804,805,806,807,808,809,810,811,812,813,814,815,816,817,818,819,820,821,822,823,824,825,826,827,828,829,830,831,832,833,834,835,836,837,838,839,840,841,842,843,844,845,846,847,848,849,850,851,852,853,854,855,856,857,858,859,860,861,862,863,864,865,866,867,868,869,870,871,872,873,874,875,876,877,878,879,880,881,882,883,884,885,886,887,888,889,890,891],\"motorM\":{\"__ndarray__\":\"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\",\"dtype\":\"float64\",\"order\":\"little\",\"shape\":[892]},\"tension\":{\"__ndarray__\":\"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\",\"dtype\":\"float64\",\"order\":\"little\",\"shape\":[892]}},\"selected\":{\"id\":\"1323\"},\"selection_policy\":{\"id\":\"1324\"}},\"id\":\"1311\",\"type\":\"ColumnDataSource\"},{\"attributes\":{\"text\":\"pl2\"},\"id\":\"1279\",\"type\":\"Title\"},{\"attributes\":{\"axis\":{\"id\":\"1240\"},\"ticker\":null},\"id\":\"1243\",\"type\":\"Grid\"},{\"attributes\":{},\"id\":\"1287\",\"type\":\"LinearScale\"},{\"attributes\":{},\"id\":\"1283\",\"type\":\"DataRange1d\"},{\"attributes\":{\"line_alpha\":0.1,\"line_color\":\"red\",\"x\":{\"field\":\"motorM\"},\"y\":{\"field\":\"error\"}},\"id\":\"1265\",\"type\":\"Line\"},{\"attributes\":{},\"id\":\"1290\",\"type\":\"BasicTicker\"},{\"attributes\":{\"below\":[{\"id\":\"1240\"}],\"center\":[{\"id\":\"1243\"},{\"id\":\"1247\"},{\"id\":\"1276\"}],\"left\":[{\"id\":\"1244\"}],\"plot_height\":300,\"plot_width\":980,\"renderers\":[{\"id\":\"1266\"}],\"title\":{\"id\":\"1230\"},\"toolbar\":{\"id\":\"1255\"},\"x_range\":{\"id\":\"1232\"},\"x_scale\":{\"id\":\"1236\"},\"y_range\":{\"id\":\"1234\"},\"y_scale\":{\"id\":\"1238\"}},\"id\":\"1229\",\"subtype\":\"Figure\",\"type\":\"Plot\"},{\"attributes\":{},\"id\":\"1285\",\"type\":\"LinearScale\"},{\"attributes\":{},\"id\":\"1270\",\"type\":\"BasicTickFormatter\"},{\"attributes\":{\"data\":{\"error\":{\"__ndarray__\":\"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\",\"dtype\":\"float64\",\"order\":\"little\",\"shape\":[892]},\"index\":[0,1,2,3,4,5,6,7,8,9,10,11,12,13,14,15,16,17,18,19,20,21,22,23,24,25,26,27,28,29,30,31,32,33,34,35,36,37,38,39,40,41,42,43,44,45,46,47,48,49,50,51,52,53,54,55,56,57,58,59,60,61,62,63,64,65,66,67,68,69,70,71,72,73,74,75,76,77,78,79,80,81,82,83,84,85,86,87,88,89,90,91,92,93,94,95,96,97,98,99,100,101,102,103,104,105,106,107,108,109,110,111,112,113,114,115,116,117,118,119,120,121,122,123,124,125,126,127,128,129,130,131,132,133,134,135,136,137,138,139,140,141,142,143,144,145,146,147,148,149,150,151,152,153,154,155,156,157,158,159,160,161,162,163,164,165,166,167,168,169,170,171,172,173,174,175,176,177,178,179,180,181,182,183,184,185,186,187,188,189,190,191,192,193,194,195,196,197,198,199,200,201,202,203,204,205,206,207,208,209,210,211,212,213,214,215,216,217,218,219,220,221,222,223,224,225,226,227,228,229,230,231,232,233,234,235,236,237,238,239,240,241,242,243,244,245,246,247,248,249,250,251,252,253,254,255,256,257,258,259,260,261,262,263,264,265,266,267,268,269,270,271,272,273,274,275,276,277,278,279,280,281,282,283,284,285,286,287,288,289,290,291,292,293,294,295,296,297,298,299,300,301,302,303,304,305,306,307,308,309,310,311,312,313,314,315,316,317,318,319,320,321,322,323,324,325,326,327,328,329,330,331,332,333,334,335,336,337,338,339,340,341,342,343,344,345,346,347,348,349,350,351,352,353,354,355,356,357,358,359,360,361,362,363,364,365,366,367,368,369,370,371,372,373,374,375,376,377,378,379,380,381,382,383,384,385,386,387,388,389,390,391,392,393,394,395,396,397,398,399,400,401,402,403,404,405,406,407,408,409,410,411,412,413,414,415,416,417,418,419,420,421,422,423,424,425,426,427,428,429,430,431,432,433,434,435,436,437,438,439,440,441,442,443,444,445,446,447,448,449,450,451,452,453,454,455,456,457,458,459,460,461,462,463,464,465,466,467,468,469,470,471,472,473,474,475,476,477,478,479,480,481,482,483,484,485,486,487,488,489,490,491,492,493,494,495,496,497,498,499,500,501,502,503,504,505,506,507,508,509,510,511,512,513,514,515,516,517,518,519,520,521,522,523,524,525,526,527,528,529,530,531,532,533,534,535,536,537,538,539,540,541,542,543,544,545,546,547,548,549,550,551,552,553,554,555,556,557,558,559,560,561,562,563,564,565,566,567,568,569,570,571,572,573,574,575,576,577,578,579,580,581,582,583,584,585,586,587,588,589,590,591,592,593,594,595,596,597,598,599,600,601,602,603,604,605,606,607,608,609,610,611,612,613,614,615,616,617,618,619,620,621,622,623,624,625,626,627,628,629,630,631,632,633,634,635,636,637,638,639,640,641,642,643,644,645,646,647,648,649,650,651,652,653,654,655,656,657,658,659,660,661,662,663,664,665,666,667,668,669,670,671,672,673,674,675,676,677,678,679,680,681,682,683,684,685,686,687,688,689,690,691,692,693,694,695,696,697,698,699,700,701,702,703,704,705,706,707,708,709,710,711,712,713,714,715,716,717,718,719,720,721,722,723,724,725,726,727,728,729,730,731,732,733,734,735,736,737,738,739,740,741,742,743,744,745,746,747,748,749,750,751,752,753,754,755,756,757,758,759,760,761,762,763,764,765,766,767,768,769,770,771,772,773,774,775,776,777,778,779,780,781,782,783,784,785,786,787,788,789,790,791,792,793,794,795,796,797,798,799,800,801,802,803,804,805,806,807,808,809,810,811,812,813,814,815,816,817,818,819,820,821,822,823,824,825,826,827,828,829,830,831,832,833,834,835,836,837,838,839,840,841,842,843,844,845,846,847,848,849,850,851,852,853,854,855,856,857,858,859,860,861,862,863,864,865,866,867,868,869,870,871,872,873,874,875,876,877,878,879,880,881,882,883,884,885,886,887,888,889,890,891],\"motorM\":{\"__ndarray__\":\"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\",\"dtype\":\"float64\",\"order\":\"little\",\"shape\":[892]}},\"selected\":{\"id\":\"1274\"},\"selection_policy\":{\"id\":\"1275\"}},\"id\":\"1262\",\"type\":\"ColumnDataSource\"},{\"attributes\":{\"active_drag\":\"auto\",\"active_inspect\":\"auto\",\"active_multi\":null,\"active_scroll\":\"auto\",\"active_tap\":\"auto\",\"tools\":[{\"id\":\"1248\"},{\"id\":\"1249\"},{\"id\":\"1250\"},{\"id\":\"1251\"},{\"id\":\"1252\"},{\"id\":\"1253\"}]},\"id\":\"1255\",\"type\":\"Toolbar\"},{\"attributes\":{\"line_alpha\":0.1,\"line_color\":\"red\",\"x\":{\"field\":\"motorM\"},\"y\":{\"field\":\"tension\"}},\"id\":\"1314\",\"type\":\"Line\"},{\"attributes\":{},\"id\":\"1232\",\"type\":\"DataRange1d\"},{\"attributes\":{\"source\":{\"id\":\"1311\"}},\"id\":\"1316\",\"type\":\"CDSView\"},{\"attributes\":{\"data_source\":{\"id\":\"1311\"},\"glyph\":{\"id\":\"1313\"},\"hover_glyph\":null,\"muted_glyph\":null,\"nonselection_glyph\":{\"id\":\"1314\"},\"selection_glyph\":null,\"view\":{\"id\":\"1316\"}},\"id\":\"1315\",\"type\":\"GlyphRenderer\"},{\"attributes\":{},\"id\":\"1272\",\"type\":\"BasicTickFormatter\"},{\"attributes\":{\"text\":\"pl1\"},\"id\":\"1230\",\"type\":\"Title\"},{\"attributes\":{\"label\":{\"value\":\"tension\"},\"renderers\":[{\"id\":\"1315\"}]},\"id\":\"1326\",\"type\":\"LegendItem\"},{\"attributes\":{\"bottom_units\":\"screen\",\"fill_alpha\":0.5,\"fill_color\":\"lightgrey\",\"left_units\":\"screen\",\"level\":\"overlay\",\"line_alpha\":1.0,\"line_color\":\"black\",\"line_dash\":[4,4],\"line_width\":2,\"right_units\":\"screen\",\"top_units\":\"screen\"},\"id\":\"1303\",\"type\":\"BoxAnnotation\"},{\"attributes\":{},\"id\":\"1234\",\"type\":\"DataRange1d\"},{\"attributes\":{},\"id\":\"1253\",\"type\":\"HelpTool\"},{\"attributes\":{\"line_color\":\"red\",\"x\":{\"field\":\"motorM\"},\"y\":{\"field\":\"tension\"}},\"id\":\"1313\",\"type\":\"Line\"},{\"attributes\":{},\"id\":\"1323\",\"type\":\"Selection\"},{\"attributes\":{},\"id\":\"1238\",\"type\":\"LinearScale\"},{\"attributes\":{\"items\":[{\"id\":\"1326\"},{\"id\":\"1343\"}]},\"id\":\"1325\",\"type\":\"Legend\"},{\"attributes\":{\"line_color\":\"red\",\"x\":{\"field\":\"motorM\"},\"y\":{\"field\":\"error\"}},\"id\":\"1264\",\"type\":\"Line\"},{\"attributes\":{},\"id\":\"1241\",\"type\":\"BasicTicker\"},{\"attributes\":{},\"id\":\"1341\",\"type\":\"Selection\"},{\"attributes\":{\"formatter\":{\"id\":\"1272\"},\"ticker\":{\"id\":\"1241\"}},\"id\":\"1240\",\"type\":\"LinearAxis\"},{\"attributes\":{},\"id\":\"1342\",\"type\":\"UnionRenderers\"},{\"attributes\":{\"formatter\":{\"id\":\"1270\"},\"ticker\":{\"id\":\"1245\"}},\"id\":\"1244\",\"type\":\"LinearAxis\"},{\"attributes\":{\"axis\":{\"id\":\"1289\"},\"ticker\":null},\"id\":\"1292\",\"type\":\"Grid\"},{\"attributes\":{},\"id\":\"1236\",\"type\":\"LinearScale\"},{\"attributes\":{\"source\":{\"id\":\"1262\"}},\"id\":\"1267\",\"type\":\"CDSView\"},{\"attributes\":{},\"id\":\"1300\",\"type\":\"SaveTool\"},{\"attributes\":{\"data_source\":{\"id\":\"1262\"},\"glyph\":{\"id\":\"1264\"},\"hover_glyph\":null,\"muted_glyph\":null,\"nonselection_glyph\":{\"id\":\"1265\"},\"selection_glyph\":null,\"view\":{\"id\":\"1267\"}},\"id\":\"1266\",\"type\":\"GlyphRenderer\"},{\"attributes\":{\"active_drag\":\"auto\",\"active_inspect\":\"auto\",\"active_multi\":null,\"active_scroll\":\"auto\",\"active_tap\":\"auto\",\"tools\":[{\"id\":\"1297\"},{\"id\":\"1298\"},{\"id\":\"1299\"},{\"id\":\"1300\"},{\"id\":\"1301\"},{\"id\":\"1302\"}]},\"id\":\"1304\",\"type\":\"Toolbar\"},{\"attributes\":{\"label\":{\"value\":\"error\"},\"renderers\":[{\"id\":\"1266\"}]},\"id\":\"1277\",\"type\":\"LegendItem\"},{\"attributes\":{\"children\":[{\"id\":\"1229\"}]},\"id\":\"1344\",\"type\":\"Row\"},{\"attributes\":{},\"id\":\"1324\",\"type\":\"UnionRenderers\"},{\"attributes\":{\"formatter\":{\"id\":\"1319\"},\"ticker\":{\"id\":\"1294\"}},\"id\":\"1293\",\"type\":\"LinearAxis\"}],\"root_ids\":[\"1346\"]},\"title\":\"Bokeh Application\",\"version\":\"2.2.3\"}};\n",
       "  var render_items = [{\"docid\":\"e22c8178-4442-4a37-9186-99050e05d180\",\"notebook_comms_target\":\"1383\",\"root_ids\":[\"1346\"],\"roots\":{\"1346\":\"c8769846-2fc5-489e-8a3b-8ae44fc4d3b0\"}}];\n",
       "  root.Bokeh.embed.embed_items_notebook(docs_json, render_items);\n",
       "\n",
       "  }\n",
       "  if (root.Bokeh !== undefined) {\n",
       "    embed_document(root);\n",
       "  } else {\n",
       "    var attempts = 0;\n",
       "    var timer = setInterval(function(root) {\n",
       "      if (root.Bokeh !== undefined) {\n",
       "        clearInterval(timer);\n",
       "        embed_document(root);\n",
       "      } else {\n",
       "        attempts++;\n",
       "        if (attempts > 100) {\n",
       "          clearInterval(timer);\n",
       "          console.log(\"Bokeh: ERROR: Unable to run BokehJS code because BokehJS library is missing\");\n",
       "        }\n",
       "      }\n",
       "    }, 10, root)\n",
       "  }\n",
       "})(window);"
      ],
      "application/vnd.bokehjs_exec.v0+json": ""
     },
     "metadata": {
      "application/vnd.bokehjs_exec.v0+json": {
       "id": "1346"
      }
     },
     "output_type": "display_data"
    },
    {
     "name": "stdout",
     "output_type": "stream",
     "text": [
      "data saved\n"
     ]
    }
   ],
   "source": [
    "x0=pl.SetH_avto() # измерение высоты молибдена"
   ]
  },
  {
   "cell_type": "code",
   "execution_count": 5,
   "metadata": {},
   "outputs": [
    {
     "name": "stdout",
     "output_type": "stream",
     "text": [
      "49.976898587064774    -0.02310141293522605    5.338310285841051e-05\n",
      "SetW finish value= 49.954012373386554\n"
     ]
    }
   ],
   "source": [
    "pl.SetW(50, dw=0.1, tau=2,quiet=False); # натяжка волокна"
   ]
  },
  {
   "cell_type": "code",
   "execution_count": 13,
   "metadata": {},
   "outputs": [],
   "source": [
    "pl.ms.motorM.MoveTo(pl.ms.motorM.position_max-2); # опускание молибдена вниз перед разогревом"
   ]
  },
  {
   "cell_type": "code",
   "execution_count": 14,
   "metadata": {},
   "outputs": [
    {
     "data": {
      "text/plain": [
       "67.93195673056367"
      ]
     },
     "execution_count": 14,
     "metadata": {},
     "output_type": "execute_result"
    }
   ],
   "source": [
    "pl.tg.SetZeroWeight(5,50) # калибровка тензодатчика после разогрева молибдена"
   ]
  },
  {
   "cell_type": "code",
   "execution_count": 3,
   "metadata": {
    "pycharm": {
     "name": "#%%\n"
    }
   },
   "outputs": [],
   "source": [
    "x0=11.6\n",
    "pl.ms.x0=x0"
   ]
  },
  {
   "cell_type": "code",
   "execution_count": 8,
   "metadata": {},
   "outputs": [],
   "source": [
    "while pl.ms.IsInMotion():\n",
    "    pass\n",
    "dp=PlotDisplayer()\n",
    "dp.CreateMaket(mainParam='time',power=pl.data[['time','power']],\n",
    "                    tension=pl.data[['time','tension','tensionWgl', 'tensionEXPgl']],\n",
    "                  # motors=pl.data[['time','motorR','motorL','motorM']]\n",
    "                  # v_and_a=pl.data[['time','vL','vR','aL','aR']]\n",
    "              )\n",
    "sl=Slider()\n",
    "sl.NewSl('v',min=0.1,max=9,value=3,step=0.1)\n",
    "sl.NewSl('a',min=0.1,max=9,value=7,step=0.1)\n",
    "sl.NewSl('dvKof', max=3,value=0,step=0.01)\n",
    "sl.NewSl('dv', max=0.5,value=0.001,step=0.0001)\n",
    "sl.NewSl('window',min=50, max=10000,value=100, step=50)\n",
    "sl.NewSl('molibdenH',min=-1.6, max=2.6,value=2.6,step=0.01)\n",
    "sl.NewSl('T',min=10000, max=200000,value=1700,step=10)\n",
    "sl.NewBtn('molibden','up molibden','doun molibden')\n",
    "sl.NewBtn('end','end','end2','end3','vse','bolshe ne jmi','nu pravda ne nado', 'samiy umniy da?')\n",
    "sl.NewBtn('start dv','start dv','stop dv')\n",
    "sl.NewBtn('start stabili','start st','stop st')\n",
    "sl.NewTt('x')\n",
    "sl.NewTt('L')\n",
    "sl.NewTt('R')\n",
    "sl.NewTt('dv')"
   ]
  },
  {
   "cell_type": "code",
   "execution_count": 9,
   "metadata": {
    "scrolled": true
   },
   "outputs": [
    {
     "data": {
      "text/html": [
       "\n",
       "\n",
       "\n",
       "\n",
       "\n",
       "\n",
       "  <div class=\"bk-root\" id=\"96e02cd7-8dad-4e5d-8ea1-f900091a8f04\" data-root-id=\"47843\"></div>\n"
      ]
     },
     "metadata": {},
     "output_type": "display_data"
    },
    {
     "data": {
      "application/javascript": [
       "(function(root) {\n",
       "  function embed_document(root) {\n",
       "    \n",
       "  var docs_json = {\"23d05078-2e61-4cbf-a133-1d342a902608\":{\"roots\":{\"references\":[{\"attributes\":{\"children\":[{\"id\":\"47841\"},{\"id\":\"47842\"}]},\"id\":\"47843\",\"type\":\"Column\"},{\"attributes\":{},\"id\":\"47768\",\"type\":\"BasicTicker\"},{\"attributes\":{},\"id\":\"47749\",\"type\":\"BasicTickFormatter\"},{\"attributes\":{\"axis\":{\"id\":\"47771\"},\"dimension\":1,\"ticker\":null},\"id\":\"47774\",\"type\":\"Grid\"},{\"attributes\":{\"data\":{\"index\":[0],\"power\":{\"__ndarray__\":\"2/l+arx0oz8=\",\"dtype\":\"float64\",\"order\":\"little\",\"shape\":[1]},\"time\":{\"__ndarray__\":\"pwDc6hLn10E=\",\"dtype\":\"float64\",\"order\":\"little\",\"shape\":[1]}},\"selected\":{\"id\":\"47751\"},\"selection_policy\":{\"id\":\"47752\"}},\"id\":\"47740\",\"type\":\"ColumnDataSource\"},{\"attributes\":{},\"id\":\"47775\",\"type\":\"PanTool\"},{\"attributes\":{\"items\":[{\"id\":\"47804\"},{\"id\":\"47821\"},{\"id\":\"47840\"}]},\"id\":\"47803\",\"type\":\"Legend\"},{\"attributes\":{\"formatter\":{\"id\":\"47798\"},\"ticker\":{\"id\":\"47772\"}},\"id\":\"47771\",\"type\":\"LinearAxis\"},{\"attributes\":{},\"id\":\"47780\",\"type\":\"HelpTool\"},{\"attributes\":{},\"id\":\"47765\",\"type\":\"LinearScale\"},{\"attributes\":{\"below\":[{\"id\":\"47718\"}],\"center\":[{\"id\":\"47721\"},{\"id\":\"47725\"},{\"id\":\"47754\"}],\"left\":[{\"id\":\"47722\"}],\"plot_height\":300,\"plot_width\":980,\"renderers\":[{\"id\":\"47744\"}],\"title\":{\"id\":\"47708\"},\"toolbar\":{\"id\":\"47733\"},\"x_range\":{\"id\":\"47710\"},\"x_scale\":{\"id\":\"47714\"},\"y_range\":{\"id\":\"47712\"},\"y_scale\":{\"id\":\"47716\"}},\"id\":\"47707\",\"subtype\":\"Figure\",\"type\":\"Plot\"},{\"attributes\":{},\"id\":\"47761\",\"type\":\"DataRange1d\"},{\"attributes\":{},\"id\":\"47763\",\"type\":\"LinearScale\"},{\"attributes\":{},\"id\":\"47778\",\"type\":\"SaveTool\"},{\"attributes\":{},\"id\":\"47798\",\"type\":\"BasicTickFormatter\"},{\"attributes\":{},\"id\":\"47759\",\"type\":\"DataRange1d\"},{\"attributes\":{},\"id\":\"47776\",\"type\":\"WheelZoomTool\"},{\"attributes\":{},\"id\":\"47772\",\"type\":\"BasicTicker\"},{\"attributes\":{\"formatter\":{\"id\":\"47796\"},\"ticker\":{\"id\":\"47768\"}},\"id\":\"47767\",\"type\":\"LinearAxis\"},{\"attributes\":{},\"id\":\"47779\",\"type\":\"ResetTool\"},{\"attributes\":{\"axis\":{\"id\":\"47767\"},\"ticker\":null},\"id\":\"47770\",\"type\":\"Grid\"},{\"attributes\":{},\"id\":\"47752\",\"type\":\"UnionRenderers\"},{\"attributes\":{\"overlay\":{\"id\":\"47781\"}},\"id\":\"47777\",\"type\":\"BoxZoomTool\"},{\"attributes\":{\"text\":\"tension\"},\"id\":\"47757\",\"type\":\"Title\"},{\"attributes\":{},\"id\":\"47751\",\"type\":\"Selection\"},{\"attributes\":{\"data_source\":{\"id\":\"47822\"},\"glyph\":{\"id\":\"47824\"},\"hover_glyph\":null,\"muted_glyph\":null,\"nonselection_glyph\":{\"id\":\"47825\"},\"selection_glyph\":null,\"view\":{\"id\":\"47827\"}},\"id\":\"47826\",\"type\":\"GlyphRenderer\"},{\"attributes\":{\"label\":{\"value\":\"power\"},\"renderers\":[{\"id\":\"47744\"}]},\"id\":\"47755\",\"type\":\"LegendItem\"},{\"attributes\":{\"line_color\":\"red\",\"x\":{\"field\":\"time\"},\"y\":{\"field\":\"power\"}},\"id\":\"47742\",\"type\":\"Line\"},{\"attributes\":{},\"id\":\"47719\",\"type\":\"BasicTicker\"},{\"attributes\":{},\"id\":\"47838\",\"type\":\"UnionRenderers\"},{\"attributes\":{\"children\":[{\"id\":\"47756\"}]},\"id\":\"47842\",\"type\":\"Row\"},{\"attributes\":{},\"id\":\"47716\",\"type\":\"LinearScale\"},{\"attributes\":{\"items\":[{\"id\":\"47755\"}]},\"id\":\"47754\",\"type\":\"Legend\"},{\"attributes\":{\"label\":{\"value\":\"tension\"},\"renderers\":[{\"id\":\"47793\"}]},\"id\":\"47804\",\"type\":\"LegendItem\"},{\"attributes\":{\"data\":{\"index\":[0],\"tension\":{\"__ndarray__\":\"fJXkdHSm00A=\",\"dtype\":\"float64\",\"order\":\"little\",\"shape\":[1]},\"tensionEXPgl\":{\"__ndarray__\":\"AAAAAAAA+H8=\",\"dtype\":\"float64\",\"order\":\"little\",\"shape\":[1]},\"tensionWgl\":{\"__ndarray__\":\"AAAAAAAA+H8=\",\"dtype\":\"float64\",\"order\":\"little\",\"shape\":[1]},\"time\":{\"__ndarray__\":\"pwDc6hLn10E=\",\"dtype\":\"float64\",\"order\":\"little\",\"shape\":[1]}},\"selected\":{\"id\":\"47818\"},\"selection_policy\":{\"id\":\"47819\"}},\"id\":\"47805\",\"type\":\"ColumnDataSource\"},{\"attributes\":{},\"id\":\"47731\",\"type\":\"HelpTool\"},{\"attributes\":{\"bottom_units\":\"screen\",\"fill_alpha\":0.5,\"fill_color\":\"lightgrey\",\"left_units\":\"screen\",\"level\":\"overlay\",\"line_alpha\":1.0,\"line_color\":\"black\",\"line_dash\":[4,4],\"line_width\":2,\"right_units\":\"screen\",\"top_units\":\"screen\"},\"id\":\"47781\",\"type\":\"BoxAnnotation\"},{\"attributes\":{\"line_alpha\":0.1,\"line_color\":\"blue\",\"x\":{\"field\":\"time\"},\"y\":{\"field\":\"tensionWgl\"}},\"id\":\"47808\",\"type\":\"Line\"},{\"attributes\":{},\"id\":\"47712\",\"type\":\"DataRange1d\"},{\"attributes\":{\"active_drag\":\"auto\",\"active_inspect\":\"auto\",\"active_multi\":null,\"active_scroll\":\"auto\",\"active_tap\":\"auto\",\"tools\":[{\"id\":\"47775\"},{\"id\":\"47776\"},{\"id\":\"47777\"},{\"id\":\"47778\"},{\"id\":\"47779\"},{\"id\":\"47780\"}]},\"id\":\"47782\",\"type\":\"Toolbar\"},{\"attributes\":{\"below\":[{\"id\":\"47767\"}],\"center\":[{\"id\":\"47770\"},{\"id\":\"47774\"},{\"id\":\"47803\"}],\"left\":[{\"id\":\"47771\"}],\"plot_height\":300,\"plot_width\":980,\"renderers\":[{\"id\":\"47793\"},{\"id\":\"47809\"},{\"id\":\"47826\"}],\"title\":{\"id\":\"47757\"},\"toolbar\":{\"id\":\"47782\"},\"x_range\":{\"id\":\"47759\"},\"x_scale\":{\"id\":\"47763\"},\"y_range\":{\"id\":\"47761\"},\"y_scale\":{\"id\":\"47765\"}},\"id\":\"47756\",\"subtype\":\"Figure\",\"type\":\"Plot\"},{\"attributes\":{},\"id\":\"47710\",\"type\":\"DataRange1d\"},{\"attributes\":{\"children\":[{\"id\":\"47707\"}]},\"id\":\"47841\",\"type\":\"Row\"},{\"attributes\":{},\"id\":\"47730\",\"type\":\"ResetTool\"},{\"attributes\":{},\"id\":\"47837\",\"type\":\"Selection\"},{\"attributes\":{},\"id\":\"47796\",\"type\":\"BasicTickFormatter\"},{\"attributes\":{\"line_alpha\":0.1,\"line_color\":\"red\",\"x\":{\"field\":\"time\"},\"y\":{\"field\":\"tension\"}},\"id\":\"47792\",\"type\":\"Line\"},{\"attributes\":{\"label\":{\"value\":\"tensionWgl\"},\"renderers\":[{\"id\":\"47809\"}]},\"id\":\"47821\",\"type\":\"LegendItem\"},{\"attributes\":{\"data_source\":{\"id\":\"47740\"},\"glyph\":{\"id\":\"47742\"},\"hover_glyph\":null,\"muted_glyph\":null,\"nonselection_glyph\":{\"id\":\"47743\"},\"selection_glyph\":null,\"view\":{\"id\":\"47745\"}},\"id\":\"47744\",\"type\":\"GlyphRenderer\"},{\"attributes\":{\"overlay\":{\"id\":\"47732\"}},\"id\":\"47728\",\"type\":\"BoxZoomTool\"},{\"attributes\":{},\"id\":\"47727\",\"type\":\"WheelZoomTool\"},{\"attributes\":{},\"id\":\"47819\",\"type\":\"UnionRenderers\"},{\"attributes\":{\"line_alpha\":0.1,\"line_color\":\"red\",\"x\":{\"field\":\"time\"},\"y\":{\"field\":\"power\"}},\"id\":\"47743\",\"type\":\"Line\"},{\"attributes\":{},\"id\":\"47818\",\"type\":\"Selection\"},{\"attributes\":{\"active_drag\":\"auto\",\"active_inspect\":\"auto\",\"active_multi\":null,\"active_scroll\":\"auto\",\"active_tap\":\"auto\",\"tools\":[{\"id\":\"47726\"},{\"id\":\"47727\"},{\"id\":\"47728\"},{\"id\":\"47729\"},{\"id\":\"47730\"},{\"id\":\"47731\"}]},\"id\":\"47733\",\"type\":\"Toolbar\"},{\"attributes\":{\"data_source\":{\"id\":\"47789\"},\"glyph\":{\"id\":\"47791\"},\"hover_glyph\":null,\"muted_glyph\":null,\"nonselection_glyph\":{\"id\":\"47792\"},\"selection_glyph\":null,\"view\":{\"id\":\"47794\"}},\"id\":\"47793\",\"type\":\"GlyphRenderer\"},{\"attributes\":{\"line_color\":\"blue\",\"x\":{\"field\":\"time\"},\"y\":{\"field\":\"tensionWgl\"}},\"id\":\"47807\",\"type\":\"Line\"},{\"attributes\":{\"data\":{\"index\":[0],\"tension\":{\"__ndarray__\":\"fJXkdHSm00A=\",\"dtype\":\"float64\",\"order\":\"little\",\"shape\":[1]},\"tensionEXPgl\":{\"__ndarray__\":\"AAAAAAAA+H8=\",\"dtype\":\"float64\",\"order\":\"little\",\"shape\":[1]},\"tensionWgl\":{\"__ndarray__\":\"AAAAAAAA+H8=\",\"dtype\":\"float64\",\"order\":\"little\",\"shape\":[1]},\"time\":{\"__ndarray__\":\"pwDc6hLn10E=\",\"dtype\":\"float64\",\"order\":\"little\",\"shape\":[1]}},\"selected\":{\"id\":\"47837\"},\"selection_policy\":{\"id\":\"47838\"}},\"id\":\"47822\",\"type\":\"ColumnDataSource\"},{\"attributes\":{},\"id\":\"47714\",\"type\":\"LinearScale\"},{\"attributes\":{\"formatter\":{\"id\":\"47747\"},\"ticker\":{\"id\":\"47719\"}},\"id\":\"47718\",\"type\":\"LinearAxis\"},{\"attributes\":{\"source\":{\"id\":\"47789\"}},\"id\":\"47794\",\"type\":\"CDSView\"},{\"attributes\":{\"source\":{\"id\":\"47740\"}},\"id\":\"47745\",\"type\":\"CDSView\"},{\"attributes\":{\"line_color\":\"red\",\"x\":{\"field\":\"time\"},\"y\":{\"field\":\"tension\"}},\"id\":\"47791\",\"type\":\"Line\"},{\"attributes\":{\"data_source\":{\"id\":\"47805\"},\"glyph\":{\"id\":\"47807\"},\"hover_glyph\":null,\"muted_glyph\":null,\"nonselection_glyph\":{\"id\":\"47808\"},\"selection_glyph\":null,\"view\":{\"id\":\"47810\"}},\"id\":\"47809\",\"type\":\"GlyphRenderer\"},{\"attributes\":{\"text\":\"power\"},\"id\":\"47708\",\"type\":\"Title\"},{\"attributes\":{\"data\":{\"index\":[0],\"tension\":{\"__ndarray__\":\"fJXkdHSm00A=\",\"dtype\":\"float64\",\"order\":\"little\",\"shape\":[1]},\"tensionEXPgl\":{\"__ndarray__\":\"AAAAAAAA+H8=\",\"dtype\":\"float64\",\"order\":\"little\",\"shape\":[1]},\"tensionWgl\":{\"__ndarray__\":\"AAAAAAAA+H8=\",\"dtype\":\"float64\",\"order\":\"little\",\"shape\":[1]},\"time\":{\"__ndarray__\":\"pwDc6hLn10E=\",\"dtype\":\"float64\",\"order\":\"little\",\"shape\":[1]}},\"selected\":{\"id\":\"47800\"},\"selection_policy\":{\"id\":\"47801\"}},\"id\":\"47789\",\"type\":\"ColumnDataSource\"},{\"attributes\":{\"source\":{\"id\":\"47822\"}},\"id\":\"47827\",\"type\":\"CDSView\"},{\"attributes\":{},\"id\":\"47800\",\"type\":\"Selection\"},{\"attributes\":{\"formatter\":{\"id\":\"47749\"},\"ticker\":{\"id\":\"47723\"}},\"id\":\"47722\",\"type\":\"LinearAxis\"},{\"attributes\":{},\"id\":\"47747\",\"type\":\"BasicTickFormatter\"},{\"attributes\":{\"label\":{\"value\":\"tensionEXPgl\"},\"renderers\":[{\"id\":\"47826\"}]},\"id\":\"47840\",\"type\":\"LegendItem\"},{\"attributes\":{\"line_color\":\"green\",\"x\":{\"field\":\"time\"},\"y\":{\"field\":\"tensionEXPgl\"}},\"id\":\"47824\",\"type\":\"Line\"},{\"attributes\":{\"bottom_units\":\"screen\",\"fill_alpha\":0.5,\"fill_color\":\"lightgrey\",\"left_units\":\"screen\",\"level\":\"overlay\",\"line_alpha\":1.0,\"line_color\":\"black\",\"line_dash\":[4,4],\"line_width\":2,\"right_units\":\"screen\",\"top_units\":\"screen\"},\"id\":\"47732\",\"type\":\"BoxAnnotation\"},{\"attributes\":{},\"id\":\"47801\",\"type\":\"UnionRenderers\"},{\"attributes\":{\"axis\":{\"id\":\"47718\"},\"ticker\":null},\"id\":\"47721\",\"type\":\"Grid\"},{\"attributes\":{\"axis\":{\"id\":\"47722\"},\"dimension\":1,\"ticker\":null},\"id\":\"47725\",\"type\":\"Grid\"},{\"attributes\":{\"line_alpha\":0.1,\"line_color\":\"green\",\"x\":{\"field\":\"time\"},\"y\":{\"field\":\"tensionEXPgl\"}},\"id\":\"47825\",\"type\":\"Line\"},{\"attributes\":{},\"id\":\"47723\",\"type\":\"BasicTicker\"},{\"attributes\":{\"source\":{\"id\":\"47805\"}},\"id\":\"47810\",\"type\":\"CDSView\"},{\"attributes\":{},\"id\":\"47726\",\"type\":\"PanTool\"},{\"attributes\":{},\"id\":\"47729\",\"type\":\"SaveTool\"}],\"root_ids\":[\"47843\"]},\"title\":\"Bokeh Application\",\"version\":\"2.2.3\"}};\n",
       "  var render_items = [{\"docid\":\"23d05078-2e61-4cbf-a133-1d342a902608\",\"notebook_comms_target\":\"47904\",\"root_ids\":[\"47843\"],\"roots\":{\"47843\":\"96e02cd7-8dad-4e5d-8ea1-f900091a8f04\"}}];\n",
       "  root.Bokeh.embed.embed_items_notebook(docs_json, render_items);\n",
       "\n",
       "  }\n",
       "  if (root.Bokeh !== undefined) {\n",
       "    embed_document(root);\n",
       "  } else {\n",
       "    var attempts = 0;\n",
       "    var timer = setInterval(function(root) {\n",
       "      if (root.Bokeh !== undefined) {\n",
       "        clearInterval(timer);\n",
       "        embed_document(root);\n",
       "      } else {\n",
       "        attempts++;\n",
       "        if (attempts > 100) {\n",
       "          clearInterval(timer);\n",
       "          console.log(\"Bokeh: ERROR: Unable to run BokehJS code because BokehJS library is missing\");\n",
       "        }\n",
       "      }\n",
       "    }, 10, root)\n",
       "  }\n",
       "})(window);"
      ],
      "application/vnd.bokehjs_exec.v0+json": ""
     },
     "metadata": {
      "application/vnd.bokehjs_exec.v0+json": {
       "id": "47843"
      }
     },
     "output_type": "display_data"
    },
    {
     "data": {
      "application/vnd.jupyter.widget-view+json": {
       "model_id": "2bc215a8bf864c8d98449081a46ff712",
       "version_major": 2,
       "version_minor": 0
      },
      "text/plain": [
       "VBox(children=(Box(children=(Output(layout=Layout(border='1px solid black', grid_area='widget001')), Output(la…"
      ]
     },
     "metadata": {},
     "output_type": "display_data"
    },
    {
     "name": "stdout",
     "output_type": "stream",
     "text": [
      "xMax= 38.44613234964727 L_x(xMax)= 14.700000000000001   x= 38.186575678600406   L= 15.242577228391255 xEnd= 40.51709108229473 lEnd= 14.700000000000001\n",
      "error in  motor R  -  position is bad x= 125.88309475609472 max position= 99\n",
      "error in  motor R  -  position is bad x= 132.54178033626803 max position= 99\n",
      "error in  motor R  -  position is bad x= 132.54178033626803 max position= 99\n",
      "error in  motor R  -  position is bad x= 132.54178033626803 max position= 99\n",
      "error in  motor R  -  position is bad x= 132.54178033626803 max position= 99\n",
      "error in  motor R  -  position is bad x= 132.54178033626803 max position= 99\n",
      "error in  motor R  -  position is bad x= 132.54178033626803 max position= 99\n",
      "error in  motor R  -  position is bad x= 132.54178033626803 max position= 99\n",
      "error in  motor R  -  position is bad x= 132.54178033626803 max position= 99\n",
      "error in  motor R  -  position is bad x= 132.54178033626803 max position= 99\n",
      "error in  motor R  -  position is bad x= 132.54178033626803 max position= 99\n",
      "error in  motor R  -  position is bad x= 132.54178033626803 max position= 99\n",
      "error in  motor R  -  position is bad x= 132.54178033626803 max position= 99\n",
      "error in  motor R  -  position is bad x= 132.54178033626803 max position= 99\n",
      "error in  motor R  -  position is bad x= 132.54178033626803 max position= 99\n",
      "error in  motor R  -  position is bad x= 132.54178033626803 max position= 99\n",
      "error in  motor R  -  position is bad x= 132.54178033626803 max position= 99\n",
      "error in  motor R  -  position is bad x= 132.54178033626803 max position= 99\n",
      "error in  motor R  -  position is bad x= 132.54178033626803 max position= 99\n",
      "error in  motor R  -  position is bad x= 132.54178033626803 max position= 99\n",
      "error in  motor R  -  position is bad x= 132.54178033626803 max position= 99\n",
      "error in  motor R  -  position is bad x= 132.54178033626803 max position= 99\n",
      "error in  motor R  -  position is bad x= 132.54178033626803 max position= 99\n",
      "error in  motor R  -  position is bad x= 132.54178033626803 max position= 99\n",
      "error in  motor R  -  position is bad x= 132.54178033626803 max position= 99\n",
      "error in  motor R  -  position is bad x= 132.54178033626803 max position= 99\n",
      "error in  motor R  -  position is bad x= 132.54178033626803 max position= 99\n",
      "error in  motor R  -  position is bad x= 132.54178033626803 max position= 99\n",
      "error in  motor R  -  position is bad x= 132.54178033626803 max position= 99\n",
      "error in  motor R  -  position is bad x= 132.54178033626803 max position= 99\n",
      "error in  motor R  -  position is bad x= 132.54178033626803 max position= 99\n",
      "error in  motor R  -  position is bad x= 132.54178033626803 max position= 99\n",
      "error in  motor R  -  position is bad x= 132.54178033626803 max position= 99\n",
      "error in  motor R  -  position is bad x= 132.54178033626803 max position= 99\n",
      "error in  motor R  -  position is bad x= 132.54178033626803 max position= 99\n",
      "error in  motor R  -  position is bad x= 132.54178033626803 max position= 99\n",
      "error in  motor R  -  position is bad x= 132.54178033626803 max position= 99\n",
      "error in  motor R  -  position is bad x= 132.54178033626803 max position= 99\n",
      "error in  motor R  -  position is bad x= 132.54178033626803 max position= 99\n"
     ]
    },
    {
     "ename": "KeyboardInterrupt",
     "evalue": "",
     "output_type": "error",
     "traceback": [
      "\u001B[0;31m---------------------------------------------------------------------------\u001B[0m",
      "\u001B[0;31mKeyboardInterrupt\u001B[0m                         Traceback (most recent call last)",
      "\u001B[0;32m<ipython-input-9-60f6ceecc3a8>\u001B[0m in \u001B[0;36m<module>\u001B[0;34m\u001B[0m\n\u001B[1;32m     37\u001B[0m     \u001B[0;32mwhile\u001B[0m \u001B[0msl\u001B[0m\u001B[0;34m.\u001B[0m\u001B[0mBtnFl\u001B[0m\u001B[0;34m[\u001B[0m\u001B[0;34m'end'\u001B[0m\u001B[0;34m]\u001B[0m\u001B[0;34m<\u001B[0m\u001B[0;36m3\u001B[0m\u001B[0;34m:\u001B[0m\u001B[0;34m\u001B[0m\u001B[0;34m\u001B[0m\u001B[0m\n\u001B[1;32m     38\u001B[0m         \u001B[0mpoll\u001B[0m\u001B[0;34m(\u001B[0m\u001B[0;36m10\u001B[0m\u001B[0;34m)\u001B[0m\u001B[0;34m\u001B[0m\u001B[0;34m\u001B[0m\u001B[0m\n\u001B[0;32m---> 39\u001B[0;31m         \u001B[0mpl\u001B[0m\u001B[0;34m.\u001B[0m\u001B[0mSetW\u001B[0m\u001B[0;34m(\u001B[0m\u001B[0;36m2\u001B[0m\u001B[0;34m,\u001B[0m\u001B[0mdw\u001B[0m\u001B[0;34m=\u001B[0m\u001B[0;36m1\u001B[0m\u001B[0;34m,\u001B[0m\u001B[0mtau\u001B[0m\u001B[0;34m=\u001B[0m\u001B[0;36m0.5\u001B[0m\u001B[0;34m)\u001B[0m\u001B[0;34m\u001B[0m\u001B[0;34m\u001B[0m\u001B[0m\n\u001B[0m\u001B[1;32m     40\u001B[0m \u001B[0mprint\u001B[0m\u001B[0;34m(\u001B[0m\u001B[0;34m'vse'\u001B[0m\u001B[0;34m)\u001B[0m\u001B[0;34m\u001B[0m\u001B[0;34m\u001B[0m\u001B[0m\n",
      "\u001B[0;32m~/PycharmProjects/table_control/mylib/korbash_lib.py\u001B[0m in \u001B[0;36mSetW\u001B[0;34m(self, wide, dw, k, tau, quiet)\u001B[0m\n\u001B[1;32m    898\u001B[0m         \u001B[0mw\u001B[0m \u001B[0;34m=\u001B[0m \u001B[0;34m-\u001B[0m\u001B[0;36m100\u001B[0m\u001B[0;34m\u001B[0m\u001B[0;34m\u001B[0m\u001B[0m\n\u001B[1;32m    899\u001B[0m         \u001B[0;32mwhile\u001B[0m \u001B[0mabs\u001B[0m\u001B[0;34m(\u001B[0m\u001B[0mwide\u001B[0m \u001B[0;34m-\u001B[0m \u001B[0mw\u001B[0m\u001B[0;34m)\u001B[0m \u001B[0;34m>\u001B[0m \u001B[0mdw\u001B[0m\u001B[0;34m:\u001B[0m\u001B[0;34m\u001B[0m\u001B[0;34m\u001B[0m\u001B[0m\n\u001B[0;32m--> 900\u001B[0;31m             \u001B[0mw\u001B[0m \u001B[0;34m=\u001B[0m \u001B[0mself\u001B[0m\u001B[0;34m.\u001B[0m\u001B[0mtg\u001B[0m\u001B[0;34m.\u001B[0m\u001B[0mReadValue\u001B[0m\u001B[0;34m(\u001B[0m\u001B[0mtau\u001B[0m\u001B[0;34m=\u001B[0m\u001B[0mtau\u001B[0m\u001B[0;34m)\u001B[0m\u001B[0;34m\u001B[0m\u001B[0;34m\u001B[0m\u001B[0m\n\u001B[0m\u001B[1;32m    901\u001B[0m             \u001B[0mdx\u001B[0m \u001B[0;34m=\u001B[0m \u001B[0;34m(\u001B[0m\u001B[0mwide\u001B[0m \u001B[0;34m-\u001B[0m \u001B[0mw\u001B[0m\u001B[0;34m)\u001B[0m \u001B[0;34m/\u001B[0m \u001B[0mk\u001B[0m\u001B[0;34m\u001B[0m\u001B[0;34m\u001B[0m\u001B[0m\n\u001B[1;32m    902\u001B[0m             \u001B[0;32mif\u001B[0m \u001B[0;32mnot\u001B[0m \u001B[0mquiet\u001B[0m\u001B[0;34m:\u001B[0m \u001B[0mprint\u001B[0m\u001B[0;34m(\u001B[0m\u001B[0mw\u001B[0m\u001B[0;34m,\u001B[0m \u001B[0;34m'  '\u001B[0m\u001B[0;34m,\u001B[0m \u001B[0mw\u001B[0m \u001B[0;34m-\u001B[0m \u001B[0mwide\u001B[0m\u001B[0;34m,\u001B[0m \u001B[0;34m'  '\u001B[0m\u001B[0;34m,\u001B[0m \u001B[0mdx\u001B[0m\u001B[0;34m)\u001B[0m\u001B[0;34m\u001B[0m\u001B[0;34m\u001B[0m\u001B[0m\n",
      "\u001B[0;32m~/PycharmProjects/table_control/mylib/korbash_lib.py\u001B[0m in \u001B[0;36mReadValue\u001B[0;34m(self, memory, tau, lastTau, inExsist)\u001B[0m\n\u001B[1;32m    142\u001B[0m         \u001B[0mi\u001B[0m \u001B[0;34m=\u001B[0m \u001B[0;36m0\u001B[0m\u001B[0;34m\u001B[0m\u001B[0;34m\u001B[0m\u001B[0m\n\u001B[1;32m    143\u001B[0m         \u001B[0;32mwhile\u001B[0m \u001B[0mt\u001B[0m \u001B[0;34m<=\u001B[0m \u001B[0mtau\u001B[0m\u001B[0;34m:\u001B[0m\u001B[0;34m\u001B[0m\u001B[0;34m\u001B[0m\u001B[0m\n\u001B[0;32m--> 144\u001B[0;31m             \u001B[0mx\u001B[0m \u001B[0;34m=\u001B[0m \u001B[0mself\u001B[0m\u001B[0;34m.\u001B[0m\u001B[0mpr\u001B[0m\u001B[0;34m.\u001B[0m\u001B[0mread\u001B[0m\u001B[0;34m(\u001B[0m\u001B[0;34m)\u001B[0m\u001B[0;34m\u001B[0m\u001B[0;34m\u001B[0m\u001B[0m\n\u001B[0m\u001B[1;32m    145\u001B[0m             \u001B[0;32mif\u001B[0m \u001B[0mx\u001B[0m \u001B[0;34m==\u001B[0m \u001B[0;34m'problem'\u001B[0m\u001B[0;34m:\u001B[0m\u001B[0;34m\u001B[0m\u001B[0;34m\u001B[0m\u001B[0m\n\u001B[1;32m    146\u001B[0m                 \u001B[0;32mreturn\u001B[0m \u001B[0;34m'problem'\u001B[0m\u001B[0;34m\u001B[0m\u001B[0;34m\u001B[0m\u001B[0m\n",
      "\u001B[0;32m~/PycharmProjects/table_control/mylib/korbash_lib.py\u001B[0m in \u001B[0;36mGetTention\u001B[0;34m(self)\u001B[0m\n\u001B[1;32m   1107\u001B[0m             \u001B[0mten\u001B[0m \u001B[0;34m=\u001B[0m \u001B[0;34m(\u001B[0m\u001B[0mself\u001B[0m\u001B[0;34m.\u001B[0m\u001B[0mdist\u001B[0m\u001B[0;34m(\u001B[0m\u001B[0;34m)\u001B[0m \u001B[0;34m-\u001B[0m \u001B[0mself\u001B[0m\u001B[0;34m.\u001B[0m\u001B[0ml0\u001B[0m\u001B[0;34m)\u001B[0m \u001B[0;34m*\u001B[0m \u001B[0mk\u001B[0m\u001B[0;34m\u001B[0m\u001B[0;34m\u001B[0m\u001B[0m\n\u001B[1;32m   1108\u001B[0m             \u001B[0;31m# print(k,ten)\u001B[0m\u001B[0;34m\u001B[0m\u001B[0;34m\u001B[0m\u001B[0;34m\u001B[0m\u001B[0m\n\u001B[0;32m-> 1109\u001B[0;31m         \u001B[0mTime\u001B[0m\u001B[0;34m.\u001B[0m\u001B[0msleep\u001B[0m\u001B[0;34m(\u001B[0m\u001B[0msimulator\u001B[0m\u001B[0;34m.\u001B[0m\u001B[0mdtS\u001B[0m\u001B[0;34m)\u001B[0m\u001B[0;34m\u001B[0m\u001B[0;34m\u001B[0m\u001B[0m\n\u001B[0m\u001B[1;32m   1110\u001B[0m         \u001B[0;32mreturn\u001B[0m \u001B[0mten\u001B[0m \u001B[0;34m/\u001B[0m \u001B[0mself\u001B[0m\u001B[0;34m.\u001B[0m\u001B[0mweightCoff\u001B[0m\u001B[0;34m\u001B[0m\u001B[0;34m\u001B[0m\u001B[0m\n\u001B[1;32m   1111\u001B[0m \u001B[0;34m\u001B[0m\u001B[0m\n",
      "\u001B[0;32m~/PycharmProjects/table_control/mylib/korbash_lib.py\u001B[0m in \u001B[0;36msleep\u001B[0;34m(dt)\u001B[0m\n\u001B[1;32m   1351\u001B[0m             \u001B[0mTime\u001B[0m\u001B[0;34m.\u001B[0m\u001B[0mt\u001B[0m \u001B[0;34m+=\u001B[0m \u001B[0mdt\u001B[0m\u001B[0;34m\u001B[0m\u001B[0;34m\u001B[0m\u001B[0m\n\u001B[1;32m   1352\u001B[0m         \u001B[0;32melse\u001B[0m\u001B[0;34m:\u001B[0m\u001B[0;34m\u001B[0m\u001B[0;34m\u001B[0m\u001B[0m\n\u001B[0;32m-> 1353\u001B[0;31m             \u001B[0mtime\u001B[0m\u001B[0;34m.\u001B[0m\u001B[0msleep\u001B[0m\u001B[0;34m(\u001B[0m\u001B[0mdt\u001B[0m\u001B[0;34m)\u001B[0m\u001B[0;34m\u001B[0m\u001B[0;34m\u001B[0m\u001B[0m\n\u001B[0m\u001B[1;32m   1354\u001B[0m \u001B[0;34m\u001B[0m\u001B[0m\n\u001B[1;32m   1355\u001B[0m \u001B[0;34m\u001B[0m\u001B[0m\n",
      "\u001B[0;31mKeyboardInterrupt\u001B[0m: "
     ]
    }
   ],
   "source": [
    "pl.ms.MotorsControlStart()\n",
    "t0 = time.time()\n",
    "t = t0\n",
    "dp.Show()\n",
    "sl.Display()\n",
    "pl.Clear()\n",
    "\n",
    "with ui_events() as poll:\n",
    "    while True:\n",
    "        poll(10)\n",
    "        t = time.time()\n",
    "        pl.Read()\n",
    "        x=pl.data['x'].iloc[-1]\n",
    "        v=sl.Sl['v']()\n",
    "        a=sl.Sl['a']()\n",
    "        T=sl.Sl['T']()\n",
    "        ww=int(sl.Sl['window']())\n",
    "        sl.ChangeValueTt('x',x)\n",
    "        sl.ChangeValueTt('L',pl.ms.L_x(x))\n",
    "        sl.ChangeValueTt('R',pl.ms.R_x(x))\n",
    "        if sl.BtnFl['start stabili']:\n",
    "            dv=pl.obrSvas(T,dv)\n",
    "        else:\n",
    "            dv=sl.Sl['dv']()\n",
    "            if not sl.BtnFl['start dv']:\n",
    "                dv=0\n",
    "        sl.ChangeValueTt('dv',dv)        \n",
    "        if pl.ms.PulMotorsControl(v, a, dv, sl.Sl['molibdenH'](), upFl=sl.BtnFl['molibden'], stFl=sl.BtnFl['end'], dhKof=0.5, ah=9)==-1:\n",
    "            break\n",
    "            \n",
    "        dp.Apdate(for_all=pl.data.iloc[-ww:])\n",
    "        push_notebook()    \n",
    "        time.sleep(0.04)\n",
    "print('ura')\n",
    "pl.Save()\n",
    "with ui_events() as poll:\n",
    "    while sl.BtnFl['end']<3:\n",
    "        poll(10)\n",
    "        pl.SetW(2,dw=1,tau=0.5)\n",
    "print('vse')"
   ]
  },
  {
   "cell_type": "code",
   "execution_count": 31,
   "metadata": {
    "pycharm": {
     "name": "#%%\n"
    }
   },
   "outputs": [
    {
     "name": "stdout",
     "output_type": "stream",
     "text": [
      "ending\n",
      "end\n"
     ]
    }
   ],
   "source": [
    "pl.ms.End() # растановка моторчиков на нули (запускать перед отключением питания)"
   ]
  },
  {
   "cell_type": "code",
   "execution_count": 32,
   "metadata": {
    "pycharm": {
     "name": "#%%\n"
    }
   },
   "outputs": [
    {
     "name": "stdout",
     "output_type": "stream",
     "text": [
      "data saved\n"
     ]
    }
   ],
   "source": [
    "pl.Save() # сохранение данных"
   ]
  }
 ],
 "metadata": {
  "kernelspec": {
   "display_name": "Python 3",
   "language": "python",
   "name": "python3"
  },
  "language_info": {
   "codemirror_mode": {
    "name": "ipython",
    "version": 3
   },
   "file_extension": ".py",
   "mimetype": "text/x-python",
   "name": "python",
   "nbconvert_exporter": "python",
   "pygments_lexer": "ipython3",
   "version": "3.8.0"
  }
 },
 "nbformat": 4,
 "nbformat_minor": 1
}