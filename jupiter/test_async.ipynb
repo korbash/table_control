{
 "cells": [
  {
   "cell_type": "code",
   "execution_count": null,
   "metadata": {},
   "outputs": [],
   "source": [
    "from sys import path\n",
    "\n",
    "path += ['..']"
   ]
  },
  {
   "cell_type": "code",
   "execution_count": null,
   "metadata": {},
   "outputs": [],
   "source": [
    "from mylib import Puller\n",
    "import asyncio"
   ]
  },
  {
   "cell_type": "code",
   "execution_count": null,
   "metadata": {},
   "outputs": [],
   "source": [
    "pl = Puller()"
   ]
  },
  {
   "cell_type": "code",
   "execution_count": 1,
   "metadata": {},
   "outputs": [],
   "source": [
    "async def lmot(x, v, a):\n",
    "    for _ in range(3):\n",
    "        await pl.ms.motorL.Move(x, v, a)\n",
    "        await pl.ms.motorL.Move(-x, v, a)\n",
    "\n",
    "\n",
    "async def rmot(x, v, a):\n",
    "    for _ in range(3):\n",
    "        await pl.ms.motorR.Move(x, v, a)\n",
    "        await pl.ms.motorR.Move(-x, v, a)\n",
    "\n",
    "\n",
    "async def mmot(x, v, a):\n",
    "    for _ in range(3):\n",
    "        await pl.ms.motorM.Move(x, v, a)\n",
    "        await pl.ms.motorM.Move(-x, v, a)"
   ]
  },
  {
   "cell_type": "code",
   "execution_count": null,
   "metadata": {},
   "outputs": [],
   "source": [
    "async def run_all():\n",
    "    tasks = []\n",
    "    tasks.append(asyncio.create_task(lmot(x=10,v=10,a=5)))\n",
    "    tasks.append(asyncio.create_task(rmot(x=10, v=10, a=5)))\n",
    "    tasks.append(asyncio.create_task(mmot(x=10, v=10, a=5)))\n",
    "    await asyncio.wait(tasks)"
   ]
  },
  {
   "cell_type": "code",
   "execution_count": null,
   "metadata": {},
   "outputs": [],
   "source": [
    "await run_all()"
   ]
  }
 ],
 "metadata": {
  "kernelspec": {
   "display_name": "pooler",
   "language": "python",
   "name": "python3"
  },
  "language_info": {
   "codemirror_mode": {
    "name": "ipython",
    "version": 3
   },
   "file_extension": ".py",
   "mimetype": "text/x-python",
   "name": "python",
   "nbconvert_exporter": "python",
   "pygments_lexer": "ipython3",
   "version": "3.11.0"
  },
  "orig_nbformat": 4,
  "vscode": {
   "interpreter": {
    "hash": "453f2ac05aafa32b495760f48c8e97cb5273fda8b507e3ca1c0cc81583e9abfd"
   }
  }
 },
 "nbformat": 4,
 "nbformat_minor": 2
}
