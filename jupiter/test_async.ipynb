{
 "cells": [
  {
   "cell_type": "code",
   "execution_count": 1,
   "metadata": {},
   "outputs": [],
   "source": [
    "from sys import path\n",
    "\n",
    "path += ['..']"
   ]
  },
  {
   "cell_type": "code",
   "execution_count": 2,
   "metadata": {},
   "outputs": [],
   "source": [
    "from mylib import Puller, PlotDisplayer, Slider\n",
    "import asyncio"
   ]
  },
  {
   "cell_type": "code",
   "execution_count": 3,
   "metadata": {},
   "outputs": [
    {
     "name": "stdout",
     "output_type": "stream",
     "text": [
      "[(13, 90113195), (13, 90113196), (13, 90113197)]\n"
     ]
    },
    {
     "name": "stderr",
     "output_type": "stream",
     "text": [
      "C:\\Users\\ariva\\projects\\table_control\\jupiter\\..\\mylib\\motors.py:230: RuntimeWarning: coroutine 'Motor.MoveTo' was never awaited\n",
      "  self.MoveTo(self.saveX, self.saveV, self.saveA)\n"
     ]
    }
   ],
   "source": [
    "pl = Puller()"
   ]
  },
  {
   "cell_type": "code",
   "execution_count": 4,
   "metadata": {},
   "outputs": [],
   "source": [
    "async def lmot(x, v, a):\n",
    "    for _ in range(3):\n",
    "        await pl.ms.motorL.Move(x, v, a)\n",
    "        await pl.ms.motorL.Move(-x, v, a)\n",
    "\n",
    "\n",
    "async def rmot(x, v, a):\n",
    "    for _ in range(3):\n",
    "        await pl.ms.motorR.Move(x, v, a)\n",
    "        await pl.ms.motorR.Move(-x, v, a)\n",
    "\n",
    "\n",
    "async def mmot(x, v, a):\n",
    "    for _ in range(10):\n",
    "        await pl.ms.motorM.Move(x, v, a)\n",
    "        await pl.ms.motorM.Move(-x, v, a)"
   ]
  },
  {
   "cell_type": "code",
   "execution_count": 5,
   "metadata": {},
   "outputs": [],
   "source": [
    "async def run_all(x=10, v=10, a=5):\n",
    "    tasks = []\n",
    "    if type(x) == tuple:\n",
    "        tasks.append(asyncio.create_task(lmot(x=x[0], v=v[0], a=a[0])))\n",
    "        tasks.append(asyncio.create_task(rmot(x=x[1], v=v[1], a=a[1])))\n",
    "        tasks.append(asyncio.create_task(mmot(x=x[2], v=v[2], a=a[2])))\n",
    "    else:\n",
    "        tasks.append(asyncio.create_task(lmot(x=x, v=v, a=a)))\n",
    "        tasks.append(asyncio.create_task(rmot(x=x, v=v, a=a)))\n",
    "        tasks.append(asyncio.create_task(mmot(x=x, v=v, a=a)))\n",
    "    await asyncio.wait(tasks)"
   ]
  },
  {
   "cell_type": "code",
   "execution_count": 6,
   "metadata": {},
   "outputs": [
    {
     "name": "stdout",
     "output_type": "stream",
     "text": [
      "error in  motor L  -  position is bad x= 101 max position= 99\n"
     ]
    }
   ],
   "source": [
    "await run_all((10, 10, 1), (15,) * 3, (20,) * 3)"
   ]
  },
  {
   "cell_type": "code",
   "execution_count": 6,
   "metadata": {},
   "outputs": [],
   "source": [
    "sl = Slider()\n",
    "sl.NewSl('v', min=0.1, max=9, value=5, step=0.1)\n",
    "sl.NewSl('a', min=0.1, max=9, value=5, step=0.1)\n",
    "sl.NewSl('window', min=50, max=10000, value=100, step=50)\n",
    "sl.NewSl('Kp', min=0, max=10, value=0.15, step=0.01)\n",
    "sl.NewSl('Ki', min=0, max=10, value=0.4, step=0.01)\n",
    "sl.NewSl('Kd', min=-100, max=100, value=0, step=0.01)\n",
    "sl.NewSl('T0', min=0, max=200, value=5 * 2, step=0.01)\n",
    "sl.NewBtn('end', 'end', 'ended')\n",
    "pl.sl = sl"
   ]
  },
  {
   "cell_type": "code",
   "execution_count": 7,
   "metadata": {},
   "outputs": [
    {
     "data": {
      "text/plain": [
       "0"
      ]
     },
     "execution_count": 7,
     "metadata": {},
     "output_type": "execute_result"
    }
   ],
   "source": [
    "await pl.ms.MoveToStart(\n",
    "    zapas=10)  # сдвиг моторчиков на начальные позиции для растяжки\n",
    "await pl.ms.motorM.MoveTo(0)"
   ]
  },
  {
   "cell_type": "code",
   "execution_count": 14,
   "metadata": {},
   "outputs": [
    {
     "data": {
      "text/plain": [
       "0"
      ]
     },
     "execution_count": 14,
     "metadata": {},
     "output_type": "execute_result"
    }
   ],
   "source": [
    "await pl.ms.motorM.MoveTo(0.07)"
   ]
  },
  {
   "cell_type": "code",
   "execution_count": 8,
   "metadata": {},
   "outputs": [
    {
     "data": {
      "application/vnd.jupyter.widget-view+json": {
       "model_id": "209752796d724d0cbd5feda153233aed",
       "version_major": 2,
       "version_minor": 0
      },
      "text/plain": [
       "VBox(children=(Box(), Box(children=(FloatSlider(value=5.0, description='v', layout=Layout(grid_area='widget001…"
      ]
     },
     "metadata": {},
     "output_type": "display_data"
    },
    {
     "name": "stdout",
     "output_type": "stream",
     "text": [
      "5.0\n",
      "dLnew: 0.9579381338107633 Xnew: 0.0 : 0.9579381338107633\n",
      "dLnew: -4.415876748075625 Xnew: 2.028276924193051e-06 : -4.415876748075625\n",
      "dLnew: 4.415876214391268 Xnew: 2.028276924193051e-06 : 4.415876214391268\n",
      "dLnew: -4.415875680706911 Xnew: 2.028276924193051e-06 : -4.415875680706911\n",
      "dLnew: 4.415875147022554 Xnew: 2.028276924193051e-06 : 4.415875147022554\n",
      "dLnew: -4.415874613338197 Xnew: 2.028276924193051e-06 : -4.415874613338197\n",
      "dLnew: 4.415874079653854 Xnew: 2.028276924193051e-06 : 4.415874079653854\n",
      "dLnew: -4.415873545969511 Xnew: 2.028276924193051e-06 : -4.415873545969511\n",
      "dLnew: 4.415880641679685 Xnew: 2.028276924193051e-06 : 4.415880641679685\n",
      "dLnew: -4.415880107995342 Xnew: 2.028276924193051e-06 : -4.415880107995342\n"
     ]
    }
   ],
   "source": [
    "pl.sl.Display()\n",
    "async with pl:\n",
    "    pass"
   ]
  },
  {
   "cell_type": "code",
   "execution_count": null,
   "metadata": {},
   "outputs": [],
   "source": [
    "await asyncio.wait([\n",
    "    pl.ms.motorM.MoveTo(0),\n",
    "    pl.ms.motorL.MoveTo(0),\n",
    "    pl.ms.motorR.MoveTo(0)\n",
    "])"
   ]
  }
 ],
 "metadata": {
  "kernelspec": {
   "display_name": "Python 3 (ipykernel)",
   "language": "python",
   "name": "python3"
  },
  "language_info": {
   "codemirror_mode": {
    "name": "ipython",
    "version": 3
   },
   "file_extension": ".py",
   "mimetype": "text/x-python",
   "name": "python",
   "nbconvert_exporter": "python",
   "pygments_lexer": "ipython3",
   "version": "3.8.13"
  },
  "vscode": {
   "interpreter": {
    "hash": "453f2ac05aafa32b495760f48c8e97cb5273fda8b507e3ca1c0cc81583e9abfd"
   }
  }
 },
 "nbformat": 4,
 "nbformat_minor": 2
}
