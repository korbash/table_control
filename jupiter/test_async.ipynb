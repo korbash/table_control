{
 "cells": [
  {
   "cell_type": "code",
   "execution_count": 1,
   "metadata": {},
   "outputs": [],
   "source": [
    "from sys import path\n",
    "\n",
    "path += ['..']"
   ]
  },
  {
   "cell_type": "code",
   "execution_count": 2,
   "metadata": {},
   "outputs": [],
   "source": [
    "from mylib import Puller\n",
    "import asyncio"
   ]
  },
  {
   "cell_type": "code",
   "execution_count": 3,
   "metadata": {},
   "outputs": [
    {
     "name": "stdout",
     "output_type": "stream",
     "text": [
      "[(13, 90113195), (13, 90113196), (13, 90113197)]\n"
     ]
    },
    {
     "name": "stderr",
     "output_type": "stream",
     "text": [
      "C:\\Users\\ariva\\projects\\table_control\\jupiter\\..\\mylib\\motors.py:225: RuntimeWarning: coroutine 'Motor.MoveTo' was never awaited\n",
      "  self.MoveTo(self.saveX, self.saveV, self.saveA)\n",
      "C:\\Users\\ariva\\projects\\table_control\\jupiter\\..\\mylib\\motors.py:584: RuntimeWarning: coroutine 'Motor.MoveTo' was never awaited\n",
      "  self.motorM.MoveTo(self.downPos)\n"
     ]
    }
   ],
   "source": [
    "pl = Puller()"
   ]
  },
  {
   "cell_type": "code",
   "execution_count": 4,
   "metadata": {},
   "outputs": [],
   "source": [
    "async def lmot(x, v, a):\n",
    "    for _ in range(3):\n",
    "        await pl.ms.motorL.Move(x, v, a)\n",
    "        await pl.ms.motorL.Move(-x, v, a)\n",
    "\n",
    "\n",
    "async def rmot(x, v, a):\n",
    "    for _ in range(3):\n",
    "        await pl.ms.motorR.Move(x, v, a)\n",
    "        await pl.ms.motorR.Move(-x, v, a)\n",
    "\n",
    "\n",
    "async def mmot(x, v, a):\n",
    "    for _ in range(3):\n",
    "        await pl.ms.motorM.Move(x, v, a)\n",
    "        await pl.ms.motorM.Move(-x, v, a)"
   ]
  },
  {
   "cell_type": "code",
   "execution_count": null,
   "metadata": {},
   "outputs": [],
   "source": [
    "async def run_all(x=10, v=10, a=5):\n",
    "    tasks = []\n",
    "    if type(x) == tuple:\n",
    "        tasks.append(asyncio.create_task(lmot(x=x[0], v=v[0], a=a[0])))\n",
    "        tasks.append(asyncio.create_task(rmot(x=x, v=v, a=a)))\n",
    "        tasks.append(asyncio.create_task(mmot(x=x, v=v, a=a)))\n",
    "    else:\n",
    "        tasks.append(asyncio.create_task(lmot(x=x, v=v, a=a)))\n",
    "        tasks.append(asyncio.create_task(rmot(x=x, v=v, a=a)))\n",
    "        tasks.append(asyncio.create_task(mmot(x=x, v=v, a=a)))\n",
    "    await asyncio.wait(tasks)"
   ]
  },
  {
   "cell_type": "code",
   "execution_count": null,
   "metadata": {},
   "outputs": [],
   "source": [
    "await run_all()"
   ]
  }
 ],
 "metadata": {
  "kernelspec": {
   "display_name": "Python 3 (ipykernel)",
   "language": "python",
   "name": "python3"
  },
  "language_info": {
   "codemirror_mode": {
    "name": "ipython",
    "version": 3
   },
   "file_extension": ".py",
   "mimetype": "text/x-python",
   "name": "python",
   "nbconvert_exporter": "python",
   "pygments_lexer": "ipython3",
   "version": "3.8.13"
  },
  "vscode": {
   "interpreter": {
    "hash": "453f2ac05aafa32b495760f48c8e97cb5273fda8b507e3ca1c0cc81583e9abfd"
   }
  }
 },
 "nbformat": 4,
 "nbformat_minor": 2
}
