{
 "cells": [
  {
   "cell_type": "code",
   "execution_count": 1,
   "metadata": {},
   "outputs": [],
   "source": [
    "from sys import path\n",
    "\n",
    "path += ['..']"
   ]
  },
  {
   "cell_type": "code",
   "execution_count": 2,
   "metadata": {},
   "outputs": [],
   "source": [
    "from mylib import Puller, PlotDisplayer, Slider\n",
    "import asyncio\n",
    "from bokeh.io import push_notebook, show, output_notebook\n",
    "output_notebook()"
   ]
  },
  {
   "cell_type": "code",
   "execution_count": 3,
   "metadata": {},
   "outputs": [
    {
     "name": "stdout",
     "output_type": "stream",
     "text": [
      "[(13, 90113195), (13, 90113196), (13, 90113197)]\n"
     ]
    },
    {
     "name": "stderr",
     "output_type": "stream",
     "text": [
      "C:\\Users\\ariva\\projects\\table_control\\jupiter\\..\\mylib\\motors.py:230: RuntimeWarning: coroutine 'Motor.MoveTo' was never awaited\n",
      "  self.MoveTo(self.saveX, self.saveV, self.saveA)\n"
     ]
    }
   ],
   "source": [
    "pl = Puller()"
   ]
  },
  {
   "cell_type": "code",
   "execution_count": 4,
   "metadata": {},
   "outputs": [],
   "source": [
    "async def lmot(x, v, a):\n",
    "    for _ in range(3):\n",
    "        await pl.ms.motorL.Move(x, v, a)\n",
    "        await pl.ms.motorL.Move(-x, v, a)\n",
    "\n",
    "\n",
    "async def rmot(x, v, a):\n",
    "    for _ in range(3):\n",
    "        await pl.ms.motorR.Move(x, v, a)\n",
    "        await pl.ms.motorR.Move(-x, v, a)\n",
    "\n",
    "\n",
    "async def mmot(x, v, a):\n",
    "    for _ in range(10):\n",
    "        await pl.ms.motorM.Move(x, v, a)\n",
    "        await pl.ms.motorM.Move(-x, v, a)"
   ]
  },
  {
   "cell_type": "code",
   "execution_count": 5,
   "metadata": {},
   "outputs": [],
   "source": [
    "async def run_all(x=10, v=10, a=5):\n",
    "    tasks = []\n",
    "    if type(x) == tuple:\n",
    "        tasks.append(asyncio.create_task(lmot(x=x[0], v=v[0], a=a[0])))\n",
    "        tasks.append(asyncio.create_task(rmot(x=x[1], v=v[1], a=a[1])))\n",
    "        tasks.append(asyncio.create_task(mmot(x=x[2], v=v[2], a=a[2])))\n",
    "    else:\n",
    "        tasks.append(asyncio.create_task(lmot(x=x, v=v, a=a)))\n",
    "        tasks.append(asyncio.create_task(rmot(x=x, v=v, a=a)))\n",
    "        tasks.append(asyncio.create_task(mmot(x=x, v=v, a=a)))\n",
    "    await asyncio.wait(tasks)"
   ]
  },
  {
   "cell_type": "code",
   "execution_count": 6,
   "metadata": {},
   "outputs": [
    {
     "name": "stdout",
     "output_type": "stream",
     "text": [
      "error in  motor L  -  position is bad x= 101 max position= 99\n"
     ]
    }
   ],
   "source": [
    "await run_all((10, 10, 1), (15,) * 3, (20,) * 3)"
   ]
  },
  {
   "cell_type": "code",
   "execution_count": 6,
   "metadata": {},
   "outputs": [],
   "source": [
    "dp = PlotDisplayer()\n",
    "# dp2=PlotDisplayer()\n",
    "# dp2.CreateMaket(mainParam= 'time',obr_coff=pd.DataFrame({\n",
    "#     'time': pl.times,\n",
    "#     'kof': pl.trueKmas\n",
    "# }))\n",
    "dp.CreateMaket(\n",
    "    mainParam='time',\n",
    "    power=pl.data[['time', 'power']],\n",
    "    tension=pl.data[['time', 'tension', 'tensionWgl', 'tensionEXPgl']],\n",
    "    motors=pl.data[['time', 'motorR', 'motorL', 'motorM']])\n",
    "pl.pd = dp\n",
    "sl = Slider()\n",
    "sl.NewSl('v', min=0.1, max=9, value=5, step=0.1)\n",
    "sl.NewSl('a', min=0.1, max=9, value=5, step=0.1)\n",
    "sl.NewSl('window', min=50, max=10000, value=100, step=50)\n",
    "sl.NewSl('molibdenH', min=-10, max=2.5, value=0.0, step=0.1)\n",
    "sl.NewSl('Kp', min=0, max=10, value=0.15, step=0.01)\n",
    "sl.NewSl('Ki', min=0, max=10, value=0.4, step=0.01)\n",
    "sl.NewSl('Kd', min=-100, max=100, value=0, step=0.01)\n",
    "sl.NewSl('T0', min=0, max=200, value=5 * 2, step=0.01)\n",
    "sl.NewSl('end', min=0, max=1, step=1, value=0)\n",
    "pl.sl = sl"
   ]
  },
  {
   "cell_type": "code",
   "execution_count": 7,
   "metadata": {},
   "outputs": [
    {
     "data": {
      "text/plain": [
       "0"
      ]
     },
     "execution_count": 7,
     "metadata": {},
     "output_type": "execute_result"
    }
   ],
   "source": [
    "await pl.ms.MoveToStart(\n",
    "    zapas=10)  # сдвиг моторчиков на начальные позиции для растяжки"
   ]
  },
  {
   "cell_type": "code",
   "execution_count": null,
   "metadata": {},
   "outputs": [],
   "source": [
    "pl.ms.x0 = 80\n",
    "async def g():\n",
    "    async with pl:\n",
    "        pass\n",
    "\n",
    "\n",
    "pl.sl.Display()\n",
    "asyncio.create_task(g())"
   ]
  },
  {
   "cell_type": "code",
   "execution_count": null,
   "metadata": {},
   "outputs": [],
   "source": [
    "await asyncio.wait([\n",
    "    pl.ms.motorM.MoveTo(0),\n",
    "    pl.ms.motorL.MoveTo(0),\n",
    "    pl.ms.motorR.MoveTo(0)\n",
    "])"
   ]
  }
 ],
 "metadata": {
  "kernelspec": {
   "display_name": "Python 3 (ipykernel)",
   "language": "python",
   "name": "python3"
  },
  "language_info": {
   "codemirror_mode": {
    "name": "ipython",
    "version": 3
   },
   "file_extension": ".py",
   "mimetype": "text/x-python",
   "name": "python",
   "nbconvert_exporter": "python",
   "pygments_lexer": "ipython3",
   "version": "3.11.0"
  },
  "vscode": {
   "interpreter": {
    "hash": "453f2ac05aafa32b495760f48c8e97cb5273fda8b507e3ca1c0cc81583e9abfd"
   }
  }
 },
 "nbformat": 4,
 "nbformat_minor": 2
}
