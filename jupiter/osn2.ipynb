{
 "cells": [
  {
   "cell_type": "code",
   "execution_count": 1,
   "metadata": {
    "pycharm": {
     "name": "#%%\n"
    }
   },
   "outputs": [
    {
     "data": {
      "text/html": [
       "\n",
       "    <div class=\"bk-root\">\n",
       "        <a href=\"https://bokeh.org\" target=\"_blank\" class=\"bk-logo bk-logo-small bk-logo-notebook\"></a>\n",
       "        <span id=\"1001\">Loading BokehJS ...</span>\n",
       "    </div>"
      ]
     },
     "metadata": {},
     "output_type": "display_data"
    },
    {
     "data": {
      "application/javascript": [
       "\n",
       "(function(root) {\n",
       "  function now() {\n",
       "    return new Date();\n",
       "  }\n",
       "\n",
       "  var force = true;\n",
       "\n",
       "  if (typeof root._bokeh_onload_callbacks === \"undefined\" || force === true) {\n",
       "    root._bokeh_onload_callbacks = [];\n",
       "    root._bokeh_is_loading = undefined;\n",
       "  }\n",
       "\n",
       "  var JS_MIME_TYPE = 'application/javascript';\n",
       "  var HTML_MIME_TYPE = 'text/html';\n",
       "  var EXEC_MIME_TYPE = 'application/vnd.bokehjs_exec.v0+json';\n",
       "  var CLASS_NAME = 'output_bokeh rendered_html';\n",
       "\n",
       "  /**\n",
       "   * Render data to the DOM node\n",
       "   */\n",
       "  function render(props, node) {\n",
       "    var script = document.createElement(\"script\");\n",
       "    node.appendChild(script);\n",
       "  }\n",
       "\n",
       "  /**\n",
       "   * Handle when an output is cleared or removed\n",
       "   */\n",
       "  function handleClearOutput(event, handle) {\n",
       "    var cell = handle.cell;\n",
       "\n",
       "    var id = cell.output_area._bokeh_element_id;\n",
       "    var server_id = cell.output_area._bokeh_server_id;\n",
       "    // Clean up Bokeh references\n",
       "    if (id != null && id in Bokeh.index) {\n",
       "      Bokeh.index[id].model.document.clear();\n",
       "      delete Bokeh.index[id];\n",
       "    }\n",
       "\n",
       "    if (server_id !== undefined) {\n",
       "      // Clean up Bokeh references\n",
       "      var cmd = \"from bokeh.io.state import curstate; print(curstate().uuid_to_server['\" + server_id + \"'].get_sessions()[0].document.roots[0]._id)\";\n",
       "      cell.notebook.kernel.execute(cmd, {\n",
       "        iopub: {\n",
       "          output: function(msg) {\n",
       "            var id = msg.content.text.trim();\n",
       "            if (id in Bokeh.index) {\n",
       "              Bokeh.index[id].model.document.clear();\n",
       "              delete Bokeh.index[id];\n",
       "            }\n",
       "          }\n",
       "        }\n",
       "      });\n",
       "      // Destroy server and session\n",
       "      var cmd = \"import bokeh.io.notebook as ion; ion.destroy_server('\" + server_id + \"')\";\n",
       "      cell.notebook.kernel.execute(cmd);\n",
       "    }\n",
       "  }\n",
       "\n",
       "  /**\n",
       "   * Handle when a new output is added\n",
       "   */\n",
       "  function handleAddOutput(event, handle) {\n",
       "    var output_area = handle.output_area;\n",
       "    var output = handle.output;\n",
       "\n",
       "    // limit handleAddOutput to display_data with EXEC_MIME_TYPE content only\n",
       "    if ((output.output_type != \"display_data\") || (!output.data.hasOwnProperty(EXEC_MIME_TYPE))) {\n",
       "      return\n",
       "    }\n",
       "\n",
       "    var toinsert = output_area.element.find(\".\" + CLASS_NAME.split(' ')[0]);\n",
       "\n",
       "    if (output.metadata[EXEC_MIME_TYPE][\"id\"] !== undefined) {\n",
       "      toinsert[toinsert.length - 1].firstChild.textContent = output.data[JS_MIME_TYPE];\n",
       "      // store reference to embed id on output_area\n",
       "      output_area._bokeh_element_id = output.metadata[EXEC_MIME_TYPE][\"id\"];\n",
       "    }\n",
       "    if (output.metadata[EXEC_MIME_TYPE][\"server_id\"] !== undefined) {\n",
       "      var bk_div = document.createElement(\"div\");\n",
       "      bk_div.innerHTML = output.data[HTML_MIME_TYPE];\n",
       "      var script_attrs = bk_div.children[0].attributes;\n",
       "      for (var i = 0; i < script_attrs.length; i++) {\n",
       "        toinsert[toinsert.length - 1].firstChild.setAttribute(script_attrs[i].name, script_attrs[i].value);\n",
       "        toinsert[toinsert.length - 1].firstChild.textContent = bk_div.children[0].textContent\n",
       "      }\n",
       "      // store reference to server id on output_area\n",
       "      output_area._bokeh_server_id = output.metadata[EXEC_MIME_TYPE][\"server_id\"];\n",
       "    }\n",
       "  }\n",
       "\n",
       "  function register_renderer(events, OutputArea) {\n",
       "\n",
       "    function append_mime(data, metadata, element) {\n",
       "      // create a DOM node to render to\n",
       "      var toinsert = this.create_output_subarea(\n",
       "        metadata,\n",
       "        CLASS_NAME,\n",
       "        EXEC_MIME_TYPE\n",
       "      );\n",
       "      this.keyboard_manager.register_events(toinsert);\n",
       "      // Render to node\n",
       "      var props = {data: data, metadata: metadata[EXEC_MIME_TYPE]};\n",
       "      render(props, toinsert[toinsert.length - 1]);\n",
       "      element.append(toinsert);\n",
       "      return toinsert\n",
       "    }\n",
       "\n",
       "    /* Handle when an output is cleared or removed */\n",
       "    events.on('clear_output.CodeCell', handleClearOutput);\n",
       "    events.on('delete.Cell', handleClearOutput);\n",
       "\n",
       "    /* Handle when a new output is added */\n",
       "    events.on('output_added.OutputArea', handleAddOutput);\n",
       "\n",
       "    /**\n",
       "     * Register the mime type and append_mime function with output_area\n",
       "     */\n",
       "    OutputArea.prototype.register_mime_type(EXEC_MIME_TYPE, append_mime, {\n",
       "      /* Is output safe? */\n",
       "      safe: true,\n",
       "      /* Index of renderer in `output_area.display_order` */\n",
       "      index: 0\n",
       "    });\n",
       "  }\n",
       "\n",
       "  // register the mime type if in Jupyter Notebook environment and previously unregistered\n",
       "  if (root.Jupyter !== undefined) {\n",
       "    var events = require('base/js/events');\n",
       "    var OutputArea = require('notebook/js/outputarea').OutputArea;\n",
       "\n",
       "    if (OutputArea.prototype.mime_types().indexOf(EXEC_MIME_TYPE) == -1) {\n",
       "      register_renderer(events, OutputArea);\n",
       "    }\n",
       "  }\n",
       "\n",
       "  \n",
       "  if (typeof (root._bokeh_timeout) === \"undefined\" || force === true) {\n",
       "    root._bokeh_timeout = Date.now() + 5000;\n",
       "    root._bokeh_failed_load = false;\n",
       "  }\n",
       "\n",
       "  var NB_LOAD_WARNING = {'data': {'text/html':\n",
       "     \"<div style='background-color: #fdd'>\\n\"+\n",
       "     \"<p>\\n\"+\n",
       "     \"BokehJS does not appear to have successfully loaded. If loading BokehJS from CDN, this \\n\"+\n",
       "     \"may be due to a slow or bad network connection. Possible fixes:\\n\"+\n",
       "     \"</p>\\n\"+\n",
       "     \"<ul>\\n\"+\n",
       "     \"<li>re-rerun `output_notebook()` to attempt to load from CDN again, or</li>\\n\"+\n",
       "     \"<li>use INLINE resources instead, as so:</li>\\n\"+\n",
       "     \"</ul>\\n\"+\n",
       "     \"<code>\\n\"+\n",
       "     \"from bokeh.resources import INLINE\\n\"+\n",
       "     \"output_notebook(resources=INLINE)\\n\"+\n",
       "     \"</code>\\n\"+\n",
       "     \"</div>\"}};\n",
       "\n",
       "  function display_loaded() {\n",
       "    var el = document.getElementById(\"1001\");\n",
       "    if (el != null) {\n",
       "      el.textContent = \"BokehJS is loading...\";\n",
       "    }\n",
       "    if (root.Bokeh !== undefined) {\n",
       "      if (el != null) {\n",
       "        el.textContent = \"BokehJS \" + root.Bokeh.version + \" successfully loaded.\";\n",
       "      }\n",
       "    } else if (Date.now() < root._bokeh_timeout) {\n",
       "      setTimeout(display_loaded, 100)\n",
       "    }\n",
       "  }\n",
       "\n",
       "\n",
       "  function run_callbacks() {\n",
       "    try {\n",
       "      root._bokeh_onload_callbacks.forEach(function(callback) {\n",
       "        if (callback != null)\n",
       "          callback();\n",
       "      });\n",
       "    } finally {\n",
       "      delete root._bokeh_onload_callbacks\n",
       "    }\n",
       "    console.debug(\"Bokeh: all callbacks have finished\");\n",
       "  }\n",
       "\n",
       "  function load_libs(css_urls, js_urls, callback) {\n",
       "    if (css_urls == null) css_urls = [];\n",
       "    if (js_urls == null) js_urls = [];\n",
       "\n",
       "    root._bokeh_onload_callbacks.push(callback);\n",
       "    if (root._bokeh_is_loading > 0) {\n",
       "      console.debug(\"Bokeh: BokehJS is being loaded, scheduling callback at\", now());\n",
       "      return null;\n",
       "    }\n",
       "    if (js_urls == null || js_urls.length === 0) {\n",
       "      run_callbacks();\n",
       "      return null;\n",
       "    }\n",
       "    console.debug(\"Bokeh: BokehJS not loaded, scheduling load and callback at\", now());\n",
       "    root._bokeh_is_loading = css_urls.length + js_urls.length;\n",
       "\n",
       "    function on_load() {\n",
       "      root._bokeh_is_loading--;\n",
       "      if (root._bokeh_is_loading === 0) {\n",
       "        console.debug(\"Bokeh: all BokehJS libraries/stylesheets loaded\");\n",
       "        run_callbacks()\n",
       "      }\n",
       "    }\n",
       "\n",
       "    function on_error() {\n",
       "      console.error(\"failed to load \" + url);\n",
       "    }\n",
       "\n",
       "    for (var i = 0; i < css_urls.length; i++) {\n",
       "      var url = css_urls[i];\n",
       "      const element = document.createElement(\"link\");\n",
       "      element.onload = on_load;\n",
       "      element.onerror = on_error;\n",
       "      element.rel = \"stylesheet\";\n",
       "      element.type = \"text/css\";\n",
       "      element.href = url;\n",
       "      console.debug(\"Bokeh: injecting link tag for BokehJS stylesheet: \", url);\n",
       "      document.body.appendChild(element);\n",
       "    }\n",
       "\n",
       "    const hashes = {\"https://cdn.bokeh.org/bokeh/release/bokeh-2.1.1.min.js\": \"kLr4fYcqcSpbuI95brIH3vnnYCquzzSxHPU6XGQCIkQRGJwhg0StNbj1eegrHs12\", \"https://cdn.bokeh.org/bokeh/release/bokeh-widgets-2.1.1.min.js\": \"xIGPmVtaOm+z0BqfSOMn4lOR6ciex448GIKG4eE61LsAvmGj48XcMQZtKcE/UXZe\", \"https://cdn.bokeh.org/bokeh/release/bokeh-tables-2.1.1.min.js\": \"Dc9u1wF/0zApGIWoBbH77iWEHtdmkuYWG839Uzmv8y8yBLXebjO9ZnERsde5Ln/P\", \"https://cdn.bokeh.org/bokeh/release/bokeh-gl-2.1.1.min.js\": \"cT9JaBz7GiRXdENrJLZNSC6eMNF3nh3fa5fTF51Svp+ukxPdwcU5kGXGPBgDCa2j\"};\n",
       "\n",
       "    for (var i = 0; i < js_urls.length; i++) {\n",
       "      var url = js_urls[i];\n",
       "      var element = document.createElement('script');\n",
       "      element.onload = on_load;\n",
       "      element.onerror = on_error;\n",
       "      element.async = false;\n",
       "      element.src = url;\n",
       "      if (url in hashes) {\n",
       "        element.crossOrigin = \"anonymous\";\n",
       "        element.integrity = \"sha384-\" + hashes[url];\n",
       "      }\n",
       "      console.debug(\"Bokeh: injecting script tag for BokehJS library: \", url);\n",
       "      document.head.appendChild(element);\n",
       "    }\n",
       "  };\n",
       "\n",
       "  function inject_raw_css(css) {\n",
       "    const element = document.createElement(\"style\");\n",
       "    element.appendChild(document.createTextNode(css));\n",
       "    document.body.appendChild(element);\n",
       "  }\n",
       "\n",
       "  \n",
       "  var js_urls = [\"https://cdn.bokeh.org/bokeh/release/bokeh-2.1.1.min.js\", \"https://cdn.bokeh.org/bokeh/release/bokeh-widgets-2.1.1.min.js\", \"https://cdn.bokeh.org/bokeh/release/bokeh-tables-2.1.1.min.js\", \"https://cdn.bokeh.org/bokeh/release/bokeh-gl-2.1.1.min.js\"];\n",
       "  var css_urls = [];\n",
       "  \n",
       "\n",
       "  var inline_js = [\n",
       "    function(Bokeh) {\n",
       "      Bokeh.set_log_level(\"info\");\n",
       "    },\n",
       "    function(Bokeh) {\n",
       "    \n",
       "    \n",
       "    }\n",
       "  ];\n",
       "\n",
       "  function run_inline_js() {\n",
       "    \n",
       "    if (root.Bokeh !== undefined || force === true) {\n",
       "      \n",
       "    for (var i = 0; i < inline_js.length; i++) {\n",
       "      inline_js[i].call(root, root.Bokeh);\n",
       "    }\n",
       "    if (force === true) {\n",
       "        display_loaded();\n",
       "      }} else if (Date.now() < root._bokeh_timeout) {\n",
       "      setTimeout(run_inline_js, 100);\n",
       "    } else if (!root._bokeh_failed_load) {\n",
       "      console.log(\"Bokeh: BokehJS failed to load within specified timeout.\");\n",
       "      root._bokeh_failed_load = true;\n",
       "    } else if (force !== true) {\n",
       "      var cell = $(document.getElementById(\"1001\")).parents('.cell').data().cell;\n",
       "      cell.output_area.append_execute_result(NB_LOAD_WARNING)\n",
       "    }\n",
       "\n",
       "  }\n",
       "\n",
       "  if (root._bokeh_is_loading === 0) {\n",
       "    console.debug(\"Bokeh: BokehJS loaded, going straight to plotting\");\n",
       "    run_inline_js();\n",
       "  } else {\n",
       "    load_libs(css_urls, js_urls, function() {\n",
       "      console.debug(\"Bokeh: BokehJS plotting callback run at\", now());\n",
       "      run_inline_js();\n",
       "    });\n",
       "  }\n",
       "}(window));"
      ],
      "application/vnd.bokehjs_load.v0+json": "\n(function(root) {\n  function now() {\n    return new Date();\n  }\n\n  var force = true;\n\n  if (typeof root._bokeh_onload_callbacks === \"undefined\" || force === true) {\n    root._bokeh_onload_callbacks = [];\n    root._bokeh_is_loading = undefined;\n  }\n\n  \n\n  \n  if (typeof (root._bokeh_timeout) === \"undefined\" || force === true) {\n    root._bokeh_timeout = Date.now() + 5000;\n    root._bokeh_failed_load = false;\n  }\n\n  var NB_LOAD_WARNING = {'data': {'text/html':\n     \"<div style='background-color: #fdd'>\\n\"+\n     \"<p>\\n\"+\n     \"BokehJS does not appear to have successfully loaded. If loading BokehJS from CDN, this \\n\"+\n     \"may be due to a slow or bad network connection. Possible fixes:\\n\"+\n     \"</p>\\n\"+\n     \"<ul>\\n\"+\n     \"<li>re-rerun `output_notebook()` to attempt to load from CDN again, or</li>\\n\"+\n     \"<li>use INLINE resources instead, as so:</li>\\n\"+\n     \"</ul>\\n\"+\n     \"<code>\\n\"+\n     \"from bokeh.resources import INLINE\\n\"+\n     \"output_notebook(resources=INLINE)\\n\"+\n     \"</code>\\n\"+\n     \"</div>\"}};\n\n  function display_loaded() {\n    var el = document.getElementById(\"1001\");\n    if (el != null) {\n      el.textContent = \"BokehJS is loading...\";\n    }\n    if (root.Bokeh !== undefined) {\n      if (el != null) {\n        el.textContent = \"BokehJS \" + root.Bokeh.version + \" successfully loaded.\";\n      }\n    } else if (Date.now() < root._bokeh_timeout) {\n      setTimeout(display_loaded, 100)\n    }\n  }\n\n\n  function run_callbacks() {\n    try {\n      root._bokeh_onload_callbacks.forEach(function(callback) {\n        if (callback != null)\n          callback();\n      });\n    } finally {\n      delete root._bokeh_onload_callbacks\n    }\n    console.debug(\"Bokeh: all callbacks have finished\");\n  }\n\n  function load_libs(css_urls, js_urls, callback) {\n    if (css_urls == null) css_urls = [];\n    if (js_urls == null) js_urls = [];\n\n    root._bokeh_onload_callbacks.push(callback);\n    if (root._bokeh_is_loading > 0) {\n      console.debug(\"Bokeh: BokehJS is being loaded, scheduling callback at\", now());\n      return null;\n    }\n    if (js_urls == null || js_urls.length === 0) {\n      run_callbacks();\n      return null;\n    }\n    console.debug(\"Bokeh: BokehJS not loaded, scheduling load and callback at\", now());\n    root._bokeh_is_loading = css_urls.length + js_urls.length;\n\n    function on_load() {\n      root._bokeh_is_loading--;\n      if (root._bokeh_is_loading === 0) {\n        console.debug(\"Bokeh: all BokehJS libraries/stylesheets loaded\");\n        run_callbacks()\n      }\n    }\n\n    function on_error() {\n      console.error(\"failed to load \" + url);\n    }\n\n    for (var i = 0; i < css_urls.length; i++) {\n      var url = css_urls[i];\n      const element = document.createElement(\"link\");\n      element.onload = on_load;\n      element.onerror = on_error;\n      element.rel = \"stylesheet\";\n      element.type = \"text/css\";\n      element.href = url;\n      console.debug(\"Bokeh: injecting link tag for BokehJS stylesheet: \", url);\n      document.body.appendChild(element);\n    }\n\n    const hashes = {\"https://cdn.bokeh.org/bokeh/release/bokeh-2.1.1.min.js\": \"kLr4fYcqcSpbuI95brIH3vnnYCquzzSxHPU6XGQCIkQRGJwhg0StNbj1eegrHs12\", \"https://cdn.bokeh.org/bokeh/release/bokeh-widgets-2.1.1.min.js\": \"xIGPmVtaOm+z0BqfSOMn4lOR6ciex448GIKG4eE61LsAvmGj48XcMQZtKcE/UXZe\", \"https://cdn.bokeh.org/bokeh/release/bokeh-tables-2.1.1.min.js\": \"Dc9u1wF/0zApGIWoBbH77iWEHtdmkuYWG839Uzmv8y8yBLXebjO9ZnERsde5Ln/P\", \"https://cdn.bokeh.org/bokeh/release/bokeh-gl-2.1.1.min.js\": \"cT9JaBz7GiRXdENrJLZNSC6eMNF3nh3fa5fTF51Svp+ukxPdwcU5kGXGPBgDCa2j\"};\n\n    for (var i = 0; i < js_urls.length; i++) {\n      var url = js_urls[i];\n      var element = document.createElement('script');\n      element.onload = on_load;\n      element.onerror = on_error;\n      element.async = false;\n      element.src = url;\n      if (url in hashes) {\n        element.crossOrigin = \"anonymous\";\n        element.integrity = \"sha384-\" + hashes[url];\n      }\n      console.debug(\"Bokeh: injecting script tag for BokehJS library: \", url);\n      document.head.appendChild(element);\n    }\n  };\n\n  function inject_raw_css(css) {\n    const element = document.createElement(\"style\");\n    element.appendChild(document.createTextNode(css));\n    document.body.appendChild(element);\n  }\n\n  \n  var js_urls = [\"https://cdn.bokeh.org/bokeh/release/bokeh-2.1.1.min.js\", \"https://cdn.bokeh.org/bokeh/release/bokeh-widgets-2.1.1.min.js\", \"https://cdn.bokeh.org/bokeh/release/bokeh-tables-2.1.1.min.js\", \"https://cdn.bokeh.org/bokeh/release/bokeh-gl-2.1.1.min.js\"];\n  var css_urls = [];\n  \n\n  var inline_js = [\n    function(Bokeh) {\n      Bokeh.set_log_level(\"info\");\n    },\n    function(Bokeh) {\n    \n    \n    }\n  ];\n\n  function run_inline_js() {\n    \n    if (root.Bokeh !== undefined || force === true) {\n      \n    for (var i = 0; i < inline_js.length; i++) {\n      inline_js[i].call(root, root.Bokeh);\n    }\n    if (force === true) {\n        display_loaded();\n      }} else if (Date.now() < root._bokeh_timeout) {\n      setTimeout(run_inline_js, 100);\n    } else if (!root._bokeh_failed_load) {\n      console.log(\"Bokeh: BokehJS failed to load within specified timeout.\");\n      root._bokeh_failed_load = true;\n    } else if (force !== true) {\n      var cell = $(document.getElementById(\"1001\")).parents('.cell').data().cell;\n      cell.output_area.append_execute_result(NB_LOAD_WARNING)\n    }\n\n  }\n\n  if (root._bokeh_is_loading === 0) {\n    console.debug(\"Bokeh: BokehJS loaded, going straight to plotting\");\n    run_inline_js();\n  } else {\n    load_libs(css_urls, js_urls, function() {\n      console.debug(\"Bokeh: BokehJS plotting callback run at\", now());\n      run_inline_js();\n    });\n  }\n}(window));"
     },
     "metadata": {},
     "output_type": "display_data"
    },
    {
     "name": "stdout",
     "output_type": "stream",
     "text": [
      "[(21, 90113195), (21, 90113196), (21, 90113197)]\n"
     ]
    }
   ],
   "source": [
    "from korbash_lib import PowerMeter, TensionGauge, Motor, MotorSystem, Puller, Everage, Exp_everage, PlotDisplayer, Slider\n",
    "import thorlabs_apt as apt\n",
    "import time\n",
    "import numpy as np\n",
    "import pandas as pd\n",
    "import datetime\n",
    "import PySimpleGUI as sg\n",
    "from tkinter import messagebox as mb\n",
    "from bokeh.io import push_notebook, show, output_notebook\n",
    "from bokeh.plotting import figure\n",
    "from bokeh.layouts import gridplot, layout\n",
    "from jupyter_ui_poll import ui_events\n",
    "import ipywidgets\n",
    "import matplotlib\n",
    "import scipy\n",
    "from scipy import stats\n",
    "import random\n",
    "import os\n",
    "output_notebook()\n",
    "pl = Puller()\n",
    "random.seed()\n",
    "\n",
    "# инициализация запускать только один раз"
   ]
  },
  {
   "cell_type": "code",
   "execution_count": 2,
   "metadata": {
    "pycharm": {
     "name": "#%%\n"
    }
   },
   "outputs": [
    {
     "data": {
      "application/vnd.jupyter.widget-view+json": {
       "model_id": "af5f25d4a0d446e6abcd16f4582c51c4",
       "version_major": 2,
       "version_minor": 0
      },
      "text/plain": [
       "GridspecLayout(children=(Button(description='Stop All Motors', layout=Layout(grid_area='widget001'), style=But…"
      ]
     },
     "metadata": {},
     "output_type": "display_data"
    }
   ],
   "source": [
    "pl.ms.StopButton() # кнопки для остоновки моторчиков в нештатной ситуации"
   ]
  },
  {
   "cell_type": "code",
   "execution_count": 7,
   "metadata": {
    "pycharm": {
     "name": "#%%\n"
    }
   },
   "outputs": [],
   "source": [
    "pl.ms.MoveToStart(zapas=1) # сдвиг моторчиков на начальные позиции для растяжки\n",
    "pl.ms.motorM.MoveTo(15);"
   ]
  },
  {
   "cell_type": "code",
   "execution_count": 3,
   "metadata": {},
   "outputs": [
    {
     "data": {
      "text/plain": [
       "-1.3231953890571984"
      ]
     },
     "execution_count": 3,
     "metadata": {},
     "output_type": "execute_result"
    }
   ],
   "source": [
    "pl.tg.SetZeroWeight(15) # калибровка тензодатчика"
   ]
  },
  {
   "cell_type": "code",
   "execution_count": 3,
   "metadata": {
    "pycharm": {
     "name": "#%%\n"
    }
   },
   "outputs": [
    {
     "name": "stdout",
     "output_type": "stream",
     "text": [
      "SetW finish value= 50.10438593514224\n",
      "podgon a= 6.864823861791799   b= 50.079889431418536   x0= 11.436773888924165\n",
      "a= 6.779789720177987   b= 50.11533463301973   x0= 11.625400897544967\n",
      "data saved\n"
     ]
    }
   ],
   "source": [
    "x0=pl.SetH_avto() # измерение высоты молибдена"
   ]
  },
  {
   "cell_type": "code",
   "execution_count": 5,
   "metadata": {},
   "outputs": [
    {
     "name": "stdout",
     "output_type": "stream",
     "text": [
      "SetW finish value= 49.894838054912924\n"
     ]
    }
   ],
   "source": [
    "pl.SetW(50, dw=0.1, tau=1); # натяжка волокна"
   ]
  },
  {
   "cell_type": "code",
   "execution_count": 26,
   "metadata": {},
   "outputs": [
    {
     "data": {
      "text/plain": [
       "0"
      ]
     },
     "execution_count": 26,
     "metadata": {},
     "output_type": "execute_result"
    }
   ],
   "source": [
    "pl.ms.motorM.MoveTo(pl.ms.motorM.position_max-2) # опускание молибдена вниз перед разогревом"
   ]
  },
  {
   "cell_type": "code",
   "execution_count": 30,
   "metadata": {},
   "outputs": [
    {
     "data": {
      "text/plain": [
       "-882.485617561552"
      ]
     },
     "execution_count": 30,
     "metadata": {},
     "output_type": "execute_result"
    }
   ],
   "source": [
    "pl.tg.SetZeroWeight(50,5) # калибровка тензодатчика после разогрева молибдена"
   ]
  },
  {
   "cell_type": "code",
   "execution_count": 4,
   "metadata": {},
   "outputs": [],
   "source": [
    "x0=20"
   ]
  },
  {
   "cell_type": "code",
   "execution_count": 8,
   "metadata": {
    "pycharm": {
     "name": "#%%\n"
    }
   },
   "outputs": [],
   "source": [
    "while pl.ms.IsInMotion():\n",
    "    pass\n",
    "dp=PlotDisplayer()\n",
    "dp.CreateMaket(mainParam='time',power=pl.data[['time','power']],\n",
    "                    tension=pl.data[['time','tension']],\n",
    "                   motors=pl.data[['time','motorR','motorL','motorM']]\n",
    "                  # v_and_a=pl.data[['time','vL','vR','aL','aR']]\n",
    "              )\n",
    "sl=Slider()\n",
    "sl.NewSl('v',min=0.1,max=9,value=3,step=0.1)\n",
    "sl.NewSl('a',min=0.1,max=9,value=7,step=0.1)\n",
    "sl.NewSl('dvKof', max=3,value=0,step=0.01)\n",
    "sl.NewSl('dv', max=1.01,value=0,step=0.0001)\n",
    "sl.NewSl('window',min=50, max=10000,value=100, step=50)\n",
    "sl.NewSl('molibdenH',min=-2.6, max=5.6,value=0.3,step=0.01)\n",
    "sl.NewBtn('molibden','up molibden','doun molibden')\n",
    "sl.NewBtn('end','end','end2','end3','vse','bolshe ne jmi','nu pravda ne nado', 'samiy umniy da?')\n",
    "sl.NewTt('x')\n",
    "sl.NewTt('L')\n",
    "sl.NewTt('R')\n",
    "sl.NewTt('dv')"
   ]
  },
  {
   "cell_type": "code",
   "execution_count": 9,
   "metadata": {},
   "outputs": [
    {
     "data": {
      "text/html": [
       "\n",
       "\n",
       "\n",
       "\n",
       "\n",
       "\n",
       "  <div class=\"bk-root\" id=\"dc5eb385-4d78-43e8-94b0-c3ef809466e5\" data-root-id=\"14774\"></div>\n"
      ]
     },
     "metadata": {},
     "output_type": "display_data"
    },
    {
     "data": {
      "application/javascript": [
       "(function(root) {\n",
       "  function embed_document(root) {\n",
       "    \n",
       "  var docs_json = {\"a495eca0-cae2-4435-b485-3bffcf95166e\":{\"roots\":{\"references\":[{\"attributes\":{\"children\":[{\"id\":\"14771\"},{\"id\":\"14772\"},{\"id\":\"14773\"}]},\"id\":\"14774\",\"type\":\"Column\"},{\"attributes\":{\"data\":{\"index\":[0,1,2,3,4,5,6,7,8,9,10,11,12,13,14,15,16,17,18,19,20,21,22,23,24,25,26,27,28,29,30,31,32,33,34,35,36,37,38,39,40,41,42,43,44,45,46,47,48,49,50,51,52,53,54,55,56,57,58,59,60,61,62,63,64,65,66,67,68,69,70,71,72,73,74,75,76,77,78,79,80,81,82,83,84,85,86,87,88,89,90,91,92,93,94,95,96,97,98,99,100,101,102,103,104,105,106,107,108,109,110,111,112,113,114,115,116,117,118,119,120,121,122,123,124,125,126,127,128,129,130,131,132,133,134,135,136,137,138,139,140,141,142,143,144,145,146,147,148,149,150,151,152,153,154,155,156,157,158,159,160,161,162,163,164,165,166,167,168,169,170,171,172,173,174,175,176,177,178,179,180,181,182,183,184,185,186,187,188,189,190,191,192,193,194,195,196,197,198,199,200],\"power\":{\"__ndarray__\":\"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\",\"dtype\":\"float64\",\"order\":\"little\",\"shape\":[201]},\"time\":{\"__ndarray__\":\"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\",\"dtype\":\"float64\",\"order\":\"little\",\"shape\":[201]}},\"selected\":{\"id\":\"14632\"},\"selection_policy\":{\"id\":\"14633\"}},\"id\":\"14621\",\"type\":\"ColumnDataSource\"},{\"attributes\":{\"axis\":{\"id\":\"14603\"},\"dimension\":1,\"ticker\":null},\"id\":\"14606\",\"type\":\"Grid\"},{\"attributes\":{\"text\":\"motors\"},\"id\":\"14687\",\"type\":\"Title\"},{\"attributes\":{\"data\":{\"index\":[0,1,2,3,4,5,6,7,8,9,10,11,12,13,14,15,16,17,18,19,20,21,22,23,24,25,26,27,28,29,30,31,32,33,34,35,36,37,38,39,40,41,42,43,44,45,46,47,48,49,50,51,52,53,54,55,56,57,58,59,60,61,62,63,64,65,66,67,68,69,70,71,72,73,74,75,76,77,78,79,80,81,82,83,84,85,86,87,88,89,90,91,92,93,94,95,96,97,98,99,100,101,102,103,104,105,106,107,108,109,110,111,112,113,114,115,116,117,118,119,120,121,122,123,124,125,126,127,128,129,130,131,132,133,134,135,136,137,138,139,140,141,142,143,144,145,146,147,148,149,150,151,152,153,154,155,156,157,158,159,160,161,162,163,164,165,166,167,168,169,170,171,172,173,174,175,176,177,178,179,180,181,182,183,184,185,186,187,188,189,190,191,192,193,194,195,196,197,198,199,200],\"motorL\":{\"__ndarray__\":\"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\",\"dtype\":\"float64\",\"order\":\"little\",\"shape\":[201]},\"motorM\":{\"__ndarray__\":\"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\",\"dtype\":\"float64\",\"order\":\"little\",\"shape\":[201]},\"motorR\":{\"__ndarray__\":\"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\",\"dtype\":\"float64\",\"order\":\"little\",\"shape\":[201]},\"time\":{\"__ndarray__\":\"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\",\"dtype\":\"float64\",\"order\":\"little\",\"shape\":[201]}},\"selected\":{\"id\":\"14748\"},\"selection_policy\":{\"id\":\"14749\"}},\"id\":\"14735\",\"type\":\"ColumnDataSource\"},{\"attributes\":{},\"id\":\"14610\",\"type\":\"SaveTool\"},{\"attributes\":{},\"id\":\"14657\",\"type\":\"WheelZoomTool\"},{\"attributes\":{},\"id\":\"14607\",\"type\":\"PanTool\"},{\"attributes\":{\"data_source\":{\"id\":\"14719\"},\"glyph\":{\"id\":\"14721\"},\"hover_glyph\":null,\"muted_glyph\":null,\"nonselection_glyph\":{\"id\":\"14722\"},\"selection_glyph\":null,\"view\":{\"id\":\"14724\"}},\"id\":\"14723\",\"type\":\"GlyphRenderer\"},{\"attributes\":{},\"id\":\"14595\",\"type\":\"LinearScale\"},{\"attributes\":{\"below\":[{\"id\":\"14697\"}],\"center\":[{\"id\":\"14700\"},{\"id\":\"14704\"},{\"id\":\"14733\"}],\"left\":[{\"id\":\"14701\"}],\"plot_height\":300,\"plot_width\":980,\"renderers\":[{\"id\":\"14723\"},{\"id\":\"14739\"},{\"id\":\"14756\"}],\"title\":{\"id\":\"14687\"},\"toolbar\":{\"id\":\"14712\"},\"x_range\":{\"id\":\"14689\"},\"x_scale\":{\"id\":\"14693\"},\"y_range\":{\"id\":\"14691\"},\"y_scale\":{\"id\":\"14695\"}},\"id\":\"14686\",\"subtype\":\"Figure\",\"type\":\"Plot\"},{\"attributes\":{\"formatter\":{\"id\":\"14726\"},\"ticker\":{\"id\":\"14702\"}},\"id\":\"14701\",\"type\":\"LinearAxis\"},{\"attributes\":{\"line_color\":\"red\",\"x\":{\"field\":\"time\"},\"y\":{\"field\":\"motorR\"}},\"id\":\"14721\",\"type\":\"Line\"},{\"attributes\":{\"active_drag\":\"auto\",\"active_inspect\":\"auto\",\"active_multi\":null,\"active_scroll\":\"auto\",\"active_tap\":\"auto\",\"tools\":[{\"id\":\"14656\"},{\"id\":\"14657\"},{\"id\":\"14658\"},{\"id\":\"14659\"},{\"id\":\"14660\"},{\"id\":\"14661\"}]},\"id\":\"14663\",\"type\":\"Toolbar\"},{\"attributes\":{\"source\":{\"id\":\"14621\"}},\"id\":\"14626\",\"type\":\"CDSView\"},{\"attributes\":{\"below\":[{\"id\":\"14599\"}],\"center\":[{\"id\":\"14602\"},{\"id\":\"14606\"},{\"id\":\"14635\"}],\"left\":[{\"id\":\"14603\"}],\"plot_height\":300,\"plot_width\":980,\"renderers\":[{\"id\":\"14625\"}],\"title\":{\"id\":\"14589\"},\"toolbar\":{\"id\":\"14614\"},\"x_range\":{\"id\":\"14591\"},\"x_scale\":{\"id\":\"14595\"},\"y_range\":{\"id\":\"14593\"},\"y_scale\":{\"id\":\"14597\"}},\"id\":\"14588\",\"subtype\":\"Figure\",\"type\":\"Plot\"},{\"attributes\":{\"children\":[{\"id\":\"14686\"}]},\"id\":\"14773\",\"type\":\"Row\"},{\"attributes\":{},\"id\":\"14660\",\"type\":\"ResetTool\"},{\"attributes\":{\"line_color\":\"red\",\"x\":{\"field\":\"time\"},\"y\":{\"field\":\"power\"}},\"id\":\"14623\",\"type\":\"Line\"},{\"attributes\":{\"line_alpha\":0.1,\"line_color\":\"red\",\"x\":{\"field\":\"time\"},\"y\":{\"field\":\"motorR\"}},\"id\":\"14722\",\"type\":\"Line\"},{\"attributes\":{},\"id\":\"14702\",\"type\":\"BasicTicker\"},{\"attributes\":{\"formatter\":{\"id\":\"14630\"},\"ticker\":{\"id\":\"14600\"}},\"id\":\"14599\",\"type\":\"LinearAxis\"},{\"attributes\":{},\"id\":\"14661\",\"type\":\"HelpTool\"},{\"attributes\":{},\"id\":\"14709\",\"type\":\"ResetTool\"},{\"attributes\":{},\"id\":\"14693\",\"type\":\"LinearScale\"},{\"attributes\":{},\"id\":\"14604\",\"type\":\"BasicTicker\"},{\"attributes\":{},\"id\":\"14710\",\"type\":\"HelpTool\"},{\"attributes\":{},\"id\":\"14731\",\"type\":\"UnionRenderers\"},{\"attributes\":{},\"id\":\"14768\",\"type\":\"UnionRenderers\"},{\"attributes\":{\"label\":{\"value\":\"tension\"},\"renderers\":[{\"id\":\"14674\"}]},\"id\":\"14685\",\"type\":\"LegendItem\"},{\"attributes\":{},\"id\":\"14682\",\"type\":\"UnionRenderers\"},{\"attributes\":{\"overlay\":{\"id\":\"14711\"}},\"id\":\"14707\",\"type\":\"BoxZoomTool\"},{\"attributes\":{},\"id\":\"14689\",\"type\":\"DataRange1d\"},{\"attributes\":{\"formatter\":{\"id\":\"14628\"},\"ticker\":{\"id\":\"14604\"}},\"id\":\"14603\",\"type\":\"LinearAxis\"},{\"attributes\":{},\"id\":\"14730\",\"type\":\"Selection\"},{\"attributes\":{},\"id\":\"14706\",\"type\":\"WheelZoomTool\"},{\"attributes\":{\"text\":\"power\"},\"id\":\"14589\",\"type\":\"Title\"},{\"attributes\":{},\"id\":\"14600\",\"type\":\"BasicTicker\"},{\"attributes\":{},\"id\":\"14679\",\"type\":\"BasicTickFormatter\"},{\"attributes\":{},\"id\":\"14726\",\"type\":\"BasicTickFormatter\"},{\"attributes\":{\"items\":[{\"id\":\"14734\"},{\"id\":\"14751\"},{\"id\":\"14770\"}]},\"id\":\"14733\",\"type\":\"Legend\"},{\"attributes\":{},\"id\":\"14611\",\"type\":\"ResetTool\"},{\"attributes\":{\"data_source\":{\"id\":\"14735\"},\"glyph\":{\"id\":\"14737\"},\"hover_glyph\":null,\"muted_glyph\":null,\"nonselection_glyph\":{\"id\":\"14738\"},\"selection_glyph\":null,\"view\":{\"id\":\"14740\"}},\"id\":\"14739\",\"type\":\"GlyphRenderer\"},{\"attributes\":{\"overlay\":{\"id\":\"14613\"}},\"id\":\"14609\",\"type\":\"BoxZoomTool\"},{\"attributes\":{\"line_alpha\":0.1,\"line_color\":\"green\",\"x\":{\"field\":\"time\"},\"y\":{\"field\":\"motorM\"}},\"id\":\"14755\",\"type\":\"Line\"},{\"attributes\":{},\"id\":\"14593\",\"type\":\"DataRange1d\"},{\"attributes\":{},\"id\":\"14708\",\"type\":\"SaveTool\"},{\"attributes\":{\"data\":{\"index\":[0,1,2,3,4,5,6,7,8,9,10,11,12,13,14,15,16,17,18,19,20,21,22,23,24,25,26,27,28,29,30,31,32,33,34,35,36,37,38,39,40,41,42,43,44,45,46,47,48,49,50,51,52,53,54,55,56,57,58,59,60,61,62,63,64,65,66,67,68,69,70,71,72,73,74,75,76,77,78,79,80,81,82,83,84,85,86,87,88,89,90,91,92,93,94,95,96,97,98,99,100,101,102,103,104,105,106,107,108,109,110,111,112,113,114,115,116,117,118,119,120,121,122,123,124,125,126,127,128,129,130,131,132,133,134,135,136,137,138,139,140,141,142,143,144,145,146,147,148,149,150,151,152,153,154,155,156,157,158,159,160,161,162,163,164,165,166,167,168,169,170,171,172,173,174,175,176,177,178,179,180,181,182,183,184,185,186,187,188,189,190,191,192,193,194,195,196,197,198,199,200],\"motorL\":{\"__ndarray__\":\"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\",\"dtype\":\"float64\",\"order\":\"little\",\"shape\":[201]},\"motorM\":{\"__ndarray__\":\"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\",\"dtype\":\"float64\",\"order\":\"little\",\"shape\":[201]},\"motorR\":{\"__ndarray__\":\"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\",\"dtype\":\"float64\",\"order\":\"little\",\"shape\":[201]},\"time\":{\"__ndarray__\":\"AAAAACCHdj8AAAAAYOXYPwAAAICPwuE/AAAAANV45z8AAAAAEFjtPwAAAIC8dPE/AAAAQA4t9D8AAABguB73PwAAAEDdJPo/AAAA4Es3/T8AAACAaBEAQAAAANChxQFAAAAAMN0kA0AAAADg0CIFQAAAAFC4ngZAAAAA8PspCEAAAACwn5oJQAAAAFBiEAtAAAAAoJmZDEAAAAAgsPINQAAAAJCXbg9AAAAAIIVrEEAAAAAgLx0RQAAAAAiB1RFAAAAAiOuREkAAAAC4dFMTQAAAAKBuEhRAAAAA8CjcFEAAAADopZsVQAAAACiHVhZAAAAAYDsfF0AAAABgke0XQAAAAIA/tRhAAAAAKDGIGUAAAADQ91MaQAAAAHiTmBtAAAAAuPN9HEAAAACwR2EdQAAAALCdLx5AAAAAQLbzHkAAAABYj8IfQAAAAJBsRyBAAAAA4E+tIEAAAADczhchQAAAACyyfSFAAAAAMN3kIUAAAAAYrkciQAAAANSjsCJAAAAAiBYZI0AAAAC4830jQAAAADi06CNAAAAA5KVbJEAAAABIDOIkQAAAAJRDSyVAAAAA5KW7JUAAAAAssl0mQAAAABACyyZAAAAAQDU+J0AAAAAAAOAnQAAAALBHgShAAAAAxMohKUAAAACUGMQpQAAAAAzXYypAAAAASOH6KkAAAABkEJgrQAAAAJDtPCxAAAAAdL7fLEAAAACIFnktQAAAACCwEi5AAAAArByaLkAAAAAwMzMvQAAAAHA9yi9AAAAA7nwvMEAAAAAcL30wQAAAAIoWyTBAAAAA7FEYMUAAAADiemQxQAAAAKwcujFAAAAAIIULMkAAAAAsh1YyQAAAAKDvpzJAAAAAXI/yMkAAAAAisEIzQAAAADi0iDNAAAAAdGjRM0AAAAAeWiQ0QAAAALx0czRAAAAAQmDFNEAAAAAIgRU1QAAAAEoMYjVAAAAAtJ2vNUAAAAC6Sfw1QAAAAJzvRzZAAAAAzKGVNkAAAAAyM+M2QAAAALKdLzdAAAAAuPN9N0AAAAAyCMw3QAAAABjZHjhAAAAAGgRWOEAAAABu54s4QAAAAIpBwDhAAAAArkfxOEAAAADm0CI5QAAAAAIrVzlAAAAANl6KOUAAAAAeWtQ5QAAAAHaTCDpAAAAA9ig8OkAAAADufG86QAAAAOomoTpAAAAAlBjUOkAAAAAWrgc7QAAAAKrGOztAAAAABFZuO0AAAADKdr47QAAAAOom8TtAAAAAwMohPEAAAADeJFY8QAAAALByiDxAAAAAzMy8PEAAAACQl+48QAAAAA4tIj1AAAAApJtUPUAAAACcxKA9QAAAAGq81D1AAAAAbucLPkAAAAB6FD4+QAAAAHwUbj5AAAAAhOuhPkAAAABCYNU+QAAAAJ7vBz9AAAAASOE6P0AAAAB6FG4/QAAAAFyPoj9AAAAA4HrUP0AAAAClmwRAQAAAALfzHUBAAAAAd743QEAAAACuR1FAQAAAAG8Sa0BAAAAAMN2EQEAAAABmZp5AQAAAACcxuEBAAAAAI9vRQEAAAACq8epAQAAAAMyhBUFAAAAAAAAgQUAAAADgT0VBQAAAACuHXkFAAAAAw/V4QUAAAADTTZJBQAAAAG3nq0FAAAAALLLFQUAAAAB66d5BQAAAAMP1+EFAAAAA000SQkAAAADP9ytCQAAAAAaBRUJAAAAAAitfQkAAAADqJnlCQAAAAEoMkkJAAAAAl26qQkAAAAD0/cRCQAAAAC2y3UJAAAAAx0v3QkAAAACuRxFDQAAAAEfhKkNAAAAAarxEQ0AAAABU411DQAAAAClcd0NAAAAAN4mRQ0AAAADWo7hDQAAAAJqZ0UNAAAAA0SLrQ0AAAAAdWgREQAAAAI2XHkRAAAAAeL43REAAAADqJlFEQAAAAIPAakRAAAAApZuEREAAAAAEVp5EQAAAAJ7vt0RAAAAA1XjRREAAAABH4epEQAAAAKabBEVAAAAAQDUeRUAAAABjEDhFQAAAAMHKUUVAAAAAbedrRUAAAAAbL4VFQAAAAMl2nkVAAAAAEoO4RUAAAABxPdJFQAAAAOF67EVAAAAABoEFRkAAAABQjS9GQAAAAITASkZAAAAAuR5lRkAAAADdJH5GQAAAAGQ7l0ZA\",\"dtype\":\"float64\",\"order\":\"little\",\"shape\":[201]}},\"selected\":{\"id\":\"14730\"},\"selection_policy\":{\"id\":\"14731\"}},\"id\":\"14719\",\"type\":\"ColumnDataSource\"},{\"attributes\":{\"children\":[{\"id\":\"14637\"}]},\"id\":\"14772\",\"type\":\"Row\"},{\"attributes\":{},\"id\":\"14597\",\"type\":\"LinearScale\"},{\"attributes\":{\"overlay\":{\"id\":\"14662\"}},\"id\":\"14658\",\"type\":\"BoxZoomTool\"},{\"attributes\":{},\"id\":\"14705\",\"type\":\"PanTool\"},{\"attributes\":{\"bottom_units\":\"screen\",\"fill_alpha\":0.5,\"fill_color\":\"lightgrey\",\"left_units\":\"screen\",\"level\":\"overlay\",\"line_alpha\":1.0,\"line_color\":\"black\",\"line_dash\":[4,4],\"line_width\":2,\"right_units\":\"screen\",\"top_units\":\"screen\"},\"id\":\"14662\",\"type\":\"BoxAnnotation\"},{\"attributes\":{},\"id\":\"14698\",\"type\":\"BasicTicker\"},{\"attributes\":{\"data\":{\"index\":[0,1,2,3,4,5,6,7,8,9,10,11,12,13,14,15,16,17,18,19,20,21,22,23,24,25,26,27,28,29,30,31,32,33,34,35,36,37,38,39,40,41,42,43,44,45,46,47,48,49,50,51,52,53,54,55,56,57,58,59,60,61,62,63,64,65,66,67,68,69,70,71,72,73,74,75,76,77,78,79,80,81,82,83,84,85,86,87,88,89,90,91,92,93,94,95,96,97,98,99,100,101,102,103,104,105,106,107,108,109,110,111,112,113,114,115,116,117,118,119,120,121,122,123,124,125,126,127,128,129,130,131,132,133,134,135,136,137,138,139,140,141,142,143,144,145,146,147,148,149,150,151,152,153,154,155,156,157,158,159,160,161,162,163,164,165,166,167,168,169,170,171,172,173,174,175,176,177,178,179,180,181,182,183,184,185,186,187,188,189,190,191,192,193,194,195,196,197,198,199,200],\"motorL\":{\"__ndarray__\":\"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\",\"dtype\":\"float64\",\"order\":\"little\",\"shape\":[201]},\"motorM\":{\"__ndarray__\":\"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\",\"dtype\":\"float64\",\"order\":\"little\",\"shape\":[201]},\"motorR\":{\"__ndarray__\":\"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\",\"dtype\":\"float64\",\"order\":\"little\",\"shape\":[201]},\"time\":{\"__ndarray__\":\"AAAAACCHdj8AAAAAYOXYPwAAAICPwuE/AAAAANV45z8AAAAAEFjtPwAAAIC8dPE/AAAAQA4t9D8AAABguB73PwAAAEDdJPo/AAAA4Es3/T8AAACAaBEAQAAAANChxQFAAAAAMN0kA0AAAADg0CIFQAAAAFC4ngZAAAAA8PspCEAAAACwn5oJQAAAAFBiEAtAAAAAoJmZDEAAAAAgsPINQAAAAJCXbg9AAAAAIIVrEEAAAAAgLx0RQAAAAAiB1RFAAAAAiOuREkAAAAC4dFMTQAAAAKBuEhRAAAAA8CjcFEAAAADopZsVQAAAACiHVhZAAAAAYDsfF0AAAABgke0XQAAAAIA/tRhAAAAAKDGIGUAAAADQ91MaQAAAAHiTmBtAAAAAuPN9HEAAAACwR2EdQAAAALCdLx5AAAAAQLbzHkAAAABYj8IfQAAAAJBsRyBAAAAA4E+tIEAAAADczhchQAAAACyyfSFAAAAAMN3kIUAAAAAYrkciQAAAANSjsCJAAAAAiBYZI0AAAAC4830jQAAAADi06CNAAAAA5KVbJEAAAABIDOIkQAAAAJRDSyVAAAAA5KW7JUAAAAAssl0mQAAAABACyyZAAAAAQDU+J0AAAAAAAOAnQAAAALBHgShAAAAAxMohKUAAAACUGMQpQAAAAAzXYypAAAAASOH6KkAAAABkEJgrQAAAAJDtPCxAAAAAdL7fLEAAAACIFnktQAAAACCwEi5AAAAArByaLkAAAAAwMzMvQAAAAHA9yi9AAAAA7nwvMEAAAAAcL30wQAAAAIoWyTBAAAAA7FEYMUAAAADiemQxQAAAAKwcujFAAAAAIIULMkAAAAAsh1YyQAAAAKDvpzJAAAAAXI/yMkAAAAAisEIzQAAAADi0iDNAAAAAdGjRM0AAAAAeWiQ0QAAAALx0czRAAAAAQmDFNEAAAAAIgRU1QAAAAEoMYjVAAAAAtJ2vNUAAAAC6Sfw1QAAAAJzvRzZAAAAAzKGVNkAAAAAyM+M2QAAAALKdLzdAAAAAuPN9N0AAAAAyCMw3QAAAABjZHjhAAAAAGgRWOEAAAABu54s4QAAAAIpBwDhAAAAArkfxOEAAAADm0CI5QAAAAAIrVzlAAAAANl6KOUAAAAAeWtQ5QAAAAHaTCDpAAAAA9ig8OkAAAADufG86QAAAAOomoTpAAAAAlBjUOkAAAAAWrgc7QAAAAKrGOztAAAAABFZuO0AAAADKdr47QAAAAOom8TtAAAAAwMohPEAAAADeJFY8QAAAALByiDxAAAAAzMy8PEAAAACQl+48QAAAAA4tIj1AAAAApJtUPUAAAACcxKA9QAAAAGq81D1AAAAAbucLPkAAAAB6FD4+QAAAAHwUbj5AAAAAhOuhPkAAAABCYNU+QAAAAJ7vBz9AAAAASOE6P0AAAAB6FG4/QAAAAFyPoj9AAAAA4HrUP0AAAAClmwRAQAAAALfzHUBAAAAAd743QEAAAACuR1FAQAAAAG8Sa0BAAAAAMN2EQEAAAABmZp5AQAAAACcxuEBAAAAAI9vRQEAAAACq8epAQAAAAMyhBUFAAAAAAAAgQUAAAADgT0VBQAAAACuHXkFAAAAAw/V4QUAAAADTTZJBQAAAAG3nq0FAAAAALLLFQUAAAAB66d5BQAAAAMP1+EFAAAAA000SQkAAAADP9ytCQAAAAAaBRUJAAAAAAitfQkAAAADqJnlCQAAAAEoMkkJAAAAAl26qQkAAAAD0/cRCQAAAAC2y3UJAAAAAx0v3QkAAAACuRxFDQAAAAEfhKkNAAAAAarxEQ0AAAABU411DQAAAAClcd0NAAAAAN4mRQ0AAAADWo7hDQAAAAJqZ0UNAAAAA0SLrQ0AAAAAdWgREQAAAAI2XHkRAAAAAeL43REAAAADqJlFEQAAAAIPAakRAAAAApZuEREAAAAAEVp5EQAAAAJ7vt0RAAAAA1XjRREAAAABH4epEQAAAAKabBEVAAAAAQDUeRUAAAABjEDhFQAAAAMHKUUVAAAAAbedrRUAAAAAbL4VFQAAAAMl2nkVAAAAAEoO4RUAAAABxPdJFQAAAAOF67EVAAAAABoEFRkAAAABQjS9GQAAAAITASkZAAAAAuR5lRkAAAADdJH5GQAAAAGQ7l0ZA\",\"dtype\":\"float64\",\"order\":\"little\",\"shape\":[201]}},\"selected\":{\"id\":\"14767\"},\"selection_policy\":{\"id\":\"14768\"}},\"id\":\"14752\",\"type\":\"ColumnDataSource\"},{\"attributes\":{},\"id\":\"14612\",\"type\":\"HelpTool\"},{\"attributes\":{\"source\":{\"id\":\"14752\"}},\"id\":\"14757\",\"type\":\"CDSView\"},{\"attributes\":{},\"id\":\"14691\",\"type\":\"DataRange1d\"},{\"attributes\":{\"bottom_units\":\"screen\",\"fill_alpha\":0.5,\"fill_color\":\"lightgrey\",\"left_units\":\"screen\",\"level\":\"overlay\",\"line_alpha\":1.0,\"line_color\":\"black\",\"line_dash\":[4,4],\"line_width\":2,\"right_units\":\"screen\",\"top_units\":\"screen\"},\"id\":\"14613\",\"type\":\"BoxAnnotation\"},{\"attributes\":{\"axis\":{\"id\":\"14697\"},\"ticker\":null},\"id\":\"14700\",\"type\":\"Grid\"},{\"attributes\":{},\"id\":\"14608\",\"type\":\"WheelZoomTool\"},{\"attributes\":{\"source\":{\"id\":\"14719\"}},\"id\":\"14724\",\"type\":\"CDSView\"},{\"attributes\":{},\"id\":\"14677\",\"type\":\"BasicTickFormatter\"},{\"attributes\":{\"source\":{\"id\":\"14670\"}},\"id\":\"14675\",\"type\":\"CDSView\"},{\"attributes\":{\"line_alpha\":0.1,\"line_color\":\"blue\",\"x\":{\"field\":\"time\"},\"y\":{\"field\":\"motorL\"}},\"id\":\"14738\",\"type\":\"Line\"},{\"attributes\":{},\"id\":\"14728\",\"type\":\"BasicTickFormatter\"},{\"attributes\":{},\"id\":\"14591\",\"type\":\"DataRange1d\"},{\"attributes\":{},\"id\":\"14695\",\"type\":\"LinearScale\"},{\"attributes\":{\"formatter\":{\"id\":\"14728\"},\"ticker\":{\"id\":\"14698\"}},\"id\":\"14697\",\"type\":\"LinearAxis\"},{\"attributes\":{\"line_color\":\"red\",\"x\":{\"field\":\"time\"},\"y\":{\"field\":\"tension\"}},\"id\":\"14672\",\"type\":\"Line\"},{\"attributes\":{\"children\":[{\"id\":\"14588\"}]},\"id\":\"14771\",\"type\":\"Row\"},{\"attributes\":{\"axis\":{\"id\":\"14701\"},\"dimension\":1,\"ticker\":null},\"id\":\"14704\",\"type\":\"Grid\"},{\"attributes\":{\"active_drag\":\"auto\",\"active_inspect\":\"auto\",\"active_multi\":null,\"active_scroll\":\"auto\",\"active_tap\":\"auto\",\"tools\":[{\"id\":\"14607\"},{\"id\":\"14608\"},{\"id\":\"14609\"},{\"id\":\"14610\"},{\"id\":\"14611\"},{\"id\":\"14612\"}]},\"id\":\"14614\",\"type\":\"Toolbar\"},{\"attributes\":{\"label\":{\"value\":\"motorL\"},\"renderers\":[{\"id\":\"14739\"}]},\"id\":\"14751\",\"type\":\"LegendItem\"},{\"attributes\":{\"source\":{\"id\":\"14735\"}},\"id\":\"14740\",\"type\":\"CDSView\"},{\"attributes\":{\"line_color\":\"blue\",\"x\":{\"field\":\"time\"},\"y\":{\"field\":\"motorL\"}},\"id\":\"14737\",\"type\":\"Line\"},{\"attributes\":{},\"id\":\"14749\",\"type\":\"UnionRenderers\"},{\"attributes\":{\"line_color\":\"green\",\"x\":{\"field\":\"time\"},\"y\":{\"field\":\"motorM\"}},\"id\":\"14754\",\"type\":\"Line\"},{\"attributes\":{\"label\":{\"value\":\"motorR\"},\"renderers\":[{\"id\":\"14723\"}]},\"id\":\"14734\",\"type\":\"LegendItem\"},{\"attributes\":{\"label\":{\"value\":\"motorM\"},\"renderers\":[{\"id\":\"14756\"}]},\"id\":\"14770\",\"type\":\"LegendItem\"},{\"attributes\":{\"axis\":{\"id\":\"14599\"},\"ticker\":null},\"id\":\"14602\",\"type\":\"Grid\"},{\"attributes\":{\"bottom_units\":\"screen\",\"fill_alpha\":0.5,\"fill_color\":\"lightgrey\",\"left_units\":\"screen\",\"level\":\"overlay\",\"line_alpha\":1.0,\"line_color\":\"black\",\"line_dash\":[4,4],\"line_width\":2,\"right_units\":\"screen\",\"top_units\":\"screen\"},\"id\":\"14711\",\"type\":\"BoxAnnotation\"},{\"attributes\":{\"data_source\":{\"id\":\"14621\"},\"glyph\":{\"id\":\"14623\"},\"hover_glyph\":null,\"muted_glyph\":null,\"nonselection_glyph\":{\"id\":\"14624\"},\"selection_glyph\":null,\"view\":{\"id\":\"14626\"}},\"id\":\"14625\",\"type\":\"GlyphRenderer\"},{\"attributes\":{\"line_alpha\":0.1,\"line_color\":\"red\",\"x\":{\"field\":\"time\"},\"y\":{\"field\":\"tension\"}},\"id\":\"14673\",\"type\":\"Line\"},{\"attributes\":{},\"id\":\"14681\",\"type\":\"Selection\"},{\"attributes\":{\"data_source\":{\"id\":\"14752\"},\"glyph\":{\"id\":\"14754\"},\"hover_glyph\":null,\"muted_glyph\":null,\"nonselection_glyph\":{\"id\":\"14755\"},\"selection_glyph\":null,\"view\":{\"id\":\"14757\"}},\"id\":\"14756\",\"type\":\"GlyphRenderer\"},{\"attributes\":{\"active_drag\":\"auto\",\"active_inspect\":\"auto\",\"active_multi\":null,\"active_scroll\":\"auto\",\"active_tap\":\"auto\",\"tools\":[{\"id\":\"14705\"},{\"id\":\"14706\"},{\"id\":\"14707\"},{\"id\":\"14708\"},{\"id\":\"14709\"},{\"id\":\"14710\"}]},\"id\":\"14712\",\"type\":\"Toolbar\"},{\"attributes\":{},\"id\":\"14748\",\"type\":\"Selection\"},{\"attributes\":{\"items\":[{\"id\":\"14685\"}]},\"id\":\"14684\",\"type\":\"Legend\"},{\"attributes\":{},\"id\":\"14767\",\"type\":\"Selection\"},{\"attributes\":{},\"id\":\"14659\",\"type\":\"SaveTool\"},{\"attributes\":{\"line_alpha\":0.1,\"line_color\":\"red\",\"x\":{\"field\":\"time\"},\"y\":{\"field\":\"power\"}},\"id\":\"14624\",\"type\":\"Line\"},{\"attributes\":{\"data_source\":{\"id\":\"14670\"},\"glyph\":{\"id\":\"14672\"},\"hover_glyph\":null,\"muted_glyph\":null,\"nonselection_glyph\":{\"id\":\"14673\"},\"selection_glyph\":null,\"view\":{\"id\":\"14675\"}},\"id\":\"14674\",\"type\":\"GlyphRenderer\"},{\"attributes\":{},\"id\":\"14644\",\"type\":\"LinearScale\"},{\"attributes\":{\"data\":{\"index\":[0,1,2,3,4,5,6,7,8,9,10,11,12,13,14,15,16,17,18,19,20,21,22,23,24,25,26,27,28,29,30,31,32,33,34,35,36,37,38,39,40,41,42,43,44,45,46,47,48,49,50,51,52,53,54,55,56,57,58,59,60,61,62,63,64,65,66,67,68,69,70,71,72,73,74,75,76,77,78,79,80,81,82,83,84,85,86,87,88,89,90,91,92,93,94,95,96,97,98,99,100,101,102,103,104,105,106,107,108,109,110,111,112,113,114,115,116,117,118,119,120,121,122,123,124,125,126,127,128,129,130,131,132,133,134,135,136,137,138,139,140,141,142,143,144,145,146,147,148,149,150,151,152,153,154,155,156,157,158,159,160,161,162,163,164,165,166,167,168,169,170,171,172,173,174,175,176,177,178,179,180,181,182,183,184,185,186,187,188,189,190,191,192,193,194,195,196,197,198,199,200],\"tension\":{\"__ndarray__\":\"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\",\"dtype\":\"float64\",\"order\":\"little\",\"shape\":[201]},\"time\":{\"__ndarray__\":\"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\",\"dtype\":\"float64\",\"order\":\"little\",\"shape\":[201]}},\"selected\":{\"id\":\"14681\"},\"selection_policy\":{\"id\":\"14682\"}},\"id\":\"14670\",\"type\":\"ColumnDataSource\"},{\"attributes\":{},\"id\":\"14632\",\"type\":\"Selection\"},{\"attributes\":{\"axis\":{\"id\":\"14648\"},\"ticker\":null},\"id\":\"14651\",\"type\":\"Grid\"},{\"attributes\":{},\"id\":\"14640\",\"type\":\"DataRange1d\"},{\"attributes\":{\"label\":{\"value\":\"power\"},\"renderers\":[{\"id\":\"14625\"}]},\"id\":\"14636\",\"type\":\"LegendItem\"},{\"attributes\":{\"formatter\":{\"id\":\"14677\"},\"ticker\":{\"id\":\"14653\"}},\"id\":\"14652\",\"type\":\"LinearAxis\"},{\"attributes\":{},\"id\":\"14642\",\"type\":\"DataRange1d\"},{\"attributes\":{},\"id\":\"14630\",\"type\":\"BasicTickFormatter\"},{\"attributes\":{\"text\":\"tension\"},\"id\":\"14638\",\"type\":\"Title\"},{\"attributes\":{},\"id\":\"14649\",\"type\":\"BasicTicker\"},{\"attributes\":{},\"id\":\"14633\",\"type\":\"UnionRenderers\"},{\"attributes\":{\"formatter\":{\"id\":\"14679\"},\"ticker\":{\"id\":\"14649\"}},\"id\":\"14648\",\"type\":\"LinearAxis\"},{\"attributes\":{\"axis\":{\"id\":\"14652\"},\"dimension\":1,\"ticker\":null},\"id\":\"14655\",\"type\":\"Grid\"},{\"attributes\":{},\"id\":\"14653\",\"type\":\"BasicTicker\"},{\"attributes\":{},\"id\":\"14646\",\"type\":\"LinearScale\"},{\"attributes\":{},\"id\":\"14628\",\"type\":\"BasicTickFormatter\"},{\"attributes\":{\"items\":[{\"id\":\"14636\"}]},\"id\":\"14635\",\"type\":\"Legend\"},{\"attributes\":{},\"id\":\"14656\",\"type\":\"PanTool\"},{\"attributes\":{\"below\":[{\"id\":\"14648\"}],\"center\":[{\"id\":\"14651\"},{\"id\":\"14655\"},{\"id\":\"14684\"}],\"left\":[{\"id\":\"14652\"}],\"plot_height\":300,\"plot_width\":980,\"renderers\":[{\"id\":\"14674\"}],\"title\":{\"id\":\"14638\"},\"toolbar\":{\"id\":\"14663\"},\"x_range\":{\"id\":\"14640\"},\"x_scale\":{\"id\":\"14644\"},\"y_range\":{\"id\":\"14642\"},\"y_scale\":{\"id\":\"14646\"}},\"id\":\"14637\",\"subtype\":\"Figure\",\"type\":\"Plot\"}],\"root_ids\":[\"14774\"]},\"title\":\"Bokeh Application\",\"version\":\"2.1.1\"}};\n",
       "  var render_items = [{\"docid\":\"a495eca0-cae2-4435-b485-3bffcf95166e\",\"notebook_comms_target\":\"14831\",\"root_ids\":[\"14774\"],\"roots\":{\"14774\":\"dc5eb385-4d78-43e8-94b0-c3ef809466e5\"}}];\n",
       "  root.Bokeh.embed.embed_items_notebook(docs_json, render_items);\n",
       "\n",
       "  }\n",
       "  if (root.Bokeh !== undefined) {\n",
       "    embed_document(root);\n",
       "  } else {\n",
       "    var attempts = 0;\n",
       "    var timer = setInterval(function(root) {\n",
       "      if (root.Bokeh !== undefined) {\n",
       "        clearInterval(timer);\n",
       "        embed_document(root);\n",
       "      } else {\n",
       "        attempts++;\n",
       "        if (attempts > 100) {\n",
       "          clearInterval(timer);\n",
       "          console.log(\"Bokeh: ERROR: Unable to run BokehJS code because BokehJS library is missing\");\n",
       "        }\n",
       "      }\n",
       "    }, 10, root)\n",
       "  }\n",
       "})(window);"
      ],
      "application/vnd.bokehjs_exec.v0+json": ""
     },
     "metadata": {
      "application/vnd.bokehjs_exec.v0+json": {
       "id": "14774"
      }
     },
     "output_type": "display_data"
    },
    {
     "data": {
      "application/vnd.jupyter.widget-view+json": {
       "model_id": "3bcca01b96314def886e17cf6f52a12d",
       "version_major": 2,
       "version_minor": 0
      },
      "text/plain": [
       "VBox(children=(Box(children=(Output(layout=Layout(border='1px solid black', grid_area='widget001')), Output(la…"
      ]
     },
     "metadata": {},
     "output_type": "display_data"
    },
    {
     "name": "stdout",
     "output_type": "stream",
     "text": [
      "xMax= 38.44613234964727 L_x(xMax)= 14.700000000000001   x= 36.20250650014535   L= -14.40994779902097 xEnd= 41.48671273533955 lEnd= 14.700000000000001\n",
      "ending\n",
      "ura\n"
     ]
    },
    {
     "ename": "KeyboardInterrupt",
     "evalue": "",
     "output_type": "error",
     "traceback": [
      "\u001B[1;31m---------------------------------------------------------------------------\u001B[0m",
      "\u001B[1;31mKeyboardInterrupt\u001B[0m                         Traceback (most recent call last)",
      "\u001B[1;32m<ipython-input-9-4fdae312e052>\u001B[0m in \u001B[0;36m<module>\u001B[1;34m\u001B[0m\n\u001B[0;32m     47\u001B[0m     \u001B[1;32mwhile\u001B[0m \u001B[0msl\u001B[0m\u001B[1;33m.\u001B[0m\u001B[0mBtnFl\u001B[0m\u001B[1;33m[\u001B[0m\u001B[1;34m'end'\u001B[0m\u001B[1;33m]\u001B[0m\u001B[1;33m<\u001B[0m\u001B[1;36m3\u001B[0m\u001B[1;33m:\u001B[0m\u001B[1;33m\u001B[0m\u001B[1;33m\u001B[0m\u001B[0m\n\u001B[0;32m     48\u001B[0m         \u001B[0mpoll\u001B[0m\u001B[1;33m(\u001B[0m\u001B[1;36m10\u001B[0m\u001B[1;33m)\u001B[0m\u001B[1;33m\u001B[0m\u001B[1;33m\u001B[0m\u001B[0m\n\u001B[1;32m---> 49\u001B[1;33m         \u001B[0mpl\u001B[0m\u001B[1;33m.\u001B[0m\u001B[0mSetW\u001B[0m\u001B[1;33m(\u001B[0m\u001B[1;36m10\u001B[0m\u001B[1;33m,\u001B[0m\u001B[0mdw\u001B[0m\u001B[1;33m=\u001B[0m\u001B[1;36m1\u001B[0m\u001B[1;33m,\u001B[0m\u001B[0mtau\u001B[0m\u001B[1;33m=\u001B[0m\u001B[1;36m0.5\u001B[0m\u001B[1;33m)\u001B[0m\u001B[1;33m\u001B[0m\u001B[1;33m\u001B[0m\u001B[0m\n\u001B[0m\u001B[0;32m     50\u001B[0m \u001B[0mprint\u001B[0m\u001B[1;33m(\u001B[0m\u001B[1;34m'vse'\u001B[0m\u001B[1;33m)\u001B[0m\u001B[1;33m\u001B[0m\u001B[1;33m\u001B[0m\u001B[0m\n",
      "\u001B[1;32mc:\\users\\fiber\\pycharmprojects\\table_control\\venv\\lib\\site-packages\\korbash_lib.py\u001B[0m in \u001B[0;36mSetW\u001B[1;34m(self, wide, dw, k, tau, quiet)\u001B[0m\n\u001B[0;32m   1049\u001B[0m             \u001B[0mt1\u001B[0m \u001B[1;33m=\u001B[0m \u001B[0mTime\u001B[0m\u001B[1;33m.\u001B[0m\u001B[0mtime\u001B[0m\u001B[1;33m(\u001B[0m\u001B[1;33m)\u001B[0m\u001B[1;33m\u001B[0m\u001B[1;33m\u001B[0m\u001B[0m\n\u001B[0;32m   1050\u001B[0m             \u001B[1;32mwhile\u001B[0m \u001B[0mself\u001B[0m\u001B[1;33m.\u001B[0m\u001B[0mtg\u001B[0m\u001B[1;33m.\u001B[0m\u001B[0mtPoints\u001B[0m\u001B[1;33m[\u001B[0m\u001B[1;33m-\u001B[0m\u001B[1;36m1\u001B[0m\u001B[1;33m]\u001B[0m \u001B[1;33m-\u001B[0m \u001B[0mt1\u001B[0m \u001B[1;33m<\u001B[0m \u001B[0mtau\u001B[0m\u001B[1;33m:\u001B[0m\u001B[1;33m\u001B[0m\u001B[1;33m\u001B[0m\u001B[0m\n\u001B[1;32m-> 1051\u001B[1;33m                 \u001B[0mself\u001B[0m\u001B[1;33m.\u001B[0m\u001B[0mtg\u001B[0m\u001B[1;33m.\u001B[0m\u001B[0mReadTension\u001B[0m\u001B[1;33m(\u001B[0m\u001B[1;33m)\u001B[0m\u001B[1;33m\u001B[0m\u001B[1;33m\u001B[0m\u001B[0m\n\u001B[0m\u001B[0;32m   1052\u001B[0m                 \u001B[0mi\u001B[0m \u001B[1;33m+=\u001B[0m \u001B[1;36m1\u001B[0m\u001B[1;33m\u001B[0m\u001B[1;33m\u001B[0m\u001B[0m\n\u001B[0;32m   1053\u001B[0m             \u001B[0mw\u001B[0m \u001B[1;33m=\u001B[0m \u001B[0mEverage\u001B[0m\u001B[1;33m(\u001B[0m\u001B[0mself\u001B[0m\u001B[1;33m.\u001B[0m\u001B[0mtg\u001B[0m\u001B[1;33m.\u001B[0m\u001B[0mweights\u001B[0m\u001B[1;33m,\u001B[0m \u001B[0mself\u001B[0m\u001B[1;33m.\u001B[0m\u001B[0mtg\u001B[0m\u001B[1;33m.\u001B[0m\u001B[0mtPoints\u001B[0m\u001B[1;33m,\u001B[0m \u001B[0mtau\u001B[0m\u001B[1;33m)\u001B[0m\u001B[1;33m\u001B[0m\u001B[1;33m\u001B[0m\u001B[0m\n",
      "\u001B[1;32mc:\\users\\fiber\\pycharmprojects\\table_control\\venv\\lib\\site-packages\\korbash_lib.py\u001B[0m in \u001B[0;36mReadTension\u001B[1;34m(self, memory, memoryTime)\u001B[0m\n\u001B[0;32m    256\u001B[0m \u001B[1;33m\u001B[0m\u001B[0m\n\u001B[0;32m    257\u001B[0m             \u001B[0mt0\u001B[0m \u001B[1;33m=\u001B[0m \u001B[0mTime\u001B[0m\u001B[1;33m.\u001B[0m\u001B[0mtime\u001B[0m\u001B[1;33m(\u001B[0m\u001B[1;33m)\u001B[0m\u001B[1;33m\u001B[0m\u001B[1;33m\u001B[0m\u001B[0m\n\u001B[1;32m--> 258\u001B[1;33m             \u001B[1;32mwhile\u001B[0m \u001B[0mself\u001B[0m\u001B[1;33m.\u001B[0m\u001B[0msimFlag\u001B[0m \u001B[1;33m==\u001B[0m \u001B[1;32mFalse\u001B[0m \u001B[1;32mand\u001B[0m \u001B[0mself\u001B[0m\u001B[1;33m.\u001B[0m\u001B[0mport\u001B[0m\u001B[1;33m.\u001B[0m\u001B[0min_waiting\u001B[0m \u001B[1;33m==\u001B[0m \u001B[1;36m0\u001B[0m\u001B[1;33m:\u001B[0m\u001B[1;33m\u001B[0m\u001B[1;33m\u001B[0m\u001B[0m\n\u001B[0m\u001B[0;32m    259\u001B[0m                 \u001B[1;32mif\u001B[0m \u001B[0mTime\u001B[0m\u001B[1;33m.\u001B[0m\u001B[0mtime\u001B[0m\u001B[1;33m(\u001B[0m\u001B[1;33m)\u001B[0m \u001B[1;33m-\u001B[0m \u001B[0mt0\u001B[0m \u001B[1;33m>\u001B[0m \u001B[1;36m1\u001B[0m\u001B[1;33m:\u001B[0m\u001B[1;33m\u001B[0m\u001B[1;33m\u001B[0m\u001B[0m\n\u001B[0;32m    260\u001B[0m                     \u001B[0mprint\u001B[0m\u001B[1;33m(\u001B[0m\u001B[1;34m'tg read woiting problem'\u001B[0m\u001B[1;33m)\u001B[0m\u001B[1;33m\u001B[0m\u001B[1;33m\u001B[0m\u001B[0m\n",
      "\u001B[1;32mc:\\users\\fiber\\pycharmprojects\\table_control\\venv\\lib\\site-packages\\serial\\serialwin32.py\u001B[0m in \u001B[0;36min_waiting\u001B[1;34m(self)\u001B[0m\n\u001B[0;32m    254\u001B[0m         \u001B[0mflags\u001B[0m \u001B[1;33m=\u001B[0m \u001B[0mwin32\u001B[0m\u001B[1;33m.\u001B[0m\u001B[0mDWORD\u001B[0m\u001B[1;33m(\u001B[0m\u001B[1;33m)\u001B[0m\u001B[1;33m\u001B[0m\u001B[1;33m\u001B[0m\u001B[0m\n\u001B[0;32m    255\u001B[0m         \u001B[0mcomstat\u001B[0m \u001B[1;33m=\u001B[0m \u001B[0mwin32\u001B[0m\u001B[1;33m.\u001B[0m\u001B[0mCOMSTAT\u001B[0m\u001B[1;33m(\u001B[0m\u001B[1;33m)\u001B[0m\u001B[1;33m\u001B[0m\u001B[1;33m\u001B[0m\u001B[0m\n\u001B[1;32m--> 256\u001B[1;33m         \u001B[1;32mif\u001B[0m \u001B[1;32mnot\u001B[0m \u001B[0mwin32\u001B[0m\u001B[1;33m.\u001B[0m\u001B[0mClearCommError\u001B[0m\u001B[1;33m(\u001B[0m\u001B[0mself\u001B[0m\u001B[1;33m.\u001B[0m\u001B[0m_port_handle\u001B[0m\u001B[1;33m,\u001B[0m \u001B[0mctypes\u001B[0m\u001B[1;33m.\u001B[0m\u001B[0mbyref\u001B[0m\u001B[1;33m(\u001B[0m\u001B[0mflags\u001B[0m\u001B[1;33m)\u001B[0m\u001B[1;33m,\u001B[0m \u001B[0mctypes\u001B[0m\u001B[1;33m.\u001B[0m\u001B[0mbyref\u001B[0m\u001B[1;33m(\u001B[0m\u001B[0mcomstat\u001B[0m\u001B[1;33m)\u001B[0m\u001B[1;33m)\u001B[0m\u001B[1;33m:\u001B[0m\u001B[1;33m\u001B[0m\u001B[1;33m\u001B[0m\u001B[0m\n\u001B[0m\u001B[0;32m    257\u001B[0m             \u001B[1;32mraise\u001B[0m \u001B[0mSerialException\u001B[0m\u001B[1;33m(\u001B[0m\u001B[1;34m\"ClearCommError failed ({!r})\"\u001B[0m\u001B[1;33m.\u001B[0m\u001B[0mformat\u001B[0m\u001B[1;33m(\u001B[0m\u001B[0mctypes\u001B[0m\u001B[1;33m.\u001B[0m\u001B[0mWinError\u001B[0m\u001B[1;33m(\u001B[0m\u001B[1;33m)\u001B[0m\u001B[1;33m)\u001B[0m\u001B[1;33m)\u001B[0m\u001B[1;33m\u001B[0m\u001B[1;33m\u001B[0m\u001B[0m\n\u001B[0;32m    258\u001B[0m         \u001B[1;32mreturn\u001B[0m \u001B[0mcomstat\u001B[0m\u001B[1;33m.\u001B[0m\u001B[0mcbInQue\u001B[0m\u001B[1;33m\u001B[0m\u001B[1;33m\u001B[0m\u001B[0m\n",
      "\u001B[1;31mKeyboardInterrupt\u001B[0m: "
     ]
    }
   ],
   "source": [
    "downPos=pl.ms.motorM.position_max-2\n",
    "t0 = time.time()\n",
    "t = t0\n",
    "dp.Show()\n",
    "sl.Display()\n",
    "pl.Clear2()\n",
    "with ui_events() as poll:\n",
    "    while True:\n",
    "        poll(10)\n",
    "        t = time.time()\n",
    "        pl.Read()\n",
    "        x=pl.data['x'].iloc[-1]\n",
    "        v=sl.Sl['v']()\n",
    "        a=sl.Sl['a']()\n",
    "        dv=sl.Sl['dv']()\n",
    "        ww=int(sl.Sl['window']())\n",
    "        sl.ChangeValueTt('x',x)\n",
    "        sl.ChangeValueTt('L',pl.ms.L_x(x))\n",
    "        sl.ChangeValueTt('R',pl.ms.R_x(x))\n",
    "        sl.ChangeValueTt('dv',dv)\n",
    "\n",
    "        if not pl.ms.motorM.IsInMotion():\n",
    "            if not sl.BtnFl['molibden']:\n",
    "                pl.ms.motorM.MoveTo(downPos)\n",
    "            else: \n",
    "                pl.ms.motorM.MoveTo(x0+sl.Sl['molibdenH']())\n",
    "\n",
    "        if not pl.ms.IsInMotion():\n",
    "            if sl.BtnFl['end']==1:\n",
    "                print('ending')\n",
    "                sl.BtnFl['end']=2\n",
    "            elif pl.ms.PulMove(v, a, dv)==-1: sl.BtnFl['end']=1 # само движение моторчиков можно убрать\n",
    "            \n",
    "        if sl.BtnFl['end']>1: \n",
    "            pl.ms.Stop('M')\n",
    "            pl.ms.motorM.FogotMotion()\n",
    "            pl.ms.Start('M')\n",
    "            pl.ms.motorM.MoveTo(downPos)\n",
    "            break\n",
    "            \n",
    "        dp.Apdate(for_all=pl.data.iloc[-ww:])\n",
    "        push_notebook()    \n",
    "        time.sleep(0.04)\n",
    "print('ura')\n",
    "pl.Save()\n",
    "with ui_events() as poll:\n",
    "    while sl.BtnFl['end']<3:\n",
    "        poll(10)\n",
    "        pl.SetW(10,dw=1,tau=0.5)\n",
    "print('vse')"
   ]
  },
  {
   "cell_type": "code",
   "execution_count": 10,
   "metadata": {
    "pycharm": {
     "name": "#%%\n"
    }
   },
   "outputs": [
    {
     "name": "stdout",
     "output_type": "stream",
     "text": [
      "ending\n",
      "end\n"
     ]
    }
   ],
   "source": [
    "pl.ms.End() # растановка моторчиков на нули (запускать перед отключением питания)"
   ]
  },
  {
   "cell_type": "code",
   "execution_count": 6,
   "metadata": {
    "pycharm": {
     "name": "#%%\n"
    }
   },
   "outputs": [
    {
     "name": "stdout",
     "output_type": "stream",
     "text": [
      "data saved\n"
     ]
    }
   ],
   "source": [
    "pl.Save() # сохранение данных"
   ]
  }
 ],
 "metadata": {
  "kernelspec": {
   "display_name": "Python 3",
   "language": "python",
   "name": "python3"
  },
  "language_info": {
   "codemirror_mode": {
    "name": "ipython",
    "version": 3
   },
   "file_extension": ".py",
   "mimetype": "text/x-python",
   "name": "python",
   "nbconvert_exporter": "python",
   "pygments_lexer": "ipython3",
   "version": "3.8.3"
  }
 },
 "nbformat": 4,
 "nbformat_minor": 1
}