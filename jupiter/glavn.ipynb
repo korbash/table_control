{
 "cells": [
  {
   "cell_type": "code",
   "execution_count": 1,
   "metadata": {
    "pycharm": {
     "is_executing": true
    }
   },
   "outputs": [
    {
     "data": {
      "text/html": [
       "\n",
       "    <div class=\"bk-root\">\n",
       "        <a href=\"https://bokeh.org\" target=\"_blank\" class=\"bk-logo bk-logo-small bk-logo-notebook\"></a>\n",
       "        <span id=\"1001\">Loading BokehJS ...</span>\n",
       "    </div>"
      ]
     },
     "metadata": {},
     "output_type": "display_data"
    },
    {
     "data": {
      "application/javascript": [
       "\n",
       "(function(root) {\n",
       "  function now() {\n",
       "    return new Date();\n",
       "  }\n",
       "\n",
       "  var force = true;\n",
       "\n",
       "  if (typeof root._bokeh_onload_callbacks === \"undefined\" || force === true) {\n",
       "    root._bokeh_onload_callbacks = [];\n",
       "    root._bokeh_is_loading = undefined;\n",
       "  }\n",
       "\n",
       "  var JS_MIME_TYPE = 'application/javascript';\n",
       "  var HTML_MIME_TYPE = 'text/html';\n",
       "  var EXEC_MIME_TYPE = 'application/vnd.bokehjs_exec.v0+json';\n",
       "  var CLASS_NAME = 'output_bokeh rendered_html';\n",
       "\n",
       "  /**\n",
       "   * Render data to the DOM node\n",
       "   */\n",
       "  function render(props, node) {\n",
       "    var script = document.createElement(\"script\");\n",
       "    node.appendChild(script);\n",
       "  }\n",
       "\n",
       "  /**\n",
       "   * Handle when an output is cleared or removed\n",
       "   */\n",
       "  function handleClearOutput(event, handle) {\n",
       "    var cell = handle.cell;\n",
       "\n",
       "    var id = cell.output_area._bokeh_element_id;\n",
       "    var server_id = cell.output_area._bokeh_server_id;\n",
       "    // Clean up Bokeh references\n",
       "    if (id != null && id in Bokeh.index) {\n",
       "      Bokeh.index[id].model.document.clear();\n",
       "      delete Bokeh.index[id];\n",
       "    }\n",
       "\n",
       "    if (server_id !== undefined) {\n",
       "      // Clean up Bokeh references\n",
       "      var cmd = \"from bokeh.io.state import curstate; print(curstate().uuid_to_server['\" + server_id + \"'].get_sessions()[0].document.roots[0]._id)\";\n",
       "      cell.notebook.kernel.execute(cmd, {\n",
       "        iopub: {\n",
       "          output: function(msg) {\n",
       "            var id = msg.content.text.trim();\n",
       "            if (id in Bokeh.index) {\n",
       "              Bokeh.index[id].model.document.clear();\n",
       "              delete Bokeh.index[id];\n",
       "            }\n",
       "          }\n",
       "        }\n",
       "      });\n",
       "      // Destroy server and session\n",
       "      var cmd = \"import bokeh.io.notebook as ion; ion.destroy_server('\" + server_id + \"')\";\n",
       "      cell.notebook.kernel.execute(cmd);\n",
       "    }\n",
       "  }\n",
       "\n",
       "  /**\n",
       "   * Handle when a new output is added\n",
       "   */\n",
       "  function handleAddOutput(event, handle) {\n",
       "    var output_area = handle.output_area;\n",
       "    var output = handle.output;\n",
       "\n",
       "    // limit handleAddOutput to display_data with EXEC_MIME_TYPE content only\n",
       "    if ((output.output_type != \"display_data\") || (!output.data.hasOwnProperty(EXEC_MIME_TYPE))) {\n",
       "      return\n",
       "    }\n",
       "\n",
       "    var toinsert = output_area.element.find(\".\" + CLASS_NAME.split(' ')[0]);\n",
       "\n",
       "    if (output.metadata[EXEC_MIME_TYPE][\"id\"] !== undefined) {\n",
       "      toinsert[toinsert.length - 1].firstChild.textContent = output.data[JS_MIME_TYPE];\n",
       "      // store reference to embed id on output_area\n",
       "      output_area._bokeh_element_id = output.metadata[EXEC_MIME_TYPE][\"id\"];\n",
       "    }\n",
       "    if (output.metadata[EXEC_MIME_TYPE][\"server_id\"] !== undefined) {\n",
       "      var bk_div = document.createElement(\"div\");\n",
       "      bk_div.innerHTML = output.data[HTML_MIME_TYPE];\n",
       "      var script_attrs = bk_div.children[0].attributes;\n",
       "      for (var i = 0; i < script_attrs.length; i++) {\n",
       "        toinsert[toinsert.length - 1].firstChild.setAttribute(script_attrs[i].name, script_attrs[i].value);\n",
       "        toinsert[toinsert.length - 1].firstChild.textContent = bk_div.children[0].textContent\n",
       "      }\n",
       "      // store reference to server id on output_area\n",
       "      output_area._bokeh_server_id = output.metadata[EXEC_MIME_TYPE][\"server_id\"];\n",
       "    }\n",
       "  }\n",
       "\n",
       "  function register_renderer(events, OutputArea) {\n",
       "\n",
       "    function append_mime(data, metadata, element) {\n",
       "      // create a DOM node to render to\n",
       "      var toinsert = this.create_output_subarea(\n",
       "        metadata,\n",
       "        CLASS_NAME,\n",
       "        EXEC_MIME_TYPE\n",
       "      );\n",
       "      this.keyboard_manager.register_events(toinsert);\n",
       "      // Render to node\n",
       "      var props = {data: data, metadata: metadata[EXEC_MIME_TYPE]};\n",
       "      render(props, toinsert[toinsert.length - 1]);\n",
       "      element.append(toinsert);\n",
       "      return toinsert\n",
       "    }\n",
       "\n",
       "    /* Handle when an output is cleared or removed */\n",
       "    events.on('clear_output.CodeCell', handleClearOutput);\n",
       "    events.on('delete.Cell', handleClearOutput);\n",
       "\n",
       "    /* Handle when a new output is added */\n",
       "    events.on('output_added.OutputArea', handleAddOutput);\n",
       "\n",
       "    /**\n",
       "     * Register the mime type and append_mime function with output_area\n",
       "     */\n",
       "    OutputArea.prototype.register_mime_type(EXEC_MIME_TYPE, append_mime, {\n",
       "      /* Is output safe? */\n",
       "      safe: true,\n",
       "      /* Index of renderer in `output_area.display_order` */\n",
       "      index: 0\n",
       "    });\n",
       "  }\n",
       "\n",
       "  // register the mime type if in Jupyter Notebook environment and previously unregistered\n",
       "  if (root.Jupyter !== undefined) {\n",
       "    var events = require('base/js/events');\n",
       "    var OutputArea = require('notebook/js/outputarea').OutputArea;\n",
       "\n",
       "    if (OutputArea.prototype.mime_types().indexOf(EXEC_MIME_TYPE) == -1) {\n",
       "      register_renderer(events, OutputArea);\n",
       "    }\n",
       "  }\n",
       "\n",
       "  \n",
       "  if (typeof (root._bokeh_timeout) === \"undefined\" || force === true) {\n",
       "    root._bokeh_timeout = Date.now() + 5000;\n",
       "    root._bokeh_failed_load = false;\n",
       "  }\n",
       "\n",
       "  var NB_LOAD_WARNING = {'data': {'text/html':\n",
       "     \"<div style='background-color: #fdd'>\\n\"+\n",
       "     \"<p>\\n\"+\n",
       "     \"BokehJS does not appear to have successfully loaded. If loading BokehJS from CDN, this \\n\"+\n",
       "     \"may be due to a slow or bad network connection. Possible fixes:\\n\"+\n",
       "     \"</p>\\n\"+\n",
       "     \"<ul>\\n\"+\n",
       "     \"<li>re-rerun `output_notebook()` to attempt to load from CDN again, or</li>\\n\"+\n",
       "     \"<li>use INLINE resources instead, as so:</li>\\n\"+\n",
       "     \"</ul>\\n\"+\n",
       "     \"<code>\\n\"+\n",
       "     \"from bokeh.resources import INLINE\\n\"+\n",
       "     \"output_notebook(resources=INLINE)\\n\"+\n",
       "     \"</code>\\n\"+\n",
       "     \"</div>\"}};\n",
       "\n",
       "  function display_loaded() {\n",
       "    var el = document.getElementById(\"1001\");\n",
       "    if (el != null) {\n",
       "      el.textContent = \"BokehJS is loading...\";\n",
       "    }\n",
       "    if (root.Bokeh !== undefined) {\n",
       "      if (el != null) {\n",
       "        el.textContent = \"BokehJS \" + root.Bokeh.version + \" successfully loaded.\";\n",
       "      }\n",
       "    } else if (Date.now() < root._bokeh_timeout) {\n",
       "      setTimeout(display_loaded, 100)\n",
       "    }\n",
       "  }\n",
       "\n",
       "\n",
       "  function run_callbacks() {\n",
       "    try {\n",
       "      root._bokeh_onload_callbacks.forEach(function(callback) {\n",
       "        if (callback != null)\n",
       "          callback();\n",
       "      });\n",
       "    } finally {\n",
       "      delete root._bokeh_onload_callbacks\n",
       "    }\n",
       "    console.debug(\"Bokeh: all callbacks have finished\");\n",
       "  }\n",
       "\n",
       "  function load_libs(css_urls, js_urls, callback) {\n",
       "    if (css_urls == null) css_urls = [];\n",
       "    if (js_urls == null) js_urls = [];\n",
       "\n",
       "    root._bokeh_onload_callbacks.push(callback);\n",
       "    if (root._bokeh_is_loading > 0) {\n",
       "      console.debug(\"Bokeh: BokehJS is being loaded, scheduling callback at\", now());\n",
       "      return null;\n",
       "    }\n",
       "    if (js_urls == null || js_urls.length === 0) {\n",
       "      run_callbacks();\n",
       "      return null;\n",
       "    }\n",
       "    console.debug(\"Bokeh: BokehJS not loaded, scheduling load and callback at\", now());\n",
       "    root._bokeh_is_loading = css_urls.length + js_urls.length;\n",
       "\n",
       "    function on_load() {\n",
       "      root._bokeh_is_loading--;\n",
       "      if (root._bokeh_is_loading === 0) {\n",
       "        console.debug(\"Bokeh: all BokehJS libraries/stylesheets loaded\");\n",
       "        run_callbacks()\n",
       "      }\n",
       "    }\n",
       "\n",
       "    function on_error() {\n",
       "      console.error(\"failed to load \" + url);\n",
       "    }\n",
       "\n",
       "    for (var i = 0; i < css_urls.length; i++) {\n",
       "      var url = css_urls[i];\n",
       "      const element = document.createElement(\"link\");\n",
       "      element.onload = on_load;\n",
       "      element.onerror = on_error;\n",
       "      element.rel = \"stylesheet\";\n",
       "      element.type = \"text/css\";\n",
       "      element.href = url;\n",
       "      console.debug(\"Bokeh: injecting link tag for BokehJS stylesheet: \", url);\n",
       "      document.body.appendChild(element);\n",
       "    }\n",
       "\n",
       "    const hashes = {\"https://cdn.bokeh.org/bokeh/release/bokeh-2.1.1.min.js\": \"kLr4fYcqcSpbuI95brIH3vnnYCquzzSxHPU6XGQCIkQRGJwhg0StNbj1eegrHs12\", \"https://cdn.bokeh.org/bokeh/release/bokeh-widgets-2.1.1.min.js\": \"xIGPmVtaOm+z0BqfSOMn4lOR6ciex448GIKG4eE61LsAvmGj48XcMQZtKcE/UXZe\", \"https://cdn.bokeh.org/bokeh/release/bokeh-tables-2.1.1.min.js\": \"Dc9u1wF/0zApGIWoBbH77iWEHtdmkuYWG839Uzmv8y8yBLXebjO9ZnERsde5Ln/P\", \"https://cdn.bokeh.org/bokeh/release/bokeh-gl-2.1.1.min.js\": \"cT9JaBz7GiRXdENrJLZNSC6eMNF3nh3fa5fTF51Svp+ukxPdwcU5kGXGPBgDCa2j\"};\n",
       "\n",
       "    for (var i = 0; i < js_urls.length; i++) {\n",
       "      var url = js_urls[i];\n",
       "      var element = document.createElement('script');\n",
       "      element.onload = on_load;\n",
       "      element.onerror = on_error;\n",
       "      element.async = false;\n",
       "      element.src = url;\n",
       "      if (url in hashes) {\n",
       "        element.crossOrigin = \"anonymous\";\n",
       "        element.integrity = \"sha384-\" + hashes[url];\n",
       "      }\n",
       "      console.debug(\"Bokeh: injecting script tag for BokehJS library: \", url);\n",
       "      document.head.appendChild(element);\n",
       "    }\n",
       "  };\n",
       "\n",
       "  function inject_raw_css(css) {\n",
       "    const element = document.createElement(\"style\");\n",
       "    element.appendChild(document.createTextNode(css));\n",
       "    document.body.appendChild(element);\n",
       "  }\n",
       "\n",
       "  \n",
       "  var js_urls = [\"https://cdn.bokeh.org/bokeh/release/bokeh-2.1.1.min.js\", \"https://cdn.bokeh.org/bokeh/release/bokeh-widgets-2.1.1.min.js\", \"https://cdn.bokeh.org/bokeh/release/bokeh-tables-2.1.1.min.js\", \"https://cdn.bokeh.org/bokeh/release/bokeh-gl-2.1.1.min.js\"];\n",
       "  var css_urls = [];\n",
       "  \n",
       "\n",
       "  var inline_js = [\n",
       "    function(Bokeh) {\n",
       "      Bokeh.set_log_level(\"info\");\n",
       "    },\n",
       "    function(Bokeh) {\n",
       "    \n",
       "    \n",
       "    }\n",
       "  ];\n",
       "\n",
       "  function run_inline_js() {\n",
       "    \n",
       "    if (root.Bokeh !== undefined || force === true) {\n",
       "      \n",
       "    for (var i = 0; i < inline_js.length; i++) {\n",
       "      inline_js[i].call(root, root.Bokeh);\n",
       "    }\n",
       "    if (force === true) {\n",
       "        display_loaded();\n",
       "      }} else if (Date.now() < root._bokeh_timeout) {\n",
       "      setTimeout(run_inline_js, 100);\n",
       "    } else if (!root._bokeh_failed_load) {\n",
       "      console.log(\"Bokeh: BokehJS failed to load within specified timeout.\");\n",
       "      root._bokeh_failed_load = true;\n",
       "    } else if (force !== true) {\n",
       "      var cell = $(document.getElementById(\"1001\")).parents('.cell').data().cell;\n",
       "      cell.output_area.append_execute_result(NB_LOAD_WARNING)\n",
       "    }\n",
       "\n",
       "  }\n",
       "\n",
       "  if (root._bokeh_is_loading === 0) {\n",
       "    console.debug(\"Bokeh: BokehJS loaded, going straight to plotting\");\n",
       "    run_inline_js();\n",
       "  } else {\n",
       "    load_libs(css_urls, js_urls, function() {\n",
       "      console.debug(\"Bokeh: BokehJS plotting callback run at\", now());\n",
       "      run_inline_js();\n",
       "    });\n",
       "  }\n",
       "}(window));"
      ],
      "application/vnd.bokehjs_load.v0+json": "\n(function(root) {\n  function now() {\n    return new Date();\n  }\n\n  var force = true;\n\n  if (typeof root._bokeh_onload_callbacks === \"undefined\" || force === true) {\n    root._bokeh_onload_callbacks = [];\n    root._bokeh_is_loading = undefined;\n  }\n\n  \n\n  \n  if (typeof (root._bokeh_timeout) === \"undefined\" || force === true) {\n    root._bokeh_timeout = Date.now() + 5000;\n    root._bokeh_failed_load = false;\n  }\n\n  var NB_LOAD_WARNING = {'data': {'text/html':\n     \"<div style='background-color: #fdd'>\\n\"+\n     \"<p>\\n\"+\n     \"BokehJS does not appear to have successfully loaded. If loading BokehJS from CDN, this \\n\"+\n     \"may be due to a slow or bad network connection. Possible fixes:\\n\"+\n     \"</p>\\n\"+\n     \"<ul>\\n\"+\n     \"<li>re-rerun `output_notebook()` to attempt to load from CDN again, or</li>\\n\"+\n     \"<li>use INLINE resources instead, as so:</li>\\n\"+\n     \"</ul>\\n\"+\n     \"<code>\\n\"+\n     \"from bokeh.resources import INLINE\\n\"+\n     \"output_notebook(resources=INLINE)\\n\"+\n     \"</code>\\n\"+\n     \"</div>\"}};\n\n  function display_loaded() {\n    var el = document.getElementById(\"1001\");\n    if (el != null) {\n      el.textContent = \"BokehJS is loading...\";\n    }\n    if (root.Bokeh !== undefined) {\n      if (el != null) {\n        el.textContent = \"BokehJS \" + root.Bokeh.version + \" successfully loaded.\";\n      }\n    } else if (Date.now() < root._bokeh_timeout) {\n      setTimeout(display_loaded, 100)\n    }\n  }\n\n\n  function run_callbacks() {\n    try {\n      root._bokeh_onload_callbacks.forEach(function(callback) {\n        if (callback != null)\n          callback();\n      });\n    } finally {\n      delete root._bokeh_onload_callbacks\n    }\n    console.debug(\"Bokeh: all callbacks have finished\");\n  }\n\n  function load_libs(css_urls, js_urls, callback) {\n    if (css_urls == null) css_urls = [];\n    if (js_urls == null) js_urls = [];\n\n    root._bokeh_onload_callbacks.push(callback);\n    if (root._bokeh_is_loading > 0) {\n      console.debug(\"Bokeh: BokehJS is being loaded, scheduling callback at\", now());\n      return null;\n    }\n    if (js_urls == null || js_urls.length === 0) {\n      run_callbacks();\n      return null;\n    }\n    console.debug(\"Bokeh: BokehJS not loaded, scheduling load and callback at\", now());\n    root._bokeh_is_loading = css_urls.length + js_urls.length;\n\n    function on_load() {\n      root._bokeh_is_loading--;\n      if (root._bokeh_is_loading === 0) {\n        console.debug(\"Bokeh: all BokehJS libraries/stylesheets loaded\");\n        run_callbacks()\n      }\n    }\n\n    function on_error() {\n      console.error(\"failed to load \" + url);\n    }\n\n    for (var i = 0; i < css_urls.length; i++) {\n      var url = css_urls[i];\n      const element = document.createElement(\"link\");\n      element.onload = on_load;\n      element.onerror = on_error;\n      element.rel = \"stylesheet\";\n      element.type = \"text/css\";\n      element.href = url;\n      console.debug(\"Bokeh: injecting link tag for BokehJS stylesheet: \", url);\n      document.body.appendChild(element);\n    }\n\n    const hashes = {\"https://cdn.bokeh.org/bokeh/release/bokeh-2.1.1.min.js\": \"kLr4fYcqcSpbuI95brIH3vnnYCquzzSxHPU6XGQCIkQRGJwhg0StNbj1eegrHs12\", \"https://cdn.bokeh.org/bokeh/release/bokeh-widgets-2.1.1.min.js\": \"xIGPmVtaOm+z0BqfSOMn4lOR6ciex448GIKG4eE61LsAvmGj48XcMQZtKcE/UXZe\", \"https://cdn.bokeh.org/bokeh/release/bokeh-tables-2.1.1.min.js\": \"Dc9u1wF/0zApGIWoBbH77iWEHtdmkuYWG839Uzmv8y8yBLXebjO9ZnERsde5Ln/P\", \"https://cdn.bokeh.org/bokeh/release/bokeh-gl-2.1.1.min.js\": \"cT9JaBz7GiRXdENrJLZNSC6eMNF3nh3fa5fTF51Svp+ukxPdwcU5kGXGPBgDCa2j\"};\n\n    for (var i = 0; i < js_urls.length; i++) {\n      var url = js_urls[i];\n      var element = document.createElement('script');\n      element.onload = on_load;\n      element.onerror = on_error;\n      element.async = false;\n      element.src = url;\n      if (url in hashes) {\n        element.crossOrigin = \"anonymous\";\n        element.integrity = \"sha384-\" + hashes[url];\n      }\n      console.debug(\"Bokeh: injecting script tag for BokehJS library: \", url);\n      document.head.appendChild(element);\n    }\n  };\n\n  function inject_raw_css(css) {\n    const element = document.createElement(\"style\");\n    element.appendChild(document.createTextNode(css));\n    document.body.appendChild(element);\n  }\n\n  \n  var js_urls = [\"https://cdn.bokeh.org/bokeh/release/bokeh-2.1.1.min.js\", \"https://cdn.bokeh.org/bokeh/release/bokeh-widgets-2.1.1.min.js\", \"https://cdn.bokeh.org/bokeh/release/bokeh-tables-2.1.1.min.js\", \"https://cdn.bokeh.org/bokeh/release/bokeh-gl-2.1.1.min.js\"];\n  var css_urls = [];\n  \n\n  var inline_js = [\n    function(Bokeh) {\n      Bokeh.set_log_level(\"info\");\n    },\n    function(Bokeh) {\n    \n    \n    }\n  ];\n\n  function run_inline_js() {\n    \n    if (root.Bokeh !== undefined || force === true) {\n      \n    for (var i = 0; i < inline_js.length; i++) {\n      inline_js[i].call(root, root.Bokeh);\n    }\n    if (force === true) {\n        display_loaded();\n      }} else if (Date.now() < root._bokeh_timeout) {\n      setTimeout(run_inline_js, 100);\n    } else if (!root._bokeh_failed_load) {\n      console.log(\"Bokeh: BokehJS failed to load within specified timeout.\");\n      root._bokeh_failed_load = true;\n    } else if (force !== true) {\n      var cell = $(document.getElementById(\"1001\")).parents('.cell').data().cell;\n      cell.output_area.append_execute_result(NB_LOAD_WARNING)\n    }\n\n  }\n\n  if (root._bokeh_is_loading === 0) {\n    console.debug(\"Bokeh: BokehJS loaded, going straight to plotting\");\n    run_inline_js();\n  } else {\n    load_libs(css_urls, js_urls, function() {\n      console.debug(\"Bokeh: BokehJS plotting callback run at\", now());\n      run_inline_js();\n    });\n  }\n}(window));"
     },
     "metadata": {},
     "output_type": "display_data"
    }
   ],
   "source": [
    "from korbash_lib import PowerMeter, TensionGauge, Motor, MotorSystem, Puller, start, end, Everage, Exp_everage\n",
    "import thorlabs_apt as apt\n",
    "import time\n",
    "import numpy as np\n",
    "import pandas as pd\n",
    "import datetime\n",
    "import PySimpleGUI as sg\n",
    "from tkinter import messagebox as mb\n",
    "from bokeh.io import push_notebook, show, output_notebook\n",
    "from bokeh.plotting import figure\n",
    "from bokeh.layouts import gridplot, layout\n",
    "from jupyter_ui_poll import ui_events\n",
    "import ipywidgets\n",
    "import matplotlib\n",
    "from scipy import stats\n",
    "output_notebook()"
   ]
  },
  {
   "cell_type": "code",
   "execution_count": 45,
   "metadata": {
    "pycharm": {
     "is_executing": true
    }
   },
   "outputs": [
    {
     "ename": "NameError",
     "evalue": "b'Insufficient location information or the device or resource is not present in the system.'",
     "output_type": "error",
     "traceback": [
      "\u001B[1;31m---------------------------------------------------------------------------\u001B[0m",
      "\u001B[1;31mNameError\u001B[0m                                 Traceback (most recent call last)",
      "\u001B[1;32m<ipython-input-45-1ce29afef466>\u001B[0m in \u001B[0;36m<module>\u001B[1;34m\u001B[0m\n\u001B[0;32m      2\u001B[0m \u001B[0mWEIGHT_COEF\u001B[0m \u001B[1;33m=\u001B[0m \u001B[1;33m-\u001B[0m\u001B[1;36m0.0075585384235655265\u001B[0m  \u001B[1;31m## ТЕНЗО ЗАЖИМ\u001B[0m\u001B[1;33m\u001B[0m\u001B[1;33m\u001B[0m\u001B[0m\n\u001B[0;32m      3\u001B[0m \u001B[0mtg\u001B[0m \u001B[1;33m=\u001B[0m \u001B[0mTensionGauge\u001B[0m\u001B[1;33m(\u001B[0m\u001B[0mZERO_WEIGHT\u001B[0m\u001B[1;33m,\u001B[0m \u001B[0mWEIGHT_COEF\u001B[0m\u001B[1;33m)\u001B[0m\u001B[1;33m\u001B[0m\u001B[1;33m\u001B[0m\u001B[0m\n\u001B[1;32m----> 4\u001B[1;33m \u001B[0mpm\u001B[0m \u001B[1;33m=\u001B[0m \u001B[0mPowerMeter\u001B[0m\u001B[1;33m(\u001B[0m\u001B[1;33m)\u001B[0m\u001B[1;33m\u001B[0m\u001B[1;33m\u001B[0m\u001B[0m\n\u001B[0m\u001B[0;32m      5\u001B[0m \u001B[1;31m#print(apt.list_available_devices())\u001B[0m\u001B[1;33m\u001B[0m\u001B[1;33m\u001B[0m\u001B[1;33m\u001B[0m\u001B[0m\n\u001B[0;32m      6\u001B[0m \u001B[0mR\u001B[0m \u001B[1;33m=\u001B[0m \u001B[1;36m90113195\u001B[0m\u001B[1;33m\u001B[0m\u001B[1;33m\u001B[0m\u001B[0m\n",
      "\u001B[1;32mc:\\users\\fiber\\pycharmprojects\\table_control\\venv\\lib\\site-packages\\korbash_lib.py\u001B[0m in \u001B[0;36m__init__\u001B[1;34m(self)\u001B[0m\n\u001B[0;32m     90\u001B[0m         \u001B[0mself\u001B[0m\u001B[1;33m.\u001B[0m\u001B[0mpowersAvg\u001B[0m \u001B[1;33m=\u001B[0m \u001B[0mnp\u001B[0m\u001B[1;33m.\u001B[0m\u001B[0marray\u001B[0m\u001B[1;33m(\u001B[0m\u001B[1;33m[\u001B[0m\u001B[1;33m]\u001B[0m\u001B[1;33m)\u001B[0m\u001B[1;33m\u001B[0m\u001B[1;33m\u001B[0m\u001B[0m\n\u001B[0;32m     91\u001B[0m         \u001B[0mself\u001B[0m\u001B[1;33m.\u001B[0m\u001B[0misConnected\u001B[0m \u001B[1;33m=\u001B[0m \u001B[1;32mFalse\u001B[0m\u001B[1;33m\u001B[0m\u001B[1;33m\u001B[0m\u001B[0m\n\u001B[1;32m---> 92\u001B[1;33m         \u001B[0mself\u001B[0m\u001B[1;33m.\u001B[0m\u001B[0mConnect\u001B[0m\u001B[1;33m(\u001B[0m\u001B[1;33m)\u001B[0m\u001B[1;33m\u001B[0m\u001B[1;33m\u001B[0m\u001B[0m\n\u001B[0m\u001B[0;32m     93\u001B[0m \u001B[1;33m\u001B[0m\u001B[0m\n\u001B[0;32m     94\u001B[0m     \u001B[1;32mdef\u001B[0m \u001B[0m__del__\u001B[0m\u001B[1;33m(\u001B[0m\u001B[0mself\u001B[0m\u001B[1;33m)\u001B[0m\u001B[1;33m:\u001B[0m\u001B[1;33m\u001B[0m\u001B[1;33m\u001B[0m\u001B[0m\n",
      "\u001B[1;32mc:\\users\\fiber\\pycharmprojects\\table_control\\venv\\lib\\site-packages\\korbash_lib.py\u001B[0m in \u001B[0;36mConnect\u001B[1;34m(self)\u001B[0m\n\u001B[0;32m    114\u001B[0m             \u001B[1;32mreturn\u001B[0m \u001B[1;33m-\u001B[0m\u001B[1;36m1\u001B[0m\u001B[1;33m\u001B[0m\u001B[1;33m\u001B[0m\u001B[0m\n\u001B[0;32m    115\u001B[0m \u001B[1;33m\u001B[0m\u001B[0m\n\u001B[1;32m--> 116\u001B[1;33m         \u001B[0mself\u001B[0m\u001B[1;33m.\u001B[0m\u001B[0mopen\u001B[0m\u001B[1;33m(\u001B[0m\u001B[0mdeviceName\u001B[0m\u001B[1;33m,\u001B[0m \u001B[0mc_bool\u001B[0m\u001B[1;33m(\u001B[0m\u001B[1;32mTrue\u001B[0m\u001B[1;33m)\u001B[0m\u001B[1;33m,\u001B[0m \u001B[0mc_bool\u001B[0m\u001B[1;33m(\u001B[0m\u001B[1;32mTrue\u001B[0m\u001B[1;33m)\u001B[0m\u001B[1;33m)\u001B[0m\u001B[1;33m\u001B[0m\u001B[1;33m\u001B[0m\u001B[0m\n\u001B[0m\u001B[0;32m    117\u001B[0m         \u001B[0mself\u001B[0m\u001B[1;33m.\u001B[0m\u001B[0misConnected\u001B[0m \u001B[1;33m=\u001B[0m \u001B[1;32mTrue\u001B[0m\u001B[1;33m\u001B[0m\u001B[1;33m\u001B[0m\u001B[0m\n\u001B[0;32m    118\u001B[0m         \u001B[1;32mreturn\u001B[0m \u001B[1;36m0\u001B[0m\u001B[1;33m\u001B[0m\u001B[1;33m\u001B[0m\u001B[0m\n",
      "\u001B[1;32mc:\\users\\fiber\\pycharmprojects\\table_control\\venv\\lib\\site-packages\\TLPMall\\TLPM.py\u001B[0m in \u001B[0;36mopen\u001B[1;34m(self, resourceName, IDQuery, resetDevice)\u001B[0m\n\u001B[0;32m     39\u001B[0m                 \u001B[0mself\u001B[0m\u001B[1;33m.\u001B[0m\u001B[0mdevSession\u001B[0m\u001B[1;33m.\u001B[0m\u001B[0mvalue\u001B[0m \u001B[1;33m=\u001B[0m \u001B[1;36m0\u001B[0m\u001B[1;33m\u001B[0m\u001B[1;33m\u001B[0m\u001B[0m\n\u001B[0;32m     40\u001B[0m                 \u001B[0mpInvokeResult\u001B[0m \u001B[1;33m=\u001B[0m \u001B[0mself\u001B[0m\u001B[1;33m.\u001B[0m\u001B[0mdll\u001B[0m\u001B[1;33m.\u001B[0m\u001B[0mTLPM_init\u001B[0m\u001B[1;33m(\u001B[0m\u001B[0mresourceName\u001B[0m\u001B[1;33m,\u001B[0m \u001B[0mIDQuery\u001B[0m\u001B[1;33m,\u001B[0m \u001B[0mresetDevice\u001B[0m\u001B[1;33m,\u001B[0m \u001B[0mbyref\u001B[0m\u001B[1;33m(\u001B[0m\u001B[0mself\u001B[0m\u001B[1;33m.\u001B[0m\u001B[0mdevSession\u001B[0m\u001B[1;33m)\u001B[0m\u001B[1;33m)\u001B[0m\u001B[1;33m\u001B[0m\u001B[1;33m\u001B[0m\u001B[0m\n\u001B[1;32m---> 41\u001B[1;33m                 \u001B[0mself\u001B[0m\u001B[1;33m.\u001B[0m\u001B[0m__testForError\u001B[0m\u001B[1;33m(\u001B[0m\u001B[0mpInvokeResult\u001B[0m\u001B[1;33m)\u001B[0m\u001B[1;33m\u001B[0m\u001B[1;33m\u001B[0m\u001B[0m\n\u001B[0m\u001B[0;32m     42\u001B[0m                 \u001B[1;32mreturn\u001B[0m \u001B[0mpInvokeResult\u001B[0m\u001B[1;33m\u001B[0m\u001B[1;33m\u001B[0m\u001B[0m\n\u001B[0;32m     43\u001B[0m \u001B[1;33m\u001B[0m\u001B[0m\n",
      "\u001B[1;32mc:\\users\\fiber\\pycharmprojects\\table_control\\venv\\lib\\site-packages\\TLPMall\\TLPM.py\u001B[0m in \u001B[0;36m__testForError\u001B[1;34m(self, status)\u001B[0m\n\u001B[0;32m     17\u001B[0m         \u001B[1;32mdef\u001B[0m \u001B[0m__testForError\u001B[0m\u001B[1;33m(\u001B[0m\u001B[0mself\u001B[0m\u001B[1;33m,\u001B[0m \u001B[0mstatus\u001B[0m\u001B[1;33m)\u001B[0m\u001B[1;33m:\u001B[0m\u001B[1;33m\u001B[0m\u001B[1;33m\u001B[0m\u001B[0m\n\u001B[0;32m     18\u001B[0m                 \u001B[1;32mif\u001B[0m \u001B[0mstatus\u001B[0m \u001B[1;33m<\u001B[0m \u001B[1;36m0\u001B[0m\u001B[1;33m:\u001B[0m\u001B[1;33m\u001B[0m\u001B[1;33m\u001B[0m\u001B[0m\n\u001B[1;32m---> 19\u001B[1;33m                         \u001B[0mself\u001B[0m\u001B[1;33m.\u001B[0m\u001B[0m__throwError\u001B[0m\u001B[1;33m(\u001B[0m\u001B[0mstatus\u001B[0m\u001B[1;33m)\u001B[0m\u001B[1;33m\u001B[0m\u001B[1;33m\u001B[0m\u001B[0m\n\u001B[0m\u001B[0;32m     20\u001B[0m                 \u001B[1;32mreturn\u001B[0m \u001B[0mstatus\u001B[0m\u001B[1;33m\u001B[0m\u001B[1;33m\u001B[0m\u001B[0m\n\u001B[0;32m     21\u001B[0m \u001B[1;33m\u001B[0m\u001B[0m\n",
      "\u001B[1;32mc:\\users\\fiber\\pycharmprojects\\table_control\\venv\\lib\\site-packages\\TLPMall\\TLPM.py\u001B[0m in \u001B[0;36m__throwError\u001B[1;34m(self, code)\u001B[0m\n\u001B[0;32m     23\u001B[0m                 \u001B[0mmsg\u001B[0m \u001B[1;33m=\u001B[0m \u001B[0mcreate_string_buffer\u001B[0m\u001B[1;33m(\u001B[0m\u001B[1;36m1024\u001B[0m\u001B[1;33m)\u001B[0m\u001B[1;33m\u001B[0m\u001B[1;33m\u001B[0m\u001B[0m\n\u001B[0;32m     24\u001B[0m                 \u001B[0mself\u001B[0m\u001B[1;33m.\u001B[0m\u001B[0mdll\u001B[0m\u001B[1;33m.\u001B[0m\u001B[0mTLPM_errorMessage\u001B[0m\u001B[1;33m(\u001B[0m\u001B[0mself\u001B[0m\u001B[1;33m.\u001B[0m\u001B[0mdevSession\u001B[0m\u001B[1;33m,\u001B[0m \u001B[0mc_int\u001B[0m\u001B[1;33m(\u001B[0m\u001B[0mcode\u001B[0m\u001B[1;33m)\u001B[0m\u001B[1;33m,\u001B[0m \u001B[0mmsg\u001B[0m\u001B[1;33m)\u001B[0m\u001B[1;33m\u001B[0m\u001B[1;33m\u001B[0m\u001B[0m\n\u001B[1;32m---> 25\u001B[1;33m                 \u001B[1;32mraise\u001B[0m \u001B[0mNameError\u001B[0m\u001B[1;33m(\u001B[0m\u001B[0mc_char_p\u001B[0m\u001B[1;33m(\u001B[0m\u001B[0mmsg\u001B[0m\u001B[1;33m.\u001B[0m\u001B[0mraw\u001B[0m\u001B[1;33m)\u001B[0m\u001B[1;33m.\u001B[0m\u001B[0mvalue\u001B[0m\u001B[1;33m)\u001B[0m\u001B[1;33m\u001B[0m\u001B[1;33m\u001B[0m\u001B[0m\n\u001B[0m\u001B[0;32m     26\u001B[0m \u001B[1;33m\u001B[0m\u001B[0m\n\u001B[0;32m     27\u001B[0m         \u001B[1;32mdef\u001B[0m \u001B[0mopen\u001B[0m\u001B[1;33m(\u001B[0m\u001B[0mself\u001B[0m\u001B[1;33m,\u001B[0m \u001B[0mresourceName\u001B[0m\u001B[1;33m,\u001B[0m \u001B[0mIDQuery\u001B[0m\u001B[1;33m,\u001B[0m \u001B[0mresetDevice\u001B[0m\u001B[1;33m)\u001B[0m\u001B[1;33m:\u001B[0m\u001B[1;33m\u001B[0m\u001B[1;33m\u001B[0m\u001B[0m\n",
      "\u001B[1;31mNameError\u001B[0m: b'Insufficient location information or the device or resource is not present in the system.'"
     ]
    }
   ],
   "source": [
    "ZERO_WEIGHT = 0 # 2438.309 ##1068.4573\n",
    "WEIGHT_COEF = -0.0075585384235655265  ## ТЕНЗО ЗАЖИМ\n",
    "tg = TensionGauge(ZERO_WEIGHT, WEIGHT_COEF)\n",
    "pm = PowerMeter()\n",
    "#print(apt.list_available_devices())\n",
    "R = 90113195\n",
    "L = 90113196\n",
    "M = 90113197\n",
    "motorR = Motor(R, \"right motor\", 70)\n",
    "motorL = Motor(L, \"left motor\")\n",
    "motorM = Motor(M, \"motor\",75) # начальная позиция 15\n",
    "motors=MotorSystem(motorR,motorL,motorM)\n",
    "#start()\n",
    "dt = 0.1\n",
    "t = 0\n",
    "tPoints = np.array([])\n",
    "dL_points = np.array([])\n",
    "a_points = np.array([])\n",
    "v_points = np.array([])\n",
    "data = pd.DataFrame({\n",
    "     'time': tPoints,\n",
    "     'power': pm.powers,\n",
    "     'tension': tg.weights,\n",
    "     'motorR_coord': motorR.points,\n",
    "     'motorL_coord': motorL.points,\n",
    "     'motorM_coord': motorR.points,\n",
    "     'dL_coord': dL_points,\n",
    "     'a': a_points,\n",
    "     'v': v_points,\n",
    "})\n",
    "pl_motor_t = figure(plot_width=980, plot_height=400, sizing_mode=\"scale_both\")\n",
    "pl_m_r = pl_motor_t.line(x='time',y='motorR_coord' ,source=data, legend_label=\"motorR\", line_color=\"red\")\n",
    "pl_m_l = pl_motor_t.line(x='time',y='motorL_coord' ,source=data, legend_label=\"motorL\", line_color=\"blue\")\n",
    "pl_m_m = pl_motor_t.line(x='time',y='dL_coord' ,source=data, legend_label=\"dL_coord\", line_color=\"green\")\n",
    "pl_power_t = figure(plot_width=980, plot_height=200, sizing_mode=\"scale_both\")\n",
    "p = pl_power_t.line(x='time', y='power',source=data)\n",
    "pl_tension_t = figure(plot_width=980, plot_height=200, sizing_mode=\"scale_both\")\n",
    "p2 = pl_tension_t.line(x='time', y='tension',source=data)\n",
    "#grid = gridplot([pl_motor_t, pl_power_t], ncols=2)\n",
    "grid=layout([\n",
    "    [pl_motor_t],\n",
    "    [pl_power_t],\n",
    "    [pl_tension_t],\n",
    "])"
   ]
  },
  {
   "cell_type": "code",
   "execution_count": 15,
   "metadata": {
    "pycharm": {
     "is_executing": true
    }
   },
   "outputs": [
    {
     "name": "stdout",
     "output_type": "stream",
     "text": [
      "6.448817607616377\n"
     ]
    },
    {
     "data": {
      "text/plain": [
       "0"
      ]
     },
     "execution_count": 15,
     "metadata": {},
     "output_type": "execute_result"
    }
   ],
   "source": [
    "tPoints = np.array([])\n",
    "t0 = time.time()\n",
    "i=0\n",
    "tau=10\n",
    "while time.time()-t0 < tau:\n",
    "    tg.ReadTension()\n",
    "    tPoints = np.append(tPoints, time.time() - t0)\n",
    "    i+=1\n",
    "    #if(i%10==0):\n",
    "    #print(tg.weights[-1],Everage(tg.weights,tPoints,tau))\n",
    "tg.zeroWeight+=Everage(tg.weights,tPoints,tau)\n",
    "print(tg.zeroWeight)\n",
    "tPoints = np.array([])\n",
    "tg.Clear()"
   ]
  },
  {
   "cell_type": "code",
   "execution_count": 42,
   "metadata": {},
   "outputs": [
    {
     "data": {
      "text/plain": [
       "2.238437358740189"
      ]
     },
     "execution_count": 42,
     "metadata": {},
     "output_type": "execute_result"
    }
   ],
   "source": [
    "tg.ReadTension()"
   ]
  },
  {
   "cell_type": "code",
   "execution_count": 28,
   "metadata": {
    "pycharm": {
     "is_executing": true
    }
   },
   "outputs": [],
   "source": [
    "tg.Clear()\n",
    "tPoints = np.array([])"
   ]
  },
  {
   "cell_type": "code",
   "execution_count": 4,
   "metadata": {
    "pycharm": {
     "is_executing": true
    }
   },
   "outputs": [
    {
     "data": {
      "text/plain": [
       "0"
      ]
     },
     "execution_count": 4,
     "metadata": {},
     "output_type": "execute_result"
    }
   ],
   "source": [
    "motorM.MoveTo(20)"
   ]
  },
  {
   "cell_type": "code",
   "execution_count": 46,
   "metadata": {},
   "outputs": [
    {
     "ename": "NameError",
     "evalue": "name 'pm' is not defined",
     "output_type": "error",
     "traceback": [
      "\u001B[1;31m---------------------------------------------------------------------------\u001B[0m",
      "\u001B[1;31mNameError\u001B[0m                                 Traceback (most recent call last)",
      "\u001B[1;32m<ipython-input-46-9cca51e2ca78>\u001B[0m in \u001B[0;36m<module>\u001B[1;34m\u001B[0m\n\u001B[0;32m      1\u001B[0m \u001B[1;32mdel\u001B[0m \u001B[0mtg\u001B[0m\u001B[1;33m\u001B[0m\u001B[1;33m\u001B[0m\u001B[0m\n\u001B[1;32m----> 2\u001B[1;33m \u001B[1;32mdel\u001B[0m \u001B[0mpm\u001B[0m\u001B[1;33m\u001B[0m\u001B[1;33m\u001B[0m\u001B[0m\n\u001B[0m",
      "\u001B[1;31mNameError\u001B[0m: name 'pm' is not defined"
     ]
    }
   ],
   "source": [
    "del tg\n",
    "del pm"
   ]
  },
  {
   "cell_type": "code",
   "execution_count": null,
   "metadata": {},
   "outputs": [],
   "source": []
  },
  {
   "cell_type": "code",
   "execution_count": null,
   "metadata": {
    "pycharm": {
     "name": "#%%\n"
    }
   },
   "outputs": [],
   "source": [
    "def stop_btn2_click(stop_btn2):\n",
    "    motors.Stop()\n",
    "stop_btn2 = ipywidgets.Button(description='stop')\n",
    "stop_btn2.on_click(stop_btn2_click)\n",
    "display(stop_btn2)"
   ]
  },
  {
   "cell_type": "code",
   "execution_count": 9,
   "metadata": {},
   "outputs": [],
   "source": [
    "motors.MoveToStart(60)\n",
    "#print(tg.SetZeroWeight())"
   ]
  },
  {
   "cell_type": "code",
   "execution_count": null,
   "metadata": {
    "pycharm": {
     "is_executing": true
    }
   },
   "outputs": [],
   "source": [
    "motorR.Getposition()\n",
    "motorR.MoveTo(motorR.points[-1]+0.1)"
   ]
  },
  {
   "cell_type": "code",
   "execution_count": null,
   "metadata": {
    "pycharm": {
     "is_executing": true
    }
   },
   "outputs": [],
   "source": [
    "w_points=np.array([])\n",
    "x_points=np.array([])"
   ]
  },
  {
   "cell_type": "code",
   "execution_count": 27,
   "metadata": {
    "pycharm": {
     "name": "#%%\n"
    }
   },
   "outputs": [
    {
     "name": "stdout",
     "output_type": "stream",
     "text": [
      "37.60258381861319\n",
      "105.7453624930436\n",
      "101.7676816476422\n",
      "99.91977017384893\n"
     ]
    },
    {
     "data": {
      "text/plain": [
       "\"motorR.Getposition()\\nmotorL.Getposition()\\nw_points = np.append(w_points, w)\\nx_points = np.append(x_points,200 -motorR.points[-1] -motorL.points[-1])\\nk_data=pd.DataFrame({\\n         'w': w_points,\\n         'x': x_points,\\n        })\\nk_data.plot(x='x',y='w')\""
      ]
     },
     "execution_count": 27,
     "metadata": {},
     "output_type": "execute_result"
    }
   ],
   "source": [
    "t0 = time.time()\n",
    "i=0\n",
    "tau=0.3\n",
    "wide=100\n",
    "k=277\n",
    "dw=1\n",
    "while abs(dw) > 0.1:\n",
    "    t1=time.time()\n",
    "    while time.time()-t1 < tau:\n",
    "        tg.ReadTension()\n",
    "        tPoints = np.append(tPoints, time.time() - t0)\n",
    "    w=Everage(tg.weights,tPoints,tau)\n",
    "    print(w)\n",
    "    dw=wide-w\n",
    "    dx=dw/k\n",
    "    #print(dx)\n",
    "    motorR.Getposition()\n",
    "    motorR.MoveTo(motorR.points[-1]-dx,a=1)\n",
    "    while motorR.is_in_motion:\n",
    "        pass\n",
    "    time.sleep(0.1)\n",
    "while time.time()-t1 < tau:\n",
    "    tg.ReadTension()\n",
    "    tPoints = np.append(tPoints, time.time() - t0)\n",
    "w=Everage(tg.weights,tPoints,tau)\n",
    "\n",
    "\n",
    "'''motorR.Getposition()\n",
    "motorL.Getposition()\n",
    "w_points = np.append(w_points, w)\n",
    "x_points = np.append(x_points,200 -motorR.points[-1] -motorL.points[-1])\n",
    "k_data=pd.DataFrame({\n",
    "         'w': w_points,\n",
    "         'x': x_points,\n",
    "        })\n",
    "k_data.plot(x='x',y='w')'''"
   ]
  },
  {
   "cell_type": "code",
   "execution_count": 10,
   "metadata": {
    "pycharm": {
     "name": "#%%\n"
    }
   },
   "outputs": [
    {
     "data": {
      "text/plain": [
       "0"
      ]
     },
     "execution_count": 10,
     "metadata": {},
     "output_type": "execute_result"
    }
   ],
   "source": [
    "motors.Move(-30)"
   ]
  },
  {
   "cell_type": "code",
   "execution_count": 11,
   "metadata": {
    "pycharm": {
     "name": "#%%\n"
    }
   },
   "outputs": [
    {
     "data": {
      "text/html": [
       "\n",
       "\n",
       "\n",
       "\n",
       "\n",
       "\n",
       "  <div class=\"bk-root\" id=\"acf979ee-5e84-4948-87fb-28719e708f62\" data-root-id=\"54723\"></div>\n"
      ]
     },
     "metadata": {},
     "output_type": "display_data"
    },
    {
     "data": {
      "application/javascript": [
       "(function(root) {\n",
       "  function embed_document(root) {\n",
       "    \n",
       "  var docs_json = {\"6e8097ad-d394-4e34-9f1c-282cde9a9755\":{\"roots\":{\"references\":[{\"attributes\":{\"children\":[{\"id\":\"54720\"},{\"id\":\"54721\"},{\"id\":\"54722\"}]},\"id\":\"54723\",\"type\":\"Column\"},{\"attributes\":{},\"id\":\"54649\",\"type\":\"DataRange1d\"},{\"attributes\":{},\"id\":\"54622\",\"type\":\"Selection\"},{\"attributes\":{},\"id\":\"54666\",\"type\":\"SaveTool\"},{\"attributes\":{},\"id\":\"54623\",\"type\":\"UnionRenderers\"},{\"attributes\":{\"text\":\"\"},\"id\":\"54759\",\"type\":\"Title\"},{\"attributes\":{},\"id\":\"54768\",\"type\":\"BasicTickFormatter\"},{\"attributes\":{\"overlay\":{\"id\":\"54669\"}},\"id\":\"54665\",\"type\":\"BoxZoomTool\"},{\"attributes\":{},\"id\":\"54660\",\"type\":\"BasicTicker\"},{\"attributes\":{},\"id\":\"54667\",\"type\":\"ResetTool\"},{\"attributes\":{},\"id\":\"54647\",\"type\":\"DataRange1d\"},{\"attributes\":{},\"id\":\"54651\",\"type\":\"LinearScale\"},{\"attributes\":{},\"id\":\"54772\",\"type\":\"BasicTickFormatter\"},{\"attributes\":{\"below\":[{\"id\":\"54692\"}],\"center\":[{\"id\":\"54695\"},{\"id\":\"54699\"}],\"left\":[{\"id\":\"54696\"}],\"plot_height\":200,\"plot_width\":980,\"renderers\":[{\"id\":\"54718\"}],\"sizing_mode\":\"scale_both\",\"title\":{\"id\":\"54759\"},\"toolbar\":{\"id\":\"54707\"},\"x_range\":{\"id\":\"54684\"},\"x_scale\":{\"id\":\"54688\"},\"y_range\":{\"id\":\"54686\"},\"y_scale\":{\"id\":\"54690\"}},\"id\":\"54683\",\"subtype\":\"Figure\",\"type\":\"Plot\"},{\"attributes\":{\"source\":{\"id\":\"54626\"}},\"id\":\"54631\",\"type\":\"CDSView\"},{\"attributes\":{\"axis\":{\"id\":\"54655\"},\"ticker\":null},\"id\":\"54658\",\"type\":\"Grid\"},{\"attributes\":{},\"id\":\"54766\",\"type\":\"BasicTickFormatter\"},{\"attributes\":{},\"id\":\"54653\",\"type\":\"LinearScale\"},{\"attributes\":{\"data\":{\"a\":{\"__ndarray__\":\"\",\"dtype\":\"float64\",\"order\":\"little\",\"shape\":[0]},\"dL_coord\":{\"__ndarray__\":\"\",\"dtype\":\"float64\",\"order\":\"little\",\"shape\":[0]},\"index\":[],\"motorL_coord\":{\"__ndarray__\":\"\",\"dtype\":\"float64\",\"order\":\"little\",\"shape\":[0]},\"motorM_coord\":{\"__ndarray__\":\"\",\"dtype\":\"float64\",\"order\":\"little\",\"shape\":[0]},\"motorR_coord\":{\"__ndarray__\":\"\",\"dtype\":\"float64\",\"order\":\"little\",\"shape\":[0]},\"power\":{\"__ndarray__\":\"\",\"dtype\":\"float64\",\"order\":\"little\",\"shape\":[0]},\"tension\":{\"__ndarray__\":\"\",\"dtype\":\"float64\",\"order\":\"little\",\"shape\":[0]},\"time\":{\"__ndarray__\":\"\",\"dtype\":\"float64\",\"order\":\"little\",\"shape\":[0]},\"v\":{\"__ndarray__\":\"\",\"dtype\":\"float64\",\"order\":\"little\",\"shape\":[0]}},\"selected\":{\"id\":\"54780\"},\"selection_policy\":{\"id\":\"54781\"}},\"id\":\"54677\",\"type\":\"ColumnDataSource\"},{\"attributes\":{\"formatter\":{\"id\":\"54766\"},\"ticker\":{\"id\":\"54660\"}},\"id\":\"54659\",\"type\":\"LinearAxis\"},{\"attributes\":{\"line_alpha\":0.1,\"line_color\":\"green\",\"x\":{\"field\":\"time\"},\"y\":{\"field\":\"dL_coord\"}},\"id\":\"54629\",\"type\":\"Line\"},{\"attributes\":{},\"id\":\"54663\",\"type\":\"PanTool\"},{\"attributes\":{},\"id\":\"54643\",\"type\":\"UnionRenderers\"},{\"attributes\":{\"label\":{\"value\":\"dL_coord\"},\"renderers\":[{\"id\":\"54630\"}]},\"id\":\"54645\",\"type\":\"LegendItem\"},{\"attributes\":{\"text\":\"\"},\"id\":\"54757\",\"type\":\"Title\"},{\"attributes\":{},\"id\":\"54770\",\"type\":\"BasicTickFormatter\"},{\"attributes\":{\"line_color\":\"green\",\"x\":{\"field\":\"time\"},\"y\":{\"field\":\"dL_coord\"}},\"id\":\"54628\",\"type\":\"Line\"},{\"attributes\":{},\"id\":\"54642\",\"type\":\"Selection\"},{\"attributes\":{\"formatter\":{\"id\":\"54768\"},\"ticker\":{\"id\":\"54656\"}},\"id\":\"54655\",\"type\":\"LinearAxis\"},{\"attributes\":{\"active_drag\":\"auto\",\"active_inspect\":\"auto\",\"active_multi\":null,\"active_scroll\":\"auto\",\"active_tap\":\"auto\",\"tools\":[{\"id\":\"54663\"},{\"id\":\"54664\"},{\"id\":\"54665\"},{\"id\":\"54666\"},{\"id\":\"54667\"},{\"id\":\"54668\"}]},\"id\":\"54670\",\"type\":\"Toolbar\"},{\"attributes\":{\"axis\":{\"id\":\"54659\"},\"dimension\":1,\"ticker\":null},\"id\":\"54662\",\"type\":\"Grid\"},{\"attributes\":{\"data_source\":{\"id\":\"54626\"},\"glyph\":{\"id\":\"54628\"},\"hover_glyph\":null,\"muted_glyph\":null,\"nonselection_glyph\":{\"id\":\"54629\"},\"selection_glyph\":null,\"view\":{\"id\":\"54631\"}},\"id\":\"54630\",\"type\":\"GlyphRenderer\"},{\"attributes\":{},\"id\":\"54664\",\"type\":\"WheelZoomTool\"},{\"attributes\":{},\"id\":\"54656\",\"type\":\"BasicTicker\"},{\"attributes\":{\"bottom_units\":\"screen\",\"fill_alpha\":0.5,\"fill_color\":\"lightgrey\",\"left_units\":\"screen\",\"level\":\"overlay\",\"line_alpha\":1.0,\"line_color\":\"black\",\"line_dash\":[4,4],\"line_width\":2,\"right_units\":\"screen\",\"top_units\":\"screen\"},\"id\":\"54669\",\"type\":\"BoxAnnotation\"},{\"attributes\":{},\"id\":\"54668\",\"type\":\"HelpTool\"},{\"attributes\":{\"line_alpha\":0.1,\"line_color\":\"blue\",\"x\":{\"field\":\"time\"},\"y\":{\"field\":\"motorL_coord\"}},\"id\":\"54611\",\"type\":\"Line\"},{\"attributes\":{},\"id\":\"54574\",\"type\":\"BasicTicker\"},{\"attributes\":{\"data\":{\"a\":{\"__ndarray__\":\"\",\"dtype\":\"float64\",\"order\":\"little\",\"shape\":[0]},\"dL_coord\":{\"__ndarray__\":\"\",\"dtype\":\"float64\",\"order\":\"little\",\"shape\":[0]},\"index\":[],\"motorL_coord\":{\"__ndarray__\":\"\",\"dtype\":\"float64\",\"order\":\"little\",\"shape\":[0]},\"motorM_coord\":{\"__ndarray__\":\"\",\"dtype\":\"float64\",\"order\":\"little\",\"shape\":[0]},\"motorR_coord\":{\"__ndarray__\":\"\",\"dtype\":\"float64\",\"order\":\"little\",\"shape\":[0]},\"power\":{\"__ndarray__\":\"\",\"dtype\":\"float64\",\"order\":\"little\",\"shape\":[0]},\"tension\":{\"__ndarray__\":\"\",\"dtype\":\"float64\",\"order\":\"little\",\"shape\":[0]},\"time\":{\"__ndarray__\":\"\",\"dtype\":\"float64\",\"order\":\"little\",\"shape\":[0]},\"v\":{\"__ndarray__\":\"\",\"dtype\":\"float64\",\"order\":\"little\",\"shape\":[0]}},\"selected\":{\"id\":\"54783\"},\"selection_policy\":{\"id\":\"54784\"}},\"id\":\"54714\",\"type\":\"ColumnDataSource\"},{\"attributes\":{\"label\":{\"value\":\"motorR\"},\"renderers\":[{\"id\":\"54595\"}]},\"id\":\"54607\",\"type\":\"LegendItem\"},{\"attributes\":{},\"id\":\"54781\",\"type\":\"UnionRenderers\"},{\"attributes\":{\"data\":{\"a\":{\"__ndarray__\":\"\",\"dtype\":\"float64\",\"order\":\"little\",\"shape\":[0]},\"dL_coord\":{\"__ndarray__\":\"\",\"dtype\":\"float64\",\"order\":\"little\",\"shape\":[0]},\"index\":[],\"motorL_coord\":{\"__ndarray__\":\"\",\"dtype\":\"float64\",\"order\":\"little\",\"shape\":[0]},\"motorM_coord\":{\"__ndarray__\":\"\",\"dtype\":\"float64\",\"order\":\"little\",\"shape\":[0]},\"motorR_coord\":{\"__ndarray__\":\"\",\"dtype\":\"float64\",\"order\":\"little\",\"shape\":[0]},\"power\":{\"__ndarray__\":\"\",\"dtype\":\"float64\",\"order\":\"little\",\"shape\":[0]},\"tension\":{\"__ndarray__\":\"\",\"dtype\":\"float64\",\"order\":\"little\",\"shape\":[0]},\"time\":{\"__ndarray__\":\"\",\"dtype\":\"float64\",\"order\":\"little\",\"shape\":[0]},\"v\":{\"__ndarray__\":\"\",\"dtype\":\"float64\",\"order\":\"little\",\"shape\":[0]}},\"selected\":{\"id\":\"54642\"},\"selection_policy\":{\"id\":\"54643\"}},\"id\":\"54626\",\"type\":\"ColumnDataSource\"},{\"attributes\":{\"bottom_units\":\"screen\",\"fill_alpha\":0.5,\"fill_color\":\"lightgrey\",\"left_units\":\"screen\",\"level\":\"overlay\",\"line_alpha\":1.0,\"line_color\":\"black\",\"line_dash\":[4,4],\"line_width\":2,\"right_units\":\"screen\",\"top_units\":\"screen\"},\"id\":\"54583\",\"type\":\"BoxAnnotation\"},{\"attributes\":{},\"id\":\"54701\",\"type\":\"WheelZoomTool\"},{\"attributes\":{\"children\":[{\"id\":\"54560\"}]},\"id\":\"54720\",\"type\":\"Row\"},{\"attributes\":{\"formatter\":{\"id\":\"54772\"},\"ticker\":{\"id\":\"54693\"}},\"id\":\"54692\",\"type\":\"LinearAxis\"},{\"attributes\":{\"source\":{\"id\":\"54608\"}},\"id\":\"54613\",\"type\":\"CDSView\"},{\"attributes\":{},\"id\":\"54780\",\"type\":\"Selection\"},{\"attributes\":{\"data_source\":{\"id\":\"54714\"},\"glyph\":{\"id\":\"54716\"},\"hover_glyph\":null,\"muted_glyph\":null,\"nonselection_glyph\":{\"id\":\"54717\"},\"selection_glyph\":null,\"view\":{\"id\":\"54719\"}},\"id\":\"54718\",\"type\":\"GlyphRenderer\"},{\"attributes\":{},\"id\":\"54693\",\"type\":\"BasicTicker\"},{\"attributes\":{\"line_color\":\"red\",\"x\":{\"field\":\"time\"},\"y\":{\"field\":\"motorR_coord\"}},\"id\":\"54593\",\"type\":\"Line\"},{\"attributes\":{\"axis\":{\"id\":\"54569\"},\"ticker\":null},\"id\":\"54572\",\"type\":\"Grid\"},{\"attributes\":{},\"id\":\"54600\",\"type\":\"BasicTickFormatter\"},{\"attributes\":{},\"id\":\"54563\",\"type\":\"DataRange1d\"},{\"attributes\":{\"axis\":{\"id\":\"54692\"},\"ticker\":null},\"id\":\"54695\",\"type\":\"Grid\"},{\"attributes\":{\"line_alpha\":0.1,\"line_color\":\"red\",\"x\":{\"field\":\"time\"},\"y\":{\"field\":\"motorR_coord\"}},\"id\":\"54594\",\"type\":\"Line\"},{\"attributes\":{\"line_alpha\":0.1,\"line_color\":\"#1f77b4\",\"x\":{\"field\":\"time\"},\"y\":{\"field\":\"power\"}},\"id\":\"54680\",\"type\":\"Line\"},{\"attributes\":{},\"id\":\"54580\",\"type\":\"SaveTool\"},{\"attributes\":{\"line_alpha\":0.1,\"line_color\":\"#1f77b4\",\"x\":{\"field\":\"time\"},\"y\":{\"field\":\"tension\"}},\"id\":\"54717\",\"type\":\"Line\"},{\"attributes\":{},\"id\":\"54577\",\"type\":\"PanTool\"},{\"attributes\":{},\"id\":\"54684\",\"type\":\"DataRange1d\"},{\"attributes\":{},\"id\":\"54603\",\"type\":\"Selection\"},{\"attributes\":{},\"id\":\"54688\",\"type\":\"LinearScale\"},{\"attributes\":{\"formatter\":{\"id\":\"54770\"},\"ticker\":{\"id\":\"54697\"}},\"id\":\"54696\",\"type\":\"LinearAxis\"},{\"attributes\":{},\"id\":\"54705\",\"type\":\"HelpTool\"},{\"attributes\":{},\"id\":\"54570\",\"type\":\"BasicTicker\"},{\"attributes\":{\"data\":{\"a\":{\"__ndarray__\":\"\",\"dtype\":\"float64\",\"order\":\"little\",\"shape\":[0]},\"dL_coord\":{\"__ndarray__\":\"\",\"dtype\":\"float64\",\"order\":\"little\",\"shape\":[0]},\"index\":[],\"motorL_coord\":{\"__ndarray__\":\"\",\"dtype\":\"float64\",\"order\":\"little\",\"shape\":[0]},\"motorM_coord\":{\"__ndarray__\":\"\",\"dtype\":\"float64\",\"order\":\"little\",\"shape\":[0]},\"motorR_coord\":{\"__ndarray__\":\"\",\"dtype\":\"float64\",\"order\":\"little\",\"shape\":[0]},\"power\":{\"__ndarray__\":\"\",\"dtype\":\"float64\",\"order\":\"little\",\"shape\":[0]},\"tension\":{\"__ndarray__\":\"\",\"dtype\":\"float64\",\"order\":\"little\",\"shape\":[0]},\"time\":{\"__ndarray__\":\"\",\"dtype\":\"float64\",\"order\":\"little\",\"shape\":[0]},\"v\":{\"__ndarray__\":\"\",\"dtype\":\"float64\",\"order\":\"little\",\"shape\":[0]}},\"selected\":{\"id\":\"54603\"},\"selection_policy\":{\"id\":\"54604\"}},\"id\":\"54591\",\"type\":\"ColumnDataSource\"},{\"attributes\":{},\"id\":\"54686\",\"type\":\"DataRange1d\"},{\"attributes\":{},\"id\":\"54784\",\"type\":\"UnionRenderers\"},{\"attributes\":{\"active_drag\":\"auto\",\"active_inspect\":\"auto\",\"active_multi\":null,\"active_scroll\":\"auto\",\"active_tap\":\"auto\",\"tools\":[{\"id\":\"54577\"},{\"id\":\"54578\"},{\"id\":\"54579\"},{\"id\":\"54580\"},{\"id\":\"54581\"},{\"id\":\"54582\"}]},\"id\":\"54584\",\"type\":\"Toolbar\"},{\"attributes\":{\"line_color\":\"#1f77b4\",\"x\":{\"field\":\"time\"},\"y\":{\"field\":\"power\"}},\"id\":\"54679\",\"type\":\"Line\"},{\"attributes\":{},\"id\":\"54697\",\"type\":\"BasicTicker\"},{\"attributes\":{},\"id\":\"54604\",\"type\":\"UnionRenderers\"},{\"attributes\":{},\"id\":\"54578\",\"type\":\"WheelZoomTool\"},{\"attributes\":{\"formatter\":{\"id\":\"54602\"},\"ticker\":{\"id\":\"54570\"}},\"id\":\"54569\",\"type\":\"LinearAxis\"},{\"attributes\":{\"children\":[{\"id\":\"54646\"}]},\"id\":\"54721\",\"type\":\"Row\"},{\"attributes\":{\"data_source\":{\"id\":\"54608\"},\"glyph\":{\"id\":\"54610\"},\"hover_glyph\":null,\"muted_glyph\":null,\"nonselection_glyph\":{\"id\":\"54611\"},\"selection_glyph\":null,\"view\":{\"id\":\"54613\"}},\"id\":\"54612\",\"type\":\"GlyphRenderer\"},{\"attributes\":{\"axis\":{\"id\":\"54696\"},\"dimension\":1,\"ticker\":null},\"id\":\"54699\",\"type\":\"Grid\"},{\"attributes\":{},\"id\":\"54690\",\"type\":\"LinearScale\"},{\"attributes\":{},\"id\":\"54582\",\"type\":\"HelpTool\"},{\"attributes\":{},\"id\":\"54703\",\"type\":\"SaveTool\"},{\"attributes\":{\"axis\":{\"id\":\"54573\"},\"dimension\":1,\"ticker\":null},\"id\":\"54576\",\"type\":\"Grid\"},{\"attributes\":{\"text\":\"\"},\"id\":\"54597\",\"type\":\"Title\"},{\"attributes\":{\"formatter\":{\"id\":\"54600\"},\"ticker\":{\"id\":\"54574\"}},\"id\":\"54573\",\"type\":\"LinearAxis\"},{\"attributes\":{},\"id\":\"54581\",\"type\":\"ResetTool\"},{\"attributes\":{\"line_color\":\"#1f77b4\",\"x\":{\"field\":\"time\"},\"y\":{\"field\":\"tension\"}},\"id\":\"54716\",\"type\":\"Line\"},{\"attributes\":{\"active_drag\":\"auto\",\"active_inspect\":\"auto\",\"active_multi\":null,\"active_scroll\":\"auto\",\"active_tap\":\"auto\",\"tools\":[{\"id\":\"54700\"},{\"id\":\"54701\"},{\"id\":\"54702\"},{\"id\":\"54703\"},{\"id\":\"54704\"},{\"id\":\"54705\"}]},\"id\":\"54707\",\"type\":\"Toolbar\"},{\"attributes\":{},\"id\":\"54602\",\"type\":\"BasicTickFormatter\"},{\"attributes\":{},\"id\":\"54700\",\"type\":\"PanTool\"},{\"attributes\":{\"line_color\":\"blue\",\"x\":{\"field\":\"time\"},\"y\":{\"field\":\"motorL_coord\"}},\"id\":\"54610\",\"type\":\"Line\"},{\"attributes\":{\"overlay\":{\"id\":\"54583\"}},\"id\":\"54579\",\"type\":\"BoxZoomTool\"},{\"attributes\":{\"source\":{\"id\":\"54677\"}},\"id\":\"54682\",\"type\":\"CDSView\"},{\"attributes\":{},\"id\":\"54783\",\"type\":\"Selection\"},{\"attributes\":{\"label\":{\"value\":\"motorL\"},\"renderers\":[{\"id\":\"54612\"}]},\"id\":\"54625\",\"type\":\"LegendItem\"},{\"attributes\":{\"source\":{\"id\":\"54714\"}},\"id\":\"54719\",\"type\":\"CDSView\"},{\"attributes\":{\"items\":[{\"id\":\"54607\"},{\"id\":\"54625\"},{\"id\":\"54645\"}]},\"id\":\"54606\",\"type\":\"Legend\"},{\"attributes\":{\"data_source\":{\"id\":\"54591\"},\"glyph\":{\"id\":\"54593\"},\"hover_glyph\":null,\"muted_glyph\":null,\"nonselection_glyph\":{\"id\":\"54594\"},\"selection_glyph\":null,\"view\":{\"id\":\"54596\"}},\"id\":\"54595\",\"type\":\"GlyphRenderer\"},{\"attributes\":{\"bottom_units\":\"screen\",\"fill_alpha\":0.5,\"fill_color\":\"lightgrey\",\"left_units\":\"screen\",\"level\":\"overlay\",\"line_alpha\":1.0,\"line_color\":\"black\",\"line_dash\":[4,4],\"line_width\":2,\"right_units\":\"screen\",\"top_units\":\"screen\"},\"id\":\"54706\",\"type\":\"BoxAnnotation\"},{\"attributes\":{\"data_source\":{\"id\":\"54677\"},\"glyph\":{\"id\":\"54679\"},\"hover_glyph\":null,\"muted_glyph\":null,\"nonselection_glyph\":{\"id\":\"54680\"},\"selection_glyph\":null,\"view\":{\"id\":\"54682\"}},\"id\":\"54681\",\"type\":\"GlyphRenderer\"},{\"attributes\":{\"overlay\":{\"id\":\"54706\"}},\"id\":\"54702\",\"type\":\"BoxZoomTool\"},{\"attributes\":{\"children\":[{\"id\":\"54683\"}]},\"id\":\"54722\",\"type\":\"Row\"},{\"attributes\":{},\"id\":\"54565\",\"type\":\"LinearScale\"},{\"attributes\":{},\"id\":\"54561\",\"type\":\"DataRange1d\"},{\"attributes\":{\"below\":[{\"id\":\"54569\"}],\"center\":[{\"id\":\"54572\"},{\"id\":\"54576\"},{\"id\":\"54606\"}],\"left\":[{\"id\":\"54573\"}],\"plot_height\":400,\"plot_width\":980,\"renderers\":[{\"id\":\"54595\"},{\"id\":\"54612\"},{\"id\":\"54630\"}],\"sizing_mode\":\"scale_both\",\"title\":{\"id\":\"54597\"},\"toolbar\":{\"id\":\"54584\"},\"x_range\":{\"id\":\"54561\"},\"x_scale\":{\"id\":\"54565\"},\"y_range\":{\"id\":\"54563\"},\"y_scale\":{\"id\":\"54567\"}},\"id\":\"54560\",\"subtype\":\"Figure\",\"type\":\"Plot\"},{\"attributes\":{},\"id\":\"54704\",\"type\":\"ResetTool\"},{\"attributes\":{},\"id\":\"54567\",\"type\":\"LinearScale\"},{\"attributes\":{\"data\":{\"a\":{\"__ndarray__\":\"\",\"dtype\":\"float64\",\"order\":\"little\",\"shape\":[0]},\"dL_coord\":{\"__ndarray__\":\"\",\"dtype\":\"float64\",\"order\":\"little\",\"shape\":[0]},\"index\":[],\"motorL_coord\":{\"__ndarray__\":\"\",\"dtype\":\"float64\",\"order\":\"little\",\"shape\":[0]},\"motorM_coord\":{\"__ndarray__\":\"\",\"dtype\":\"float64\",\"order\":\"little\",\"shape\":[0]},\"motorR_coord\":{\"__ndarray__\":\"\",\"dtype\":\"float64\",\"order\":\"little\",\"shape\":[0]},\"power\":{\"__ndarray__\":\"\",\"dtype\":\"float64\",\"order\":\"little\",\"shape\":[0]},\"tension\":{\"__ndarray__\":\"\",\"dtype\":\"float64\",\"order\":\"little\",\"shape\":[0]},\"time\":{\"__ndarray__\":\"\",\"dtype\":\"float64\",\"order\":\"little\",\"shape\":[0]},\"v\":{\"__ndarray__\":\"\",\"dtype\":\"float64\",\"order\":\"little\",\"shape\":[0]}},\"selected\":{\"id\":\"54622\"},\"selection_policy\":{\"id\":\"54623\"}},\"id\":\"54608\",\"type\":\"ColumnDataSource\"},{\"attributes\":{\"below\":[{\"id\":\"54655\"}],\"center\":[{\"id\":\"54658\"},{\"id\":\"54662\"}],\"left\":[{\"id\":\"54659\"}],\"plot_height\":200,\"plot_width\":980,\"renderers\":[{\"id\":\"54681\"}],\"sizing_mode\":\"scale_both\",\"title\":{\"id\":\"54757\"},\"toolbar\":{\"id\":\"54670\"},\"x_range\":{\"id\":\"54647\"},\"x_scale\":{\"id\":\"54651\"},\"y_range\":{\"id\":\"54649\"},\"y_scale\":{\"id\":\"54653\"}},\"id\":\"54646\",\"subtype\":\"Figure\",\"type\":\"Plot\"},{\"attributes\":{\"source\":{\"id\":\"54591\"}},\"id\":\"54596\",\"type\":\"CDSView\"}],\"root_ids\":[\"54723\"]},\"title\":\"Bokeh Application\",\"version\":\"2.1.1\"}};\n",
       "  var render_items = [{\"docid\":\"6e8097ad-d394-4e34-9f1c-282cde9a9755\",\"notebook_comms_target\":\"54786\",\"root_ids\":[\"54723\"],\"roots\":{\"54723\":\"acf979ee-5e84-4948-87fb-28719e708f62\"}}];\n",
       "  root.Bokeh.embed.embed_items_notebook(docs_json, render_items);\n",
       "\n",
       "  }\n",
       "  if (root.Bokeh !== undefined) {\n",
       "    embed_document(root);\n",
       "  } else {\n",
       "    var attempts = 0;\n",
       "    var timer = setInterval(function(root) {\n",
       "      if (root.Bokeh !== undefined) {\n",
       "        clearInterval(timer);\n",
       "        embed_document(root);\n",
       "      } else {\n",
       "        attempts++;\n",
       "        if (attempts > 100) {\n",
       "          clearInterval(timer);\n",
       "          console.log(\"Bokeh: ERROR: Unable to run BokehJS code because BokehJS library is missing\");\n",
       "        }\n",
       "      }\n",
       "    }, 10, root)\n",
       "  }\n",
       "})(window);"
      ],
      "application/vnd.bokehjs_exec.v0+json": ""
     },
     "metadata": {
      "application/vnd.bokehjs_exec.v0+json": {
       "id": "54723"
      }
     },
     "output_type": "display_data"
    },
    {
     "data": {
      "application/vnd.jupyter.widget-view+json": {
       "model_id": "e57d9dd065664ac39e1a37f8df96a3e9",
       "version_major": 2,
       "version_minor": 0
      },
      "text/plain": [
       "FloatSlider(value=2.0, max=10.0)"
      ]
     },
     "metadata": {},
     "output_type": "display_data"
    },
    {
     "data": {
      "application/vnd.jupyter.widget-view+json": {
       "model_id": "33d516a760bd49c78c14e607a86b89ea",
       "version_major": 2,
       "version_minor": 0
      },
      "text/plain": [
       "FloatSlider(value=8.0, max=18.0)"
      ]
     },
     "metadata": {},
     "output_type": "display_data"
    },
    {
     "data": {
      "application/vnd.jupyter.widget-view+json": {
       "model_id": "f26452e97cb544e087197c375c4c799d",
       "version_major": 2,
       "version_minor": 0
      },
      "text/plain": [
       "FloatSlider(value=0.0, min=-100.0)"
      ]
     },
     "metadata": {},
     "output_type": "display_data"
    },
    {
     "data": {
      "application/vnd.jupyter.widget-view+json": {
       "model_id": "e45ea35f1be249aeb674c66c2a6f0bca",
       "version_major": 2,
       "version_minor": 0
      },
      "text/plain": [
       "Button(description='stop', style=ButtonStyle())"
      ]
     },
     "metadata": {},
     "output_type": "display_data"
    },
    {
     "data": {
      "application/vnd.jupyter.widget-view+json": {
       "model_id": "bc514887bc0b471eb46f03ad92edaef1",
       "version_major": 2,
       "version_minor": 0
      },
      "text/plain": [
       "Button(description='btn2', style=ButtonStyle())"
      ]
     },
     "metadata": {},
     "output_type": "display_data"
    },
    {
     "data": {
      "application/vnd.jupyter.widget-view+json": {
       "model_id": "d167e4533f934fa49075d6913f0c66ac",
       "version_major": 2,
       "version_minor": 0
      },
      "text/plain": [
       "Output()"
      ]
     },
     "metadata": {},
     "output_type": "display_data"
    },
    {
     "name": "stdout",
     "output_type": "stream",
     "text": [
      "8.0 2.0\n",
      "the end\n"
     ]
    }
   ],
   "source": [
    "stop_fl = False\n",
    "fl1=False\n",
    "def stop_btn_click(stop_btn):\n",
    "    global stop_fl\n",
    "    stop_fl = True\n",
    "    stop_btn.description = 'done'\n",
    "    \n",
    "def btn2_click(btn2):\n",
    "    global fl1\n",
    "    fl1 = True    \n",
    "\n",
    "stop_btn = ipywidgets.Button(description='stop')\n",
    "stop_btn.on_click(stop_btn_click)\n",
    "btn2 = ipywidgets.Button(description='btn2')\n",
    "btn2.on_click(btn2_click)\n",
    "\n",
    "show(grid, notebook_handle=True)\n",
    "sl_v=ipywidgets.FloatSlider(max=10,value=2)\n",
    "sl_a=ipywidgets.FloatSlider(max=18,value=8)\n",
    "sl_dt=ipywidgets.FloatSlider(min=-100, max=100,value=0)\n",
    "output2 = ipywidgets.Output()\n",
    "display(sl_v,sl_a,sl_dt, stop_btn, btn2, output2)\n",
    "t0 = time.time()\n",
    "x_coord = [20, 10]\n",
    "num = 0\n",
    "v=sl_v.value\n",
    "a=sl_a.value\n",
    "print(a,v)\n",
    "while motors.IsInMotion():\n",
    "    pass\n",
    "with ui_events() as poll:\n",
    "    while time.time() - t0 < 1351:\n",
    "        tPoints = np.append(tPoints, time.time() - t0)\n",
    "        tg.ReadTension()\n",
    "        pm.ReadPower()\n",
    "        motorR.Getposition()\n",
    "        motorL.Getposition()\n",
    "        motorM.Getposition()\n",
    "        a_points = np.append(a_points,a)\n",
    "        v_points = np.append(v_points,v)\n",
    "        dL_points = np.append(dL_points,-motorR.points[-1]-motorL.points[-1]-(-motorR.points[0]-motorL.points[0]))\n",
    "        pl_m_m.data_source.data=pl_m_l.data_source.data=pl_m_r.data_source.data=p2.data_source.data = p.data_source.data = data = pd.DataFrame({\n",
    "         'time': tPoints,\n",
    "         'power': pm.powers,\n",
    "         'tension': tg.weights,\n",
    "         'motorR_coord': motorR.points,\n",
    "         'motorL_coord': motorL.points,\n",
    "         'motorM_coord': motorM.points,\n",
    "         'dL_coord': dL_points,\n",
    "         'a': a_points,\n",
    "         'v': v_points,\n",
    "        })\n",
    "        push_notebook()\n",
    "        poll(10)\n",
    "        v=sl_v.value\n",
    "        a=sl_a.value\n",
    "        dt=sl_dt.value/10000\n",
    "        # with output2:\n",
    "        #    print(v,end=\" \")\n",
    "        if stop_fl == True:\n",
    "            motors.Stop()\n",
    "            break\n",
    "        if fl1 == True:\n",
    "            motorR.set_velocity_parameters(0, a_norm, v_norm)\n",
    "            motorR.move_to(60)\n",
    "            fl1=False\n",
    "        if not motors.IsInMotion():\n",
    "            if(num%24<12):\n",
    "                motors.Move(5,v,a,0,a**2*dt/v)\n",
    "            else:\n",
    "                motors.Move(-5,v,a,0,a**2*dt/v)\n",
    "            num+=1\n",
    "        #update(data)\n",
    "print(\"the end\")     "
   ]
  },
  {
   "cell_type": "code",
   "execution_count": 7,
   "metadata": {
    "pycharm": {
     "name": "#%%\n"
    }
   },
   "outputs": [],
   "source": [
    "q = datetime.datetime.today()\n",
    "st = str(q.day) + '_' + str(q.month) + '_' + str(q.year) + '__' + str(q.hour) + '_' + str(q.minute)\n",
    "st = r'C:\\Users\\Fiber\\Desktop\\table_control_data\\test\\data_' + st + '.csv'\n",
    "data.to_csv(st, index=False)\n",
    "del tg\n",
    "del pm"
   ]
  }
 ],
 "metadata": {
  "kernelspec": {
   "display_name": "Python 3",
   "language": "python",
   "name": "python3"
  },
  "language_info": {
   "codemirror_mode": {
    "name": "ipython",
    "version": 3
   },
   "file_extension": ".py",
   "mimetype": "text/x-python",
   "name": "python",
   "nbconvert_exporter": "python",
   "pygments_lexer": "ipython3",
   "version": "3.8.3"
  }
 },
 "nbformat": 4,
 "nbformat_minor": 1
}