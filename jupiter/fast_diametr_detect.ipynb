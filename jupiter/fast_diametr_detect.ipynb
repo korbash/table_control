{
 "cells": [
  {
   "cell_type": "code",
   "execution_count": 1,
   "metadata": {},
   "outputs": [],
   "source": [
    "import cv2\n",
    "import numpy as np\n",
    "import pandas as pd\n",
    "import matplotlib.pyplot as plt\n",
    "import math\n",
    "from scipy.optimize import root_scalar\n",
    "from sklearn.linear_model import (LinearRegression, HuberRegressor,\n",
    "                                  RANSACRegressor, TheilSenRegressor)\n",
    "from bokeh.layouts import layout\n",
    "from bokeh.models import Slider, CustomJS\n",
    "from bokeh.plotting import figure, show, output_file, save\n",
    "from bokeh.io import output_notebook\n",
    "\n",
    "from tqdm import notebook"
   ]
  },
  {
   "cell_type": "code",
   "execution_count": 2,
   "metadata": {},
   "outputs": [
    {
     "data": {
      "text/html": [
       "<div class=\"bk-root\">\n",
       "        <a href=\"https://bokeh.org\" target=\"_blank\" class=\"bk-logo bk-logo-small bk-logo-notebook\"></a>\n",
       "        <span id=\"1002\">Loading BokehJS ...</span>\n",
       "    </div>\n"
      ]
     },
     "metadata": {},
     "output_type": "display_data"
    },
    {
     "data": {
      "application/javascript": [
       "(function(root) {\n",
       "  function now() {\n",
       "    return new Date();\n",
       "  }\n",
       "\n",
       "  const force = true;\n",
       "\n",
       "  if (typeof root._bokeh_onload_callbacks === \"undefined\" || force === true) {\n",
       "    root._bokeh_onload_callbacks = [];\n",
       "    root._bokeh_is_loading = undefined;\n",
       "  }\n",
       "\n",
       "const JS_MIME_TYPE = 'application/javascript';\n",
       "  const HTML_MIME_TYPE = 'text/html';\n",
       "  const EXEC_MIME_TYPE = 'application/vnd.bokehjs_exec.v0+json';\n",
       "  const CLASS_NAME = 'output_bokeh rendered_html';\n",
       "\n",
       "  /**\n",
       "   * Render data to the DOM node\n",
       "   */\n",
       "  function render(props, node) {\n",
       "    const script = document.createElement(\"script\");\n",
       "    node.appendChild(script);\n",
       "  }\n",
       "\n",
       "  /**\n",
       "   * Handle when an output is cleared or removed\n",
       "   */\n",
       "  function handleClearOutput(event, handle) {\n",
       "    const cell = handle.cell;\n",
       "\n",
       "    const id = cell.output_area._bokeh_element_id;\n",
       "    const server_id = cell.output_area._bokeh_server_id;\n",
       "    // Clean up Bokeh references\n",
       "    if (id != null && id in Bokeh.index) {\n",
       "      Bokeh.index[id].model.document.clear();\n",
       "      delete Bokeh.index[id];\n",
       "    }\n",
       "\n",
       "    if (server_id !== undefined) {\n",
       "      // Clean up Bokeh references\n",
       "      const cmd_clean = \"from bokeh.io.state import curstate; print(curstate().uuid_to_server['\" + server_id + \"'].get_sessions()[0].document.roots[0]._id)\";\n",
       "      cell.notebook.kernel.execute(cmd_clean, {\n",
       "        iopub: {\n",
       "          output: function(msg) {\n",
       "            const id = msg.content.text.trim();\n",
       "            if (id in Bokeh.index) {\n",
       "              Bokeh.index[id].model.document.clear();\n",
       "              delete Bokeh.index[id];\n",
       "            }\n",
       "          }\n",
       "        }\n",
       "      });\n",
       "      // Destroy server and session\n",
       "      const cmd_destroy = \"import bokeh.io.notebook as ion; ion.destroy_server('\" + server_id + \"')\";\n",
       "      cell.notebook.kernel.execute(cmd_destroy);\n",
       "    }\n",
       "  }\n",
       "\n",
       "  /**\n",
       "   * Handle when a new output is added\n",
       "   */\n",
       "  function handleAddOutput(event, handle) {\n",
       "    const output_area = handle.output_area;\n",
       "    const output = handle.output;\n",
       "\n",
       "    // limit handleAddOutput to display_data with EXEC_MIME_TYPE content only\n",
       "    if ((output.output_type != \"display_data\") || (!Object.prototype.hasOwnProperty.call(output.data, EXEC_MIME_TYPE))) {\n",
       "      return\n",
       "    }\n",
       "\n",
       "    const toinsert = output_area.element.find(\".\" + CLASS_NAME.split(' ')[0]);\n",
       "\n",
       "    if (output.metadata[EXEC_MIME_TYPE][\"id\"] !== undefined) {\n",
       "      toinsert[toinsert.length - 1].firstChild.textContent = output.data[JS_MIME_TYPE];\n",
       "      // store reference to embed id on output_area\n",
       "      output_area._bokeh_element_id = output.metadata[EXEC_MIME_TYPE][\"id\"];\n",
       "    }\n",
       "    if (output.metadata[EXEC_MIME_TYPE][\"server_id\"] !== undefined) {\n",
       "      const bk_div = document.createElement(\"div\");\n",
       "      bk_div.innerHTML = output.data[HTML_MIME_TYPE];\n",
       "      const script_attrs = bk_div.children[0].attributes;\n",
       "      for (let i = 0; i < script_attrs.length; i++) {\n",
       "        toinsert[toinsert.length - 1].firstChild.setAttribute(script_attrs[i].name, script_attrs[i].value);\n",
       "        toinsert[toinsert.length - 1].firstChild.textContent = bk_div.children[0].textContent\n",
       "      }\n",
       "      // store reference to server id on output_area\n",
       "      output_area._bokeh_server_id = output.metadata[EXEC_MIME_TYPE][\"server_id\"];\n",
       "    }\n",
       "  }\n",
       "\n",
       "  function register_renderer(events, OutputArea) {\n",
       "\n",
       "    function append_mime(data, metadata, element) {\n",
       "      // create a DOM node to render to\n",
       "      const toinsert = this.create_output_subarea(\n",
       "        metadata,\n",
       "        CLASS_NAME,\n",
       "        EXEC_MIME_TYPE\n",
       "      );\n",
       "      this.keyboard_manager.register_events(toinsert);\n",
       "      // Render to node\n",
       "      const props = {data: data, metadata: metadata[EXEC_MIME_TYPE]};\n",
       "      render(props, toinsert[toinsert.length - 1]);\n",
       "      element.append(toinsert);\n",
       "      return toinsert\n",
       "    }\n",
       "\n",
       "    /* Handle when an output is cleared or removed */\n",
       "    events.on('clear_output.CodeCell', handleClearOutput);\n",
       "    events.on('delete.Cell', handleClearOutput);\n",
       "\n",
       "    /* Handle when a new output is added */\n",
       "    events.on('output_added.OutputArea', handleAddOutput);\n",
       "\n",
       "    /**\n",
       "     * Register the mime type and append_mime function with output_area\n",
       "     */\n",
       "    OutputArea.prototype.register_mime_type(EXEC_MIME_TYPE, append_mime, {\n",
       "      /* Is output safe? */\n",
       "      safe: true,\n",
       "      /* Index of renderer in `output_area.display_order` */\n",
       "      index: 0\n",
       "    });\n",
       "  }\n",
       "\n",
       "  // register the mime type if in Jupyter Notebook environment and previously unregistered\n",
       "  if (root.Jupyter !== undefined) {\n",
       "    const events = require('base/js/events');\n",
       "    const OutputArea = require('notebook/js/outputarea').OutputArea;\n",
       "\n",
       "    if (OutputArea.prototype.mime_types().indexOf(EXEC_MIME_TYPE) == -1) {\n",
       "      register_renderer(events, OutputArea);\n",
       "    }\n",
       "  }\n",
       "  if (typeof (root._bokeh_timeout) === \"undefined\" || force === true) {\n",
       "    root._bokeh_timeout = Date.now() + 5000;\n",
       "    root._bokeh_failed_load = false;\n",
       "  }\n",
       "\n",
       "  const NB_LOAD_WARNING = {'data': {'text/html':\n",
       "     \"<div style='background-color: #fdd'>\\n\"+\n",
       "     \"<p>\\n\"+\n",
       "     \"BokehJS does not appear to have successfully loaded. If loading BokehJS from CDN, this \\n\"+\n",
       "     \"may be due to a slow or bad network connection. Possible fixes:\\n\"+\n",
       "     \"</p>\\n\"+\n",
       "     \"<ul>\\n\"+\n",
       "     \"<li>re-rerun `output_notebook()` to attempt to load from CDN again, or</li>\\n\"+\n",
       "     \"<li>use INLINE resources instead, as so:</li>\\n\"+\n",
       "     \"</ul>\\n\"+\n",
       "     \"<code>\\n\"+\n",
       "     \"from bokeh.resources import INLINE\\n\"+\n",
       "     \"output_notebook(resources=INLINE)\\n\"+\n",
       "     \"</code>\\n\"+\n",
       "     \"</div>\"}};\n",
       "\n",
       "  function display_loaded() {\n",
       "    const el = document.getElementById(\"1002\");\n",
       "    if (el != null) {\n",
       "      el.textContent = \"BokehJS is loading...\";\n",
       "    }\n",
       "    if (root.Bokeh !== undefined) {\n",
       "      if (el != null) {\n",
       "        el.textContent = \"BokehJS \" + root.Bokeh.version + \" successfully loaded.\";\n",
       "      }\n",
       "    } else if (Date.now() < root._bokeh_timeout) {\n",
       "      setTimeout(display_loaded, 100)\n",
       "    }\n",
       "  }\n",
       "\n",
       "  function run_callbacks() {\n",
       "    try {\n",
       "      root._bokeh_onload_callbacks.forEach(function(callback) {\n",
       "        if (callback != null)\n",
       "          callback();\n",
       "      });\n",
       "    } finally {\n",
       "      delete root._bokeh_onload_callbacks\n",
       "    }\n",
       "    console.debug(\"Bokeh: all callbacks have finished\");\n",
       "  }\n",
       "\n",
       "  function load_libs(css_urls, js_urls, callback) {\n",
       "    if (css_urls == null) css_urls = [];\n",
       "    if (js_urls == null) js_urls = [];\n",
       "\n",
       "    root._bokeh_onload_callbacks.push(callback);\n",
       "    if (root._bokeh_is_loading > 0) {\n",
       "      console.debug(\"Bokeh: BokehJS is being loaded, scheduling callback at\", now());\n",
       "      return null;\n",
       "    }\n",
       "    if (js_urls == null || js_urls.length === 0) {\n",
       "      run_callbacks();\n",
       "      return null;\n",
       "    }\n",
       "    console.debug(\"Bokeh: BokehJS not loaded, scheduling load and callback at\", now());\n",
       "    root._bokeh_is_loading = css_urls.length + js_urls.length;\n",
       "\n",
       "    function on_load() {\n",
       "      root._bokeh_is_loading--;\n",
       "      if (root._bokeh_is_loading === 0) {\n",
       "        console.debug(\"Bokeh: all BokehJS libraries/stylesheets loaded\");\n",
       "        run_callbacks()\n",
       "      }\n",
       "    }\n",
       "\n",
       "    function on_error(url) {\n",
       "      console.error(\"failed to load \" + url);\n",
       "    }\n",
       "\n",
       "    for (let i = 0; i < css_urls.length; i++) {\n",
       "      const url = css_urls[i];\n",
       "      const element = document.createElement(\"link\");\n",
       "      element.onload = on_load;\n",
       "      element.onerror = on_error.bind(null, url);\n",
       "      element.rel = \"stylesheet\";\n",
       "      element.type = \"text/css\";\n",
       "      element.href = url;\n",
       "      console.debug(\"Bokeh: injecting link tag for BokehJS stylesheet: \", url);\n",
       "      document.body.appendChild(element);\n",
       "    }\n",
       "\n",
       "    for (let i = 0; i < js_urls.length; i++) {\n",
       "      const url = js_urls[i];\n",
       "      const element = document.createElement('script');\n",
       "      element.onload = on_load;\n",
       "      element.onerror = on_error.bind(null, url);\n",
       "      element.async = false;\n",
       "      element.src = url;\n",
       "      console.debug(\"Bokeh: injecting script tag for BokehJS library: \", url);\n",
       "      document.head.appendChild(element);\n",
       "    }\n",
       "  };\n",
       "\n",
       "  function inject_raw_css(css) {\n",
       "    const element = document.createElement(\"style\");\n",
       "    element.appendChild(document.createTextNode(css));\n",
       "    document.body.appendChild(element);\n",
       "  }\n",
       "\n",
       "  const js_urls = [\"https://cdn.bokeh.org/bokeh/release/bokeh-2.4.3.min.js\", \"https://cdn.bokeh.org/bokeh/release/bokeh-gl-2.4.3.min.js\", \"https://cdn.bokeh.org/bokeh/release/bokeh-widgets-2.4.3.min.js\", \"https://cdn.bokeh.org/bokeh/release/bokeh-tables-2.4.3.min.js\", \"https://cdn.bokeh.org/bokeh/release/bokeh-mathjax-2.4.3.min.js\"];\n",
       "  const css_urls = [];\n",
       "\n",
       "  const inline_js = [    function(Bokeh) {\n",
       "      Bokeh.set_log_level(\"info\");\n",
       "    },\n",
       "function(Bokeh) {\n",
       "    }\n",
       "  ];\n",
       "\n",
       "  function run_inline_js() {\n",
       "    if (root.Bokeh !== undefined || force === true) {\n",
       "          for (let i = 0; i < inline_js.length; i++) {\n",
       "      inline_js[i].call(root, root.Bokeh);\n",
       "    }\n",
       "if (force === true) {\n",
       "        display_loaded();\n",
       "      }} else if (Date.now() < root._bokeh_timeout) {\n",
       "      setTimeout(run_inline_js, 100);\n",
       "    } else if (!root._bokeh_failed_load) {\n",
       "      console.log(\"Bokeh: BokehJS failed to load within specified timeout.\");\n",
       "      root._bokeh_failed_load = true;\n",
       "    } else if (force !== true) {\n",
       "      const cell = $(document.getElementById(\"1002\")).parents('.cell').data().cell;\n",
       "      cell.output_area.append_execute_result(NB_LOAD_WARNING)\n",
       "    }\n",
       "  }\n",
       "\n",
       "  if (root._bokeh_is_loading === 0) {\n",
       "    console.debug(\"Bokeh: BokehJS loaded, going straight to plotting\");\n",
       "    run_inline_js();\n",
       "  } else {\n",
       "    load_libs(css_urls, js_urls, function() {\n",
       "      console.debug(\"Bokeh: BokehJS plotting callback run at\", now());\n",
       "      run_inline_js();\n",
       "    });\n",
       "  }\n",
       "}(window));"
      ],
      "application/vnd.bokehjs_load.v0+json": "(function(root) {\n  function now() {\n    return new Date();\n  }\n\n  const force = true;\n\n  if (typeof root._bokeh_onload_callbacks === \"undefined\" || force === true) {\n    root._bokeh_onload_callbacks = [];\n    root._bokeh_is_loading = undefined;\n  }\n\n\n  if (typeof (root._bokeh_timeout) === \"undefined\" || force === true) {\n    root._bokeh_timeout = Date.now() + 5000;\n    root._bokeh_failed_load = false;\n  }\n\n  const NB_LOAD_WARNING = {'data': {'text/html':\n     \"<div style='background-color: #fdd'>\\n\"+\n     \"<p>\\n\"+\n     \"BokehJS does not appear to have successfully loaded. If loading BokehJS from CDN, this \\n\"+\n     \"may be due to a slow or bad network connection. Possible fixes:\\n\"+\n     \"</p>\\n\"+\n     \"<ul>\\n\"+\n     \"<li>re-rerun `output_notebook()` to attempt to load from CDN again, or</li>\\n\"+\n     \"<li>use INLINE resources instead, as so:</li>\\n\"+\n     \"</ul>\\n\"+\n     \"<code>\\n\"+\n     \"from bokeh.resources import INLINE\\n\"+\n     \"output_notebook(resources=INLINE)\\n\"+\n     \"</code>\\n\"+\n     \"</div>\"}};\n\n  function display_loaded() {\n    const el = document.getElementById(\"1002\");\n    if (el != null) {\n      el.textContent = \"BokehJS is loading...\";\n    }\n    if (root.Bokeh !== undefined) {\n      if (el != null) {\n        el.textContent = \"BokehJS \" + root.Bokeh.version + \" successfully loaded.\";\n      }\n    } else if (Date.now() < root._bokeh_timeout) {\n      setTimeout(display_loaded, 100)\n    }\n  }\n\n  function run_callbacks() {\n    try {\n      root._bokeh_onload_callbacks.forEach(function(callback) {\n        if (callback != null)\n          callback();\n      });\n    } finally {\n      delete root._bokeh_onload_callbacks\n    }\n    console.debug(\"Bokeh: all callbacks have finished\");\n  }\n\n  function load_libs(css_urls, js_urls, callback) {\n    if (css_urls == null) css_urls = [];\n    if (js_urls == null) js_urls = [];\n\n    root._bokeh_onload_callbacks.push(callback);\n    if (root._bokeh_is_loading > 0) {\n      console.debug(\"Bokeh: BokehJS is being loaded, scheduling callback at\", now());\n      return null;\n    }\n    if (js_urls == null || js_urls.length === 0) {\n      run_callbacks();\n      return null;\n    }\n    console.debug(\"Bokeh: BokehJS not loaded, scheduling load and callback at\", now());\n    root._bokeh_is_loading = css_urls.length + js_urls.length;\n\n    function on_load() {\n      root._bokeh_is_loading--;\n      if (root._bokeh_is_loading === 0) {\n        console.debug(\"Bokeh: all BokehJS libraries/stylesheets loaded\");\n        run_callbacks()\n      }\n    }\n\n    function on_error(url) {\n      console.error(\"failed to load \" + url);\n    }\n\n    for (let i = 0; i < css_urls.length; i++) {\n      const url = css_urls[i];\n      const element = document.createElement(\"link\");\n      element.onload = on_load;\n      element.onerror = on_error.bind(null, url);\n      element.rel = \"stylesheet\";\n      element.type = \"text/css\";\n      element.href = url;\n      console.debug(\"Bokeh: injecting link tag for BokehJS stylesheet: \", url);\n      document.body.appendChild(element);\n    }\n\n    for (let i = 0; i < js_urls.length; i++) {\n      const url = js_urls[i];\n      const element = document.createElement('script');\n      element.onload = on_load;\n      element.onerror = on_error.bind(null, url);\n      element.async = false;\n      element.src = url;\n      console.debug(\"Bokeh: injecting script tag for BokehJS library: \", url);\n      document.head.appendChild(element);\n    }\n  };\n\n  function inject_raw_css(css) {\n    const element = document.createElement(\"style\");\n    element.appendChild(document.createTextNode(css));\n    document.body.appendChild(element);\n  }\n\n  const js_urls = [\"https://cdn.bokeh.org/bokeh/release/bokeh-2.4.3.min.js\", \"https://cdn.bokeh.org/bokeh/release/bokeh-gl-2.4.3.min.js\", \"https://cdn.bokeh.org/bokeh/release/bokeh-widgets-2.4.3.min.js\", \"https://cdn.bokeh.org/bokeh/release/bokeh-tables-2.4.3.min.js\", \"https://cdn.bokeh.org/bokeh/release/bokeh-mathjax-2.4.3.min.js\"];\n  const css_urls = [];\n\n  const inline_js = [    function(Bokeh) {\n      Bokeh.set_log_level(\"info\");\n    },\nfunction(Bokeh) {\n    }\n  ];\n\n  function run_inline_js() {\n    if (root.Bokeh !== undefined || force === true) {\n          for (let i = 0; i < inline_js.length; i++) {\n      inline_js[i].call(root, root.Bokeh);\n    }\nif (force === true) {\n        display_loaded();\n      }} else if (Date.now() < root._bokeh_timeout) {\n      setTimeout(run_inline_js, 100);\n    } else if (!root._bokeh_failed_load) {\n      console.log(\"Bokeh: BokehJS failed to load within specified timeout.\");\n      root._bokeh_failed_load = true;\n    } else if (force !== true) {\n      const cell = $(document.getElementById(\"1002\")).parents('.cell').data().cell;\n      cell.output_area.append_execute_result(NB_LOAD_WARNING)\n    }\n  }\n\n  if (root._bokeh_is_loading === 0) {\n    console.debug(\"Bokeh: BokehJS loaded, going straight to plotting\");\n    run_inline_js();\n  } else {\n    load_libs(css_urls, js_urls, function() {\n      console.debug(\"Bokeh: BokehJS plotting callback run at\", now());\n      run_inline_js();\n    });\n  }\n}(window));"
     },
     "metadata": {},
     "output_type": "display_data"
    }
   ],
   "source": [
    "output_notebook()"
   ]
  },
  {
   "cell_type": "code",
   "execution_count": 3,
   "metadata": {},
   "outputs": [],
   "source": [
    "num = 749"
   ]
  },
  {
   "cell_type": "code",
   "execution_count": 4,
   "metadata": {},
   "outputs": [],
   "source": [
    "def find_fiber(edges, **args):\n",
    "    # global p1\n",
    "    y, x = edges.shape\n",
    "    num = np.tile(np.linspace(0, 1, y), (x, 1)).T\n",
    "    if args.get('plot') == True:\n",
    "        p1 = args.get('p1')\n",
    "        p1.image(image=[edges], x=0, y=0, dw=1, dh=1, palette=\"Spectral11\")\n",
    "    edges = edges > 0\n",
    "    s = np.sum(edges, axis=0)\n",
    "    m = np.sum(edges * num, axis=0) / s\n",
    "    st = np.sqrt(np.sum(edges * (num - m)**2, axis=0) / s)\n",
    "    # print(st.shape)\n",
    "    # print(st)\n",
    "    std = np.nanmedian(st)\n",
    "    # print(std)\n",
    "    # if args.get('plot') == True:\n",
    "    #     plt.plot(st, 'o')\n",
    "    #     plt.plot([0, x - 1], [std, std])\n",
    "    #     plt.show()\n",
    "    X = np.linspace(0, 1, x)\n",
    "    bad = np.argwhere(np.isnan(m))\n",
    "    X = np.delete(X, bad)\n",
    "    m = np.delete(m, bad)\n",
    "    ransac = RANSACRegressor(random_state=42).fit(X.reshape([-1, 1]), m)\n",
    "    if args.get('plot') == True:\n",
    "        p2 = args.get('p2')\n",
    "        pred = ransac.predict(X[[0, -1]].reshape([-1, 1]))\n",
    "        p2.circle(X, m, size=5)\n",
    "        p2.line([0, 1], pred, line_color='red')\n",
    "        p2.line([0, 1], pred+std, line_color='green')\n",
    "        p2.line([0, 1], pred-std, line_color='green')\n",
    "    return float(ransac.estimator_.coef_), float(ransac.predict([[0]])), std\n",
    "\n",
    "\n",
    "def turn_crop(im, alf, b, std, **args):\n",
    "    w = args.get('width', 4)\n",
    "    up = max(b, b + alf)\n",
    "    down = min(b, b + alf)\n",
    "    y, x = im.shape\n",
    "    up = int(np.clip(up + w * std, 0, 1) * y)\n",
    "    down = int(np.clip(down - w * std, 0, 1) * y)\n",
    "    cr_im = im[down:up, :]\n",
    "    y_new = cr_im.shape[0]\n",
    "    M = cv2.getRotationMatrix2D([x / 2, y_new / 2],\n",
    "                                np.arctan(alf * y / x) * 180 / np.pi, 1)\n",
    "    rotated = cv2.warpAffine(cr_im,\n",
    "                             M, [cr_im.shape[1], cr_im.shape[0]],\n",
    "                             borderMode=cv2.BORDER_REPLICATE)\n",
    "    y_min = int(y_new / 2 - w * std * y)\n",
    "    y_max = int(y_new / 2 + w * std * y)\n",
    "    rotated = rotated[y_min:y_max]\n",
    "    if args.get('plot') == True:\n",
    "        p3 = args.get('p3')\n",
    "        p3.image(image=[rotated],\n",
    "                 x=0,\n",
    "                 y=0,\n",
    "                 dw=1,\n",
    "                 dh=rotated.shape[0] / y,\n",
    "                 palette=\"Spectral11\")\n",
    "        # plt.imshow(rotated)\n",
    "        # plt.show()\n",
    "    return rotated\n",
    "\n",
    "\n",
    "def cuts(m, n):\n",
    "    y, x = m.shape\n",
    "    step = x / n\n",
    "    b = np.ceil(np.arange(step, x, step)).astype(int)\n",
    "    lis = np.split(m, b, axis=1)\n",
    "    means = []\n",
    "    for l in lis:\n",
    "        means.append(l.mean(axis=1))\n",
    "    return np.stack(means)\n",
    "\n",
    "\n",
    "def fit(m, x):\n",
    "    ransac = RANSACRegressor(random_state=42).fit(x.reshape([-1, 1]), m)\n",
    "    pred = ransac.predict(x.reshape([-1, 1]))\n",
    "    std = np.mean((pred - m)**2)\n",
    "    return std, {'x': x[[0, -1]], 'y': pred[[0, -1]]}\n",
    "\n",
    "\n",
    "class window_fit():\n",
    "    def __init__(self, mas, w):\n",
    "        self.mas = mas\n",
    "        self.w = w\n",
    "        self.x, self.y = mas.shape\n",
    "        self.v = np.ones_like(mas) * float('-inf')\n",
    "        self.Y = np.arange(self.y)\n",
    "        self.boards = np.zeros([self.x, 2])\n",
    "\n",
    "    def get(self, x, y):\n",
    "\n",
    "        y -= self.w / 2\n",
    "        x0 = math.floor(x)\n",
    "        x1 = math.ceil(x)\n",
    "        y0 = math.floor(y)\n",
    "        y1 = math.ceil(y)\n",
    "        s0 = self.calc(x0, y0)\n",
    "        s1 = self.calc(x1, y1)\n",
    "        s = s1 * (y - y0) + s0 * (1 - (y - y0))\n",
    "        return s\n",
    "\n",
    "    def calc(self, x, y):\n",
    "        if self.v[x, y] == float('-inf'):\n",
    "            s, p = fit(self.mas[x, y:y + self.w], self.Y[y:y + self.w])\n",
    "            self.v[x, y] = math.log(s)\n",
    "            return math.log(s)\n",
    "        else:\n",
    "            return self.v[x, y]\n",
    "\n",
    "    def get_betwin(self, y0, y1):\n",
    "        y0, y1 = min(y0, y1), max(y0, y1)\n",
    "        y0 = max(0, math.ceil(y0))\n",
    "        y1 = min(self.y - 1, math.floor(y1))\n",
    "        return np.arange(y0, y1 + 1)\n",
    "\n",
    "    def get_mas(self, x):\n",
    "        X = np.argwhere(self.v[x] != float('-inf'))\n",
    "        Y = self.v[x, X]\n",
    "        X = X + self.w / 2\n",
    "        return X.flatten(), Y.flatten()\n",
    "\n",
    "    def calc_gerd(self, n):\n",
    "        Y = np.ceil(np.linspace(0, self.y - self.w - 1, n)).astype(int)\n",
    "        for x in range(self.x):\n",
    "            for y in Y:\n",
    "                self.calc(x, y)\n",
    "\n",
    "    def find_borders(self, kof):\n",
    "        for x in range(self.x):\n",
    "            p, val = self.get_mas(x)\n",
    "            # plt.plot(p,val)\n",
    "            # plt.show()\n",
    "            ma = val.max()\n",
    "            mi = val.min()\n",
    "            tr = mi * kof + ma * (1 - kof)\n",
    "            ind = np.argwhere(val > tr).flatten()\n",
    "            min_ind = max(ind.min() - 1, 0)\n",
    "            b = [min_ind, min_ind+1]\n",
    "            tr_l = val[b].min()\n",
    "            tr_h = val[b].max()\n",
    "            if tr < tr_l: tr = tr_l\n",
    "            if tr > tr_h: tr = tr_h\n",
    "            y0 = root_scalar(lambda y: self.get(x, y) - tr,\n",
    "                             method='brentq',\n",
    "                             bracket=p[b]).root\n",
    "            max_ind = min(ind.max() + 1, len(val)-1)\n",
    "            b = [max_ind - 1, max_ind]\n",
    "            tr_l = val[b].min()\n",
    "            tr_h = val[b].max()\n",
    "            if tr < tr_l: tr = tr_l\n",
    "            if tr > tr_h: tr = tr_h\n",
    "            y1 = root_scalar(lambda y: self.get(x, y) - tr,\n",
    "                             method='brentq',\n",
    "                             bracket=p[b]).root\n",
    "            self.boards[x, :] = [y0 + self.w / 2 - 0.5, y1 - self.w / 2 - 0.5]"
   ]
  },
  {
   "cell_type": "code",
   "execution_count": 5,
   "metadata": {},
   "outputs": [],
   "source": [
    "def count_foto(dir,path):\n",
    "    p0 = figure(height=400, width=800)\n",
    "    p1 = figure(height=300, width=400)\n",
    "    p2 = figure(height=300, width=400)\n",
    "    p3 = figure(height=220, width=800)\n",
    "    p4 = figure(height=300, width=400)\n",
    "    p5 = figure(height=300, width=400)\n",
    "    p6 = figure(height=300, width=800)\n",
    "    p7 = figure(height=220, width=800)\n",
    "    p = layout([[p0], [p1, p2], [p3], [p4, p5], [p6], [p7]])\n",
    "\n",
    "    im = cv2.imread(dir + path, cv2.IMREAD_GRAYSCALE)\n",
    "    p0.image(image=[im], x=0, y=0, dw=1, dh=1, palette=\"Spectral11\")\n",
    "    y, x = im.shape\n",
    "    kof = 20\n",
    "    tr = 100\n",
    "    im4 = cv2.resize(im, dsize=(x // kof, y // kof))\n",
    "    edges = cv2.Canny(im4, tr, tr, L2gradient=True)\n",
    "    alf, b, std = find_fiber(edges, plot=True, p1=p1, p2=p2)\n",
    "    rotated = turn_crop(im, alf, b, std, width=4, plot=True, p3=p3)\n",
    "    mas = cuts(rotated, 30)\n",
    "    # p4.line(np.linspace(0,1,mas.shape[1]),mas[0])\n",
    "    wf = window_fit(mas, 20)\n",
    "    wf.calc_gerd(20)\n",
    "    wf.find_borders(0.5)\n",
    "\n",
    "    x = 20\n",
    "    y0 = wf.boards[x, 0]\n",
    "    y1 = wf.boards[x, 1]\n",
    "    ins = wf.mas[x, wf.get_betwin(y0, y1)]\n",
    "    ma = ins.max()\n",
    "    mi = ins.min()\n",
    "    vals = [mi, ma, ma, mi, mi]\n",
    "    points = [y0, y0, y1, y1, y0]\n",
    "    p4.line(points, vals, line_color='red')\n",
    "    p4.circle(wf.Y, wf.mas[x], size=5)\n",
    "\n",
    "    X, Y = wf.get_mas(x)\n",
    "    vals = [wf.get(x, y0 - wf.w / 2 + 0.5), wf.get(x, y1 + wf.w / 2 + 0.5)]\n",
    "    points = [y0 - wf.w / 2 + 0.5, y1 + wf.w / 2 + 0.5]\n",
    "    vals = [wf.get(x, points[0]), wf.get(x, points[1])]\n",
    "    p5.line(X, Y)\n",
    "    p5.circle(X, Y)\n",
    "    p5.line(points, vals, line_color='red')\n",
    "\n",
    "    X = np.linspace(0, 1, wf.boards.shape[0])\n",
    "    p6.line(X, wf.boards[:, 0])\n",
    "    p6.line(X, wf.boards[:, 1])\n",
    "    p7.line(X, wf.boards[:, 1] - wf.boards[:, 0])\n",
    "    std1, point1 = fit(wf.boards[:, 0], X)\n",
    "    std2, point2 = fit(wf.boards[:, 1], X)\n",
    "    p6.line([0, 1], point1['y'], line_color='red')\n",
    "    p6.line([0, 1], point2['y'], line_color='red')\n",
    "    p7.line([0, 1], point2['y'] - point1['y'], line_color='red')\n",
    "    resalt = np.mean(point2['y'] - point1['y'])\n",
    "    \n",
    "    return resalt, p"
   ]
  },
  {
   "cell_type": "code",
   "execution_count": 6,
   "metadata": {},
   "outputs": [],
   "source": [
    "import os\n",
    "import re\n",
    "\n",
    "black_list = ['Scan.ipynb']\n",
    "dir = f'testPic/{num}/'\n",
    "files = os.listdir(dir)\n",
    "files = [file for file in files if file not in black_list]\n",
    "files = [{\n",
    "    'name': file,\n",
    "    'x': float(re.findall(r'-?\\d+\\.?\\d*', file)[-1])\n",
    "} for file in files]\n",
    "files.sort(key=lambda a: a['x'])"
   ]
  },
  {
   "cell_type": "code",
   "execution_count": 7,
   "metadata": {
    "scrolled": true
   },
   "outputs": [
    {
     "data": {
      "application/vnd.jupyter.widget-view+json": {
       "model_id": "27c7710e542341e6ab3278c71273e95d",
       "version_major": 2,
       "version_minor": 0
      },
      "text/plain": [
       "  0%|          | 0/119 [00:00<?, ?it/s]"
      ]
     },
     "metadata": {},
     "output_type": "display_data"
    },
    {
     "name": "stdout",
     "output_type": "stream",
     "text": [
      "{'name': 'im749_0.5.jpg', 'x': 0.5}\n",
      "{'name': 'im749_1.0.jpg', 'x': 1.0}\n",
      "{'name': 'im749_1.5.jpg', 'x': 1.5}\n",
      "{'name': 'im749_2.0.jpg', 'x': 2.0}\n",
      "{'name': 'im749_2.5.jpg', 'x': 2.5}\n",
      "{'name': 'im749_3.0.jpg', 'x': 3.0}\n",
      "{'name': 'im749_3.5.jpg', 'x': 3.5}\n",
      "{'name': 'im749_4.0.jpg', 'x': 4.0}\n",
      "{'name': 'im749_4.5.jpg', 'x': 4.5}\n",
      "{'name': 'im749_5.0.jpg', 'x': 5.0}\n",
      "{'name': 'im749_5.5.jpg', 'x': 5.5}\n",
      "{'name': 'im749_6.0.jpg', 'x': 6.0}\n",
      "{'name': 'im749_6.5.jpg', 'x': 6.5}\n",
      "{'name': 'im749_7.0.jpg', 'x': 7.0}\n",
      "{'name': 'im749_7.5.jpg', 'x': 7.5}\n",
      "{'name': 'im749_8.0.jpg', 'x': 8.0}\n",
      "{'name': 'im749_8.5.jpg', 'x': 8.5}\n",
      "{'name': 'im749_9.0.jpg', 'x': 9.0}\n",
      "{'name': 'im749_9.5.jpg', 'x': 9.5}\n",
      "{'name': 'im749_10.0.jpg', 'x': 10.0}\n",
      "{'name': 'im749_10.5.jpg', 'x': 10.5}\n"
     ]
    },
    {
     "name": "stderr",
     "output_type": "stream",
     "text": [
      "C:\\Users\\ariva\\AppData\\Local\\Temp\\ipykernel_7636\\2437975524.py:10: RuntimeWarning: invalid value encountered in divide\n",
      "  m = np.sum(edges * num, axis=0) / s\n"
     ]
    },
    {
     "name": "stdout",
     "output_type": "stream",
     "text": [
      "{'name': 'im749_11.0.jpg', 'x': 11.0}\n"
     ]
    },
    {
     "name": "stderr",
     "output_type": "stream",
     "text": [
      "C:\\Users\\ariva\\AppData\\Local\\Temp\\ipykernel_7636\\2437975524.py:10: RuntimeWarning: invalid value encountered in divide\n",
      "  m = np.sum(edges * num, axis=0) / s\n"
     ]
    },
    {
     "name": "stdout",
     "output_type": "stream",
     "text": [
      "{'name': 'im749_11.5.jpg', 'x': 11.5}\n"
     ]
    },
    {
     "name": "stderr",
     "output_type": "stream",
     "text": [
      "C:\\Users\\ariva\\AppData\\Local\\Temp\\ipykernel_7636\\2437975524.py:10: RuntimeWarning: invalid value encountered in divide\n",
      "  m = np.sum(edges * num, axis=0) / s\n"
     ]
    },
    {
     "name": "stdout",
     "output_type": "stream",
     "text": [
      "{'name': 'im749_12.0.jpg', 'x': 12.0}\n"
     ]
    },
    {
     "name": "stderr",
     "output_type": "stream",
     "text": [
      "C:\\Users\\ariva\\AppData\\Local\\Temp\\ipykernel_7636\\2437975524.py:10: RuntimeWarning: invalid value encountered in divide\n",
      "  m = np.sum(edges * num, axis=0) / s\n"
     ]
    },
    {
     "name": "stdout",
     "output_type": "stream",
     "text": [
      "{'name': 'im749_12.5.jpg', 'x': 12.5}\n"
     ]
    },
    {
     "name": "stderr",
     "output_type": "stream",
     "text": [
      "C:\\Users\\ariva\\AppData\\Local\\Temp\\ipykernel_7636\\2437975524.py:10: RuntimeWarning: invalid value encountered in divide\n",
      "  m = np.sum(edges * num, axis=0) / s\n"
     ]
    },
    {
     "name": "stdout",
     "output_type": "stream",
     "text": [
      "{'name': 'im749_13.0.jpg', 'x': 13.0}\n"
     ]
    },
    {
     "name": "stderr",
     "output_type": "stream",
     "text": [
      "C:\\Users\\ariva\\AppData\\Local\\Temp\\ipykernel_7636\\2437975524.py:10: RuntimeWarning: invalid value encountered in divide\n",
      "  m = np.sum(edges * num, axis=0) / s\n"
     ]
    },
    {
     "name": "stdout",
     "output_type": "stream",
     "text": [
      "{'name': 'im749_13.5.jpg', 'x': 13.5}\n"
     ]
    },
    {
     "name": "stderr",
     "output_type": "stream",
     "text": [
      "C:\\Users\\ariva\\AppData\\Local\\Temp\\ipykernel_7636\\2437975524.py:10: RuntimeWarning: invalid value encountered in divide\n",
      "  m = np.sum(edges * num, axis=0) / s\n"
     ]
    },
    {
     "name": "stdout",
     "output_type": "stream",
     "text": [
      "{'name': 'im749_14.0.jpg', 'x': 14.0}\n"
     ]
    },
    {
     "name": "stderr",
     "output_type": "stream",
     "text": [
      "C:\\Users\\ariva\\AppData\\Local\\Temp\\ipykernel_7636\\2437975524.py:10: RuntimeWarning: invalid value encountered in divide\n",
      "  m = np.sum(edges * num, axis=0) / s\n"
     ]
    },
    {
     "name": "stdout",
     "output_type": "stream",
     "text": [
      "{'name': 'im749_14.5.jpg', 'x': 14.5}\n"
     ]
    },
    {
     "name": "stderr",
     "output_type": "stream",
     "text": [
      "C:\\Users\\ariva\\AppData\\Local\\Temp\\ipykernel_7636\\2437975524.py:10: RuntimeWarning: invalid value encountered in divide\n",
      "  m = np.sum(edges * num, axis=0) / s\n"
     ]
    },
    {
     "name": "stdout",
     "output_type": "stream",
     "text": [
      "{'name': 'im749_15.0.jpg', 'x': 15.0}\n"
     ]
    },
    {
     "name": "stderr",
     "output_type": "stream",
     "text": [
      "C:\\Users\\ariva\\AppData\\Local\\Temp\\ipykernel_7636\\2437975524.py:10: RuntimeWarning: invalid value encountered in divide\n",
      "  m = np.sum(edges * num, axis=0) / s\n"
     ]
    },
    {
     "name": "stdout",
     "output_type": "stream",
     "text": [
      "{'name': 'im749_15.5.jpg', 'x': 15.5}\n"
     ]
    },
    {
     "name": "stderr",
     "output_type": "stream",
     "text": [
      "C:\\Users\\ariva\\AppData\\Local\\Temp\\ipykernel_7636\\2437975524.py:10: RuntimeWarning: invalid value encountered in divide\n",
      "  m = np.sum(edges * num, axis=0) / s\n"
     ]
    },
    {
     "name": "stdout",
     "output_type": "stream",
     "text": [
      "{'name': 'im749_16.0.jpg', 'x': 16.0}\n"
     ]
    },
    {
     "name": "stderr",
     "output_type": "stream",
     "text": [
      "C:\\Users\\ariva\\AppData\\Local\\Temp\\ipykernel_7636\\2437975524.py:10: RuntimeWarning: invalid value encountered in divide\n",
      "  m = np.sum(edges * num, axis=0) / s\n"
     ]
    },
    {
     "name": "stdout",
     "output_type": "stream",
     "text": [
      "{'name': 'im749_16.5.jpg', 'x': 16.5}\n"
     ]
    },
    {
     "name": "stderr",
     "output_type": "stream",
     "text": [
      "C:\\Users\\ariva\\AppData\\Local\\Temp\\ipykernel_7636\\2437975524.py:10: RuntimeWarning: invalid value encountered in divide\n",
      "  m = np.sum(edges * num, axis=0) / s\n"
     ]
    },
    {
     "name": "stdout",
     "output_type": "stream",
     "text": [
      "{'name': 'im749_17.0.jpg', 'x': 17.0}\n"
     ]
    },
    {
     "name": "stderr",
     "output_type": "stream",
     "text": [
      "C:\\Users\\ariva\\AppData\\Local\\Temp\\ipykernel_7636\\2437975524.py:10: RuntimeWarning: invalid value encountered in divide\n",
      "  m = np.sum(edges * num, axis=0) / s\n"
     ]
    },
    {
     "name": "stdout",
     "output_type": "stream",
     "text": [
      "{'name': 'im749_17.5.jpg', 'x': 17.5}\n"
     ]
    },
    {
     "name": "stderr",
     "output_type": "stream",
     "text": [
      "C:\\Users\\ariva\\AppData\\Local\\Temp\\ipykernel_7636\\2437975524.py:10: RuntimeWarning: invalid value encountered in divide\n",
      "  m = np.sum(edges * num, axis=0) / s\n"
     ]
    },
    {
     "name": "stdout",
     "output_type": "stream",
     "text": [
      "{'name': 'im749_18.0.jpg', 'x': 18.0}\n"
     ]
    },
    {
     "name": "stderr",
     "output_type": "stream",
     "text": [
      "C:\\Users\\ariva\\AppData\\Local\\Temp\\ipykernel_7636\\2437975524.py:10: RuntimeWarning: invalid value encountered in divide\n",
      "  m = np.sum(edges * num, axis=0) / s\n"
     ]
    },
    {
     "name": "stdout",
     "output_type": "stream",
     "text": [
      "{'name': 'im749_18.5.jpg', 'x': 18.5}\n"
     ]
    },
    {
     "name": "stderr",
     "output_type": "stream",
     "text": [
      "C:\\Users\\ariva\\AppData\\Local\\Temp\\ipykernel_7636\\2437975524.py:10: RuntimeWarning: invalid value encountered in divide\n",
      "  m = np.sum(edges * num, axis=0) / s\n"
     ]
    },
    {
     "name": "stdout",
     "output_type": "stream",
     "text": [
      "{'name': 'im749_19.0.jpg', 'x': 19.0}\n"
     ]
    },
    {
     "name": "stderr",
     "output_type": "stream",
     "text": [
      "C:\\Users\\ariva\\AppData\\Local\\Temp\\ipykernel_7636\\2437975524.py:10: RuntimeWarning: invalid value encountered in divide\n",
      "  m = np.sum(edges * num, axis=0) / s\n"
     ]
    },
    {
     "name": "stdout",
     "output_type": "stream",
     "text": [
      "{'name': 'im749_19.5.jpg', 'x': 19.5}\n"
     ]
    },
    {
     "name": "stderr",
     "output_type": "stream",
     "text": [
      "C:\\Users\\ariva\\AppData\\Local\\Temp\\ipykernel_7636\\2437975524.py:10: RuntimeWarning: invalid value encountered in divide\n",
      "  m = np.sum(edges * num, axis=0) / s\n"
     ]
    },
    {
     "name": "stdout",
     "output_type": "stream",
     "text": [
      "{'name': 'im749_20.0.jpg', 'x': 20.0}\n"
     ]
    },
    {
     "name": "stderr",
     "output_type": "stream",
     "text": [
      "C:\\Users\\ariva\\AppData\\Local\\Temp\\ipykernel_7636\\2437975524.py:10: RuntimeWarning: invalid value encountered in divide\n",
      "  m = np.sum(edges * num, axis=0) / s\n"
     ]
    },
    {
     "name": "stdout",
     "output_type": "stream",
     "text": [
      "{'name': 'im749_20.5.jpg', 'x': 20.5}\n"
     ]
    },
    {
     "name": "stderr",
     "output_type": "stream",
     "text": [
      "C:\\Users\\ariva\\AppData\\Local\\Temp\\ipykernel_7636\\2437975524.py:10: RuntimeWarning: invalid value encountered in divide\n",
      "  m = np.sum(edges * num, axis=0) / s\n"
     ]
    },
    {
     "name": "stdout",
     "output_type": "stream",
     "text": [
      "{'name': 'im749_21.0.jpg', 'x': 21.0}\n"
     ]
    },
    {
     "name": "stderr",
     "output_type": "stream",
     "text": [
      "C:\\Users\\ariva\\AppData\\Local\\Temp\\ipykernel_7636\\2437975524.py:10: RuntimeWarning: invalid value encountered in divide\n",
      "  m = np.sum(edges * num, axis=0) / s\n"
     ]
    },
    {
     "name": "stdout",
     "output_type": "stream",
     "text": [
      "{'name': 'im749_21.5.jpg', 'x': 21.5}\n"
     ]
    },
    {
     "name": "stderr",
     "output_type": "stream",
     "text": [
      "C:\\Users\\ariva\\AppData\\Local\\Temp\\ipykernel_7636\\2437975524.py:10: RuntimeWarning: invalid value encountered in divide\n",
      "  m = np.sum(edges * num, axis=0) / s\n"
     ]
    },
    {
     "name": "stdout",
     "output_type": "stream",
     "text": [
      "{'name': 'im749_22.0.jpg', 'x': 22.0}\n"
     ]
    },
    {
     "name": "stderr",
     "output_type": "stream",
     "text": [
      "C:\\Users\\ariva\\AppData\\Local\\Temp\\ipykernel_7636\\2437975524.py:10: RuntimeWarning: invalid value encountered in divide\n",
      "  m = np.sum(edges * num, axis=0) / s\n"
     ]
    },
    {
     "name": "stdout",
     "output_type": "stream",
     "text": [
      "{'name': 'im749_22.5.jpg', 'x': 22.5}\n"
     ]
    },
    {
     "name": "stderr",
     "output_type": "stream",
     "text": [
      "C:\\Users\\ariva\\AppData\\Local\\Temp\\ipykernel_7636\\2437975524.py:10: RuntimeWarning: invalid value encountered in divide\n",
      "  m = np.sum(edges * num, axis=0) / s\n"
     ]
    },
    {
     "name": "stdout",
     "output_type": "stream",
     "text": [
      "{'name': 'im749_23.0.jpg', 'x': 23.0}\n"
     ]
    },
    {
     "name": "stderr",
     "output_type": "stream",
     "text": [
      "C:\\Users\\ariva\\AppData\\Local\\Temp\\ipykernel_7636\\2437975524.py:10: RuntimeWarning: invalid value encountered in divide\n",
      "  m = np.sum(edges * num, axis=0) / s\n"
     ]
    },
    {
     "name": "stdout",
     "output_type": "stream",
     "text": [
      "{'name': 'im749_23.5.jpg', 'x': 23.5}\n"
     ]
    },
    {
     "name": "stderr",
     "output_type": "stream",
     "text": [
      "C:\\Users\\ariva\\AppData\\Local\\Temp\\ipykernel_7636\\2437975524.py:10: RuntimeWarning: invalid value encountered in divide\n",
      "  m = np.sum(edges * num, axis=0) / s\n"
     ]
    },
    {
     "name": "stdout",
     "output_type": "stream",
     "text": [
      "{'name': 'im749_24.0.jpg', 'x': 24.0}\n"
     ]
    },
    {
     "name": "stderr",
     "output_type": "stream",
     "text": [
      "C:\\Users\\ariva\\AppData\\Local\\Temp\\ipykernel_7636\\2437975524.py:10: RuntimeWarning: invalid value encountered in divide\n",
      "  m = np.sum(edges * num, axis=0) / s\n"
     ]
    },
    {
     "name": "stdout",
     "output_type": "stream",
     "text": [
      "{'name': 'im749_24.5.jpg', 'x': 24.5}\n"
     ]
    },
    {
     "name": "stderr",
     "output_type": "stream",
     "text": [
      "C:\\Users\\ariva\\AppData\\Local\\Temp\\ipykernel_7636\\2437975524.py:10: RuntimeWarning: invalid value encountered in divide\n",
      "  m = np.sum(edges * num, axis=0) / s\n"
     ]
    },
    {
     "name": "stdout",
     "output_type": "stream",
     "text": [
      "{'name': 'im749_25.0.jpg', 'x': 25.0}\n"
     ]
    },
    {
     "name": "stderr",
     "output_type": "stream",
     "text": [
      "C:\\Users\\ariva\\AppData\\Local\\Temp\\ipykernel_7636\\2437975524.py:10: RuntimeWarning: invalid value encountered in divide\n",
      "  m = np.sum(edges * num, axis=0) / s\n"
     ]
    },
    {
     "name": "stdout",
     "output_type": "stream",
     "text": [
      "{'name': 'im749_25.5.jpg', 'x': 25.5}\n"
     ]
    },
    {
     "name": "stderr",
     "output_type": "stream",
     "text": [
      "C:\\Users\\ariva\\AppData\\Local\\Temp\\ipykernel_7636\\2437975524.py:10: RuntimeWarning: invalid value encountered in divide\n",
      "  m = np.sum(edges * num, axis=0) / s\n"
     ]
    },
    {
     "name": "stdout",
     "output_type": "stream",
     "text": [
      "{'name': 'im749_26.0.jpg', 'x': 26.0}\n"
     ]
    },
    {
     "name": "stderr",
     "output_type": "stream",
     "text": [
      "C:\\Users\\ariva\\AppData\\Local\\Temp\\ipykernel_7636\\2437975524.py:10: RuntimeWarning: invalid value encountered in divide\n",
      "  m = np.sum(edges * num, axis=0) / s\n"
     ]
    },
    {
     "name": "stdout",
     "output_type": "stream",
     "text": [
      "{'name': 'im749_26.5.jpg', 'x': 26.5}\n"
     ]
    },
    {
     "name": "stderr",
     "output_type": "stream",
     "text": [
      "C:\\Users\\ariva\\AppData\\Local\\Temp\\ipykernel_7636\\2437975524.py:10: RuntimeWarning: invalid value encountered in divide\n",
      "  m = np.sum(edges * num, axis=0) / s\n"
     ]
    },
    {
     "name": "stdout",
     "output_type": "stream",
     "text": [
      "{'name': 'im749_27.0.jpg', 'x': 27.0}\n"
     ]
    },
    {
     "name": "stderr",
     "output_type": "stream",
     "text": [
      "C:\\Users\\ariva\\AppData\\Local\\Temp\\ipykernel_7636\\2437975524.py:10: RuntimeWarning: invalid value encountered in divide\n",
      "  m = np.sum(edges * num, axis=0) / s\n"
     ]
    },
    {
     "name": "stdout",
     "output_type": "stream",
     "text": [
      "{'name': 'im749_27.5.jpg', 'x': 27.5}\n"
     ]
    },
    {
     "name": "stderr",
     "output_type": "stream",
     "text": [
      "C:\\Users\\ariva\\AppData\\Local\\Temp\\ipykernel_7636\\2437975524.py:10: RuntimeWarning: invalid value encountered in divide\n",
      "  m = np.sum(edges * num, axis=0) / s\n"
     ]
    },
    {
     "name": "stdout",
     "output_type": "stream",
     "text": [
      "{'name': 'im749_28.0.jpg', 'x': 28.0}\n"
     ]
    },
    {
     "name": "stderr",
     "output_type": "stream",
     "text": [
      "C:\\Users\\ariva\\AppData\\Local\\Temp\\ipykernel_7636\\2437975524.py:10: RuntimeWarning: invalid value encountered in divide\n",
      "  m = np.sum(edges * num, axis=0) / s\n"
     ]
    },
    {
     "name": "stdout",
     "output_type": "stream",
     "text": [
      "{'name': 'im749_28.5.jpg', 'x': 28.5}\n"
     ]
    },
    {
     "name": "stderr",
     "output_type": "stream",
     "text": [
      "C:\\Users\\ariva\\AppData\\Local\\Temp\\ipykernel_7636\\2437975524.py:10: RuntimeWarning: invalid value encountered in divide\n",
      "  m = np.sum(edges * num, axis=0) / s\n"
     ]
    },
    {
     "name": "stdout",
     "output_type": "stream",
     "text": [
      "{'name': 'im749_29.0.jpg', 'x': 29.0}\n"
     ]
    },
    {
     "name": "stderr",
     "output_type": "stream",
     "text": [
      "C:\\Users\\ariva\\AppData\\Local\\Temp\\ipykernel_7636\\2437975524.py:10: RuntimeWarning: invalid value encountered in divide\n",
      "  m = np.sum(edges * num, axis=0) / s\n"
     ]
    },
    {
     "name": "stdout",
     "output_type": "stream",
     "text": [
      "{'name': 'im749_29.5.jpg', 'x': 29.5}\n"
     ]
    },
    {
     "name": "stderr",
     "output_type": "stream",
     "text": [
      "C:\\Users\\ariva\\AppData\\Local\\Temp\\ipykernel_7636\\2437975524.py:10: RuntimeWarning: invalid value encountered in divide\n",
      "  m = np.sum(edges * num, axis=0) / s\n"
     ]
    },
    {
     "name": "stdout",
     "output_type": "stream",
     "text": [
      "{'name': 'im749_30.0.jpg', 'x': 30.0}\n"
     ]
    },
    {
     "name": "stderr",
     "output_type": "stream",
     "text": [
      "C:\\Users\\ariva\\AppData\\Local\\Temp\\ipykernel_7636\\2437975524.py:10: RuntimeWarning: invalid value encountered in divide\n",
      "  m = np.sum(edges * num, axis=0) / s\n"
     ]
    },
    {
     "name": "stdout",
     "output_type": "stream",
     "text": [
      "{'name': 'im749_30.5.jpg', 'x': 30.5}\n"
     ]
    },
    {
     "name": "stderr",
     "output_type": "stream",
     "text": [
      "C:\\Users\\ariva\\AppData\\Local\\Temp\\ipykernel_7636\\2437975524.py:10: RuntimeWarning: invalid value encountered in divide\n",
      "  m = np.sum(edges * num, axis=0) / s\n"
     ]
    },
    {
     "name": "stdout",
     "output_type": "stream",
     "text": [
      "{'name': 'im749_31.0.jpg', 'x': 31.0}\n"
     ]
    },
    {
     "name": "stderr",
     "output_type": "stream",
     "text": [
      "C:\\Users\\ariva\\AppData\\Local\\Temp\\ipykernel_7636\\2437975524.py:10: RuntimeWarning: invalid value encountered in divide\n",
      "  m = np.sum(edges * num, axis=0) / s\n"
     ]
    },
    {
     "name": "stdout",
     "output_type": "stream",
     "text": [
      "{'name': 'im749_31.5.jpg', 'x': 31.5}\n"
     ]
    },
    {
     "name": "stderr",
     "output_type": "stream",
     "text": [
      "C:\\Users\\ariva\\AppData\\Local\\Temp\\ipykernel_7636\\2437975524.py:10: RuntimeWarning: invalid value encountered in divide\n",
      "  m = np.sum(edges * num, axis=0) / s\n"
     ]
    },
    {
     "name": "stdout",
     "output_type": "stream",
     "text": [
      "{'name': 'im749_32.0.jpg', 'x': 32.0}\n"
     ]
    },
    {
     "name": "stderr",
     "output_type": "stream",
     "text": [
      "C:\\Users\\ariva\\AppData\\Local\\Temp\\ipykernel_7636\\2437975524.py:10: RuntimeWarning: invalid value encountered in divide\n",
      "  m = np.sum(edges * num, axis=0) / s\n"
     ]
    },
    {
     "name": "stdout",
     "output_type": "stream",
     "text": [
      "{'name': 'im749_32.5.jpg', 'x': 32.5}\n"
     ]
    },
    {
     "name": "stderr",
     "output_type": "stream",
     "text": [
      "C:\\Users\\ariva\\AppData\\Local\\Temp\\ipykernel_7636\\2437975524.py:10: RuntimeWarning: invalid value encountered in divide\n",
      "  m = np.sum(edges * num, axis=0) / s\n"
     ]
    },
    {
     "name": "stdout",
     "output_type": "stream",
     "text": [
      "{'name': 'im749_33.0.jpg', 'x': 33.0}\n"
     ]
    },
    {
     "name": "stderr",
     "output_type": "stream",
     "text": [
      "C:\\Users\\ariva\\AppData\\Local\\Temp\\ipykernel_7636\\2437975524.py:10: RuntimeWarning: invalid value encountered in divide\n",
      "  m = np.sum(edges * num, axis=0) / s\n"
     ]
    },
    {
     "name": "stdout",
     "output_type": "stream",
     "text": [
      "{'name': 'im749_33.5.jpg', 'x': 33.5}\n"
     ]
    },
    {
     "name": "stderr",
     "output_type": "stream",
     "text": [
      "C:\\Users\\ariva\\AppData\\Local\\Temp\\ipykernel_7636\\2437975524.py:10: RuntimeWarning: invalid value encountered in divide\n",
      "  m = np.sum(edges * num, axis=0) / s\n"
     ]
    },
    {
     "name": "stdout",
     "output_type": "stream",
     "text": [
      "{'name': 'im749_34.0.jpg', 'x': 34.0}\n"
     ]
    },
    {
     "name": "stderr",
     "output_type": "stream",
     "text": [
      "C:\\Users\\ariva\\AppData\\Local\\Temp\\ipykernel_7636\\2437975524.py:10: RuntimeWarning: invalid value encountered in divide\n",
      "  m = np.sum(edges * num, axis=0) / s\n"
     ]
    },
    {
     "name": "stdout",
     "output_type": "stream",
     "text": [
      "{'name': 'im749_34.5.jpg', 'x': 34.5}\n"
     ]
    },
    {
     "name": "stderr",
     "output_type": "stream",
     "text": [
      "C:\\Users\\ariva\\AppData\\Local\\Temp\\ipykernel_7636\\2437975524.py:10: RuntimeWarning: invalid value encountered in divide\n",
      "  m = np.sum(edges * num, axis=0) / s\n"
     ]
    },
    {
     "name": "stdout",
     "output_type": "stream",
     "text": [
      "{'name': 'im749_35.0.jpg', 'x': 35.0}\n"
     ]
    },
    {
     "name": "stderr",
     "output_type": "stream",
     "text": [
      "C:\\Users\\ariva\\AppData\\Local\\Temp\\ipykernel_7636\\2437975524.py:10: RuntimeWarning: invalid value encountered in divide\n",
      "  m = np.sum(edges * num, axis=0) / s\n"
     ]
    },
    {
     "name": "stdout",
     "output_type": "stream",
     "text": [
      "{'name': 'im749_35.5.jpg', 'x': 35.5}\n"
     ]
    },
    {
     "name": "stderr",
     "output_type": "stream",
     "text": [
      "C:\\Users\\ariva\\AppData\\Local\\Temp\\ipykernel_7636\\2437975524.py:10: RuntimeWarning: invalid value encountered in divide\n",
      "  m = np.sum(edges * num, axis=0) / s\n"
     ]
    },
    {
     "name": "stdout",
     "output_type": "stream",
     "text": [
      "{'name': 'im749_36.0.jpg', 'x': 36.0}\n"
     ]
    },
    {
     "name": "stderr",
     "output_type": "stream",
     "text": [
      "C:\\Users\\ariva\\AppData\\Local\\Temp\\ipykernel_7636\\2437975524.py:10: RuntimeWarning: invalid value encountered in divide\n",
      "  m = np.sum(edges * num, axis=0) / s\n"
     ]
    },
    {
     "name": "stdout",
     "output_type": "stream",
     "text": [
      "{'name': 'im749_36.5.jpg', 'x': 36.5}\n"
     ]
    },
    {
     "name": "stderr",
     "output_type": "stream",
     "text": [
      "C:\\Users\\ariva\\AppData\\Local\\Temp\\ipykernel_7636\\2437975524.py:10: RuntimeWarning: invalid value encountered in divide\n",
      "  m = np.sum(edges * num, axis=0) / s\n"
     ]
    },
    {
     "name": "stdout",
     "output_type": "stream",
     "text": [
      "{'name': 'im749_37.0.jpg', 'x': 37.0}\n"
     ]
    },
    {
     "name": "stderr",
     "output_type": "stream",
     "text": [
      "C:\\Users\\ariva\\AppData\\Local\\Temp\\ipykernel_7636\\2437975524.py:10: RuntimeWarning: invalid value encountered in divide\n",
      "  m = np.sum(edges * num, axis=0) / s\n"
     ]
    },
    {
     "name": "stdout",
     "output_type": "stream",
     "text": [
      "{'name': 'im749_37.5.jpg', 'x': 37.5}\n"
     ]
    },
    {
     "name": "stderr",
     "output_type": "stream",
     "text": [
      "C:\\Users\\ariva\\AppData\\Local\\Temp\\ipykernel_7636\\2437975524.py:10: RuntimeWarning: invalid value encountered in divide\n",
      "  m = np.sum(edges * num, axis=0) / s\n"
     ]
    },
    {
     "name": "stdout",
     "output_type": "stream",
     "text": [
      "{'name': 'im749_38.0.jpg', 'x': 38.0}\n"
     ]
    },
    {
     "name": "stderr",
     "output_type": "stream",
     "text": [
      "C:\\Users\\ariva\\AppData\\Local\\Temp\\ipykernel_7636\\2437975524.py:10: RuntimeWarning: invalid value encountered in divide\n",
      "  m = np.sum(edges * num, axis=0) / s\n"
     ]
    },
    {
     "name": "stdout",
     "output_type": "stream",
     "text": [
      "{'name': 'im749_38.5.jpg', 'x': 38.5}\n"
     ]
    },
    {
     "name": "stderr",
     "output_type": "stream",
     "text": [
      "C:\\Users\\ariva\\AppData\\Local\\Temp\\ipykernel_7636\\2437975524.py:10: RuntimeWarning: invalid value encountered in divide\n",
      "  m = np.sum(edges * num, axis=0) / s\n"
     ]
    },
    {
     "name": "stdout",
     "output_type": "stream",
     "text": [
      "{'name': 'im749_39.0.jpg', 'x': 39.0}\n"
     ]
    },
    {
     "name": "stderr",
     "output_type": "stream",
     "text": [
      "C:\\Users\\ariva\\AppData\\Local\\Temp\\ipykernel_7636\\2437975524.py:10: RuntimeWarning: invalid value encountered in divide\n",
      "  m = np.sum(edges * num, axis=0) / s\n"
     ]
    },
    {
     "name": "stdout",
     "output_type": "stream",
     "text": [
      "{'name': 'im749_39.5.jpg', 'x': 39.5}\n"
     ]
    },
    {
     "name": "stderr",
     "output_type": "stream",
     "text": [
      "C:\\Users\\ariva\\AppData\\Local\\Temp\\ipykernel_7636\\2437975524.py:10: RuntimeWarning: invalid value encountered in divide\n",
      "  m = np.sum(edges * num, axis=0) / s\n"
     ]
    },
    {
     "name": "stdout",
     "output_type": "stream",
     "text": [
      "{'name': 'im749_40.0.jpg', 'x': 40.0}\n"
     ]
    },
    {
     "name": "stderr",
     "output_type": "stream",
     "text": [
      "C:\\Users\\ariva\\AppData\\Local\\Temp\\ipykernel_7636\\2437975524.py:10: RuntimeWarning: invalid value encountered in divide\n",
      "  m = np.sum(edges * num, axis=0) / s\n"
     ]
    },
    {
     "name": "stdout",
     "output_type": "stream",
     "text": [
      "{'name': 'im749_40.5.jpg', 'x': 40.5}\n"
     ]
    },
    {
     "name": "stderr",
     "output_type": "stream",
     "text": [
      "C:\\Users\\ariva\\AppData\\Local\\Temp\\ipykernel_7636\\2437975524.py:10: RuntimeWarning: invalid value encountered in divide\n",
      "  m = np.sum(edges * num, axis=0) / s\n"
     ]
    },
    {
     "name": "stdout",
     "output_type": "stream",
     "text": [
      "{'name': 'im749_41.0.jpg', 'x': 41.0}\n"
     ]
    },
    {
     "name": "stderr",
     "output_type": "stream",
     "text": [
      "C:\\Users\\ariva\\AppData\\Local\\Temp\\ipykernel_7636\\2437975524.py:10: RuntimeWarning: invalid value encountered in divide\n",
      "  m = np.sum(edges * num, axis=0) / s\n"
     ]
    },
    {
     "name": "stdout",
     "output_type": "stream",
     "text": [
      "{'name': 'im749_41.5.jpg', 'x': 41.5}\n"
     ]
    },
    {
     "name": "stderr",
     "output_type": "stream",
     "text": [
      "C:\\Users\\ariva\\AppData\\Local\\Temp\\ipykernel_7636\\2437975524.py:10: RuntimeWarning: invalid value encountered in divide\n",
      "  m = np.sum(edges * num, axis=0) / s\n"
     ]
    },
    {
     "name": "stdout",
     "output_type": "stream",
     "text": [
      "{'name': 'im749_42.0.jpg', 'x': 42.0}\n"
     ]
    },
    {
     "name": "stderr",
     "output_type": "stream",
     "text": [
      "C:\\Users\\ariva\\AppData\\Local\\Temp\\ipykernel_7636\\2437975524.py:10: RuntimeWarning: invalid value encountered in divide\n",
      "  m = np.sum(edges * num, axis=0) / s\n"
     ]
    },
    {
     "name": "stdout",
     "output_type": "stream",
     "text": [
      "{'name': 'im749_42.5.jpg', 'x': 42.5}\n"
     ]
    },
    {
     "name": "stderr",
     "output_type": "stream",
     "text": [
      "C:\\Users\\ariva\\AppData\\Local\\Temp\\ipykernel_7636\\2437975524.py:10: RuntimeWarning: invalid value encountered in divide\n",
      "  m = np.sum(edges * num, axis=0) / s\n"
     ]
    },
    {
     "name": "stdout",
     "output_type": "stream",
     "text": [
      "{'name': 'im749_43.0.jpg', 'x': 43.0}\n"
     ]
    },
    {
     "name": "stderr",
     "output_type": "stream",
     "text": [
      "C:\\Users\\ariva\\AppData\\Local\\Temp\\ipykernel_7636\\2437975524.py:10: RuntimeWarning: invalid value encountered in divide\n",
      "  m = np.sum(edges * num, axis=0) / s\n"
     ]
    },
    {
     "name": "stdout",
     "output_type": "stream",
     "text": [
      "{'name': 'im749_43.5.jpg', 'x': 43.5}\n"
     ]
    },
    {
     "name": "stderr",
     "output_type": "stream",
     "text": [
      "C:\\Users\\ariva\\AppData\\Local\\Temp\\ipykernel_7636\\2437975524.py:10: RuntimeWarning: invalid value encountered in divide\n",
      "  m = np.sum(edges * num, axis=0) / s\n"
     ]
    },
    {
     "name": "stdout",
     "output_type": "stream",
     "text": [
      "{'name': 'im749_44.0.jpg', 'x': 44.0}\n"
     ]
    },
    {
     "name": "stderr",
     "output_type": "stream",
     "text": [
      "C:\\Users\\ariva\\AppData\\Local\\Temp\\ipykernel_7636\\2437975524.py:10: RuntimeWarning: invalid value encountered in divide\n",
      "  m = np.sum(edges * num, axis=0) / s\n"
     ]
    },
    {
     "name": "stdout",
     "output_type": "stream",
     "text": [
      "{'name': 'im749_44.5.jpg', 'x': 44.5}\n"
     ]
    },
    {
     "name": "stderr",
     "output_type": "stream",
     "text": [
      "C:\\Users\\ariva\\AppData\\Local\\Temp\\ipykernel_7636\\2437975524.py:10: RuntimeWarning: invalid value encountered in divide\n",
      "  m = np.sum(edges * num, axis=0) / s\n"
     ]
    },
    {
     "name": "stdout",
     "output_type": "stream",
     "text": [
      "{'name': 'im749_45.0.jpg', 'x': 45.0}\n"
     ]
    },
    {
     "name": "stderr",
     "output_type": "stream",
     "text": [
      "C:\\Users\\ariva\\AppData\\Local\\Temp\\ipykernel_7636\\2437975524.py:10: RuntimeWarning: invalid value encountered in divide\n",
      "  m = np.sum(edges * num, axis=0) / s\n"
     ]
    },
    {
     "name": "stdout",
     "output_type": "stream",
     "text": [
      "{'name': 'im749_45.5.jpg', 'x': 45.5}\n"
     ]
    },
    {
     "name": "stderr",
     "output_type": "stream",
     "text": [
      "C:\\Users\\ariva\\AppData\\Local\\Temp\\ipykernel_7636\\2437975524.py:10: RuntimeWarning: invalid value encountered in divide\n",
      "  m = np.sum(edges * num, axis=0) / s\n"
     ]
    },
    {
     "name": "stdout",
     "output_type": "stream",
     "text": [
      "{'name': 'im749_46.0.jpg', 'x': 46.0}\n"
     ]
    },
    {
     "name": "stderr",
     "output_type": "stream",
     "text": [
      "C:\\Users\\ariva\\AppData\\Local\\Temp\\ipykernel_7636\\2437975524.py:10: RuntimeWarning: invalid value encountered in divide\n",
      "  m = np.sum(edges * num, axis=0) / s\n"
     ]
    },
    {
     "name": "stdout",
     "output_type": "stream",
     "text": [
      "{'name': 'im749_46.5.jpg', 'x': 46.5}\n"
     ]
    },
    {
     "name": "stderr",
     "output_type": "stream",
     "text": [
      "C:\\Users\\ariva\\AppData\\Local\\Temp\\ipykernel_7636\\2437975524.py:10: RuntimeWarning: invalid value encountered in divide\n",
      "  m = np.sum(edges * num, axis=0) / s\n"
     ]
    },
    {
     "name": "stdout",
     "output_type": "stream",
     "text": [
      "{'name': 'im749_47.0.jpg', 'x': 47.0}\n"
     ]
    },
    {
     "name": "stderr",
     "output_type": "stream",
     "text": [
      "C:\\Users\\ariva\\AppData\\Local\\Temp\\ipykernel_7636\\2437975524.py:10: RuntimeWarning: invalid value encountered in divide\n",
      "  m = np.sum(edges * num, axis=0) / s\n"
     ]
    },
    {
     "name": "stdout",
     "output_type": "stream",
     "text": [
      "{'name': 'im749_47.5.jpg', 'x': 47.5}\n"
     ]
    },
    {
     "name": "stderr",
     "output_type": "stream",
     "text": [
      "C:\\Users\\ariva\\AppData\\Local\\Temp\\ipykernel_7636\\2437975524.py:10: RuntimeWarning: invalid value encountered in divide\n",
      "  m = np.sum(edges * num, axis=0) / s\n"
     ]
    },
    {
     "name": "stdout",
     "output_type": "stream",
     "text": [
      "{'name': 'im749_48.0.jpg', 'x': 48.0}\n"
     ]
    },
    {
     "name": "stderr",
     "output_type": "stream",
     "text": [
      "C:\\Users\\ariva\\AppData\\Local\\Temp\\ipykernel_7636\\2437975524.py:10: RuntimeWarning: invalid value encountered in divide\n",
      "  m = np.sum(edges * num, axis=0) / s\n"
     ]
    },
    {
     "name": "stdout",
     "output_type": "stream",
     "text": [
      "{'name': 'im749_48.5.jpg', 'x': 48.5}\n"
     ]
    },
    {
     "name": "stderr",
     "output_type": "stream",
     "text": [
      "C:\\Users\\ariva\\AppData\\Local\\Temp\\ipykernel_7636\\2437975524.py:10: RuntimeWarning: invalid value encountered in divide\n",
      "  m = np.sum(edges * num, axis=0) / s\n"
     ]
    },
    {
     "name": "stdout",
     "output_type": "stream",
     "text": [
      "{'name': 'im749_49.0.jpg', 'x': 49.0}\n"
     ]
    },
    {
     "name": "stderr",
     "output_type": "stream",
     "text": [
      "C:\\Users\\ariva\\AppData\\Local\\Temp\\ipykernel_7636\\2437975524.py:10: RuntimeWarning: invalid value encountered in divide\n",
      "  m = np.sum(edges * num, axis=0) / s\n"
     ]
    },
    {
     "name": "stdout",
     "output_type": "stream",
     "text": [
      "{'name': 'im749_49.5.jpg', 'x': 49.5}\n"
     ]
    },
    {
     "name": "stderr",
     "output_type": "stream",
     "text": [
      "C:\\Users\\ariva\\AppData\\Local\\Temp\\ipykernel_7636\\2437975524.py:10: RuntimeWarning: invalid value encountered in divide\n",
      "  m = np.sum(edges * num, axis=0) / s\n"
     ]
    },
    {
     "name": "stdout",
     "output_type": "stream",
     "text": [
      "{'name': 'im749_50.0.jpg', 'x': 50.0}\n"
     ]
    },
    {
     "name": "stderr",
     "output_type": "stream",
     "text": [
      "C:\\Users\\ariva\\AppData\\Local\\Temp\\ipykernel_7636\\2437975524.py:10: RuntimeWarning: invalid value encountered in divide\n",
      "  m = np.sum(edges * num, axis=0) / s\n"
     ]
    },
    {
     "name": "stdout",
     "output_type": "stream",
     "text": [
      "{'name': 'im749_50.5.jpg', 'x': 50.5}\n"
     ]
    },
    {
     "name": "stderr",
     "output_type": "stream",
     "text": [
      "C:\\Users\\ariva\\AppData\\Local\\Temp\\ipykernel_7636\\2437975524.py:10: RuntimeWarning: invalid value encountered in divide\n",
      "  m = np.sum(edges * num, axis=0) / s\n"
     ]
    },
    {
     "name": "stdout",
     "output_type": "stream",
     "text": [
      "{'name': 'im749_51.0.jpg', 'x': 51.0}\n"
     ]
    },
    {
     "name": "stderr",
     "output_type": "stream",
     "text": [
      "C:\\Users\\ariva\\AppData\\Local\\Temp\\ipykernel_7636\\2437975524.py:10: RuntimeWarning: invalid value encountered in divide\n",
      "  m = np.sum(edges * num, axis=0) / s\n"
     ]
    },
    {
     "name": "stdout",
     "output_type": "stream",
     "text": [
      "{'name': 'im749_51.5.jpg', 'x': 51.5}\n",
      "{'name': 'im749_52.0.jpg', 'x': 52.0}\n"
     ]
    },
    {
     "name": "stderr",
     "output_type": "stream",
     "text": [
      "C:\\Users\\ariva\\AppData\\Local\\Temp\\ipykernel_7636\\2437975524.py:10: RuntimeWarning: invalid value encountered in divide\n",
      "  m = np.sum(edges * num, axis=0) / s\n"
     ]
    },
    {
     "name": "stdout",
     "output_type": "stream",
     "text": [
      "{'name': 'im749_52.5.jpg', 'x': 52.5}\n"
     ]
    },
    {
     "name": "stderr",
     "output_type": "stream",
     "text": [
      "C:\\Users\\ariva\\AppData\\Local\\Temp\\ipykernel_7636\\2437975524.py:10: RuntimeWarning: invalid value encountered in divide\n",
      "  m = np.sum(edges * num, axis=0) / s\n"
     ]
    },
    {
     "name": "stdout",
     "output_type": "stream",
     "text": [
      "{'name': 'im749_53.0.jpg', 'x': 53.0}\n",
      "{'name': 'im749_53.5.jpg', 'x': 53.5}\n",
      "{'name': 'im749_54.0.jpg', 'x': 54.0}\n",
      "{'name': 'im749_54.5.jpg', 'x': 54.5}\n",
      "{'name': 'im749_55.0.jpg', 'x': 55.0}\n",
      "{'name': 'im749_55.5.jpg', 'x': 55.5}\n",
      "{'name': 'im749_56.0.jpg', 'x': 56.0}\n",
      "{'name': 'im749_56.5.jpg', 'x': 56.5}\n",
      "{'name': 'im749_57.0.jpg', 'x': 57.0}\n",
      "{'name': 'im749_57.5.jpg', 'x': 57.5}\n",
      "{'name': 'im749_58.0.jpg', 'x': 58.0}\n",
      "{'name': 'im749_58.5.jpg', 'x': 58.5}\n",
      "{'name': 'im749_59.0.jpg', 'x': 59.0}\n",
      "{'name': 'im749_59.5.jpg', 'x': 59.5}\n"
     ]
    }
   ],
   "source": [
    "plots = []\n",
    "x = []\n",
    "y = []\n",
    "for file in notebook.tqdm(files[0:]):\n",
    "    if True:\n",
    "        print(file)\n",
    "        x.append(file['x'])\n",
    "        res, p = count_foto(dir, file['name'])\n",
    "        y.append(res)\n",
    "        plots.append(p)\n"
   ]
  },
  {
   "cell_type": "code",
   "execution_count": 8,
   "metadata": {
    "scrolled": false
   },
   "outputs": [
    {
     "data": {
      "text/html": [
       "\n",
       "  <div class=\"bk-root\" id=\"2e7a3044-1c53-42f7-8bb5-892a19ade7e8\" data-root-id=\"46342\"></div>\n"
      ]
     },
     "metadata": {},
     "output_type": "display_data"
    },
    {
     "data": {
      "application/javascript": [
       "(function(root) {\n",
       "  function embed_document(root) {\n",
       "  const docs_json = {\"297dc4c7-75f8-46ae-845c-ed161b6eb833\":{\"defs\":[],\"roots\":{\"references\":[{\"attributes\":{\"below\":[{\"id\":\"46351\"}],\"center\":[{\"id\":\"46354\"},{\"id\":\"46358\"}],\"left\":[{\"id\":\"46355\"}],\"renderers\":[{\"id\":\"46377\"}],\"title\":{\"id\":\"46379\"},\"toolbar\":{\"id\":\"46366\"},\"width\":800,\"x_range\":{\"id\":\"46343\"},\"x_scale\":{\"id\":\"46347\"},\"y_range\":{\"id\":\"46345\"},\"y_scale\":{\"id\":\"46349\"}},\"id\":\"46342\",\"subtype\":\"Figure\",\"type\":\"Plot\"},{\"attributes\":{\"coordinates\":null,\"formatter\":{\"id\":\"46385\"},\"group\":null,\"major_label_policy\":{\"id\":\"46386\"},\"ticker\":{\"id\":\"46352\"}},\"id\":\"46351\",\"type\":\"LinearAxis\"},{\"attributes\":{\"axis\":{\"id\":\"46355\"},\"coordinates\":null,\"dimension\":1,\"group\":null,\"ticker\":null},\"id\":\"46358\",\"type\":\"Grid\"},{\"attributes\":{\"overlay\":{\"id\":\"46365\"}},\"id\":\"46361\",\"type\":\"BoxZoomTool\"},{\"attributes\":{},\"id\":\"46352\",\"type\":\"BasicTicker\"},{\"attributes\":{\"tools\":[{\"id\":\"46359\"},{\"id\":\"46360\"},{\"id\":\"46361\"},{\"id\":\"46362\"},{\"id\":\"46363\"},{\"id\":\"46364\"}]},\"id\":\"46366\",\"type\":\"Toolbar\"},{\"attributes\":{\"coordinates\":null,\"formatter\":{\"id\":\"46382\"},\"group\":null,\"major_label_policy\":{\"id\":\"46383\"},\"ticker\":{\"id\":\"46356\"}},\"id\":\"46355\",\"type\":\"LinearAxis\"},{\"attributes\":{},\"id\":\"46385\",\"type\":\"BasicTickFormatter\"},{\"attributes\":{},\"id\":\"46356\",\"type\":\"BasicTicker\"},{\"attributes\":{},\"id\":\"46386\",\"type\":\"AllLabels\"},{\"attributes\":{},\"id\":\"46347\",\"type\":\"LinearScale\"},{\"attributes\":{},\"id\":\"46349\",\"type\":\"LinearScale\"},{\"attributes\":{},\"id\":\"46345\",\"type\":\"DataRange1d\"},{\"attributes\":{\"coordinates\":null,\"group\":null},\"id\":\"46379\",\"type\":\"Title\"},{\"attributes\":{\"line_alpha\":0.2,\"line_color\":\"#1f77b4\",\"x\":{\"field\":\"x\"},\"y\":{\"field\":\"y\"}},\"id\":\"46376\",\"type\":\"Line\"},{\"attributes\":{},\"id\":\"46360\",\"type\":\"WheelZoomTool\"},{\"attributes\":{},\"id\":\"46363\",\"type\":\"ResetTool\"},{\"attributes\":{\"coordinates\":null,\"data_source\":{\"id\":\"46373\"},\"glyph\":{\"id\":\"46374\"},\"group\":null,\"hover_glyph\":null,\"muted_glyph\":{\"id\":\"46376\"},\"nonselection_glyph\":{\"id\":\"46375\"},\"view\":{\"id\":\"46378\"}},\"id\":\"46377\",\"type\":\"GlyphRenderer\"},{\"attributes\":{},\"id\":\"46387\",\"type\":\"UnionRenderers\"},{\"attributes\":{},\"id\":\"46359\",\"type\":\"PanTool\"},{\"attributes\":{},\"id\":\"46343\",\"type\":\"DataRange1d\"},{\"attributes\":{\"axis\":{\"id\":\"46351\"},\"coordinates\":null,\"group\":null,\"ticker\":null},\"id\":\"46354\",\"type\":\"Grid\"},{\"attributes\":{},\"id\":\"46383\",\"type\":\"AllLabels\"},{\"attributes\":{},\"id\":\"46362\",\"type\":\"SaveTool\"},{\"attributes\":{\"source\":{\"id\":\"46373\"}},\"id\":\"46378\",\"type\":\"CDSView\"},{\"attributes\":{\"data\":{\"x\":[0.5,1.0,1.5,2.0,2.5,3.0,3.5,4.0,4.5,5.0,5.5,6.0,6.5,7.0,7.5,8.0,8.5,9.0,9.5,10.0,10.5,11.0,11.5,12.0,12.5,13.0,13.5,14.0,14.5,15.0,15.5,16.0,16.5,17.0,17.5,18.0,18.5,19.0,19.5,20.0,20.5,21.0,21.5,22.0,22.5,23.0,23.5,24.0,24.5,25.0,25.5,26.0,26.5,27.0,27.5,28.0,28.5,29.0,29.5,30.0,30.5,31.0,31.5,32.0,32.5,33.0,33.5,34.0,34.5,35.0,35.5,36.0,36.5,37.0,37.5,38.0,38.5,39.0,39.5,40.0,40.5,41.0,41.5,42.0,42.5,43.0,43.5,44.0,44.5,45.0,45.5,46.0,46.5,47.0,47.5,48.0,48.5,49.0,49.5,50.0,50.5,51.0,51.5,52.0,52.5,53.0,53.5,54.0,54.5,55.0,55.5,56.0,56.5,57.0,57.5,58.0,58.5,59.0,59.5],\"y\":{\"__ndarray__\":\"EFN9ZU8mYECkCCiDKCFgQKwBDSfqFmBAHdCOb3YUYEBZO9OSiylgQClbDTcPIWBA+z0IAMYoYECbY+Nw6CFgQGMbEBLyIGBARkHmBNgHYEB2+Rv0YgxgQJx0yXtO119AClBHc856X0C9ri+SC29dQMOt8Kew/VxAT3Ro1A5xW0Cdnpdx2PFZQPgiIqp/l1hAH/zUJYqYV0CqVsUYUORWQJ9pchzTvVVA03QfUNEFVUAm0EKCpGJUQGeHy6w/9lNAH9lDTHp9U0Ds7+fpI/lSQDiGLzhEfVJAcID/jB/9UUBhol4J9J9RQBxVEGSN5VBADf2nIkrTUEBz/tgMkT9QQFcVCvphuE5ASl5UjetKUEDEoT9mef5OQNb8zYuHHlBAhIsls1YeUEBW6rWQB6FOQFXya1EElE9A3DDvfkOyTkDo5mPuEPFQQHK68BpgQU9AmhtNgAb1TkBC1bdyw89OQGr/Mhalv05AO/oK2M93TkAjwiEZUspOQHGdVt/HhU5AbbUwZB8zTkDQwGDieQVOQG590sFITk1ATjYMHE6dTUDKcc9KWFVNQM+WHUc3Sk1An5ieYVx1TUDBQlBCKXxNQMhxY1ky00xAjlVz9wSFTEAUWIHKJkRMQPta/RbwJkxA8lQEcVOFTEDUWjXl4qVMQINNUzER0UxAZXZSEJtoTUCZRV3neL9NQARJlc9CUE5AiMySWyZ5TkCrylhfpFlOQE4FkBlszE1AAYT0f+0JTkA8DZZalOtNQJpJkfjZq01AxLYyr7tOTUA6MsYl0jpNQKjejkTBsk1Ab3q0m4yLTUA9XFzrVKpNQHlFyIpz+E1AtmMhEh3GTUAxUdUkAa5NQKmC52IJRE9A7X2Y3WgpT0A5YKYUE6lPQLwyYkgTN1BAEa8VOctYUEDWn7zgUm1QQCOXE2kr5lBALGYYGK7gUEA+Y+6e3pxQQMaZECIR0lBAYnH5xZBsUEAL6jQPGEVQQD+OHBErIVBAEY0/Ys+aT0CMwRzgWt5QQLus1EPvC1FAYW9rfvNTUUAHT+FVSwNSQPsfvZ2LflJATCL2jPNhUkDIQImYDxpTQJTz12M0/VNATyZykLcKVEAqx6b26/hUQEusfV3731VAXQYvRaN/VkBYEAUP6RlXQKILlhsGqldAv4lmDMZ1WEAmUCmTA3FZQEDDAmfmHltAIVLbcydQXkC9/rxEpBlfQGbrk1AuYV9AGiUm2H6MX0D8J91HNZlfQKtck2l5sl9AY3wBhhqFX0BoVsMQM5FfQA==\",\"dtype\":\"float64\",\"order\":\"little\",\"shape\":[119]}},\"selected\":{\"id\":\"46388\"},\"selection_policy\":{\"id\":\"46387\"}},\"id\":\"46373\",\"type\":\"ColumnDataSource\"},{\"attributes\":{\"line_alpha\":0.1,\"line_color\":\"#1f77b4\",\"x\":{\"field\":\"x\"},\"y\":{\"field\":\"y\"}},\"id\":\"46375\",\"type\":\"Line\"},{\"attributes\":{},\"id\":\"46382\",\"type\":\"BasicTickFormatter\"},{\"attributes\":{\"bottom_units\":\"screen\",\"coordinates\":null,\"fill_alpha\":0.5,\"fill_color\":\"lightgrey\",\"group\":null,\"left_units\":\"screen\",\"level\":\"overlay\",\"line_alpha\":1.0,\"line_color\":\"black\",\"line_dash\":[4,4],\"line_width\":2,\"right_units\":\"screen\",\"syncable\":false,\"top_units\":\"screen\"},\"id\":\"46365\",\"type\":\"BoxAnnotation\"},{\"attributes\":{\"line_color\":\"#1f77b4\",\"x\":{\"field\":\"x\"},\"y\":{\"field\":\"y\"}},\"id\":\"46374\",\"type\":\"Line\"},{\"attributes\":{},\"id\":\"46364\",\"type\":\"HelpTool\"},{\"attributes\":{},\"id\":\"46388\",\"type\":\"Selection\"}],\"root_ids\":[\"46342\"]},\"title\":\"Bokeh Application\",\"version\":\"2.4.3\"}};\n",
       "  const render_items = [{\"docid\":\"297dc4c7-75f8-46ae-845c-ed161b6eb833\",\"root_ids\":[\"46342\"],\"roots\":{\"46342\":\"2e7a3044-1c53-42f7-8bb5-892a19ade7e8\"}}];\n",
       "  root.Bokeh.embed.embed_items_notebook(docs_json, render_items);\n",
       "  }\n",
       "  if (root.Bokeh !== undefined) {\n",
       "    embed_document(root);\n",
       "  } else {\n",
       "    let attempts = 0;\n",
       "    const timer = setInterval(function(root) {\n",
       "      if (root.Bokeh !== undefined) {\n",
       "        clearInterval(timer);\n",
       "        embed_document(root);\n",
       "      } else {\n",
       "        attempts++;\n",
       "        if (attempts > 100) {\n",
       "          clearInterval(timer);\n",
       "          console.log(\"Bokeh: ERROR: Unable to run BokehJS code because BokehJS library is missing\");\n",
       "        }\n",
       "      }\n",
       "    }, 10, root)\n",
       "  }\n",
       "})(window);"
      ],
      "application/vnd.bokehjs_exec.v0+json": ""
     },
     "metadata": {
      "application/vnd.bokehjs_exec.v0+json": {
       "id": "46342"
      }
     },
     "output_type": "display_data"
    }
   ],
   "source": [
    "sh = figure(height=600, width=800)\n",
    "sh.line(x, np.array(y) * 1.82)#, size=15)\n",
    "show(sh)"
   ]
  },
  {
   "cell_type": "code",
   "execution_count": 24,
   "metadata": {},
   "outputs": [
    {
     "data": {
      "text/plain": [
       "39.13740702774939"
      ]
     },
     "execution_count": 24,
     "metadata": {},
     "output_type": "execute_result"
    }
   ],
   "source": [
    "np.mean(y) * 1.82 /2 "
   ]
  },
  {
   "cell_type": "code",
   "execution_count": 9,
   "metadata": {
    "scrolled": false
   },
   "outputs": [
    {
     "name": "stdout",
     "output_type": "stream",
     "text": [
      "0.5\n",
      "1.0\n",
      "1.5\n",
      "2.0\n",
      "2.5\n",
      "3.0\n",
      "3.5\n",
      "4.0\n",
      "4.5\n",
      "5.0\n",
      "5.5\n",
      "6.0\n",
      "6.5\n",
      "7.0\n",
      "7.5\n",
      "8.0\n",
      "8.5\n",
      "9.0\n",
      "9.5\n",
      "10.0\n",
      "10.5\n",
      "11.0\n",
      "11.5\n",
      "12.0\n",
      "12.5\n",
      "13.0\n",
      "13.5\n",
      "14.0\n",
      "14.5\n",
      "15.0\n",
      "15.5\n",
      "16.0\n",
      "16.5\n",
      "17.0\n",
      "17.5\n",
      "18.0\n",
      "18.5\n",
      "19.0\n",
      "19.5\n",
      "20.0\n",
      "20.5\n",
      "21.0\n",
      "21.5\n",
      "22.0\n",
      "22.5\n",
      "23.0\n",
      "23.5\n",
      "24.0\n",
      "24.5\n",
      "25.0\n",
      "25.5\n",
      "26.0\n",
      "26.5\n",
      "27.0\n",
      "27.5\n",
      "28.0\n",
      "28.5\n",
      "29.0\n",
      "29.5\n",
      "30.0\n",
      "30.5\n",
      "31.0\n",
      "31.5\n",
      "32.0\n",
      "32.5\n",
      "33.0\n",
      "33.5\n",
      "34.0\n",
      "34.5\n",
      "35.0\n",
      "35.5\n",
      "36.0\n",
      "36.5\n",
      "37.0\n",
      "37.5\n",
      "38.0\n",
      "38.5\n",
      "39.0\n",
      "39.5\n",
      "40.0\n",
      "40.5\n",
      "41.0\n",
      "41.5\n",
      "42.0\n",
      "42.5\n",
      "43.0\n",
      "43.5\n",
      "44.0\n",
      "44.5\n",
      "45.0\n",
      "45.5\n",
      "46.0\n",
      "46.5\n",
      "47.0\n",
      "47.5\n",
      "48.0\n",
      "48.5\n",
      "49.0\n",
      "49.5\n",
      "50.0\n",
      "50.5\n",
      "51.0\n",
      "51.5\n",
      "52.0\n",
      "52.5\n",
      "53.0\n",
      "53.5\n",
      "54.0\n",
      "54.5\n",
      "55.0\n",
      "55.5\n",
      "56.0\n",
      "56.5\n",
      "57.0\n",
      "57.5\n",
      "58.0\n",
      "58.5\n",
      "59.0\n",
      "59.5\n"
     ]
    }
   ],
   "source": [
    "path = f'testPic/res/{num}/'\n",
    "output_file(path + 'shape.html')\n",
    "save(sh)\n",
    "for i, coord in enumerate(x):\n",
    "    print(coord)\n",
    "    output_file(path + 'pic' + str(int(coord*10)) + '.html')\n",
    "    save(plots[i])"
   ]
  }
 ],
 "metadata": {
  "kernelspec": {
   "display_name": "Python 3 (ipykernel)",
   "language": "python",
   "name": "python3"
  },
  "language_info": {
   "codemirror_mode": {
    "name": "ipython",
    "version": 3
   },
   "file_extension": ".py",
   "mimetype": "text/x-python",
   "name": "python",
   "nbconvert_exporter": "python",
   "pygments_lexer": "ipython3",
   "version": "3.8.13"
  },
  "vscode": {
   "interpreter": {
    "hash": "4c4dde7fc75005db3f8744d9ce8aa479c71f0862f6a0da5973d658e460da696f"
   }
  }
 },
 "nbformat": 4,
 "nbformat_minor": 2
}
