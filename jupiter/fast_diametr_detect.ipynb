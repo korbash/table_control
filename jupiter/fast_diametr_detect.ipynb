{
 "cells": [
  {
   "cell_type": "code",
   "execution_count": 1,
   "metadata": {},
   "outputs": [],
   "source": [
    "import cv2\n",
    "import numpy as np\n",
    "import pandas as pd\n",
    "import matplotlib.pyplot as plt\n",
    "import math\n",
    "from scipy.optimize import root_scalar\n",
    "from sklearn.linear_model import (LinearRegression, HuberRegressor,\n",
    "                                  RANSACRegressor, TheilSenRegressor)\n",
    "from bokeh.layouts import layout\n",
    "from bokeh.models import Slider, CustomJS\n",
    "from bokeh.plotting import figure, show, output_file, save\n",
    "from bokeh.io import output_notebook\n",
    "\n",
    "from tqdm import notebook"
   ]
  },
  {
   "cell_type": "code",
   "execution_count": 2,
   "metadata": {},
   "outputs": [
    {
     "data": {
      "text/html": [
       "<div class=\"bk-root\">\n",
       "        <a href=\"https://bokeh.org\" target=\"_blank\" class=\"bk-logo bk-logo-small bk-logo-notebook\"></a>\n",
       "        <span id=\"1002\">Loading BokehJS ...</span>\n",
       "    </div>\n"
      ]
     },
     "metadata": {},
     "output_type": "display_data"
    },
    {
     "data": {
      "application/javascript": [
       "(function(root) {\n",
       "  function now() {\n",
       "    return new Date();\n",
       "  }\n",
       "\n",
       "  const force = true;\n",
       "\n",
       "  if (typeof root._bokeh_onload_callbacks === \"undefined\" || force === true) {\n",
       "    root._bokeh_onload_callbacks = [];\n",
       "    root._bokeh_is_loading = undefined;\n",
       "  }\n",
       "\n",
       "const JS_MIME_TYPE = 'application/javascript';\n",
       "  const HTML_MIME_TYPE = 'text/html';\n",
       "  const EXEC_MIME_TYPE = 'application/vnd.bokehjs_exec.v0+json';\n",
       "  const CLASS_NAME = 'output_bokeh rendered_html';\n",
       "\n",
       "  /**\n",
       "   * Render data to the DOM node\n",
       "   */\n",
       "  function render(props, node) {\n",
       "    const script = document.createElement(\"script\");\n",
       "    node.appendChild(script);\n",
       "  }\n",
       "\n",
       "  /**\n",
       "   * Handle when an output is cleared or removed\n",
       "   */\n",
       "  function handleClearOutput(event, handle) {\n",
       "    const cell = handle.cell;\n",
       "\n",
       "    const id = cell.output_area._bokeh_element_id;\n",
       "    const server_id = cell.output_area._bokeh_server_id;\n",
       "    // Clean up Bokeh references\n",
       "    if (id != null && id in Bokeh.index) {\n",
       "      Bokeh.index[id].model.document.clear();\n",
       "      delete Bokeh.index[id];\n",
       "    }\n",
       "\n",
       "    if (server_id !== undefined) {\n",
       "      // Clean up Bokeh references\n",
       "      const cmd_clean = \"from bokeh.io.state import curstate; print(curstate().uuid_to_server['\" + server_id + \"'].get_sessions()[0].document.roots[0]._id)\";\n",
       "      cell.notebook.kernel.execute(cmd_clean, {\n",
       "        iopub: {\n",
       "          output: function(msg) {\n",
       "            const id = msg.content.text.trim();\n",
       "            if (id in Bokeh.index) {\n",
       "              Bokeh.index[id].model.document.clear();\n",
       "              delete Bokeh.index[id];\n",
       "            }\n",
       "          }\n",
       "        }\n",
       "      });\n",
       "      // Destroy server and session\n",
       "      const cmd_destroy = \"import bokeh.io.notebook as ion; ion.destroy_server('\" + server_id + \"')\";\n",
       "      cell.notebook.kernel.execute(cmd_destroy);\n",
       "    }\n",
       "  }\n",
       "\n",
       "  /**\n",
       "   * Handle when a new output is added\n",
       "   */\n",
       "  function handleAddOutput(event, handle) {\n",
       "    const output_area = handle.output_area;\n",
       "    const output = handle.output;\n",
       "\n",
       "    // limit handleAddOutput to display_data with EXEC_MIME_TYPE content only\n",
       "    if ((output.output_type != \"display_data\") || (!Object.prototype.hasOwnProperty.call(output.data, EXEC_MIME_TYPE))) {\n",
       "      return\n",
       "    }\n",
       "\n",
       "    const toinsert = output_area.element.find(\".\" + CLASS_NAME.split(' ')[0]);\n",
       "\n",
       "    if (output.metadata[EXEC_MIME_TYPE][\"id\"] !== undefined) {\n",
       "      toinsert[toinsert.length - 1].firstChild.textContent = output.data[JS_MIME_TYPE];\n",
       "      // store reference to embed id on output_area\n",
       "      output_area._bokeh_element_id = output.metadata[EXEC_MIME_TYPE][\"id\"];\n",
       "    }\n",
       "    if (output.metadata[EXEC_MIME_TYPE][\"server_id\"] !== undefined) {\n",
       "      const bk_div = document.createElement(\"div\");\n",
       "      bk_div.innerHTML = output.data[HTML_MIME_TYPE];\n",
       "      const script_attrs = bk_div.children[0].attributes;\n",
       "      for (let i = 0; i < script_attrs.length; i++) {\n",
       "        toinsert[toinsert.length - 1].firstChild.setAttribute(script_attrs[i].name, script_attrs[i].value);\n",
       "        toinsert[toinsert.length - 1].firstChild.textContent = bk_div.children[0].textContent\n",
       "      }\n",
       "      // store reference to server id on output_area\n",
       "      output_area._bokeh_server_id = output.metadata[EXEC_MIME_TYPE][\"server_id\"];\n",
       "    }\n",
       "  }\n",
       "\n",
       "  function register_renderer(events, OutputArea) {\n",
       "\n",
       "    function append_mime(data, metadata, element) {\n",
       "      // create a DOM node to render to\n",
       "      const toinsert = this.create_output_subarea(\n",
       "        metadata,\n",
       "        CLASS_NAME,\n",
       "        EXEC_MIME_TYPE\n",
       "      );\n",
       "      this.keyboard_manager.register_events(toinsert);\n",
       "      // Render to node\n",
       "      const props = {data: data, metadata: metadata[EXEC_MIME_TYPE]};\n",
       "      render(props, toinsert[toinsert.length - 1]);\n",
       "      element.append(toinsert);\n",
       "      return toinsert\n",
       "    }\n",
       "\n",
       "    /* Handle when an output is cleared or removed */\n",
       "    events.on('clear_output.CodeCell', handleClearOutput);\n",
       "    events.on('delete.Cell', handleClearOutput);\n",
       "\n",
       "    /* Handle when a new output is added */\n",
       "    events.on('output_added.OutputArea', handleAddOutput);\n",
       "\n",
       "    /**\n",
       "     * Register the mime type and append_mime function with output_area\n",
       "     */\n",
       "    OutputArea.prototype.register_mime_type(EXEC_MIME_TYPE, append_mime, {\n",
       "      /* Is output safe? */\n",
       "      safe: true,\n",
       "      /* Index of renderer in `output_area.display_order` */\n",
       "      index: 0\n",
       "    });\n",
       "  }\n",
       "\n",
       "  // register the mime type if in Jupyter Notebook environment and previously unregistered\n",
       "  if (root.Jupyter !== undefined) {\n",
       "    const events = require('base/js/events');\n",
       "    const OutputArea = require('notebook/js/outputarea').OutputArea;\n",
       "\n",
       "    if (OutputArea.prototype.mime_types().indexOf(EXEC_MIME_TYPE) == -1) {\n",
       "      register_renderer(events, OutputArea);\n",
       "    }\n",
       "  }\n",
       "  if (typeof (root._bokeh_timeout) === \"undefined\" || force === true) {\n",
       "    root._bokeh_timeout = Date.now() + 5000;\n",
       "    root._bokeh_failed_load = false;\n",
       "  }\n",
       "\n",
       "  const NB_LOAD_WARNING = {'data': {'text/html':\n",
       "     \"<div style='background-color: #fdd'>\\n\"+\n",
       "     \"<p>\\n\"+\n",
       "     \"BokehJS does not appear to have successfully loaded. If loading BokehJS from CDN, this \\n\"+\n",
       "     \"may be due to a slow or bad network connection. Possible fixes:\\n\"+\n",
       "     \"</p>\\n\"+\n",
       "     \"<ul>\\n\"+\n",
       "     \"<li>re-rerun `output_notebook()` to attempt to load from CDN again, or</li>\\n\"+\n",
       "     \"<li>use INLINE resources instead, as so:</li>\\n\"+\n",
       "     \"</ul>\\n\"+\n",
       "     \"<code>\\n\"+\n",
       "     \"from bokeh.resources import INLINE\\n\"+\n",
       "     \"output_notebook(resources=INLINE)\\n\"+\n",
       "     \"</code>\\n\"+\n",
       "     \"</div>\"}};\n",
       "\n",
       "  function display_loaded() {\n",
       "    const el = document.getElementById(\"1002\");\n",
       "    if (el != null) {\n",
       "      el.textContent = \"BokehJS is loading...\";\n",
       "    }\n",
       "    if (root.Bokeh !== undefined) {\n",
       "      if (el != null) {\n",
       "        el.textContent = \"BokehJS \" + root.Bokeh.version + \" successfully loaded.\";\n",
       "      }\n",
       "    } else if (Date.now() < root._bokeh_timeout) {\n",
       "      setTimeout(display_loaded, 100)\n",
       "    }\n",
       "  }\n",
       "\n",
       "  function run_callbacks() {\n",
       "    try {\n",
       "      root._bokeh_onload_callbacks.forEach(function(callback) {\n",
       "        if (callback != null)\n",
       "          callback();\n",
       "      });\n",
       "    } finally {\n",
       "      delete root._bokeh_onload_callbacks\n",
       "    }\n",
       "    console.debug(\"Bokeh: all callbacks have finished\");\n",
       "  }\n",
       "\n",
       "  function load_libs(css_urls, js_urls, callback) {\n",
       "    if (css_urls == null) css_urls = [];\n",
       "    if (js_urls == null) js_urls = [];\n",
       "\n",
       "    root._bokeh_onload_callbacks.push(callback);\n",
       "    if (root._bokeh_is_loading > 0) {\n",
       "      console.debug(\"Bokeh: BokehJS is being loaded, scheduling callback at\", now());\n",
       "      return null;\n",
       "    }\n",
       "    if (js_urls == null || js_urls.length === 0) {\n",
       "      run_callbacks();\n",
       "      return null;\n",
       "    }\n",
       "    console.debug(\"Bokeh: BokehJS not loaded, scheduling load and callback at\", now());\n",
       "    root._bokeh_is_loading = css_urls.length + js_urls.length;\n",
       "\n",
       "    function on_load() {\n",
       "      root._bokeh_is_loading--;\n",
       "      if (root._bokeh_is_loading === 0) {\n",
       "        console.debug(\"Bokeh: all BokehJS libraries/stylesheets loaded\");\n",
       "        run_callbacks()\n",
       "      }\n",
       "    }\n",
       "\n",
       "    function on_error(url) {\n",
       "      console.error(\"failed to load \" + url);\n",
       "    }\n",
       "\n",
       "    for (let i = 0; i < css_urls.length; i++) {\n",
       "      const url = css_urls[i];\n",
       "      const element = document.createElement(\"link\");\n",
       "      element.onload = on_load;\n",
       "      element.onerror = on_error.bind(null, url);\n",
       "      element.rel = \"stylesheet\";\n",
       "      element.type = \"text/css\";\n",
       "      element.href = url;\n",
       "      console.debug(\"Bokeh: injecting link tag for BokehJS stylesheet: \", url);\n",
       "      document.body.appendChild(element);\n",
       "    }\n",
       "\n",
       "    for (let i = 0; i < js_urls.length; i++) {\n",
       "      const url = js_urls[i];\n",
       "      const element = document.createElement('script');\n",
       "      element.onload = on_load;\n",
       "      element.onerror = on_error.bind(null, url);\n",
       "      element.async = false;\n",
       "      element.src = url;\n",
       "      console.debug(\"Bokeh: injecting script tag for BokehJS library: \", url);\n",
       "      document.head.appendChild(element);\n",
       "    }\n",
       "  };\n",
       "\n",
       "  function inject_raw_css(css) {\n",
       "    const element = document.createElement(\"style\");\n",
       "    element.appendChild(document.createTextNode(css));\n",
       "    document.body.appendChild(element);\n",
       "  }\n",
       "\n",
       "  const js_urls = [\"https://cdn.bokeh.org/bokeh/release/bokeh-2.4.3.min.js\", \"https://cdn.bokeh.org/bokeh/release/bokeh-gl-2.4.3.min.js\", \"https://cdn.bokeh.org/bokeh/release/bokeh-widgets-2.4.3.min.js\", \"https://cdn.bokeh.org/bokeh/release/bokeh-tables-2.4.3.min.js\", \"https://cdn.bokeh.org/bokeh/release/bokeh-mathjax-2.4.3.min.js\"];\n",
       "  const css_urls = [];\n",
       "\n",
       "  const inline_js = [    function(Bokeh) {\n",
       "      Bokeh.set_log_level(\"info\");\n",
       "    },\n",
       "function(Bokeh) {\n",
       "    }\n",
       "  ];\n",
       "\n",
       "  function run_inline_js() {\n",
       "    if (root.Bokeh !== undefined || force === true) {\n",
       "          for (let i = 0; i < inline_js.length; i++) {\n",
       "      inline_js[i].call(root, root.Bokeh);\n",
       "    }\n",
       "if (force === true) {\n",
       "        display_loaded();\n",
       "      }} else if (Date.now() < root._bokeh_timeout) {\n",
       "      setTimeout(run_inline_js, 100);\n",
       "    } else if (!root._bokeh_failed_load) {\n",
       "      console.log(\"Bokeh: BokehJS failed to load within specified timeout.\");\n",
       "      root._bokeh_failed_load = true;\n",
       "    } else if (force !== true) {\n",
       "      const cell = $(document.getElementById(\"1002\")).parents('.cell').data().cell;\n",
       "      cell.output_area.append_execute_result(NB_LOAD_WARNING)\n",
       "    }\n",
       "  }\n",
       "\n",
       "  if (root._bokeh_is_loading === 0) {\n",
       "    console.debug(\"Bokeh: BokehJS loaded, going straight to plotting\");\n",
       "    run_inline_js();\n",
       "  } else {\n",
       "    load_libs(css_urls, js_urls, function() {\n",
       "      console.debug(\"Bokeh: BokehJS plotting callback run at\", now());\n",
       "      run_inline_js();\n",
       "    });\n",
       "  }\n",
       "}(window));"
      ],
      "application/vnd.bokehjs_load.v0+json": "(function(root) {\n  function now() {\n    return new Date();\n  }\n\n  const force = true;\n\n  if (typeof root._bokeh_onload_callbacks === \"undefined\" || force === true) {\n    root._bokeh_onload_callbacks = [];\n    root._bokeh_is_loading = undefined;\n  }\n\n\n  if (typeof (root._bokeh_timeout) === \"undefined\" || force === true) {\n    root._bokeh_timeout = Date.now() + 5000;\n    root._bokeh_failed_load = false;\n  }\n\n  const NB_LOAD_WARNING = {'data': {'text/html':\n     \"<div style='background-color: #fdd'>\\n\"+\n     \"<p>\\n\"+\n     \"BokehJS does not appear to have successfully loaded. If loading BokehJS from CDN, this \\n\"+\n     \"may be due to a slow or bad network connection. Possible fixes:\\n\"+\n     \"</p>\\n\"+\n     \"<ul>\\n\"+\n     \"<li>re-rerun `output_notebook()` to attempt to load from CDN again, or</li>\\n\"+\n     \"<li>use INLINE resources instead, as so:</li>\\n\"+\n     \"</ul>\\n\"+\n     \"<code>\\n\"+\n     \"from bokeh.resources import INLINE\\n\"+\n     \"output_notebook(resources=INLINE)\\n\"+\n     \"</code>\\n\"+\n     \"</div>\"}};\n\n  function display_loaded() {\n    const el = document.getElementById(\"1002\");\n    if (el != null) {\n      el.textContent = \"BokehJS is loading...\";\n    }\n    if (root.Bokeh !== undefined) {\n      if (el != null) {\n        el.textContent = \"BokehJS \" + root.Bokeh.version + \" successfully loaded.\";\n      }\n    } else if (Date.now() < root._bokeh_timeout) {\n      setTimeout(display_loaded, 100)\n    }\n  }\n\n  function run_callbacks() {\n    try {\n      root._bokeh_onload_callbacks.forEach(function(callback) {\n        if (callback != null)\n          callback();\n      });\n    } finally {\n      delete root._bokeh_onload_callbacks\n    }\n    console.debug(\"Bokeh: all callbacks have finished\");\n  }\n\n  function load_libs(css_urls, js_urls, callback) {\n    if (css_urls == null) css_urls = [];\n    if (js_urls == null) js_urls = [];\n\n    root._bokeh_onload_callbacks.push(callback);\n    if (root._bokeh_is_loading > 0) {\n      console.debug(\"Bokeh: BokehJS is being loaded, scheduling callback at\", now());\n      return null;\n    }\n    if (js_urls == null || js_urls.length === 0) {\n      run_callbacks();\n      return null;\n    }\n    console.debug(\"Bokeh: BokehJS not loaded, scheduling load and callback at\", now());\n    root._bokeh_is_loading = css_urls.length + js_urls.length;\n\n    function on_load() {\n      root._bokeh_is_loading--;\n      if (root._bokeh_is_loading === 0) {\n        console.debug(\"Bokeh: all BokehJS libraries/stylesheets loaded\");\n        run_callbacks()\n      }\n    }\n\n    function on_error(url) {\n      console.error(\"failed to load \" + url);\n    }\n\n    for (let i = 0; i < css_urls.length; i++) {\n      const url = css_urls[i];\n      const element = document.createElement(\"link\");\n      element.onload = on_load;\n      element.onerror = on_error.bind(null, url);\n      element.rel = \"stylesheet\";\n      element.type = \"text/css\";\n      element.href = url;\n      console.debug(\"Bokeh: injecting link tag for BokehJS stylesheet: \", url);\n      document.body.appendChild(element);\n    }\n\n    for (let i = 0; i < js_urls.length; i++) {\n      const url = js_urls[i];\n      const element = document.createElement('script');\n      element.onload = on_load;\n      element.onerror = on_error.bind(null, url);\n      element.async = false;\n      element.src = url;\n      console.debug(\"Bokeh: injecting script tag for BokehJS library: \", url);\n      document.head.appendChild(element);\n    }\n  };\n\n  function inject_raw_css(css) {\n    const element = document.createElement(\"style\");\n    element.appendChild(document.createTextNode(css));\n    document.body.appendChild(element);\n  }\n\n  const js_urls = [\"https://cdn.bokeh.org/bokeh/release/bokeh-2.4.3.min.js\", \"https://cdn.bokeh.org/bokeh/release/bokeh-gl-2.4.3.min.js\", \"https://cdn.bokeh.org/bokeh/release/bokeh-widgets-2.4.3.min.js\", \"https://cdn.bokeh.org/bokeh/release/bokeh-tables-2.4.3.min.js\", \"https://cdn.bokeh.org/bokeh/release/bokeh-mathjax-2.4.3.min.js\"];\n  const css_urls = [];\n\n  const inline_js = [    function(Bokeh) {\n      Bokeh.set_log_level(\"info\");\n    },\nfunction(Bokeh) {\n    }\n  ];\n\n  function run_inline_js() {\n    if (root.Bokeh !== undefined || force === true) {\n          for (let i = 0; i < inline_js.length; i++) {\n      inline_js[i].call(root, root.Bokeh);\n    }\nif (force === true) {\n        display_loaded();\n      }} else if (Date.now() < root._bokeh_timeout) {\n      setTimeout(run_inline_js, 100);\n    } else if (!root._bokeh_failed_load) {\n      console.log(\"Bokeh: BokehJS failed to load within specified timeout.\");\n      root._bokeh_failed_load = true;\n    } else if (force !== true) {\n      const cell = $(document.getElementById(\"1002\")).parents('.cell').data().cell;\n      cell.output_area.append_execute_result(NB_LOAD_WARNING)\n    }\n  }\n\n  if (root._bokeh_is_loading === 0) {\n    console.debug(\"Bokeh: BokehJS loaded, going straight to plotting\");\n    run_inline_js();\n  } else {\n    load_libs(css_urls, js_urls, function() {\n      console.debug(\"Bokeh: BokehJS plotting callback run at\", now());\n      run_inline_js();\n    });\n  }\n}(window));"
     },
     "metadata": {},
     "output_type": "display_data"
    }
   ],
   "source": [
    "output_notebook()"
   ]
  },
  {
   "cell_type": "code",
   "execution_count": 3,
   "metadata": {},
   "outputs": [],
   "source": [
    "num = 1095"
   ]
  },
  {
   "cell_type": "code",
   "execution_count": 4,
   "metadata": {},
   "outputs": [],
   "source": [
    "kq = 1.7321837398089046"
   ]
  },
  {
   "cell_type": "code",
   "execution_count": 5,
   "metadata": {},
   "outputs": [],
   "source": [
    "def find_fiber(edges, **args):\n",
    "    # global p1\n",
    "    y, x = edges.shape\n",
    "    num = np.tile(np.linspace(0, 1, y), (x, 1)).T\n",
    "    if args.get('plot') == True:\n",
    "        p1 = args.get('p1')\n",
    "        p1.image(image=[edges], x=0, y=0, dw=1, dh=1, palette=\"Spectral11\")\n",
    "    edges = edges > 0\n",
    "    s = np.sum(edges, axis=0)\n",
    "    m = np.sum(edges * num, axis=0) / s\n",
    "    st = np.sqrt(np.sum(edges * (num - m)**2, axis=0) / s)\n",
    "    # print(st.shape)\n",
    "    # print(st)\n",
    "    std = np.nanmedian(st)\n",
    "    # print(std)\n",
    "    # if args.get('plot') == True:\n",
    "    #     plt.plot(st, 'o')\n",
    "    #     plt.plot([0, x - 1], [std, std])\n",
    "    #     plt.show()\n",
    "    X = np.linspace(0, 1, x)\n",
    "    bad = np.argwhere(np.isnan(m))\n",
    "    X = np.delete(X, bad)\n",
    "    m = np.delete(m, bad)\n",
    "    ransac = RANSACRegressor(random_state=42).fit(X.reshape([-1, 1]), m)\n",
    "    if args.get('plot') == True:\n",
    "        p2 = args.get('p2')\n",
    "        pred = ransac.predict(X[[0, -1]].reshape([-1, 1]))\n",
    "        p2.circle(X, m, size=5)\n",
    "        p2.line([0, 1], pred, line_color='red')\n",
    "        p2.line([0, 1], pred+std, line_color='green')\n",
    "        p2.line([0, 1], pred-std, line_color='green')\n",
    "    return float(ransac.estimator_.coef_), float(ransac.predict([[0]])), std\n",
    "\n",
    "\n",
    "def turn_crop(im, alf, b, std, **args):\n",
    "    w = args.get('width', 4)\n",
    "    up = max(b, b + alf)\n",
    "    down = min(b, b + alf)\n",
    "    y, x = im.shape\n",
    "    up = int(np.clip(up + w * std, 0, 1) * y)\n",
    "    down = int(np.clip(down - w * std, 0, 1) * y)\n",
    "    cr_im = im[down:up, :]\n",
    "    y_new = cr_im.shape[0]\n",
    "    M = cv2.getRotationMatrix2D([x / 2, y_new / 2],\n",
    "                                np.arctan(alf * y / x) * 180 / np.pi, 1)\n",
    "    rotated = cv2.warpAffine(cr_im,\n",
    "                             M, [cr_im.shape[1], cr_im.shape[0]],\n",
    "                             borderMode=cv2.BORDER_REPLICATE)\n",
    "    y_min = int(y_new / 2 - w * std * y)\n",
    "    y_max = int(y_new / 2 + w * std * y)\n",
    "    rotated = rotated[y_min:y_max]\n",
    "    if args.get('plot') == True:\n",
    "        p3 = args.get('p3')\n",
    "        p3.image(image=[rotated],\n",
    "                 x=0,\n",
    "                 y=0,\n",
    "                 dw=1,\n",
    "                 dh=rotated.shape[0] / y,\n",
    "                 palette=\"Spectral11\")\n",
    "        # plt.imshow(rotated)\n",
    "        # plt.show()\n",
    "    return rotated\n",
    "\n",
    "\n",
    "def cuts(m, n):\n",
    "    y, x = m.shape\n",
    "    step = x / n\n",
    "    b = np.ceil(np.arange(step, x, step)).astype(int)\n",
    "    lis = np.split(m, b, axis=1)\n",
    "    means = []\n",
    "    for l in lis:\n",
    "        means.append(l.mean(axis=1))\n",
    "    return np.stack(means)\n",
    "\n",
    "\n",
    "def fit(m, x):\n",
    "    ransac = RANSACRegressor(random_state=42).fit(x.reshape([-1, 1]), m)\n",
    "    pred = ransac.predict(x.reshape([-1, 1]))\n",
    "    std = np.mean((pred - m)**2)\n",
    "    return std, {'x': x[[0, -1]], 'y': pred[[0, -1]]}\n",
    "\n",
    "\n",
    "class window_fit():\n",
    "    def __init__(self, mas, w):\n",
    "        self.mas = mas\n",
    "        self.w = w\n",
    "        self.x, self.y = mas.shape\n",
    "        self.v = np.ones_like(mas) * float('-inf')\n",
    "        self.Y = np.arange(self.y)\n",
    "        self.boards = np.zeros([self.x, 2])\n",
    "\n",
    "    def get(self, x, y):\n",
    "\n",
    "        y -= self.w / 2\n",
    "        x0 = math.floor(x)\n",
    "        x1 = math.ceil(x)\n",
    "        y0 = math.floor(y)\n",
    "        y1 = math.ceil(y)\n",
    "        s0 = self.calc(x0, y0)\n",
    "        s1 = self.calc(x1, y1)\n",
    "        s = s1 * (y - y0) + s0 * (1 - (y - y0))\n",
    "        return s\n",
    "\n",
    "    def calc(self, x, y):\n",
    "        if self.v[x, y] == float('-inf'):\n",
    "            s, p = fit(self.mas[x, y:y + self.w], self.Y[y:y + self.w])\n",
    "            self.v[x, y] = math.log(s)\n",
    "            return math.log(s)\n",
    "        else:\n",
    "            return self.v[x, y]\n",
    "\n",
    "    def get_betwin(self, y0, y1):\n",
    "        y0, y1 = min(y0, y1), max(y0, y1)\n",
    "        y0 = max(0, math.ceil(y0))\n",
    "        y1 = min(self.y - 1, math.floor(y1))\n",
    "        return np.arange(y0, y1 + 1)\n",
    "\n",
    "    def get_mas(self, x):\n",
    "        X = np.argwhere(self.v[x] != float('-inf'))\n",
    "        Y = self.v[x, X]\n",
    "        X = X + self.w / 2\n",
    "        return X.flatten(), Y.flatten()\n",
    "\n",
    "    def calc_gerd(self, n):\n",
    "        Y = np.ceil(np.linspace(0, self.y - self.w - 1, n)).astype(int)\n",
    "        for x in range(self.x):\n",
    "            for y in Y:\n",
    "                self.calc(x, y)\n",
    "\n",
    "    def find_borders(self, kof):\n",
    "        for x in range(self.x):\n",
    "            p, val = self.get_mas(x)\n",
    "            # plt.plot(p,val)\n",
    "            # plt.show()\n",
    "            ma = val.max()\n",
    "            mi = val.min()\n",
    "            tr = mi * kof + ma * (1 - kof)\n",
    "            ind = np.argwhere(val > tr).flatten()\n",
    "            min_ind = max(ind.min() - 1, 0)\n",
    "            b = [min_ind, min_ind+1]\n",
    "            tr_l = val[b].min()\n",
    "            tr_h = val[b].max()\n",
    "            if tr < tr_l: tr = tr_l\n",
    "            if tr > tr_h: tr = tr_h\n",
    "            y0 = root_scalar(lambda y: self.get(x, y) - tr,\n",
    "                             method='brentq',\n",
    "                             bracket=p[b]).root\n",
    "            max_ind = min(ind.max() + 1, len(val)-1)\n",
    "            b = [max_ind - 1, max_ind]\n",
    "            tr_l = val[b].min()\n",
    "            tr_h = val[b].max()\n",
    "            if tr < tr_l: tr = tr_l\n",
    "            if tr > tr_h: tr = tr_h\n",
    "            y1 = root_scalar(lambda y: self.get(x, y) - tr,\n",
    "                             method='brentq',\n",
    "                             bracket=p[b]).root\n",
    "            self.boards[x, :] = [y0 + self.w / 2 - 0.5, y1 - self.w / 2 - 0.5]"
   ]
  },
  {
   "cell_type": "code",
   "execution_count": 6,
   "metadata": {},
   "outputs": [],
   "source": [
    "def count_foto(dir,path):\n",
    "    p0 = figure(height=400, width=800)\n",
    "    p1 = figure(height=300, width=400)\n",
    "    p2 = figure(height=300, width=400)\n",
    "    p3 = figure(height=220, width=800)\n",
    "    p4 = figure(height=300, width=400)\n",
    "    p5 = figure(height=300, width=400)\n",
    "    p6 = figure(height=300, width=800)\n",
    "    p7 = figure(height=220, width=800)\n",
    "    p = layout([[p0], [p1, p2], [p3], [p4, p5], [p6], [p7]])\n",
    "\n",
    "    im = cv2.imread(dir + path, cv2.IMREAD_GRAYSCALE)\n",
    "    p0.image(image=[im], x=0, y=0, dw=1, dh=1, palette=\"Spectral11\")\n",
    "    y, x = im.shape\n",
    "    kof = 20\n",
    "    tr = 100\n",
    "    im4 = cv2.resize(im, dsize=(x // kof, y // kof))\n",
    "    edges = cv2.Canny(im4, tr, tr, L2gradient=True)\n",
    "    alf, b, std = find_fiber(edges, plot=True, p1=p1, p2=p2)\n",
    "    rotated = turn_crop(im, alf, b, std, width=4, plot=True, p3=p3)\n",
    "    mas = cuts(rotated, 30)\n",
    "    # p4.line(np.linspace(0,1,mas.shape[1]),mas[0])\n",
    "    wf = window_fit(mas, 20)\n",
    "    wf.calc_gerd(20)\n",
    "    wf.find_borders(0.5)\n",
    "\n",
    "    x = 20\n",
    "    y0 = wf.boards[x, 0]\n",
    "    y1 = wf.boards[x, 1]\n",
    "    ins = wf.mas[x, wf.get_betwin(y0, y1)]\n",
    "    ma = ins.max()\n",
    "    mi = ins.min()\n",
    "    vals = [mi, ma, ma, mi, mi]\n",
    "    points = [y0, y0, y1, y1, y0]\n",
    "    p4.line(points, vals, line_color='red')\n",
    "    p4.circle(wf.Y, wf.mas[x], size=5)\n",
    "\n",
    "    X, Y = wf.get_mas(x)\n",
    "    vals = [wf.get(x, y0 - wf.w / 2 + 0.5), wf.get(x, y1 + wf.w / 2 + 0.5)]\n",
    "    points = [y0 - wf.w / 2 + 0.5, y1 + wf.w / 2 + 0.5]\n",
    "    vals = [wf.get(x, points[0]), wf.get(x, points[1])]\n",
    "    p5.line(X, Y)\n",
    "    p5.circle(X, Y)\n",
    "    p5.line(points, vals, line_color='red')\n",
    "\n",
    "    X = np.linspace(0, 1, wf.boards.shape[0])\n",
    "    p6.line(X, wf.boards[:, 0])\n",
    "    p6.line(X, wf.boards[:, 1])\n",
    "    p7.line(X, wf.boards[:, 1] - wf.boards[:, 0])\n",
    "    std1, point1 = fit(wf.boards[:, 0], X)\n",
    "    std2, point2 = fit(wf.boards[:, 1], X)\n",
    "    p6.line([0, 1], point1['y'], line_color='red')\n",
    "    p6.line([0, 1], point2['y'], line_color='red')\n",
    "    p7.line([0, 1], point2['y'] - point1['y'], line_color='red')\n",
    "    resalt = np.mean(point2['y'] - point1['y'])\n",
    "    \n",
    "    return resalt, p"
   ]
  },
  {
   "cell_type": "code",
   "execution_count": 7,
   "metadata": {},
   "outputs": [],
   "source": [
    "import os\n",
    "import re\n",
    "\n",
    "black_list = ['Scan.ipynb']\n",
    "dir = f'testPic/{num}/'\n",
    "files = os.listdir(dir)\n",
    "files = [file for file in files if file not in black_list]\n",
    "files = [{\n",
    "    'name': file,\n",
    "    'x': float(re.findall(r'-?\\d+\\.?\\d*', file)[-1])\n",
    "} for file in files]\n",
    "files.sort(key=lambda a: a['x'])"
   ]
  },
  {
   "cell_type": "code",
   "execution_count": 8,
   "metadata": {
    "scrolled": true
   },
   "outputs": [
    {
     "data": {
      "application/vnd.jupyter.widget-view+json": {
       "model_id": "676d18e6cdd748379497e6fee75380f2",
       "version_major": 2,
       "version_minor": 0
      },
      "text/plain": [
       "  0%|          | 0/80 [00:00<?, ?it/s]"
      ]
     },
     "metadata": {},
     "output_type": "display_data"
    },
    {
     "name": "stdout",
     "output_type": "stream",
     "text": [
      "{'name': 'im1095_0.0.jpg', 'x': 0.0}\n"
     ]
    },
    {
     "name": "stderr",
     "output_type": "stream",
     "text": [
      "C:\\Users\\ariva\\.conda\\envs\\scanner\\lib\\site-packages\\sklearn\\metrics\\_regression.py:918: UndefinedMetricWarning: R^2 score is not well-defined with less than two samples.\n",
      "  warnings.warn(msg, UndefinedMetricWarning)\n"
     ]
    },
    {
     "name": "stdout",
     "output_type": "stream",
     "text": [
      "{'name': 'im1095_0.5.jpg', 'x': 0.5}\n",
      "{'name': 'im1095_1.0.jpg', 'x': 1.0}\n",
      "{'name': 'im1095_1.5.jpg', 'x': 1.5}\n",
      "{'name': 'im1095_2.0.jpg', 'x': 2.0}\n",
      "{'name': 'im1095_2.5.jpg', 'x': 2.5}\n",
      "{'name': 'im1095_3.0.jpg', 'x': 3.0}\n",
      "{'name': 'im1095_3.5.jpg', 'x': 3.5}\n",
      "{'name': 'im1095_4.0.jpg', 'x': 4.0}\n",
      "{'name': 'im1095_4.5.jpg', 'x': 4.5}\n"
     ]
    },
    {
     "name": "stderr",
     "output_type": "stream",
     "text": [
      "C:\\Users\\ariva\\AppData\\Local\\Temp\\ipykernel_9012\\2437975524.py:10: RuntimeWarning: invalid value encountered in divide\n",
      "  m = np.sum(edges * num, axis=0) / s\n"
     ]
    },
    {
     "name": "stdout",
     "output_type": "stream",
     "text": [
      "{'name': 'im1095_5.0.jpg', 'x': 5.0}\n"
     ]
    },
    {
     "name": "stderr",
     "output_type": "stream",
     "text": [
      "C:\\Users\\ariva\\AppData\\Local\\Temp\\ipykernel_9012\\2437975524.py:10: RuntimeWarning: invalid value encountered in divide\n",
      "  m = np.sum(edges * num, axis=0) / s\n"
     ]
    },
    {
     "name": "stdout",
     "output_type": "stream",
     "text": [
      "{'name': 'im1095_5.5.jpg', 'x': 5.5}\n"
     ]
    },
    {
     "name": "stderr",
     "output_type": "stream",
     "text": [
      "C:\\Users\\ariva\\AppData\\Local\\Temp\\ipykernel_9012\\2437975524.py:10: RuntimeWarning: invalid value encountered in divide\n",
      "  m = np.sum(edges * num, axis=0) / s\n"
     ]
    },
    {
     "name": "stdout",
     "output_type": "stream",
     "text": [
      "{'name': 'im1095_6.0.jpg', 'x': 6.0}\n"
     ]
    },
    {
     "name": "stderr",
     "output_type": "stream",
     "text": [
      "C:\\Users\\ariva\\AppData\\Local\\Temp\\ipykernel_9012\\2437975524.py:10: RuntimeWarning: invalid value encountered in divide\n",
      "  m = np.sum(edges * num, axis=0) / s\n"
     ]
    },
    {
     "name": "stdout",
     "output_type": "stream",
     "text": [
      "{'name': 'im1095_6.5.jpg', 'x': 6.5}\n"
     ]
    },
    {
     "name": "stderr",
     "output_type": "stream",
     "text": [
      "C:\\Users\\ariva\\AppData\\Local\\Temp\\ipykernel_9012\\2437975524.py:10: RuntimeWarning: invalid value encountered in divide\n",
      "  m = np.sum(edges * num, axis=0) / s\n"
     ]
    },
    {
     "name": "stdout",
     "output_type": "stream",
     "text": [
      "{'name': 'im1095_7.0.jpg', 'x': 7.0}\n"
     ]
    },
    {
     "name": "stderr",
     "output_type": "stream",
     "text": [
      "C:\\Users\\ariva\\AppData\\Local\\Temp\\ipykernel_9012\\2437975524.py:10: RuntimeWarning: invalid value encountered in divide\n",
      "  m = np.sum(edges * num, axis=0) / s\n"
     ]
    },
    {
     "name": "stdout",
     "output_type": "stream",
     "text": [
      "{'name': 'im1095_7.5.jpg', 'x': 7.5}\n"
     ]
    },
    {
     "name": "stderr",
     "output_type": "stream",
     "text": [
      "C:\\Users\\ariva\\AppData\\Local\\Temp\\ipykernel_9012\\2437975524.py:10: RuntimeWarning: invalid value encountered in divide\n",
      "  m = np.sum(edges * num, axis=0) / s\n"
     ]
    },
    {
     "name": "stdout",
     "output_type": "stream",
     "text": [
      "{'name': 'im1095_8.0.jpg', 'x': 8.0}\n"
     ]
    },
    {
     "name": "stderr",
     "output_type": "stream",
     "text": [
      "C:\\Users\\ariva\\AppData\\Local\\Temp\\ipykernel_9012\\2437975524.py:10: RuntimeWarning: invalid value encountered in divide\n",
      "  m = np.sum(edges * num, axis=0) / s\n"
     ]
    },
    {
     "name": "stdout",
     "output_type": "stream",
     "text": [
      "{'name': 'im1095_8.5.jpg', 'x': 8.5}\n",
      "{'name': 'im1095_9.0.jpg', 'x': 9.0}\n",
      "{'name': 'im1095_9.5.jpg', 'x': 9.5}\n"
     ]
    },
    {
     "name": "stderr",
     "output_type": "stream",
     "text": [
      "C:\\Users\\ariva\\AppData\\Local\\Temp\\ipykernel_9012\\2437975524.py:10: RuntimeWarning: invalid value encountered in divide\n",
      "  m = np.sum(edges * num, axis=0) / s\n"
     ]
    },
    {
     "name": "stdout",
     "output_type": "stream",
     "text": [
      "{'name': 'im1095_10.0.jpg', 'x': 10.0}\n",
      "{'name': 'im1095_10.5.jpg', 'x': 10.5}\n"
     ]
    },
    {
     "name": "stderr",
     "output_type": "stream",
     "text": [
      "C:\\Users\\ariva\\AppData\\Local\\Temp\\ipykernel_9012\\2437975524.py:10: RuntimeWarning: invalid value encountered in divide\n",
      "  m = np.sum(edges * num, axis=0) / s\n"
     ]
    },
    {
     "name": "stdout",
     "output_type": "stream",
     "text": [
      "{'name': 'im1095_11.0.jpg', 'x': 11.0}\n"
     ]
    },
    {
     "name": "stderr",
     "output_type": "stream",
     "text": [
      "C:\\Users\\ariva\\AppData\\Local\\Temp\\ipykernel_9012\\2437975524.py:10: RuntimeWarning: invalid value encountered in divide\n",
      "  m = np.sum(edges * num, axis=0) / s\n"
     ]
    },
    {
     "name": "stdout",
     "output_type": "stream",
     "text": [
      "{'name': 'im1095_11.5.jpg', 'x': 11.5}\n"
     ]
    },
    {
     "name": "stderr",
     "output_type": "stream",
     "text": [
      "C:\\Users\\ariva\\AppData\\Local\\Temp\\ipykernel_9012\\2437975524.py:10: RuntimeWarning: invalid value encountered in divide\n",
      "  m = np.sum(edges * num, axis=0) / s\n"
     ]
    },
    {
     "name": "stdout",
     "output_type": "stream",
     "text": [
      "{'name': 'im1095_12.0.jpg', 'x': 12.0}\n"
     ]
    },
    {
     "name": "stderr",
     "output_type": "stream",
     "text": [
      "C:\\Users\\ariva\\AppData\\Local\\Temp\\ipykernel_9012\\2437975524.py:10: RuntimeWarning: invalid value encountered in divide\n",
      "  m = np.sum(edges * num, axis=0) / s\n"
     ]
    },
    {
     "name": "stdout",
     "output_type": "stream",
     "text": [
      "{'name': 'im1095_12.5.jpg', 'x': 12.5}\n"
     ]
    },
    {
     "name": "stderr",
     "output_type": "stream",
     "text": [
      "C:\\Users\\ariva\\AppData\\Local\\Temp\\ipykernel_9012\\2437975524.py:10: RuntimeWarning: invalid value encountered in divide\n",
      "  m = np.sum(edges * num, axis=0) / s\n"
     ]
    },
    {
     "name": "stdout",
     "output_type": "stream",
     "text": [
      "{'name': 'im1095_13.0.jpg', 'x': 13.0}\n"
     ]
    },
    {
     "name": "stderr",
     "output_type": "stream",
     "text": [
      "C:\\Users\\ariva\\AppData\\Local\\Temp\\ipykernel_9012\\2437975524.py:10: RuntimeWarning: invalid value encountered in divide\n",
      "  m = np.sum(edges * num, axis=0) / s\n"
     ]
    },
    {
     "name": "stdout",
     "output_type": "stream",
     "text": [
      "{'name': 'im1095_13.5.jpg', 'x': 13.5}\n"
     ]
    },
    {
     "name": "stderr",
     "output_type": "stream",
     "text": [
      "C:\\Users\\ariva\\AppData\\Local\\Temp\\ipykernel_9012\\2437975524.py:10: RuntimeWarning: invalid value encountered in divide\n",
      "  m = np.sum(edges * num, axis=0) / s\n"
     ]
    },
    {
     "name": "stdout",
     "output_type": "stream",
     "text": [
      "{'name': 'im1095_14.0.jpg', 'x': 14.0}\n"
     ]
    },
    {
     "name": "stderr",
     "output_type": "stream",
     "text": [
      "C:\\Users\\ariva\\AppData\\Local\\Temp\\ipykernel_9012\\2437975524.py:10: RuntimeWarning: invalid value encountered in divide\n",
      "  m = np.sum(edges * num, axis=0) / s\n"
     ]
    },
    {
     "name": "stdout",
     "output_type": "stream",
     "text": [
      "{'name': 'im1095_14.5.jpg', 'x': 14.5}\n"
     ]
    },
    {
     "name": "stderr",
     "output_type": "stream",
     "text": [
      "C:\\Users\\ariva\\AppData\\Local\\Temp\\ipykernel_9012\\2437975524.py:10: RuntimeWarning: invalid value encountered in divide\n",
      "  m = np.sum(edges * num, axis=0) / s\n"
     ]
    },
    {
     "name": "stdout",
     "output_type": "stream",
     "text": [
      "{'name': 'im1095_15.0.jpg', 'x': 15.0}\n"
     ]
    },
    {
     "name": "stderr",
     "output_type": "stream",
     "text": [
      "C:\\Users\\ariva\\AppData\\Local\\Temp\\ipykernel_9012\\2437975524.py:10: RuntimeWarning: invalid value encountered in divide\n",
      "  m = np.sum(edges * num, axis=0) / s\n"
     ]
    },
    {
     "name": "stdout",
     "output_type": "stream",
     "text": [
      "{'name': 'im1095_15.5.jpg', 'x': 15.5}\n"
     ]
    },
    {
     "name": "stderr",
     "output_type": "stream",
     "text": [
      "C:\\Users\\ariva\\AppData\\Local\\Temp\\ipykernel_9012\\2437975524.py:10: RuntimeWarning: invalid value encountered in divide\n",
      "  m = np.sum(edges * num, axis=0) / s\n"
     ]
    },
    {
     "name": "stdout",
     "output_type": "stream",
     "text": [
      "{'name': 'im1095_16.0.jpg', 'x': 16.0}\n"
     ]
    },
    {
     "name": "stderr",
     "output_type": "stream",
     "text": [
      "C:\\Users\\ariva\\AppData\\Local\\Temp\\ipykernel_9012\\2437975524.py:10: RuntimeWarning: invalid value encountered in divide\n",
      "  m = np.sum(edges * num, axis=0) / s\n"
     ]
    },
    {
     "name": "stdout",
     "output_type": "stream",
     "text": [
      "{'name': 'im1095_16.5.jpg', 'x': 16.5}\n"
     ]
    },
    {
     "name": "stderr",
     "output_type": "stream",
     "text": [
      "C:\\Users\\ariva\\AppData\\Local\\Temp\\ipykernel_9012\\2437975524.py:10: RuntimeWarning: invalid value encountered in divide\n",
      "  m = np.sum(edges * num, axis=0) / s\n"
     ]
    },
    {
     "name": "stdout",
     "output_type": "stream",
     "text": [
      "{'name': 'im1095_17.0.jpg', 'x': 17.0}\n"
     ]
    },
    {
     "name": "stderr",
     "output_type": "stream",
     "text": [
      "C:\\Users\\ariva\\AppData\\Local\\Temp\\ipykernel_9012\\2437975524.py:10: RuntimeWarning: invalid value encountered in divide\n",
      "  m = np.sum(edges * num, axis=0) / s\n"
     ]
    },
    {
     "name": "stdout",
     "output_type": "stream",
     "text": [
      "{'name': 'im1095_17.5.jpg', 'x': 17.5}\n"
     ]
    },
    {
     "name": "stderr",
     "output_type": "stream",
     "text": [
      "C:\\Users\\ariva\\AppData\\Local\\Temp\\ipykernel_9012\\2437975524.py:10: RuntimeWarning: invalid value encountered in divide\n",
      "  m = np.sum(edges * num, axis=0) / s\n"
     ]
    },
    {
     "name": "stdout",
     "output_type": "stream",
     "text": [
      "{'name': 'im1095_18.0.jpg', 'x': 18.0}\n"
     ]
    },
    {
     "name": "stderr",
     "output_type": "stream",
     "text": [
      "C:\\Users\\ariva\\AppData\\Local\\Temp\\ipykernel_9012\\2437975524.py:10: RuntimeWarning: invalid value encountered in divide\n",
      "  m = np.sum(edges * num, axis=0) / s\n"
     ]
    },
    {
     "name": "stdout",
     "output_type": "stream",
     "text": [
      "{'name': 'im1095_18.5.jpg', 'x': 18.5}\n"
     ]
    },
    {
     "name": "stderr",
     "output_type": "stream",
     "text": [
      "C:\\Users\\ariva\\AppData\\Local\\Temp\\ipykernel_9012\\2437975524.py:10: RuntimeWarning: invalid value encountered in divide\n",
      "  m = np.sum(edges * num, axis=0) / s\n"
     ]
    },
    {
     "name": "stdout",
     "output_type": "stream",
     "text": [
      "{'name': 'im1095_19.0.jpg', 'x': 19.0}\n"
     ]
    },
    {
     "name": "stderr",
     "output_type": "stream",
     "text": [
      "C:\\Users\\ariva\\AppData\\Local\\Temp\\ipykernel_9012\\2437975524.py:10: RuntimeWarning: invalid value encountered in divide\n",
      "  m = np.sum(edges * num, axis=0) / s\n"
     ]
    },
    {
     "name": "stdout",
     "output_type": "stream",
     "text": [
      "{'name': 'im1095_19.5.jpg', 'x': 19.5}\n"
     ]
    },
    {
     "name": "stderr",
     "output_type": "stream",
     "text": [
      "C:\\Users\\ariva\\AppData\\Local\\Temp\\ipykernel_9012\\2437975524.py:10: RuntimeWarning: invalid value encountered in divide\n",
      "  m = np.sum(edges * num, axis=0) / s\n"
     ]
    },
    {
     "name": "stdout",
     "output_type": "stream",
     "text": [
      "{'name': 'im1095_20.0.jpg', 'x': 20.0}\n"
     ]
    },
    {
     "name": "stderr",
     "output_type": "stream",
     "text": [
      "C:\\Users\\ariva\\AppData\\Local\\Temp\\ipykernel_9012\\2437975524.py:10: RuntimeWarning: invalid value encountered in divide\n",
      "  m = np.sum(edges * num, axis=0) / s\n"
     ]
    },
    {
     "name": "stdout",
     "output_type": "stream",
     "text": [
      "{'name': 'im1095_20.5.jpg', 'x': 20.5}\n"
     ]
    },
    {
     "name": "stderr",
     "output_type": "stream",
     "text": [
      "C:\\Users\\ariva\\AppData\\Local\\Temp\\ipykernel_9012\\2437975524.py:10: RuntimeWarning: invalid value encountered in divide\n",
      "  m = np.sum(edges * num, axis=0) / s\n"
     ]
    },
    {
     "name": "stdout",
     "output_type": "stream",
     "text": [
      "{'name': 'im1095_21.0.jpg', 'x': 21.0}\n"
     ]
    },
    {
     "name": "stderr",
     "output_type": "stream",
     "text": [
      "C:\\Users\\ariva\\AppData\\Local\\Temp\\ipykernel_9012\\2437975524.py:10: RuntimeWarning: invalid value encountered in divide\n",
      "  m = np.sum(edges * num, axis=0) / s\n"
     ]
    },
    {
     "name": "stdout",
     "output_type": "stream",
     "text": [
      "{'name': 'im1095_21.5.jpg', 'x': 21.5}\n"
     ]
    },
    {
     "name": "stderr",
     "output_type": "stream",
     "text": [
      "C:\\Users\\ariva\\AppData\\Local\\Temp\\ipykernel_9012\\2437975524.py:10: RuntimeWarning: invalid value encountered in divide\n",
      "  m = np.sum(edges * num, axis=0) / s\n"
     ]
    },
    {
     "name": "stdout",
     "output_type": "stream",
     "text": [
      "{'name': 'im1095_22.0.jpg', 'x': 22.0}\n"
     ]
    },
    {
     "name": "stderr",
     "output_type": "stream",
     "text": [
      "C:\\Users\\ariva\\AppData\\Local\\Temp\\ipykernel_9012\\2437975524.py:10: RuntimeWarning: invalid value encountered in divide\n",
      "  m = np.sum(edges * num, axis=0) / s\n"
     ]
    },
    {
     "name": "stdout",
     "output_type": "stream",
     "text": [
      "{'name': 'im1095_22.5.jpg', 'x': 22.5}\n"
     ]
    },
    {
     "name": "stderr",
     "output_type": "stream",
     "text": [
      "C:\\Users\\ariva\\AppData\\Local\\Temp\\ipykernel_9012\\2437975524.py:10: RuntimeWarning: invalid value encountered in divide\n",
      "  m = np.sum(edges * num, axis=0) / s\n"
     ]
    },
    {
     "name": "stdout",
     "output_type": "stream",
     "text": [
      "{'name': 'im1095_23.0.jpg', 'x': 23.0}\n"
     ]
    },
    {
     "name": "stderr",
     "output_type": "stream",
     "text": [
      "C:\\Users\\ariva\\AppData\\Local\\Temp\\ipykernel_9012\\2437975524.py:10: RuntimeWarning: invalid value encountered in divide\n",
      "  m = np.sum(edges * num, axis=0) / s\n"
     ]
    },
    {
     "name": "stdout",
     "output_type": "stream",
     "text": [
      "{'name': 'im1095_23.5.jpg', 'x': 23.5}\n"
     ]
    },
    {
     "name": "stderr",
     "output_type": "stream",
     "text": [
      "C:\\Users\\ariva\\AppData\\Local\\Temp\\ipykernel_9012\\2437975524.py:10: RuntimeWarning: invalid value encountered in divide\n",
      "  m = np.sum(edges * num, axis=0) / s\n"
     ]
    },
    {
     "name": "stdout",
     "output_type": "stream",
     "text": [
      "{'name': 'im1095_24.0.jpg', 'x': 24.0}\n"
     ]
    },
    {
     "name": "stderr",
     "output_type": "stream",
     "text": [
      "C:\\Users\\ariva\\AppData\\Local\\Temp\\ipykernel_9012\\2437975524.py:10: RuntimeWarning: invalid value encountered in divide\n",
      "  m = np.sum(edges * num, axis=0) / s\n"
     ]
    },
    {
     "name": "stdout",
     "output_type": "stream",
     "text": [
      "{'name': 'im1095_24.5.jpg', 'x': 24.5}\n"
     ]
    },
    {
     "name": "stderr",
     "output_type": "stream",
     "text": [
      "C:\\Users\\ariva\\AppData\\Local\\Temp\\ipykernel_9012\\2437975524.py:10: RuntimeWarning: invalid value encountered in divide\n",
      "  m = np.sum(edges * num, axis=0) / s\n"
     ]
    },
    {
     "name": "stdout",
     "output_type": "stream",
     "text": [
      "{'name': 'im1095_25.0.jpg', 'x': 25.0}\n"
     ]
    },
    {
     "name": "stderr",
     "output_type": "stream",
     "text": [
      "C:\\Users\\ariva\\AppData\\Local\\Temp\\ipykernel_9012\\2437975524.py:10: RuntimeWarning: invalid value encountered in divide\n",
      "  m = np.sum(edges * num, axis=0) / s\n"
     ]
    },
    {
     "name": "stdout",
     "output_type": "stream",
     "text": [
      "{'name': 'im1095_25.5.jpg', 'x': 25.5}\n"
     ]
    },
    {
     "name": "stderr",
     "output_type": "stream",
     "text": [
      "C:\\Users\\ariva\\AppData\\Local\\Temp\\ipykernel_9012\\2437975524.py:10: RuntimeWarning: invalid value encountered in divide\n",
      "  m = np.sum(edges * num, axis=0) / s\n"
     ]
    },
    {
     "name": "stdout",
     "output_type": "stream",
     "text": [
      "{'name': 'im1095_26.0.jpg', 'x': 26.0}\n"
     ]
    },
    {
     "name": "stderr",
     "output_type": "stream",
     "text": [
      "C:\\Users\\ariva\\AppData\\Local\\Temp\\ipykernel_9012\\2437975524.py:10: RuntimeWarning: invalid value encountered in divide\n",
      "  m = np.sum(edges * num, axis=0) / s\n"
     ]
    },
    {
     "name": "stdout",
     "output_type": "stream",
     "text": [
      "{'name': 'im1095_26.5.jpg', 'x': 26.5}\n"
     ]
    },
    {
     "name": "stderr",
     "output_type": "stream",
     "text": [
      "C:\\Users\\ariva\\AppData\\Local\\Temp\\ipykernel_9012\\2437975524.py:10: RuntimeWarning: invalid value encountered in divide\n",
      "  m = np.sum(edges * num, axis=0) / s\n"
     ]
    },
    {
     "name": "stdout",
     "output_type": "stream",
     "text": [
      "{'name': 'im1095_27.0.jpg', 'x': 27.0}\n"
     ]
    },
    {
     "name": "stderr",
     "output_type": "stream",
     "text": [
      "C:\\Users\\ariva\\AppData\\Local\\Temp\\ipykernel_9012\\2437975524.py:10: RuntimeWarning: invalid value encountered in divide\n",
      "  m = np.sum(edges * num, axis=0) / s\n"
     ]
    },
    {
     "name": "stdout",
     "output_type": "stream",
     "text": [
      "{'name': 'im1095_27.5.jpg', 'x': 27.5}\n"
     ]
    },
    {
     "name": "stderr",
     "output_type": "stream",
     "text": [
      "C:\\Users\\ariva\\AppData\\Local\\Temp\\ipykernel_9012\\2437975524.py:10: RuntimeWarning: invalid value encountered in divide\n",
      "  m = np.sum(edges * num, axis=0) / s\n"
     ]
    },
    {
     "name": "stdout",
     "output_type": "stream",
     "text": [
      "{'name': 'im1095_28.0.jpg', 'x': 28.0}\n"
     ]
    },
    {
     "name": "stderr",
     "output_type": "stream",
     "text": [
      "C:\\Users\\ariva\\AppData\\Local\\Temp\\ipykernel_9012\\2437975524.py:10: RuntimeWarning: invalid value encountered in divide\n",
      "  m = np.sum(edges * num, axis=0) / s\n"
     ]
    },
    {
     "name": "stdout",
     "output_type": "stream",
     "text": [
      "{'name': 'im1095_28.5.jpg', 'x': 28.5}\n"
     ]
    },
    {
     "name": "stderr",
     "output_type": "stream",
     "text": [
      "C:\\Users\\ariva\\AppData\\Local\\Temp\\ipykernel_9012\\2437975524.py:10: RuntimeWarning: invalid value encountered in divide\n",
      "  m = np.sum(edges * num, axis=0) / s\n"
     ]
    },
    {
     "name": "stdout",
     "output_type": "stream",
     "text": [
      "{'name': 'im1095_29.0.jpg', 'x': 29.0}\n"
     ]
    },
    {
     "name": "stderr",
     "output_type": "stream",
     "text": [
      "C:\\Users\\ariva\\AppData\\Local\\Temp\\ipykernel_9012\\2437975524.py:10: RuntimeWarning: invalid value encountered in divide\n",
      "  m = np.sum(edges * num, axis=0) / s\n"
     ]
    },
    {
     "name": "stdout",
     "output_type": "stream",
     "text": [
      "{'name': 'im1095_29.5.jpg', 'x': 29.5}\n"
     ]
    },
    {
     "name": "stderr",
     "output_type": "stream",
     "text": [
      "C:\\Users\\ariva\\AppData\\Local\\Temp\\ipykernel_9012\\2437975524.py:10: RuntimeWarning: invalid value encountered in divide\n",
      "  m = np.sum(edges * num, axis=0) / s\n"
     ]
    },
    {
     "name": "stdout",
     "output_type": "stream",
     "text": [
      "{'name': 'im1095_30.0.jpg', 'x': 30.0}\n"
     ]
    },
    {
     "name": "stderr",
     "output_type": "stream",
     "text": [
      "C:\\Users\\ariva\\AppData\\Local\\Temp\\ipykernel_9012\\2437975524.py:10: RuntimeWarning: invalid value encountered in divide\n",
      "  m = np.sum(edges * num, axis=0) / s\n"
     ]
    },
    {
     "name": "stdout",
     "output_type": "stream",
     "text": [
      "{'name': 'im1095_30.5.jpg', 'x': 30.5}\n"
     ]
    },
    {
     "name": "stderr",
     "output_type": "stream",
     "text": [
      "C:\\Users\\ariva\\AppData\\Local\\Temp\\ipykernel_9012\\2437975524.py:10: RuntimeWarning: invalid value encountered in divide\n",
      "  m = np.sum(edges * num, axis=0) / s\n"
     ]
    },
    {
     "name": "stdout",
     "output_type": "stream",
     "text": [
      "{'name': 'im1095_31.0.jpg', 'x': 31.0}\n"
     ]
    },
    {
     "name": "stderr",
     "output_type": "stream",
     "text": [
      "C:\\Users\\ariva\\AppData\\Local\\Temp\\ipykernel_9012\\2437975524.py:10: RuntimeWarning: invalid value encountered in divide\n",
      "  m = np.sum(edges * num, axis=0) / s\n"
     ]
    },
    {
     "name": "stdout",
     "output_type": "stream",
     "text": [
      "{'name': 'im1095_31.5.jpg', 'x': 31.5}\n"
     ]
    },
    {
     "name": "stderr",
     "output_type": "stream",
     "text": [
      "C:\\Users\\ariva\\AppData\\Local\\Temp\\ipykernel_9012\\2437975524.py:10: RuntimeWarning: invalid value encountered in divide\n",
      "  m = np.sum(edges * num, axis=0) / s\n"
     ]
    },
    {
     "name": "stdout",
     "output_type": "stream",
     "text": [
      "{'name': 'im1095_32.0.jpg', 'x': 32.0}\n"
     ]
    },
    {
     "name": "stderr",
     "output_type": "stream",
     "text": [
      "C:\\Users\\ariva\\AppData\\Local\\Temp\\ipykernel_9012\\2437975524.py:10: RuntimeWarning: invalid value encountered in divide\n",
      "  m = np.sum(edges * num, axis=0) / s\n"
     ]
    },
    {
     "name": "stdout",
     "output_type": "stream",
     "text": [
      "{'name': 'im1095_32.5.jpg', 'x': 32.5}\n"
     ]
    },
    {
     "name": "stderr",
     "output_type": "stream",
     "text": [
      "C:\\Users\\ariva\\AppData\\Local\\Temp\\ipykernel_9012\\2437975524.py:10: RuntimeWarning: invalid value encountered in divide\n",
      "  m = np.sum(edges * num, axis=0) / s\n"
     ]
    },
    {
     "name": "stdout",
     "output_type": "stream",
     "text": [
      "{'name': 'im1095_33.0.jpg', 'x': 33.0}\n"
     ]
    },
    {
     "name": "stderr",
     "output_type": "stream",
     "text": [
      "C:\\Users\\ariva\\AppData\\Local\\Temp\\ipykernel_9012\\2437975524.py:10: RuntimeWarning: invalid value encountered in divide\n",
      "  m = np.sum(edges * num, axis=0) / s\n"
     ]
    },
    {
     "name": "stdout",
     "output_type": "stream",
     "text": [
      "{'name': 'im1095_33.5.jpg', 'x': 33.5}\n"
     ]
    },
    {
     "name": "stderr",
     "output_type": "stream",
     "text": [
      "C:\\Users\\ariva\\AppData\\Local\\Temp\\ipykernel_9012\\2437975524.py:10: RuntimeWarning: invalid value encountered in divide\n",
      "  m = np.sum(edges * num, axis=0) / s\n"
     ]
    },
    {
     "name": "stdout",
     "output_type": "stream",
     "text": [
      "{'name': 'im1095_34.0.jpg', 'x': 34.0}\n"
     ]
    },
    {
     "name": "stderr",
     "output_type": "stream",
     "text": [
      "C:\\Users\\ariva\\AppData\\Local\\Temp\\ipykernel_9012\\2437975524.py:10: RuntimeWarning: invalid value encountered in divide\n",
      "  m = np.sum(edges * num, axis=0) / s\n"
     ]
    },
    {
     "name": "stdout",
     "output_type": "stream",
     "text": [
      "{'name': 'im1095_34.5.jpg', 'x': 34.5}\n"
     ]
    },
    {
     "name": "stderr",
     "output_type": "stream",
     "text": [
      "C:\\Users\\ariva\\AppData\\Local\\Temp\\ipykernel_9012\\2437975524.py:10: RuntimeWarning: invalid value encountered in divide\n",
      "  m = np.sum(edges * num, axis=0) / s\n"
     ]
    },
    {
     "name": "stdout",
     "output_type": "stream",
     "text": [
      "{'name': 'im1095_35.0.jpg', 'x': 35.0}\n"
     ]
    },
    {
     "name": "stderr",
     "output_type": "stream",
     "text": [
      "C:\\Users\\ariva\\AppData\\Local\\Temp\\ipykernel_9012\\2437975524.py:10: RuntimeWarning: invalid value encountered in divide\n",
      "  m = np.sum(edges * num, axis=0) / s\n"
     ]
    },
    {
     "name": "stdout",
     "output_type": "stream",
     "text": [
      "{'name': 'im1095_35.5.jpg', 'x': 35.5}\n",
      "{'name': 'im1095_36.0.jpg', 'x': 36.0}\n",
      "{'name': 'im1095_36.5.jpg', 'x': 36.5}\n",
      "{'name': 'im1095_37.0.jpg', 'x': 37.0}\n",
      "{'name': 'im1095_37.5.jpg', 'x': 37.5}\n",
      "{'name': 'im1095_38.0.jpg', 'x': 38.0}\n",
      "{'name': 'im1095_38.5.jpg', 'x': 38.5}\n",
      "{'name': 'im1095_39.0.jpg', 'x': 39.0}\n",
      "{'name': 'im1095_39.5.jpg', 'x': 39.5}\n"
     ]
    }
   ],
   "source": [
    "plots = []\n",
    "x = []\n",
    "y = []\n",
    "for file in notebook.tqdm(files[0:]):\n",
    "    if True:\n",
    "        print(file)\n",
    "        x.append(file['x'])\n",
    "        res, p = count_foto(dir, file['name'])\n",
    "        y.append(res)\n",
    "        plots.append(p)\n"
   ]
  },
  {
   "cell_type": "code",
   "execution_count": 9,
   "metadata": {
    "scrolled": false
   },
   "outputs": [
    {
     "data": {
      "text/html": [
       "\n",
       "  <div class=\"bk-root\" id=\"deb4db79-edeb-4e1f-b3f5-425408e9fb2e\" data-root-id=\"31483\"></div>\n"
      ]
     },
     "metadata": {},
     "output_type": "display_data"
    },
    {
     "data": {
      "application/javascript": [
       "(function(root) {\n",
       "  function embed_document(root) {\n",
       "  const docs_json = {\"87f1697b-9af5-4577-9642-64dd53e39438\":{\"defs\":[],\"roots\":{\"references\":[{\"attributes\":{\"below\":[{\"id\":\"31492\"}],\"center\":[{\"id\":\"31495\"},{\"id\":\"31499\"}],\"left\":[{\"id\":\"31496\"}],\"renderers\":[{\"id\":\"31518\"}],\"title\":{\"id\":\"31520\"},\"toolbar\":{\"id\":\"31507\"},\"width\":800,\"x_range\":{\"id\":\"31484\"},\"x_scale\":{\"id\":\"31488\"},\"y_range\":{\"id\":\"31486\"},\"y_scale\":{\"id\":\"31490\"}},\"id\":\"31483\",\"subtype\":\"Figure\",\"type\":\"Plot\"},{\"attributes\":{\"line_alpha\":0.1,\"line_color\":\"#1f77b4\",\"x\":{\"field\":\"x\"},\"y\":{\"field\":\"y\"}},\"id\":\"31516\",\"type\":\"Line\"},{\"attributes\":{},\"id\":\"31524\",\"type\":\"AllLabels\"},{\"attributes\":{\"line_alpha\":0.2,\"line_color\":\"#1f77b4\",\"x\":{\"field\":\"x\"},\"y\":{\"field\":\"y\"}},\"id\":\"31517\",\"type\":\"Line\"},{\"attributes\":{\"axis\":{\"id\":\"31492\"},\"coordinates\":null,\"group\":null,\"ticker\":null},\"id\":\"31495\",\"type\":\"Grid\"},{\"attributes\":{\"coordinates\":null,\"data_source\":{\"id\":\"31514\"},\"glyph\":{\"id\":\"31515\"},\"group\":null,\"hover_glyph\":null,\"muted_glyph\":{\"id\":\"31517\"},\"nonselection_glyph\":{\"id\":\"31516\"},\"view\":{\"id\":\"31519\"}},\"id\":\"31518\",\"type\":\"GlyphRenderer\"},{\"attributes\":{\"data\":{\"x\":[0.0,0.5,1.0,1.5,2.0,2.5,3.0,3.5,4.0,4.5,5.0,5.5,6.0,6.5,7.0,7.5,8.0,8.5,9.0,9.5,10.0,10.5,11.0,11.5,12.0,12.5,13.0,13.5,14.0,14.5,15.0,15.5,16.0,16.5,17.0,17.5,18.0,18.5,19.0,19.5,20.0,20.5,21.0,21.5,22.0,22.5,23.0,23.5,24.0,24.5,25.0,25.5,26.0,26.5,27.0,27.5,28.0,28.5,29.0,29.5,30.0,30.5,31.0,31.5,32.0,32.5,33.0,33.5,34.0,34.5,35.0,35.5,36.0,36.5,37.0,37.5,38.0,38.5,39.0,39.5],\"y\":{\"__ndarray__\":\"0aJXtkx3XkDm7yVhvzleQEqw9TVJqV1AevXidLQGXUBBXnfcqvhbQOCjxQN+3lpAmJyVlPmiWECjQ34tjxpWQKEl4s/Mm1RA4Outy2fvUUCJEGIbvkBQQN5xnd0edU9ABNJ9vM2QTkDsiegyb/5NQELgblkzCU9AXFPOwNL9T0BLiWSYy+VQQHrk0N2ePFBA0unqMMPsT0BudjUSXlFPQPULB1R4eE5A0IpRtdzyTUAZAcDNj6hMQEiyS33WfUtAkFg90se4SkAhQ257BV5KQLpT+85DckpAbfmomdfDSkBPn7cx50hKQDWEk1iyT0pAR+qOxdQESkC4y23g6p5JQNDt6qn2wEpAZUP8rY0KSkBvqGmkR5dKQDzi9XpEbUpAkIuvecHtSkDQkvzIeB5LQIIC/v1x3UpAFcZ/mLWaR0Abn0Lig65KQHDro8xfq0tAD7DVo61ITED5Ik0scXdMQGj3aOYn50xAzmkcAmGSTUAjSe/3hmlNQG4dgzljAE5AuBqaFyFeTkA9emHNbclNQB8+ZafyeE1Ac4H/wVKQTUC7zJGCB6RMQERCsC5aFExAm2lfP5ARS0AVB/EDzHVKQOPv9u6KTkpAHZVolhhtSUBBlW8aghxJQEtsU7BdgUhArZNlMagySEAPIFjWfzJIQOm0GkkTJ0hAxazyGC1NSEC14m+FsbJIQExytM3EyklAPiVkeIE/S0AtybntQLdMQFsR5olkXE5ASsFxrQNdUkDT69bPlyxUQKN+iFsU+VVAuKvc6Ym0WEAxHD9zu6taQMmSiKwSvVtAD7/U3nb6XEDz7XGBRwleQNcAChMbTl5AzlzLEY43XkCOVD4oXGVeQA==\",\"dtype\":\"float64\",\"order\":\"little\",\"shape\":[80]}},\"selected\":{\"id\":\"31529\"},\"selection_policy\":{\"id\":\"31528\"}},\"id\":\"31514\",\"type\":\"ColumnDataSource\"},{\"attributes\":{},\"id\":\"31526\",\"type\":\"BasicTickFormatter\"},{\"attributes\":{\"source\":{\"id\":\"31514\"}},\"id\":\"31519\",\"type\":\"CDSView\"},{\"attributes\":{},\"id\":\"31527\",\"type\":\"AllLabels\"},{\"attributes\":{},\"id\":\"31505\",\"type\":\"HelpTool\"},{\"attributes\":{},\"id\":\"31497\",\"type\":\"BasicTicker\"},{\"attributes\":{\"coordinates\":null,\"group\":null},\"id\":\"31520\",\"type\":\"Title\"},{\"attributes\":{},\"id\":\"31504\",\"type\":\"ResetTool\"},{\"attributes\":{\"bottom_units\":\"screen\",\"coordinates\":null,\"fill_alpha\":0.5,\"fill_color\":\"lightgrey\",\"group\":null,\"left_units\":\"screen\",\"level\":\"overlay\",\"line_alpha\":1.0,\"line_color\":\"black\",\"line_dash\":[4,4],\"line_width\":2,\"right_units\":\"screen\",\"syncable\":false,\"top_units\":\"screen\"},\"id\":\"31506\",\"type\":\"BoxAnnotation\"},{\"attributes\":{},\"id\":\"31528\",\"type\":\"UnionRenderers\"},{\"attributes\":{},\"id\":\"31493\",\"type\":\"BasicTicker\"},{\"attributes\":{\"tools\":[{\"id\":\"31500\"},{\"id\":\"31501\"},{\"id\":\"31502\"},{\"id\":\"31503\"},{\"id\":\"31504\"},{\"id\":\"31505\"}]},\"id\":\"31507\",\"type\":\"Toolbar\"},{\"attributes\":{\"overlay\":{\"id\":\"31506\"}},\"id\":\"31502\",\"type\":\"BoxZoomTool\"},{\"attributes\":{},\"id\":\"31500\",\"type\":\"PanTool\"},{\"attributes\":{},\"id\":\"31523\",\"type\":\"BasicTickFormatter\"},{\"attributes\":{},\"id\":\"31488\",\"type\":\"LinearScale\"},{\"attributes\":{\"coordinates\":null,\"formatter\":{\"id\":\"31526\"},\"group\":null,\"major_label_policy\":{\"id\":\"31527\"},\"ticker\":{\"id\":\"31493\"}},\"id\":\"31492\",\"type\":\"LinearAxis\"},{\"attributes\":{},\"id\":\"31503\",\"type\":\"SaveTool\"},{\"attributes\":{},\"id\":\"31501\",\"type\":\"WheelZoomTool\"},{\"attributes\":{},\"id\":\"31529\",\"type\":\"Selection\"},{\"attributes\":{\"line_color\":\"#1f77b4\",\"x\":{\"field\":\"x\"},\"y\":{\"field\":\"y\"}},\"id\":\"31515\",\"type\":\"Line\"},{\"attributes\":{\"axis\":{\"id\":\"31496\"},\"coordinates\":null,\"dimension\":1,\"group\":null,\"ticker\":null},\"id\":\"31499\",\"type\":\"Grid\"},{\"attributes\":{},\"id\":\"31486\",\"type\":\"DataRange1d\"},{\"attributes\":{\"coordinates\":null,\"formatter\":{\"id\":\"31523\"},\"group\":null,\"major_label_policy\":{\"id\":\"31524\"},\"ticker\":{\"id\":\"31497\"}},\"id\":\"31496\",\"type\":\"LinearAxis\"},{\"attributes\":{},\"id\":\"31484\",\"type\":\"DataRange1d\"},{\"attributes\":{},\"id\":\"31490\",\"type\":\"LinearScale\"}],\"root_ids\":[\"31483\"]},\"title\":\"Bokeh Application\",\"version\":\"2.4.3\"}};\n",
       "  const render_items = [{\"docid\":\"87f1697b-9af5-4577-9642-64dd53e39438\",\"root_ids\":[\"31483\"],\"roots\":{\"31483\":\"deb4db79-edeb-4e1f-b3f5-425408e9fb2e\"}}];\n",
       "  root.Bokeh.embed.embed_items_notebook(docs_json, render_items);\n",
       "  }\n",
       "  if (root.Bokeh !== undefined) {\n",
       "    embed_document(root);\n",
       "  } else {\n",
       "    let attempts = 0;\n",
       "    const timer = setInterval(function(root) {\n",
       "      if (root.Bokeh !== undefined) {\n",
       "        clearInterval(timer);\n",
       "        embed_document(root);\n",
       "      } else {\n",
       "        attempts++;\n",
       "        if (attempts > 100) {\n",
       "          clearInterval(timer);\n",
       "          console.log(\"Bokeh: ERROR: Unable to run BokehJS code because BokehJS library is missing\");\n",
       "        }\n",
       "      }\n",
       "    }, 10, root)\n",
       "  }\n",
       "})(window);"
      ],
      "application/vnd.bokehjs_exec.v0+json": ""
     },
     "metadata": {
      "application/vnd.bokehjs_exec.v0+json": {
       "id": "31483"
      }
     },
     "output_type": "display_data"
    }
   ],
   "source": [
    "sh = figure(height=600, width=800)\n",
    "sh.line(x, np.array(y) * kq)#, size=15)\n",
    "show(sh)"
   ]
  },
  {
   "cell_type": "code",
   "execution_count": 51,
   "metadata": {},
   "outputs": [
    {
     "data": {
      "text/plain": [
       "1.7321837398089046"
      ]
     },
     "execution_count": 51,
     "metadata": {},
     "output_type": "execute_result"
    }
   ],
   "source": [
    "125 / np.mean(y) "
   ]
  },
  {
   "cell_type": "code",
   "execution_count": 9,
   "metadata": {
    "scrolled": false
   },
   "outputs": [
    {
     "name": "stdout",
     "output_type": "stream",
     "text": [
      "0.5\n",
      "1.0\n",
      "1.5\n",
      "2.0\n",
      "2.5\n",
      "3.0\n",
      "3.5\n",
      "4.0\n",
      "4.5\n",
      "5.0\n",
      "5.5\n",
      "6.0\n",
      "6.5\n",
      "7.0\n",
      "7.5\n",
      "8.0\n",
      "8.5\n",
      "9.0\n",
      "9.5\n",
      "10.0\n",
      "10.5\n",
      "11.0\n",
      "11.5\n",
      "12.0\n",
      "12.5\n",
      "13.0\n",
      "13.5\n",
      "14.0\n",
      "14.5\n",
      "15.0\n",
      "15.5\n",
      "16.0\n",
      "16.5\n",
      "17.0\n",
      "17.5\n",
      "18.0\n",
      "18.5\n",
      "19.0\n",
      "19.5\n",
      "20.0\n",
      "20.5\n",
      "21.0\n",
      "21.5\n",
      "22.0\n",
      "22.5\n",
      "23.0\n",
      "23.5\n",
      "24.0\n",
      "24.5\n",
      "25.0\n",
      "25.5\n",
      "26.0\n",
      "26.5\n",
      "27.0\n",
      "27.5\n",
      "28.0\n",
      "28.5\n",
      "29.0\n",
      "29.5\n",
      "30.0\n",
      "30.5\n",
      "31.0\n",
      "31.5\n",
      "32.0\n",
      "32.5\n",
      "33.0\n",
      "33.5\n",
      "34.0\n",
      "34.5\n",
      "35.0\n",
      "35.5\n",
      "36.0\n",
      "36.5\n",
      "37.0\n",
      "37.5\n",
      "38.0\n",
      "38.5\n",
      "39.0\n",
      "39.5\n",
      "40.0\n",
      "40.5\n",
      "41.0\n",
      "41.5\n",
      "42.0\n",
      "42.5\n",
      "43.0\n",
      "43.5\n",
      "44.0\n",
      "44.5\n",
      "45.0\n",
      "45.5\n",
      "46.0\n",
      "46.5\n",
      "47.0\n",
      "47.5\n",
      "48.0\n",
      "48.5\n",
      "49.0\n",
      "49.5\n",
      "50.0\n",
      "50.5\n",
      "51.0\n",
      "51.5\n",
      "52.0\n",
      "52.5\n",
      "53.0\n",
      "53.5\n",
      "54.0\n",
      "54.5\n",
      "55.0\n",
      "55.5\n",
      "56.0\n",
      "56.5\n",
      "57.0\n",
      "57.5\n",
      "58.0\n",
      "58.5\n",
      "59.0\n",
      "59.5\n"
     ]
    }
   ],
   "source": [
    "path = f'testPic/res/{num}/'\n",
    "output_file(path + 'shape.html')\n",
    "save(sh)\n",
    "for i, coord in enumerate(x):\n",
    "    print(coord)\n",
    "    output_file(path + 'pic' + str(int(coord*10)) + '.html')\n",
    "    save(plots[i])"
   ]
  },
  {
   "cell_type": "code",
   "execution_count": 10,
   "metadata": {},
   "outputs": [],
   "source": [
    "np.savetxt(f'testPic/scans/{num}.csv', np.hstack((np.array(x)[:, np.newaxis], (np.array(y) * kq)[:, np.newaxis])))"
   ]
  },
  {
   "cell_type": "code",
   "execution_count": 11,
   "metadata": {},
   "outputs": [
    {
     "data": {
      "text/plain": [
       "43"
      ]
     },
     "execution_count": 11,
     "metadata": {},
     "output_type": "execute_result"
    }
   ],
   "source": [
    "len(y)"
   ]
  }
 ],
 "metadata": {
  "kernelspec": {
   "display_name": "Python 3 (ipykernel)",
   "language": "python",
   "name": "python3"
  },
  "language_info": {
   "codemirror_mode": {
    "name": "ipython",
    "version": 3
   },
   "file_extension": ".py",
   "mimetype": "text/x-python",
   "name": "python",
   "nbconvert_exporter": "python",
   "pygments_lexer": "ipython3",
   "version": "3.8.13"
  },
  "vscode": {
   "interpreter": {
    "hash": "4c4dde7fc75005db3f8744d9ce8aa479c71f0862f6a0da5973d658e460da696f"
   }
  }
 },
 "nbformat": 4,
 "nbformat_minor": 2
}
