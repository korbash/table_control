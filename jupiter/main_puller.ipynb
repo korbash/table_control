{
 "cells": [
  {
   "cell_type": "code",
   "execution_count": 1,
   "metadata": {},
   "outputs": [],
   "source": [
    "from sys import path\n",
    "path +=['..']"
   ]
  },
  {
   "cell_type": "code",
   "execution_count": 2,
   "metadata": {
    "pycharm": {
     "name": "#%%\n"
    }
   },
   "outputs": [
    {
     "data": {
      "text/html": [
       "<div class=\"bk-root\">\n",
       "        <a href=\"https://bokeh.org\" target=\"_blank\" class=\"bk-logo bk-logo-small bk-logo-notebook\"></a>\n",
       "        <span id=\"1002\">Loading BokehJS ...</span>\n",
       "    </div>\n"
      ]
     },
     "metadata": {},
     "output_type": "display_data"
    },
    {
     "data": {
      "application/javascript": [
       "(function(root) {\n",
       "  function now() {\n",
       "    return new Date();\n",
       "  }\n",
       "\n",
       "  const force = true;\n",
       "\n",
       "  if (typeof root._bokeh_onload_callbacks === \"undefined\" || force === true) {\n",
       "    root._bokeh_onload_callbacks = [];\n",
       "    root._bokeh_is_loading = undefined;\n",
       "  }\n",
       "\n",
       "const JS_MIME_TYPE = 'application/javascript';\n",
       "  const HTML_MIME_TYPE = 'text/html';\n",
       "  const EXEC_MIME_TYPE = 'application/vnd.bokehjs_exec.v0+json';\n",
       "  const CLASS_NAME = 'output_bokeh rendered_html';\n",
       "\n",
       "  /**\n",
       "   * Render data to the DOM node\n",
       "   */\n",
       "  function render(props, node) {\n",
       "    const script = document.createElement(\"script\");\n",
       "    node.appendChild(script);\n",
       "  }\n",
       "\n",
       "  /**\n",
       "   * Handle when an output is cleared or removed\n",
       "   */\n",
       "  function handleClearOutput(event, handle) {\n",
       "    const cell = handle.cell;\n",
       "\n",
       "    const id = cell.output_area._bokeh_element_id;\n",
       "    const server_id = cell.output_area._bokeh_server_id;\n",
       "    // Clean up Bokeh references\n",
       "    if (id != null && id in Bokeh.index) {\n",
       "      Bokeh.index[id].model.document.clear();\n",
       "      delete Bokeh.index[id];\n",
       "    }\n",
       "\n",
       "    if (server_id !== undefined) {\n",
       "      // Clean up Bokeh references\n",
       "      const cmd_clean = \"from bokeh.io.state import curstate; print(curstate().uuid_to_server['\" + server_id + \"'].get_sessions()[0].document.roots[0]._id)\";\n",
       "      cell.notebook.kernel.execute(cmd_clean, {\n",
       "        iopub: {\n",
       "          output: function(msg) {\n",
       "            const id = msg.content.text.trim();\n",
       "            if (id in Bokeh.index) {\n",
       "              Bokeh.index[id].model.document.clear();\n",
       "              delete Bokeh.index[id];\n",
       "            }\n",
       "          }\n",
       "        }\n",
       "      });\n",
       "      // Destroy server and session\n",
       "      const cmd_destroy = \"import bokeh.io.notebook as ion; ion.destroy_server('\" + server_id + \"')\";\n",
       "      cell.notebook.kernel.execute(cmd_destroy);\n",
       "    }\n",
       "  }\n",
       "\n",
       "  /**\n",
       "   * Handle when a new output is added\n",
       "   */\n",
       "  function handleAddOutput(event, handle) {\n",
       "    const output_area = handle.output_area;\n",
       "    const output = handle.output;\n",
       "\n",
       "    // limit handleAddOutput to display_data with EXEC_MIME_TYPE content only\n",
       "    if ((output.output_type != \"display_data\") || (!Object.prototype.hasOwnProperty.call(output.data, EXEC_MIME_TYPE))) {\n",
       "      return\n",
       "    }\n",
       "\n",
       "    const toinsert = output_area.element.find(\".\" + CLASS_NAME.split(' ')[0]);\n",
       "\n",
       "    if (output.metadata[EXEC_MIME_TYPE][\"id\"] !== undefined) {\n",
       "      toinsert[toinsert.length - 1].firstChild.textContent = output.data[JS_MIME_TYPE];\n",
       "      // store reference to embed id on output_area\n",
       "      output_area._bokeh_element_id = output.metadata[EXEC_MIME_TYPE][\"id\"];\n",
       "    }\n",
       "    if (output.metadata[EXEC_MIME_TYPE][\"server_id\"] !== undefined) {\n",
       "      const bk_div = document.createElement(\"div\");\n",
       "      bk_div.innerHTML = output.data[HTML_MIME_TYPE];\n",
       "      const script_attrs = bk_div.children[0].attributes;\n",
       "      for (let i = 0; i < script_attrs.length; i++) {\n",
       "        toinsert[toinsert.length - 1].firstChild.setAttribute(script_attrs[i].name, script_attrs[i].value);\n",
       "        toinsert[toinsert.length - 1].firstChild.textContent = bk_div.children[0].textContent\n",
       "      }\n",
       "      // store reference to server id on output_area\n",
       "      output_area._bokeh_server_id = output.metadata[EXEC_MIME_TYPE][\"server_id\"];\n",
       "    }\n",
       "  }\n",
       "\n",
       "  function register_renderer(events, OutputArea) {\n",
       "\n",
       "    function append_mime(data, metadata, element) {\n",
       "      // create a DOM node to render to\n",
       "      const toinsert = this.create_output_subarea(\n",
       "        metadata,\n",
       "        CLASS_NAME,\n",
       "        EXEC_MIME_TYPE\n",
       "      );\n",
       "      this.keyboard_manager.register_events(toinsert);\n",
       "      // Render to node\n",
       "      const props = {data: data, metadata: metadata[EXEC_MIME_TYPE]};\n",
       "      render(props, toinsert[toinsert.length - 1]);\n",
       "      element.append(toinsert);\n",
       "      return toinsert\n",
       "    }\n",
       "\n",
       "    /* Handle when an output is cleared or removed */\n",
       "    events.on('clear_output.CodeCell', handleClearOutput);\n",
       "    events.on('delete.Cell', handleClearOutput);\n",
       "\n",
       "    /* Handle when a new output is added */\n",
       "    events.on('output_added.OutputArea', handleAddOutput);\n",
       "\n",
       "    /**\n",
       "     * Register the mime type and append_mime function with output_area\n",
       "     */\n",
       "    OutputArea.prototype.register_mime_type(EXEC_MIME_TYPE, append_mime, {\n",
       "      /* Is output safe? */\n",
       "      safe: true,\n",
       "      /* Index of renderer in `output_area.display_order` */\n",
       "      index: 0\n",
       "    });\n",
       "  }\n",
       "\n",
       "  // register the mime type if in Jupyter Notebook environment and previously unregistered\n",
       "  if (root.Jupyter !== undefined) {\n",
       "    const events = require('base/js/events');\n",
       "    const OutputArea = require('notebook/js/outputarea').OutputArea;\n",
       "\n",
       "    if (OutputArea.prototype.mime_types().indexOf(EXEC_MIME_TYPE) == -1) {\n",
       "      register_renderer(events, OutputArea);\n",
       "    }\n",
       "  }\n",
       "  if (typeof (root._bokeh_timeout) === \"undefined\" || force === true) {\n",
       "    root._bokeh_timeout = Date.now() + 5000;\n",
       "    root._bokeh_failed_load = false;\n",
       "  }\n",
       "\n",
       "  const NB_LOAD_WARNING = {'data': {'text/html':\n",
       "     \"<div style='background-color: #fdd'>\\n\"+\n",
       "     \"<p>\\n\"+\n",
       "     \"BokehJS does not appear to have successfully loaded. If loading BokehJS from CDN, this \\n\"+\n",
       "     \"may be due to a slow or bad network connection. Possible fixes:\\n\"+\n",
       "     \"</p>\\n\"+\n",
       "     \"<ul>\\n\"+\n",
       "     \"<li>re-rerun `output_notebook()` to attempt to load from CDN again, or</li>\\n\"+\n",
       "     \"<li>use INLINE resources instead, as so:</li>\\n\"+\n",
       "     \"</ul>\\n\"+\n",
       "     \"<code>\\n\"+\n",
       "     \"from bokeh.resources import INLINE\\n\"+\n",
       "     \"output_notebook(resources=INLINE)\\n\"+\n",
       "     \"</code>\\n\"+\n",
       "     \"</div>\"}};\n",
       "\n",
       "  function display_loaded() {\n",
       "    const el = document.getElementById(\"1002\");\n",
       "    if (el != null) {\n",
       "      el.textContent = \"BokehJS is loading...\";\n",
       "    }\n",
       "    if (root.Bokeh !== undefined) {\n",
       "      if (el != null) {\n",
       "        el.textContent = \"BokehJS \" + root.Bokeh.version + \" successfully loaded.\";\n",
       "      }\n",
       "    } else if (Date.now() < root._bokeh_timeout) {\n",
       "      setTimeout(display_loaded, 100)\n",
       "    }\n",
       "  }\n",
       "\n",
       "  function run_callbacks() {\n",
       "    try {\n",
       "      root._bokeh_onload_callbacks.forEach(function(callback) {\n",
       "        if (callback != null)\n",
       "          callback();\n",
       "      });\n",
       "    } finally {\n",
       "      delete root._bokeh_onload_callbacks\n",
       "    }\n",
       "    console.debug(\"Bokeh: all callbacks have finished\");\n",
       "  }\n",
       "\n",
       "  function load_libs(css_urls, js_urls, callback) {\n",
       "    if (css_urls == null) css_urls = [];\n",
       "    if (js_urls == null) js_urls = [];\n",
       "\n",
       "    root._bokeh_onload_callbacks.push(callback);\n",
       "    if (root._bokeh_is_loading > 0) {\n",
       "      console.debug(\"Bokeh: BokehJS is being loaded, scheduling callback at\", now());\n",
       "      return null;\n",
       "    }\n",
       "    if (js_urls == null || js_urls.length === 0) {\n",
       "      run_callbacks();\n",
       "      return null;\n",
       "    }\n",
       "    console.debug(\"Bokeh: BokehJS not loaded, scheduling load and callback at\", now());\n",
       "    root._bokeh_is_loading = css_urls.length + js_urls.length;\n",
       "\n",
       "    function on_load() {\n",
       "      root._bokeh_is_loading--;\n",
       "      if (root._bokeh_is_loading === 0) {\n",
       "        console.debug(\"Bokeh: all BokehJS libraries/stylesheets loaded\");\n",
       "        run_callbacks()\n",
       "      }\n",
       "    }\n",
       "\n",
       "    function on_error(url) {\n",
       "      console.error(\"failed to load \" + url);\n",
       "    }\n",
       "\n",
       "    for (let i = 0; i < css_urls.length; i++) {\n",
       "      const url = css_urls[i];\n",
       "      const element = document.createElement(\"link\");\n",
       "      element.onload = on_load;\n",
       "      element.onerror = on_error.bind(null, url);\n",
       "      element.rel = \"stylesheet\";\n",
       "      element.type = \"text/css\";\n",
       "      element.href = url;\n",
       "      console.debug(\"Bokeh: injecting link tag for BokehJS stylesheet: \", url);\n",
       "      document.body.appendChild(element);\n",
       "    }\n",
       "\n",
       "    for (let i = 0; i < js_urls.length; i++) {\n",
       "      const url = js_urls[i];\n",
       "      const element = document.createElement('script');\n",
       "      element.onload = on_load;\n",
       "      element.onerror = on_error.bind(null, url);\n",
       "      element.async = false;\n",
       "      element.src = url;\n",
       "      console.debug(\"Bokeh: injecting script tag for BokehJS library: \", url);\n",
       "      document.head.appendChild(element);\n",
       "    }\n",
       "  };\n",
       "\n",
       "  function inject_raw_css(css) {\n",
       "    const element = document.createElement(\"style\");\n",
       "    element.appendChild(document.createTextNode(css));\n",
       "    document.body.appendChild(element);\n",
       "  }\n",
       "\n",
       "  const js_urls = [\"https://cdn.bokeh.org/bokeh/release/bokeh-2.4.3.min.js\", \"https://cdn.bokeh.org/bokeh/release/bokeh-gl-2.4.3.min.js\", \"https://cdn.bokeh.org/bokeh/release/bokeh-widgets-2.4.3.min.js\", \"https://cdn.bokeh.org/bokeh/release/bokeh-tables-2.4.3.min.js\", \"https://cdn.bokeh.org/bokeh/release/bokeh-mathjax-2.4.3.min.js\"];\n",
       "  const css_urls = [];\n",
       "\n",
       "  const inline_js = [    function(Bokeh) {\n",
       "      Bokeh.set_log_level(\"info\");\n",
       "    },\n",
       "function(Bokeh) {\n",
       "    }\n",
       "  ];\n",
       "\n",
       "  function run_inline_js() {\n",
       "    if (root.Bokeh !== undefined || force === true) {\n",
       "          for (let i = 0; i < inline_js.length; i++) {\n",
       "      inline_js[i].call(root, root.Bokeh);\n",
       "    }\n",
       "if (force === true) {\n",
       "        display_loaded();\n",
       "      }} else if (Date.now() < root._bokeh_timeout) {\n",
       "      setTimeout(run_inline_js, 100);\n",
       "    } else if (!root._bokeh_failed_load) {\n",
       "      console.log(\"Bokeh: BokehJS failed to load within specified timeout.\");\n",
       "      root._bokeh_failed_load = true;\n",
       "    } else if (force !== true) {\n",
       "      const cell = $(document.getElementById(\"1002\")).parents('.cell').data().cell;\n",
       "      cell.output_area.append_execute_result(NB_LOAD_WARNING)\n",
       "    }\n",
       "  }\n",
       "\n",
       "  if (root._bokeh_is_loading === 0) {\n",
       "    console.debug(\"Bokeh: BokehJS loaded, going straight to plotting\");\n",
       "    run_inline_js();\n",
       "  } else {\n",
       "    load_libs(css_urls, js_urls, function() {\n",
       "      console.debug(\"Bokeh: BokehJS plotting callback run at\", now());\n",
       "      run_inline_js();\n",
       "    });\n",
       "  }\n",
       "}(window));"
      ],
      "application/vnd.bokehjs_load.v0+json": "(function(root) {\n  function now() {\n    return new Date();\n  }\n\n  const force = true;\n\n  if (typeof root._bokeh_onload_callbacks === \"undefined\" || force === true) {\n    root._bokeh_onload_callbacks = [];\n    root._bokeh_is_loading = undefined;\n  }\n\n\n  if (typeof (root._bokeh_timeout) === \"undefined\" || force === true) {\n    root._bokeh_timeout = Date.now() + 5000;\n    root._bokeh_failed_load = false;\n  }\n\n  const NB_LOAD_WARNING = {'data': {'text/html':\n     \"<div style='background-color: #fdd'>\\n\"+\n     \"<p>\\n\"+\n     \"BokehJS does not appear to have successfully loaded. If loading BokehJS from CDN, this \\n\"+\n     \"may be due to a slow or bad network connection. Possible fixes:\\n\"+\n     \"</p>\\n\"+\n     \"<ul>\\n\"+\n     \"<li>re-rerun `output_notebook()` to attempt to load from CDN again, or</li>\\n\"+\n     \"<li>use INLINE resources instead, as so:</li>\\n\"+\n     \"</ul>\\n\"+\n     \"<code>\\n\"+\n     \"from bokeh.resources import INLINE\\n\"+\n     \"output_notebook(resources=INLINE)\\n\"+\n     \"</code>\\n\"+\n     \"</div>\"}};\n\n  function display_loaded() {\n    const el = document.getElementById(\"1002\");\n    if (el != null) {\n      el.textContent = \"BokehJS is loading...\";\n    }\n    if (root.Bokeh !== undefined) {\n      if (el != null) {\n        el.textContent = \"BokehJS \" + root.Bokeh.version + \" successfully loaded.\";\n      }\n    } else if (Date.now() < root._bokeh_timeout) {\n      setTimeout(display_loaded, 100)\n    }\n  }\n\n  function run_callbacks() {\n    try {\n      root._bokeh_onload_callbacks.forEach(function(callback) {\n        if (callback != null)\n          callback();\n      });\n    } finally {\n      delete root._bokeh_onload_callbacks\n    }\n    console.debug(\"Bokeh: all callbacks have finished\");\n  }\n\n  function load_libs(css_urls, js_urls, callback) {\n    if (css_urls == null) css_urls = [];\n    if (js_urls == null) js_urls = [];\n\n    root._bokeh_onload_callbacks.push(callback);\n    if (root._bokeh_is_loading > 0) {\n      console.debug(\"Bokeh: BokehJS is being loaded, scheduling callback at\", now());\n      return null;\n    }\n    if (js_urls == null || js_urls.length === 0) {\n      run_callbacks();\n      return null;\n    }\n    console.debug(\"Bokeh: BokehJS not loaded, scheduling load and callback at\", now());\n    root._bokeh_is_loading = css_urls.length + js_urls.length;\n\n    function on_load() {\n      root._bokeh_is_loading--;\n      if (root._bokeh_is_loading === 0) {\n        console.debug(\"Bokeh: all BokehJS libraries/stylesheets loaded\");\n        run_callbacks()\n      }\n    }\n\n    function on_error(url) {\n      console.error(\"failed to load \" + url);\n    }\n\n    for (let i = 0; i < css_urls.length; i++) {\n      const url = css_urls[i];\n      const element = document.createElement(\"link\");\n      element.onload = on_load;\n      element.onerror = on_error.bind(null, url);\n      element.rel = \"stylesheet\";\n      element.type = \"text/css\";\n      element.href = url;\n      console.debug(\"Bokeh: injecting link tag for BokehJS stylesheet: \", url);\n      document.body.appendChild(element);\n    }\n\n    for (let i = 0; i < js_urls.length; i++) {\n      const url = js_urls[i];\n      const element = document.createElement('script');\n      element.onload = on_load;\n      element.onerror = on_error.bind(null, url);\n      element.async = false;\n      element.src = url;\n      console.debug(\"Bokeh: injecting script tag for BokehJS library: \", url);\n      document.head.appendChild(element);\n    }\n  };\n\n  function inject_raw_css(css) {\n    const element = document.createElement(\"style\");\n    element.appendChild(document.createTextNode(css));\n    document.body.appendChild(element);\n  }\n\n  const js_urls = [\"https://cdn.bokeh.org/bokeh/release/bokeh-2.4.3.min.js\", \"https://cdn.bokeh.org/bokeh/release/bokeh-gl-2.4.3.min.js\", \"https://cdn.bokeh.org/bokeh/release/bokeh-widgets-2.4.3.min.js\", \"https://cdn.bokeh.org/bokeh/release/bokeh-tables-2.4.3.min.js\", \"https://cdn.bokeh.org/bokeh/release/bokeh-mathjax-2.4.3.min.js\"];\n  const css_urls = [];\n\n  const inline_js = [    function(Bokeh) {\n      Bokeh.set_log_level(\"info\");\n    },\nfunction(Bokeh) {\n    }\n  ];\n\n  function run_inline_js() {\n    if (root.Bokeh !== undefined || force === true) {\n          for (let i = 0; i < inline_js.length; i++) {\n      inline_js[i].call(root, root.Bokeh);\n    }\nif (force === true) {\n        display_loaded();\n      }} else if (Date.now() < root._bokeh_timeout) {\n      setTimeout(run_inline_js, 100);\n    } else if (!root._bokeh_failed_load) {\n      console.log(\"Bokeh: BokehJS failed to load within specified timeout.\");\n      root._bokeh_failed_load = true;\n    } else if (force !== true) {\n      const cell = $(document.getElementById(\"1002\")).parents('.cell').data().cell;\n      cell.output_area.append_execute_result(NB_LOAD_WARNING)\n    }\n  }\n\n  if (root._bokeh_is_loading === 0) {\n    console.debug(\"Bokeh: BokehJS loaded, going straight to plotting\");\n    run_inline_js();\n  } else {\n    load_libs(css_urls, js_urls, function() {\n      console.debug(\"Bokeh: BokehJS plotting callback run at\", now());\n      run_inline_js();\n    });\n  }\n}(window));"
     },
     "metadata": {},
     "output_type": "display_data"
    },
    {
     "name": "stdout",
     "output_type": "stream",
     "text": [
      "[(13, 90113195), (13, 90113196), (13, 90113197)]\n"
     ]
    }
   ],
   "source": [
    "from mylib import Puller, PlotDisplayer, Slider, Time\n",
    "import time\n",
    "import numpy as np\n",
    "import pandas as pd\n",
    "import datetime\n",
    "from bokeh.io import push_notebook, show, output_notebook\n",
    "from bokeh.plotting import figure\n",
    "from bokeh.layouts import gridplot, layout\n",
    "from jupyter_ui_poll import ui_events\n",
    "import ipywidgets\n",
    "import matplotlib\n",
    "import scipy\n",
    "from scipy import stats\n",
    "import random\n",
    "import os\n",
    "\n",
    "output_notebook()\n",
    "pl = Puller(simulate=False)  #simulate=True\n",
    "random.seed()\n",
    "\n",
    "# инициализация запускать только один раз"
   ]
  },
  {
   "cell_type": "code",
   "execution_count": 3,
   "metadata": {},
   "outputs": [],
   "source": [
    "Time.SetZeroTime()\n",
    "Time.unfreez()"
   ]
  },
  {
   "cell_type": "code",
   "execution_count": 4,
   "metadata": {
    "pycharm": {
     "name": "#%%\n"
    }
   },
   "outputs": [
    {
     "data": {
      "application/vnd.jupyter.widget-view+json": {
       "model_id": "39e9aa8dc91e4a3b88cd523e242ccbc3",
       "version_major": 2,
       "version_minor": 0
      },
      "text/plain": [
       "GridspecLayout(children=(Button(description='Stop All Motors', layout=Layout(grid_area='widget001'), style=But…"
      ]
     },
     "metadata": {},
     "output_type": "display_data"
    }
   ],
   "source": [
    "pl.ms.StopButton() # кнопки для остоновки моторчиков в нештатной ситуации"
   ]
  },
  {
   "cell_type": "code",
   "execution_count": 5,
   "metadata": {},
   "outputs": [
    {
     "data": {
      "text/plain": [
       "0"
      ]
     },
     "execution_count": 5,
     "metadata": {},
     "output_type": "execute_result"
    }
   ],
   "source": [
    "pl.ms.motorM.Set_velocity(v=20, a=20)"
   ]
  },
  {
   "cell_type": "code",
   "execution_count": 6,
   "metadata": {
    "pycharm": {
     "name": "#%%\n"
    }
   },
   "outputs": [],
   "source": [
    "pl.ms.MoveToStart(zapas=10) # сдвиг моторчиков на начальные позиции для растяжки\n",
    "pl.ms.motorM.MoveTo(0);\n",
    "while pl.ms.IsInMotion():\n",
    "    pass"
   ]
  },
  {
   "cell_type": "code",
   "execution_count": 7,
   "metadata": {
    "pycharm": {
     "name": "#%%\n"
    }
   },
   "outputs": [
    {
     "name": "stdout",
     "output_type": "stream",
     "text": [
      "-0.329668426411749\n",
      "0.09058456761764272\n",
      "-0.028214865323528064\n"
     ]
    }
   ],
   "source": [
    "print(pl.tg.SetZeroWeight(0.5)) # калибровка тензодатчика\n",
    "print(pl.tg.SetZeroWeight(0.5))\n",
    "print(pl.tg.SetZeroWeight(3))"
   ]
  },
  {
   "cell_type": "code",
   "execution_count": 8,
   "metadata": {},
   "outputs": [],
   "source": [
    "# pl.sim.l0=pl.ms.Distance(useL0=False)+2"
   ]
  },
  {
   "cell_type": "code",
   "execution_count": 9,
   "metadata": {},
   "outputs": [
    {
     "data": {
      "text/plain": [
       "-0.002969985823529253"
      ]
     },
     "execution_count": 9,
     "metadata": {},
     "output_type": "execute_result"
    }
   ],
   "source": [
    "pl.tg.ReadValue(tau=0)"
   ]
  },
  {
   "cell_type": "code",
   "execution_count": 10,
   "metadata": {},
   "outputs": [
    {
     "name": "stdout",
     "output_type": "stream",
     "text": [
      "w=  15.386308557375738 , dw=  -4.613691442624262 , dx=   0.01066524835751915\n",
      "w=  81.48651104489808 , dw=  61.48651104489808 , dx=   -0.14213540699162616\n",
      "w=  56.19213178117379 , dw=  36.19213178117379 , dx=   -0.08366360837835422\n",
      "w=  31.362060301194585 , dw=  11.362060301194585 , dx=   -0.026265127712230038\n",
      "w=  21.729406280214654 , dw=  1.7294062802146541 , dx=   -0.003997785226627857\n",
      "w=  20.537451969704904 , dw=  0.5374519697049038 , dx=   -0.0012424018399202418\n",
      "w=  20.357272829744126 , dw=  0.3572728297441259 , dx=   -0.0008258903977435051\n",
      "w=  20.163233755940215 , dw=  0.16323375594021527 , dx=   -0.0003773396138608751\n",
      "w=  20.052354285195122 , dw=  0.052354285195121975 , dx=   -0.00012102488021365443\n",
      "SetW finish value= 20.02463441750885\n"
     ]
    }
   ],
   "source": [
    "pl.SetW(20, dw=0.1, tau=1,quiet=False); # натяжка волокна"
   ]
  },
  {
   "cell_type": "code",
   "execution_count": 11,
   "metadata": {},
   "outputs": [],
   "source": [
    "x0=82\n",
    "pl.ms.x0=x0\n",
    "# pl.sim.hotFL=True"
   ]
  },
  {
   "cell_type": "code",
   "execution_count": 12,
   "metadata": {},
   "outputs": [],
   "source": [
    "while pl.ms.IsInMotion():\n",
    "    pass\n",
    "dp=PlotDisplayer()\n",
    "# dp2=PlotDisplayer()\n",
    "# dp2.CreateMaket(mainParam= 'time',obr_coff=pd.DataFrame({\n",
    "#     'time': pl.times,\n",
    "#     'kof': pl.trueKmas\n",
    "# }))\n",
    "dp.CreateMaket(mainParam='time',power=pl.data[['time','power']],\n",
    "                    tension=pl.data[['time','tension','tensionWgl', 'tensionEXPgl']],\n",
    "                  motors=pl.data[['time','motorR','motorL','motorM']]\n",
    "                #   v_and_a=pl.data[['time','vL','vR','aL','aR']]\n",
    "         )\n",
    "sl=Slider()\n",
    "sl.NewSl('v',min=0.1,max=9,value=5,step=0.1)\n",
    "sl.NewSl('a',min=0.1,max=9,value=5,step=0.1)\n",
    "sl.NewSl('dhKof',min=0, max=3,value=1,step=0.1)\n",
    "sl.NewSl('window',min=50, max=10000,value=100, step=50)\n",
    "sl.NewSl('molibdenH',min=-10, max=2.5,value=0.0,step=0.1)\n",
    "sl.NewSl('Kp',min=0, max=10,value=0.15,step=0.01)\n",
    "sl.NewSl('Ki',min=0, max=10,value=0,step=0.01)\n",
    "sl.NewSl('Kd',min=-100, max=100,value=0,step=0.01)\n",
    "sl.NewSl('T0',min=0, max=200,value=20,step=0.01)\n",
    "sl.NewBtn('molibden','up molibden','doun molibden')\n",
    "sl.NewBtn('end','end','end2','end3','vse','bolshe ne jmi','nu pravda ne nado', 'samiy umniy da?')\n",
    "sl.NewTt('x')\n",
    "sl.NewTt('L')\n",
    "sl.NewTt('R')\n",
    "sl.NewTt('dv')\n",
    "sl.NewTt('T')\n",
    "sl.NewTt('ki')"
   ]
  },
  {
   "cell_type": "code",
   "execution_count": 13,
   "metadata": {
    "scrolled": false
   },
   "outputs": [
    {
     "data": {
      "text/html": [
       "\n",
       "  <div class=\"bk-root\" id=\"588d1f01-b94a-41bb-b86f-4990fc686277\" data-root-id=\"1247\"></div>\n"
      ]
     },
     "metadata": {},
     "output_type": "display_data"
    },
    {
     "data": {
      "application/javascript": [
       "(function(root) {\n",
       "  function embed_document(root) {\n",
       "  const docs_json = {\"15b60003-4a68-4b17-b6e7-97b506a5188d\":{\"defs\":[],\"roots\":{\"references\":[{\"attributes\":{\"children\":[{\"id\":\"1244\"},{\"id\":\"1245\"},{\"id\":\"1246\"}]},\"id\":\"1247\",\"type\":\"Column\"},{\"attributes\":{\"coordinates\":null,\"formatter\":{\"id\":\"1192\"},\"group\":null,\"major_label_policy\":{\"id\":\"1193\"},\"ticker\":{\"id\":\"1166\"}},\"id\":\"1165\",\"type\":\"LinearAxis\"},{\"attributes\":{\"coordinates\":null,\"group\":null,\"text\":\"tension\"},\"id\":\"1057\",\"type\":\"Title\"},{\"attributes\":{\"coordinates\":null,\"formatter\":{\"id\":\"1098\"},\"group\":null,\"major_label_policy\":{\"id\":\"1099\"},\"ticker\":{\"id\":\"1072\"}},\"id\":\"1071\",\"type\":\"LinearAxis\"},{\"attributes\":{\"children\":[{\"id\":\"1056\"}]},\"id\":\"1245\",\"type\":\"Row\"},{\"attributes\":{\"below\":[{\"id\":\"1067\"}],\"center\":[{\"id\":\"1070\"},{\"id\":\"1074\"},{\"id\":\"1106\"}],\"height\":300,\"left\":[{\"id\":\"1071\"}],\"renderers\":[{\"id\":\"1094\"},{\"id\":\"1113\"},{\"id\":\"1133\"}],\"title\":{\"id\":\"1057\"},\"toolbar\":{\"id\":\"1082\"},\"width\":980,\"x_range\":{\"id\":\"1059\"},\"x_scale\":{\"id\":\"1063\"},\"y_range\":{\"id\":\"1061\"},\"y_scale\":{\"id\":\"1065\"}},\"id\":\"1056\",\"subtype\":\"Figure\",\"type\":\"Plot\"},{\"attributes\":{\"coordinates\":null,\"group\":null,\"text\":\"motors\"},\"id\":\"1151\",\"type\":\"Title\"},{\"attributes\":{},\"id\":\"1155\",\"type\":\"DataRange1d\"},{\"attributes\":{\"data\":{\"index\":[],\"tension\":[],\"tensionEXPgl\":[],\"tensionWgl\":[],\"time\":[]},\"selected\":{\"id\":\"1125\"},\"selection_policy\":{\"id\":\"1124\"}},\"id\":\"1108\",\"type\":\"ColumnDataSource\"},{\"attributes\":{\"data\":{\"index\":[],\"motorL\":[],\"motorM\":[],\"motorR\":[],\"time\":[]},\"selected\":{\"id\":\"1219\"},\"selection_policy\":{\"id\":\"1218\"}},\"id\":\"1202\",\"type\":\"ColumnDataSource\"},{\"attributes\":{},\"id\":\"1061\",\"type\":\"DataRange1d\"},{\"attributes\":{\"children\":[{\"id\":\"1150\"}]},\"id\":\"1246\",\"type\":\"Row\"},{\"attributes\":{\"data\":{\"index\":[],\"tension\":[],\"tensionEXPgl\":[],\"tensionWgl\":[],\"time\":[]},\"selected\":{\"id\":\"1104\"},\"selection_policy\":{\"id\":\"1103\"}},\"id\":\"1089\",\"type\":\"ColumnDataSource\"},{\"attributes\":{\"data\":{\"index\":[],\"motorL\":[],\"motorM\":[],\"motorR\":[],\"time\":[]},\"selected\":{\"id\":\"1198\"},\"selection_policy\":{\"id\":\"1197\"}},\"id\":\"1183\",\"type\":\"ColumnDataSource\"},{\"attributes\":{},\"id\":\"1059\",\"type\":\"DataRange1d\"},{\"attributes\":{},\"id\":\"1153\",\"type\":\"DataRange1d\"},{\"attributes\":{\"line_color\":\"blue\",\"x\":{\"field\":\"time\"},\"y\":{\"field\":\"tensionWgl\"}},\"id\":\"1110\",\"type\":\"Line\"},{\"attributes\":{},\"id\":\"1068\",\"type\":\"BasicTicker\"},{\"attributes\":{},\"id\":\"1162\",\"type\":\"BasicTicker\"},{\"attributes\":{},\"id\":\"1065\",\"type\":\"LinearScale\"},{\"attributes\":{},\"id\":\"1159\",\"type\":\"LinearScale\"},{\"attributes\":{},\"id\":\"1219\",\"type\":\"Selection\"},{\"attributes\":{\"axis\":{\"id\":\"1067\"},\"coordinates\":null,\"group\":null,\"ticker\":null},\"id\":\"1070\",\"type\":\"Grid\"},{\"attributes\":{\"axis\":{\"id\":\"1161\"},\"coordinates\":null,\"group\":null,\"ticker\":null},\"id\":\"1164\",\"type\":\"Grid\"},{\"attributes\":{},\"id\":\"1063\",\"type\":\"LinearScale\"},{\"attributes\":{},\"id\":\"1157\",\"type\":\"LinearScale\"},{\"attributes\":{\"source\":{\"id\":\"1202\"}},\"id\":\"1208\",\"type\":\"CDSView\"},{\"attributes\":{\"below\":[{\"id\":\"1015\"}],\"center\":[{\"id\":\"1018\"},{\"id\":\"1022\"},{\"id\":\"1054\"}],\"height\":300,\"left\":[{\"id\":\"1019\"}],\"renderers\":[{\"id\":\"1042\"}],\"title\":{\"id\":\"1005\"},\"toolbar\":{\"id\":\"1030\"},\"width\":980,\"x_range\":{\"id\":\"1007\"},\"x_scale\":{\"id\":\"1011\"},\"y_range\":{\"id\":\"1009\"},\"y_scale\":{\"id\":\"1013\"}},\"id\":\"1004\",\"subtype\":\"Figure\",\"type\":\"Plot\"},{\"attributes\":{\"coordinates\":null,\"data_source\":{\"id\":\"1108\"},\"glyph\":{\"id\":\"1110\"},\"group\":null,\"hover_glyph\":null,\"muted_glyph\":{\"id\":\"1112\"},\"nonselection_glyph\":{\"id\":\"1111\"},\"view\":{\"id\":\"1114\"}},\"id\":\"1113\",\"type\":\"GlyphRenderer\"},{\"attributes\":{\"coordinates\":null,\"formatter\":{\"id\":\"1101\"},\"group\":null,\"major_label_policy\":{\"id\":\"1102\"},\"ticker\":{\"id\":\"1068\"}},\"id\":\"1067\",\"type\":\"LinearAxis\"},{\"attributes\":{\"coordinates\":null,\"formatter\":{\"id\":\"1195\"},\"group\":null,\"major_label_policy\":{\"id\":\"1196\"},\"ticker\":{\"id\":\"1162\"}},\"id\":\"1161\",\"type\":\"LinearAxis\"},{\"attributes\":{},\"id\":\"1080\",\"type\":\"HelpTool\"},{\"attributes\":{},\"id\":\"1174\",\"type\":\"HelpTool\"},{\"attributes\":{\"source\":{\"id\":\"1108\"}},\"id\":\"1114\",\"type\":\"CDSView\"},{\"attributes\":{},\"id\":\"1192\",\"type\":\"BasicTickFormatter\"},{\"attributes\":{},\"id\":\"1009\",\"type\":\"DataRange1d\"},{\"attributes\":{\"axis\":{\"id\":\"1071\"},\"coordinates\":null,\"dimension\":1,\"group\":null,\"ticker\":null},\"id\":\"1074\",\"type\":\"Grid\"},{\"attributes\":{\"axis\":{\"id\":\"1165\"},\"coordinates\":null,\"dimension\":1,\"group\":null,\"ticker\":null},\"id\":\"1168\",\"type\":\"Grid\"},{\"attributes\":{},\"id\":\"1007\",\"type\":\"DataRange1d\"},{\"attributes\":{},\"id\":\"1072\",\"type\":\"BasicTicker\"},{\"attributes\":{},\"id\":\"1166\",\"type\":\"BasicTicker\"},{\"attributes\":{},\"id\":\"1193\",\"type\":\"AllLabels\"},{\"attributes\":{\"coordinates\":null,\"formatter\":{\"id\":\"1046\"},\"group\":null,\"major_label_policy\":{\"id\":\"1047\"},\"ticker\":{\"id\":\"1020\"}},\"id\":\"1019\",\"type\":\"LinearAxis\"},{\"attributes\":{\"coordinates\":null,\"group\":null,\"text\":\"power\"},\"id\":\"1005\",\"type\":\"Title\"},{\"attributes\":{},\"id\":\"1076\",\"type\":\"WheelZoomTool\"},{\"attributes\":{},\"id\":\"1170\",\"type\":\"WheelZoomTool\"},{\"attributes\":{},\"id\":\"1016\",\"type\":\"BasicTicker\"},{\"attributes\":{},\"id\":\"1075\",\"type\":\"PanTool\"},{\"attributes\":{},\"id\":\"1169\",\"type\":\"PanTool\"},{\"attributes\":{},\"id\":\"1013\",\"type\":\"LinearScale\"},{\"attributes\":{\"overlay\":{\"id\":\"1081\"}},\"id\":\"1077\",\"type\":\"BoxZoomTool\"},{\"attributes\":{\"overlay\":{\"id\":\"1175\"}},\"id\":\"1171\",\"type\":\"BoxZoomTool\"},{\"attributes\":{\"axis\":{\"id\":\"1015\"},\"coordinates\":null,\"group\":null,\"ticker\":null},\"id\":\"1018\",\"type\":\"Grid\"},{\"attributes\":{},\"id\":\"1078\",\"type\":\"SaveTool\"},{\"attributes\":{},\"id\":\"1172\",\"type\":\"SaveTool\"},{\"attributes\":{\"tools\":[{\"id\":\"1023\"},{\"id\":\"1024\"},{\"id\":\"1025\"},{\"id\":\"1026\"},{\"id\":\"1027\"},{\"id\":\"1028\"}]},\"id\":\"1030\",\"type\":\"Toolbar\"},{\"attributes\":{},\"id\":\"1079\",\"type\":\"ResetTool\"},{\"attributes\":{},\"id\":\"1173\",\"type\":\"ResetTool\"},{\"attributes\":{},\"id\":\"1011\",\"type\":\"LinearScale\"},{\"attributes\":{},\"id\":\"1196\",\"type\":\"AllLabels\"},{\"attributes\":{},\"id\":\"1125\",\"type\":\"Selection\"},{\"attributes\":{\"coordinates\":null,\"formatter\":{\"id\":\"1049\"},\"group\":null,\"major_label_policy\":{\"id\":\"1050\"},\"ticker\":{\"id\":\"1016\"}},\"id\":\"1015\",\"type\":\"LinearAxis\"},{\"attributes\":{},\"id\":\"1218\",\"type\":\"UnionRenderers\"},{\"attributes\":{},\"id\":\"1028\",\"type\":\"HelpTool\"},{\"attributes\":{},\"id\":\"1124\",\"type\":\"UnionRenderers\"},{\"attributes\":{\"bottom_units\":\"screen\",\"coordinates\":null,\"fill_alpha\":0.5,\"fill_color\":\"lightgrey\",\"group\":null,\"left_units\":\"screen\",\"level\":\"overlay\",\"line_alpha\":1.0,\"line_color\":\"black\",\"line_dash\":[4,4],\"line_width\":2,\"right_units\":\"screen\",\"syncable\":false,\"top_units\":\"screen\"},\"id\":\"1081\",\"type\":\"BoxAnnotation\"},{\"attributes\":{\"bottom_units\":\"screen\",\"coordinates\":null,\"fill_alpha\":0.5,\"fill_color\":\"lightgrey\",\"group\":null,\"left_units\":\"screen\",\"level\":\"overlay\",\"line_alpha\":1.0,\"line_color\":\"black\",\"line_dash\":[4,4],\"line_width\":2,\"right_units\":\"screen\",\"syncable\":false,\"top_units\":\"screen\"},\"id\":\"1175\",\"type\":\"BoxAnnotation\"},{\"attributes\":{\"source\":{\"id\":\"1183\"}},\"id\":\"1189\",\"type\":\"CDSView\"},{\"attributes\":{\"label\":{\"value\":\"motorL\"},\"renderers\":[{\"id\":\"1207\"}]},\"id\":\"1221\",\"type\":\"LegendItem\"},{\"attributes\":{\"label\":{\"value\":\"tensionWgl\"},\"renderers\":[{\"id\":\"1113\"}]},\"id\":\"1127\",\"type\":\"LegendItem\"},{\"attributes\":{\"axis\":{\"id\":\"1019\"},\"coordinates\":null,\"dimension\":1,\"group\":null,\"ticker\":null},\"id\":\"1022\",\"type\":\"Grid\"},{\"attributes\":{},\"id\":\"1020\",\"type\":\"BasicTicker\"},{\"attributes\":{\"line_alpha\":0.1,\"line_color\":\"blue\",\"x\":{\"field\":\"time\"},\"y\":{\"field\":\"motorL\"}},\"id\":\"1205\",\"type\":\"Line\"},{\"attributes\":{\"line_alpha\":0.1,\"line_color\":\"blue\",\"x\":{\"field\":\"time\"},\"y\":{\"field\":\"tensionWgl\"}},\"id\":\"1111\",\"type\":\"Line\"},{\"attributes\":{},\"id\":\"1024\",\"type\":\"WheelZoomTool\"},{\"attributes\":{\"line_alpha\":0.2,\"line_color\":\"blue\",\"x\":{\"field\":\"time\"},\"y\":{\"field\":\"tensionWgl\"}},\"id\":\"1112\",\"type\":\"Line\"},{\"attributes\":{},\"id\":\"1197\",\"type\":\"UnionRenderers\"},{\"attributes\":{},\"id\":\"1023\",\"type\":\"PanTool\"},{\"attributes\":{\"coordinates\":null,\"data_source\":{\"id\":\"1202\"},\"glyph\":{\"id\":\"1204\"},\"group\":null,\"hover_glyph\":null,\"muted_glyph\":{\"id\":\"1206\"},\"nonselection_glyph\":{\"id\":\"1205\"},\"view\":{\"id\":\"1208\"}},\"id\":\"1207\",\"type\":\"GlyphRenderer\"},{\"attributes\":{\"overlay\":{\"id\":\"1029\"}},\"id\":\"1025\",\"type\":\"BoxZoomTool\"},{\"attributes\":{},\"id\":\"1026\",\"type\":\"SaveTool\"},{\"attributes\":{\"line_color\":\"blue\",\"x\":{\"field\":\"time\"},\"y\":{\"field\":\"motorL\"}},\"id\":\"1204\",\"type\":\"Line\"},{\"attributes\":{},\"id\":\"1198\",\"type\":\"Selection\"},{\"attributes\":{},\"id\":\"1027\",\"type\":\"ResetTool\"},{\"attributes\":{\"line_alpha\":0.1,\"line_color\":\"red\",\"x\":{\"field\":\"time\"},\"y\":{\"field\":\"tension\"}},\"id\":\"1092\",\"type\":\"Line\"},{\"attributes\":{\"data\":{\"index\":[],\"motorL\":[],\"motorM\":[],\"motorR\":[],\"time\":[]},\"selected\":{\"id\":\"1241\"},\"selection_policy\":{\"id\":\"1240\"}},\"id\":\"1222\",\"type\":\"ColumnDataSource\"},{\"attributes\":{\"bottom_units\":\"screen\",\"coordinates\":null,\"fill_alpha\":0.5,\"fill_color\":\"lightgrey\",\"group\":null,\"left_units\":\"screen\",\"level\":\"overlay\",\"line_alpha\":1.0,\"line_color\":\"black\",\"line_dash\":[4,4],\"line_width\":2,\"right_units\":\"screen\",\"syncable\":false,\"top_units\":\"screen\"},\"id\":\"1029\",\"type\":\"BoxAnnotation\"},{\"attributes\":{\"coordinates\":null,\"group\":null,\"items\":[{\"id\":\"1055\"}]},\"id\":\"1054\",\"type\":\"Legend\"},{\"attributes\":{\"coordinates\":null,\"data_source\":{\"id\":\"1183\"},\"glyph\":{\"id\":\"1185\"},\"group\":null,\"hover_glyph\":null,\"muted_glyph\":{\"id\":\"1187\"},\"nonselection_glyph\":{\"id\":\"1186\"},\"view\":{\"id\":\"1189\"}},\"id\":\"1188\",\"type\":\"GlyphRenderer\"},{\"attributes\":{\"line_alpha\":0.1,\"line_color\":\"green\",\"x\":{\"field\":\"time\"},\"y\":{\"field\":\"motorM\"}},\"id\":\"1225\",\"type\":\"Line\"},{\"attributes\":{\"line_color\":\"green\",\"x\":{\"field\":\"time\"},\"y\":{\"field\":\"motorM\"}},\"id\":\"1224\",\"type\":\"Line\"},{\"attributes\":{\"source\":{\"id\":\"1222\"}},\"id\":\"1228\",\"type\":\"CDSView\"},{\"attributes\":{\"coordinates\":null,\"data_source\":{\"id\":\"1222\"},\"glyph\":{\"id\":\"1224\"},\"group\":null,\"hover_glyph\":null,\"muted_glyph\":{\"id\":\"1226\"},\"nonselection_glyph\":{\"id\":\"1225\"},\"view\":{\"id\":\"1228\"}},\"id\":\"1227\",\"type\":\"GlyphRenderer\"},{\"attributes\":{\"coordinates\":null,\"group\":null,\"items\":[{\"id\":\"1201\"},{\"id\":\"1221\"},{\"id\":\"1243\"}]},\"id\":\"1200\",\"type\":\"Legend\"},{\"attributes\":{\"data\":{\"index\":[],\"tension\":[],\"tensionEXPgl\":[],\"tensionWgl\":[],\"time\":[]},\"selected\":{\"id\":\"1147\"},\"selection_policy\":{\"id\":\"1146\"}},\"id\":\"1128\",\"type\":\"ColumnDataSource\"},{\"attributes\":{\"line_color\":\"red\",\"x\":{\"field\":\"time\"},\"y\":{\"field\":\"motorR\"}},\"id\":\"1185\",\"type\":\"Line\"},{\"attributes\":{},\"id\":\"1146\",\"type\":\"UnionRenderers\"},{\"attributes\":{\"line_color\":\"green\",\"x\":{\"field\":\"time\"},\"y\":{\"field\":\"tensionEXPgl\"}},\"id\":\"1130\",\"type\":\"Line\"},{\"attributes\":{\"below\":[{\"id\":\"1161\"}],\"center\":[{\"id\":\"1164\"},{\"id\":\"1168\"},{\"id\":\"1200\"}],\"height\":300,\"left\":[{\"id\":\"1165\"}],\"renderers\":[{\"id\":\"1188\"},{\"id\":\"1207\"},{\"id\":\"1227\"}],\"title\":{\"id\":\"1151\"},\"toolbar\":{\"id\":\"1176\"},\"width\":980,\"x_range\":{\"id\":\"1153\"},\"x_scale\":{\"id\":\"1157\"},\"y_range\":{\"id\":\"1155\"},\"y_scale\":{\"id\":\"1159\"}},\"id\":\"1150\",\"subtype\":\"Figure\",\"type\":\"Plot\"},{\"attributes\":{\"coordinates\":null,\"data_source\":{\"id\":\"1128\"},\"glyph\":{\"id\":\"1130\"},\"group\":null,\"hover_glyph\":null,\"muted_glyph\":{\"id\":\"1132\"},\"nonselection_glyph\":{\"id\":\"1131\"},\"view\":{\"id\":\"1134\"}},\"id\":\"1133\",\"type\":\"GlyphRenderer\"},{\"attributes\":{\"line_color\":\"red\",\"x\":{\"field\":\"time\"},\"y\":{\"field\":\"tension\"}},\"id\":\"1091\",\"type\":\"Line\"},{\"attributes\":{\"data\":{\"index\":[],\"power\":[],\"time\":[]},\"selected\":{\"id\":\"1052\"},\"selection_policy\":{\"id\":\"1051\"}},\"id\":\"1037\",\"type\":\"ColumnDataSource\"},{\"attributes\":{\"tools\":[{\"id\":\"1075\"},{\"id\":\"1076\"},{\"id\":\"1077\"},{\"id\":\"1078\"},{\"id\":\"1079\"},{\"id\":\"1080\"}]},\"id\":\"1082\",\"type\":\"Toolbar\"},{\"attributes\":{\"line_alpha\":0.2,\"line_color\":\"green\",\"x\":{\"field\":\"time\"},\"y\":{\"field\":\"tensionEXPgl\"}},\"id\":\"1132\",\"type\":\"Line\"},{\"attributes\":{\"tools\":[{\"id\":\"1169\"},{\"id\":\"1170\"},{\"id\":\"1171\"},{\"id\":\"1172\"},{\"id\":\"1173\"},{\"id\":\"1174\"}]},\"id\":\"1176\",\"type\":\"Toolbar\"},{\"attributes\":{\"label\":{\"value\":\"tension\"},\"renderers\":[{\"id\":\"1094\"}]},\"id\":\"1107\",\"type\":\"LegendItem\"},{\"attributes\":{},\"id\":\"1147\",\"type\":\"Selection\"},{\"attributes\":{\"label\":{\"value\":\"motorR\"},\"renderers\":[{\"id\":\"1188\"}]},\"id\":\"1201\",\"type\":\"LegendItem\"},{\"attributes\":{\"line_alpha\":0.2,\"line_color\":\"red\",\"x\":{\"field\":\"time\"},\"y\":{\"field\":\"tension\"}},\"id\":\"1093\",\"type\":\"Line\"},{\"attributes\":{\"coordinates\":null,\"group\":null,\"items\":[{\"id\":\"1107\"},{\"id\":\"1127\"},{\"id\":\"1149\"}]},\"id\":\"1106\",\"type\":\"Legend\"},{\"attributes\":{\"line_alpha\":0.2,\"line_color\":\"blue\",\"x\":{\"field\":\"time\"},\"y\":{\"field\":\"motorL\"}},\"id\":\"1206\",\"type\":\"Line\"},{\"attributes\":{},\"id\":\"1195\",\"type\":\"BasicTickFormatter\"},{\"attributes\":{\"label\":{\"value\":\"tensionEXPgl\"},\"renderers\":[{\"id\":\"1133\"}]},\"id\":\"1149\",\"type\":\"LegendItem\"},{\"attributes\":{\"line_alpha\":0.2,\"line_color\":\"red\",\"x\":{\"field\":\"time\"},\"y\":{\"field\":\"motorR\"}},\"id\":\"1187\",\"type\":\"Line\"},{\"attributes\":{},\"id\":\"1241\",\"type\":\"Selection\"},{\"attributes\":{\"line_alpha\":0.1,\"line_color\":\"red\",\"x\":{\"field\":\"time\"},\"y\":{\"field\":\"motorR\"}},\"id\":\"1186\",\"type\":\"Line\"},{\"attributes\":{\"coordinates\":null,\"data_source\":{\"id\":\"1089\"},\"glyph\":{\"id\":\"1091\"},\"group\":null,\"hover_glyph\":null,\"muted_glyph\":{\"id\":\"1093\"},\"nonselection_glyph\":{\"id\":\"1092\"},\"view\":{\"id\":\"1095\"}},\"id\":\"1094\",\"type\":\"GlyphRenderer\"},{\"attributes\":{\"source\":{\"id\":\"1128\"}},\"id\":\"1134\",\"type\":\"CDSView\"},{\"attributes\":{\"label\":{\"value\":\"motorM\"},\"renderers\":[{\"id\":\"1227\"}]},\"id\":\"1243\",\"type\":\"LegendItem\"},{\"attributes\":{\"children\":[{\"id\":\"1004\"}]},\"id\":\"1244\",\"type\":\"Row\"},{\"attributes\":{\"label\":{\"value\":\"power\"},\"renderers\":[{\"id\":\"1042\"}]},\"id\":\"1055\",\"type\":\"LegendItem\"},{\"attributes\":{\"line_alpha\":0.1,\"line_color\":\"green\",\"x\":{\"field\":\"time\"},\"y\":{\"field\":\"tensionEXPgl\"}},\"id\":\"1131\",\"type\":\"Line\"},{\"attributes\":{},\"id\":\"1240\",\"type\":\"UnionRenderers\"},{\"attributes\":{\"source\":{\"id\":\"1089\"}},\"id\":\"1095\",\"type\":\"CDSView\"},{\"attributes\":{\"line_alpha\":0.2,\"line_color\":\"green\",\"x\":{\"field\":\"time\"},\"y\":{\"field\":\"motorM\"}},\"id\":\"1226\",\"type\":\"Line\"},{\"attributes\":{\"coordinates\":null,\"data_source\":{\"id\":\"1037\"},\"glyph\":{\"id\":\"1039\"},\"group\":null,\"hover_glyph\":null,\"muted_glyph\":{\"id\":\"1041\"},\"nonselection_glyph\":{\"id\":\"1040\"},\"view\":{\"id\":\"1043\"}},\"id\":\"1042\",\"type\":\"GlyphRenderer\"},{\"attributes\":{},\"id\":\"1046\",\"type\":\"BasicTickFormatter\"},{\"attributes\":{},\"id\":\"1098\",\"type\":\"BasicTickFormatter\"},{\"attributes\":{},\"id\":\"1047\",\"type\":\"AllLabels\"},{\"attributes\":{},\"id\":\"1099\",\"type\":\"AllLabels\"},{\"attributes\":{},\"id\":\"1049\",\"type\":\"BasicTickFormatter\"},{\"attributes\":{},\"id\":\"1101\",\"type\":\"BasicTickFormatter\"},{\"attributes\":{},\"id\":\"1050\",\"type\":\"AllLabels\"},{\"attributes\":{},\"id\":\"1102\",\"type\":\"AllLabels\"},{\"attributes\":{},\"id\":\"1051\",\"type\":\"UnionRenderers\"},{\"attributes\":{},\"id\":\"1103\",\"type\":\"UnionRenderers\"},{\"attributes\":{},\"id\":\"1052\",\"type\":\"Selection\"},{\"attributes\":{},\"id\":\"1104\",\"type\":\"Selection\"},{\"attributes\":{\"line_color\":\"red\",\"x\":{\"field\":\"time\"},\"y\":{\"field\":\"power\"}},\"id\":\"1039\",\"type\":\"Line\"},{\"attributes\":{\"line_alpha\":0.2,\"line_color\":\"red\",\"x\":{\"field\":\"time\"},\"y\":{\"field\":\"power\"}},\"id\":\"1041\",\"type\":\"Line\"},{\"attributes\":{\"source\":{\"id\":\"1037\"}},\"id\":\"1043\",\"type\":\"CDSView\"},{\"attributes\":{\"line_alpha\":0.1,\"line_color\":\"red\",\"x\":{\"field\":\"time\"},\"y\":{\"field\":\"power\"}},\"id\":\"1040\",\"type\":\"Line\"}],\"root_ids\":[\"1247\"]},\"title\":\"Bokeh Application\",\"version\":\"2.4.3\"}};\n",
       "  const render_items = [{\"docid\":\"15b60003-4a68-4b17-b6e7-97b506a5188d\",\"notebook_comms_target\":\"1286\",\"root_ids\":[\"1247\"],\"roots\":{\"1247\":\"588d1f01-b94a-41bb-b86f-4990fc686277\"}}];\n",
       "  root.Bokeh.embed.embed_items_notebook(docs_json, render_items);\n",
       "  }\n",
       "  if (root.Bokeh !== undefined) {\n",
       "    embed_document(root);\n",
       "  } else {\n",
       "    let attempts = 0;\n",
       "    const timer = setInterval(function(root) {\n",
       "      if (root.Bokeh !== undefined) {\n",
       "        clearInterval(timer);\n",
       "        embed_document(root);\n",
       "      } else {\n",
       "        attempts++;\n",
       "        if (attempts > 100) {\n",
       "          clearInterval(timer);\n",
       "          console.log(\"Bokeh: ERROR: Unable to run BokehJS code because BokehJS library is missing\");\n",
       "        }\n",
       "      }\n",
       "    }, 10, root)\n",
       "  }\n",
       "})(window);"
      ],
      "application/vnd.bokehjs_exec.v0+json": ""
     },
     "metadata": {
      "application/vnd.bokehjs_exec.v0+json": {
       "id": "1247"
      }
     },
     "output_type": "display_data"
    },
    {
     "data": {
      "application/vnd.jupyter.widget-view+json": {
       "model_id": "4be1baaa5a2c489ca413c5132fdf9ec9",
       "version_major": 2,
       "version_minor": 0
      },
      "text/plain": [
       "VBox(children=(Box(children=(Output(layout=Layout(border='1px solid black', grid_area='widget001')), Output(la…"
      ]
     },
     "metadata": {},
     "output_type": "display_data"
    },
    {
     "name": "stdout",
     "output_type": "stream",
     "text": [
      "starting\n",
      "слишком поздний вызов PulFireMove\n",
      "starting\n",
      "moving vith constant speed\n",
      "stoping\n",
      "starting\n",
      "moving vith constant speed\n",
      "stoping\n",
      "starting\n",
      "moving vith constant speed\n",
      "stoping\n",
      "starting\n",
      "moving vith constant speed\n",
      "stoping\n",
      "starting\n",
      "moving vith constant speed\n",
      "stoping\n",
      "xMax= 38.44613234964727 L_x(xMax)= 14.700000000000001   x= -0.24817376654578993   L= -7.221194251578069 xEnd= -0.2481596386887525 lEnd= 4.721193254764884\n",
      "ura\n",
      "vse\n"
     ]
    }
   ],
   "source": [
    "pl.MotorsControlStart()\n",
    "t0 = time.time()\n",
    "t = t0\n",
    "k = 1\n",
    "ki = 0\n",
    "dp.Show()\n",
    "# dp2.Show()\n",
    "sl.Display()\n",
    "pl.Clear()\n",
    "\n",
    "with ui_events() as poll:\n",
    "    while True:\n",
    "        poll(10)\n",
    "        t = time.time()  \n",
    "        T = sl.Sl['T0']() * k**2\n",
    "        if pl.PulMotorsControl(sl.Sl['molibdenH'](), T,\n",
    "                                    upFl=sl.BtnFl['molibden'], stFl=sl.BtnFl['end'],\n",
    "                                    dhKof=sl.Sl['dhKof'](), Kp=sl.Sl['Kp']()*0.001,Ki=ki,Kd=sl.Sl['Kd']()\n",
    "                                 )==-1:\n",
    "            break\n",
    "        x=pl.data['x'].iloc[-1]\n",
    "        pl.v=sl.Sl['v']()\n",
    "        pl.a=sl.Sl['a']()\n",
    "        ww=int(sl.Sl['window']())\n",
    "        k = pl.ms.R_x(x)/pl.ms.R_x(0)\n",
    "        ki = sl.Sl['Ki']()\n",
    "        sl.ChangeValueTt('x',x)\n",
    "        sl.ChangeValueTt('L',pl.ms.L_x(x))\n",
    "        sl.ChangeValueTt('R',pl.ms.R_x(x))\n",
    "        sl.ChangeValueTt('dv',pl.dv)\n",
    "        sl.ChangeValueTt('T',T)\n",
    "        sl.ChangeValueTt('ki',ki)\n",
    "        dp.Apdate(for_all=pl.data.iloc[-ww:])\n",
    "#         dp2.Apdate(for_all=pd.DataFrame({\n",
    "#                     'time': pl.times,\n",
    "#                     'kof': pl.trueKmas\n",
    "#                 }))\n",
    "        push_notebook()    \n",
    "        Time.sleep(0.04)\n",
    "print('ura')\n",
    "# pl.Save()\n",
    "# with ui_events() as poll:\n",
    "#     while sl.BtnFl['end']<3:\n",
    "#         poll(10)\n",
    "#         pl.SetW(2,dw=1,tau=0.5)\n",
    "print('vse')"
   ]
  },
  {
   "cell_type": "code",
   "execution_count": 14,
   "metadata": {
    "pycharm": {
     "name": "#%%\n"
    }
   },
   "outputs": [
    {
     "name": "stdout",
     "output_type": "stream",
     "text": [
      "ending\n",
      "end\n"
     ]
    }
   ],
   "source": [
    "pl.ms.End() # растановка моторчиков на нули (запускать перед отключением питания)"
   ]
  },
  {
   "cell_type": "code",
   "execution_count": 26,
   "metadata": {},
   "outputs": [
    {
     "name": "stdout",
     "output_type": "stream",
     "text": [
      "error in  motor L  -  position is bad x= -60.0 min position= 0\n"
     ]
    },
    {
     "data": {
      "text/plain": [
       "-1"
      ]
     },
     "execution_count": 26,
     "metadata": {},
     "output_type": "execute_result"
    }
   ],
   "source": [
    "pl.ms.Move(60, v=1, a=1, vdiff=0, da=0)"
   ]
  },
  {
   "cell_type": "markdown",
   "metadata": {},
   "source": [
    "### Для калибровки"
   ]
  },
  {
   "cell_type": "code",
   "execution_count": 2,
   "metadata": {},
   "outputs": [
    {
     "ename": "NameError",
     "evalue": "name 'pl' is not defined",
     "output_type": "error",
     "traceback": [
      "\u001b[0;31m---------------------------------------------------------------------------\u001b[0m",
      "\u001b[0;31mNameError\u001b[0m                                 Traceback (most recent call last)",
      "\u001b[1;32m/home/korbash/projects/table_control/jupiter/main_puller.ipynb Cell 18\u001b[0m in \u001b[0;36m<cell line: 1>\u001b[0;34m()\u001b[0m\n\u001b[0;32m----> <a href='vscode-notebook-cell:/home/korbash/projects/table_control/jupiter/main_puller.ipynb#X23sZmlsZQ%3D%3D?line=0'>1</a>\u001b[0m pl\u001b[39m.\u001b[39mClear()\n\u001b[1;32m      <a href='vscode-notebook-cell:/home/korbash/projects/table_control/jupiter/main_puller.ipynb#X23sZmlsZQ%3D%3D?line=2'>3</a>\u001b[0m dp1 \u001b[39m=\u001b[39m PlotDisplayer()\n\u001b[1;32m      <a href='vscode-notebook-cell:/home/korbash/projects/table_control/jupiter/main_puller.ipynb#X23sZmlsZQ%3D%3D?line=3'>4</a>\u001b[0m dp1\u001b[39m.\u001b[39mCreateMaket(mainParam\u001b[39m=\u001b[39m\u001b[39m'\u001b[39m\u001b[39mtime\u001b[39m\u001b[39m'\u001b[39m, tension\u001b[39m=\u001b[39mpl\u001b[39m.\u001b[39mdata[[\u001b[39m'\u001b[39m\u001b[39mtime\u001b[39m\u001b[39m'\u001b[39m, \u001b[39m'\u001b[39m\u001b[39mtension\u001b[39m\u001b[39m'\u001b[39m]])\n",
      "\u001b[0;31mNameError\u001b[0m: name 'pl' is not defined"
     ]
    }
   ],
   "source": [
    "pl.Clear()\n",
    "\n",
    "dp1 = PlotDisplayer()\n",
    "dp1.CreateMaket(mainParam='time', tension=pl.data[['time', 'tension']])\n",
    "\n",
    "sl1 = Slider()\n",
    "sl1.NewBtn('stop', 'stop', 'stopped')\n",
    "sl1.NewTt('Tension')\n",
    "\n",
    "dp1.Show()\n",
    "sl1.Display()\n",
    "\n",
    "with ui_events() as poll:\n",
    "    while not sl1.BtnFl['stop']:\n",
    "        poll(10)\n",
    "        \n",
    "        pl.Read(False, False, False)\n",
    "        \n",
    "        dp1.Apdate(for_all=pl.data.iloc[-200:])\n",
    "        sl1.ChangeValueTt('Tension', pl.tg.ReadValue(tau=0))\n",
    "        Time.sleep(.04)\n",
    "        push_notebook()"
   ]
  },
  {
   "cell_type": "code",
   "execution_count": 47,
   "metadata": {},
   "outputs": [],
   "source": [
    "pl.tg.weightCoef = -0.0075585384235655265"
   ]
  },
  {
   "cell_type": "code",
   "execution_count": 50,
   "metadata": {},
   "outputs": [],
   "source": [
    "pl.tg.weightCoef *= 265598 / 1000 ** 2"
   ]
  },
  {
   "cell_type": "code",
   "execution_count": 37,
   "metadata": {},
   "outputs": [],
   "source": [
    "pl.tg.weightCoef *= 1000 / 9.8"
   ]
  },
  {
   "cell_type": "code",
   "execution_count": 54,
   "metadata": {},
   "outputs": [
    {
     "data": {
      "text/plain": [
       "-0.0020075326882221566"
      ]
     },
     "execution_count": 54,
     "metadata": {},
     "output_type": "execute_result"
    }
   ],
   "source": [
    "-0.0075585384235655265 * 265598 / 1000 ** 2"
   ]
  }
 ],
 "metadata": {
  "kernelspec": {
   "display_name": "Python 3 (ipykernel)",
   "language": "python",
   "name": "python3"
  },
  "language_info": {
   "codemirror_mode": {
    "name": "ipython",
    "version": 3
   },
   "file_extension": ".py",
   "mimetype": "text/x-python",
   "name": "python",
   "nbconvert_exporter": "python",
   "pygments_lexer": "ipython3",
   "version": "3.8.13"
  },
  "vscode": {
   "interpreter": {
    "hash": "3d93dcc60e22d28d0084fc331a34bf2dc08a93f49a5a7819d10d740b51b56018"
   }
  }
 },
 "nbformat": 4,
 "nbformat_minor": 4
}
