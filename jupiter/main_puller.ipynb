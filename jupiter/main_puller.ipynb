{
 "cells": [
  {
   "cell_type": "code",
   "execution_count": 1,
   "metadata": {},
   "outputs": [],
   "source": [
    "from sys import path\n",
    "path +=['..']"
   ]
  },
  {
   "cell_type": "code",
   "execution_count": 2,
   "metadata": {
    "pycharm": {
     "name": "#%%\n"
    }
   },
   "outputs": [
    {
     "data": {
      "text/html": [
       "<div class=\"bk-root\">\n",
       "        <a href=\"https://bokeh.org\" target=\"_blank\" class=\"bk-logo bk-logo-small bk-logo-notebook\"></a>\n",
       "        <span id=\"1002\">Loading BokehJS ...</span>\n",
       "    </div>\n"
      ]
     },
     "metadata": {},
     "output_type": "display_data"
    },
    {
     "data": {
      "application/javascript": [
       "(function(root) {\n",
       "  function now() {\n",
       "    return new Date();\n",
       "  }\n",
       "\n",
       "  const force = true;\n",
       "\n",
       "  if (typeof root._bokeh_onload_callbacks === \"undefined\" || force === true) {\n",
       "    root._bokeh_onload_callbacks = [];\n",
       "    root._bokeh_is_loading = undefined;\n",
       "  }\n",
       "\n",
       "const JS_MIME_TYPE = 'application/javascript';\n",
       "  const HTML_MIME_TYPE = 'text/html';\n",
       "  const EXEC_MIME_TYPE = 'application/vnd.bokehjs_exec.v0+json';\n",
       "  const CLASS_NAME = 'output_bokeh rendered_html';\n",
       "\n",
       "  /**\n",
       "   * Render data to the DOM node\n",
       "   */\n",
       "  function render(props, node) {\n",
       "    const script = document.createElement(\"script\");\n",
       "    node.appendChild(script);\n",
       "  }\n",
       "\n",
       "  /**\n",
       "   * Handle when an output is cleared or removed\n",
       "   */\n",
       "  function handleClearOutput(event, handle) {\n",
       "    const cell = handle.cell;\n",
       "\n",
       "    const id = cell.output_area._bokeh_element_id;\n",
       "    const server_id = cell.output_area._bokeh_server_id;\n",
       "    // Clean up Bokeh references\n",
       "    if (id != null && id in Bokeh.index) {\n",
       "      Bokeh.index[id].model.document.clear();\n",
       "      delete Bokeh.index[id];\n",
       "    }\n",
       "\n",
       "    if (server_id !== undefined) {\n",
       "      // Clean up Bokeh references\n",
       "      const cmd_clean = \"from bokeh.io.state import curstate; print(curstate().uuid_to_server['\" + server_id + \"'].get_sessions()[0].document.roots[0]._id)\";\n",
       "      cell.notebook.kernel.execute(cmd_clean, {\n",
       "        iopub: {\n",
       "          output: function(msg) {\n",
       "            const id = msg.content.text.trim();\n",
       "            if (id in Bokeh.index) {\n",
       "              Bokeh.index[id].model.document.clear();\n",
       "              delete Bokeh.index[id];\n",
       "            }\n",
       "          }\n",
       "        }\n",
       "      });\n",
       "      // Destroy server and session\n",
       "      const cmd_destroy = \"import bokeh.io.notebook as ion; ion.destroy_server('\" + server_id + \"')\";\n",
       "      cell.notebook.kernel.execute(cmd_destroy);\n",
       "    }\n",
       "  }\n",
       "\n",
       "  /**\n",
       "   * Handle when a new output is added\n",
       "   */\n",
       "  function handleAddOutput(event, handle) {\n",
       "    const output_area = handle.output_area;\n",
       "    const output = handle.output;\n",
       "\n",
       "    // limit handleAddOutput to display_data with EXEC_MIME_TYPE content only\n",
       "    if ((output.output_type != \"display_data\") || (!Object.prototype.hasOwnProperty.call(output.data, EXEC_MIME_TYPE))) {\n",
       "      return\n",
       "    }\n",
       "\n",
       "    const toinsert = output_area.element.find(\".\" + CLASS_NAME.split(' ')[0]);\n",
       "\n",
       "    if (output.metadata[EXEC_MIME_TYPE][\"id\"] !== undefined) {\n",
       "      toinsert[toinsert.length - 1].firstChild.textContent = output.data[JS_MIME_TYPE];\n",
       "      // store reference to embed id on output_area\n",
       "      output_area._bokeh_element_id = output.metadata[EXEC_MIME_TYPE][\"id\"];\n",
       "    }\n",
       "    if (output.metadata[EXEC_MIME_TYPE][\"server_id\"] !== undefined) {\n",
       "      const bk_div = document.createElement(\"div\");\n",
       "      bk_div.innerHTML = output.data[HTML_MIME_TYPE];\n",
       "      const script_attrs = bk_div.children[0].attributes;\n",
       "      for (let i = 0; i < script_attrs.length; i++) {\n",
       "        toinsert[toinsert.length - 1].firstChild.setAttribute(script_attrs[i].name, script_attrs[i].value);\n",
       "        toinsert[toinsert.length - 1].firstChild.textContent = bk_div.children[0].textContent\n",
       "      }\n",
       "      // store reference to server id on output_area\n",
       "      output_area._bokeh_server_id = output.metadata[EXEC_MIME_TYPE][\"server_id\"];\n",
       "    }\n",
       "  }\n",
       "\n",
       "  function register_renderer(events, OutputArea) {\n",
       "\n",
       "    function append_mime(data, metadata, element) {\n",
       "      // create a DOM node to render to\n",
       "      const toinsert = this.create_output_subarea(\n",
       "        metadata,\n",
       "        CLASS_NAME,\n",
       "        EXEC_MIME_TYPE\n",
       "      );\n",
       "      this.keyboard_manager.register_events(toinsert);\n",
       "      // Render to node\n",
       "      const props = {data: data, metadata: metadata[EXEC_MIME_TYPE]};\n",
       "      render(props, toinsert[toinsert.length - 1]);\n",
       "      element.append(toinsert);\n",
       "      return toinsert\n",
       "    }\n",
       "\n",
       "    /* Handle when an output is cleared or removed */\n",
       "    events.on('clear_output.CodeCell', handleClearOutput);\n",
       "    events.on('delete.Cell', handleClearOutput);\n",
       "\n",
       "    /* Handle when a new output is added */\n",
       "    events.on('output_added.OutputArea', handleAddOutput);\n",
       "\n",
       "    /**\n",
       "     * Register the mime type and append_mime function with output_area\n",
       "     */\n",
       "    OutputArea.prototype.register_mime_type(EXEC_MIME_TYPE, append_mime, {\n",
       "      /* Is output safe? */\n",
       "      safe: true,\n",
       "      /* Index of renderer in `output_area.display_order` */\n",
       "      index: 0\n",
       "    });\n",
       "  }\n",
       "\n",
       "  // register the mime type if in Jupyter Notebook environment and previously unregistered\n",
       "  if (root.Jupyter !== undefined) {\n",
       "    const events = require('base/js/events');\n",
       "    const OutputArea = require('notebook/js/outputarea').OutputArea;\n",
       "\n",
       "    if (OutputArea.prototype.mime_types().indexOf(EXEC_MIME_TYPE) == -1) {\n",
       "      register_renderer(events, OutputArea);\n",
       "    }\n",
       "  }\n",
       "  if (typeof (root._bokeh_timeout) === \"undefined\" || force === true) {\n",
       "    root._bokeh_timeout = Date.now() + 5000;\n",
       "    root._bokeh_failed_load = false;\n",
       "  }\n",
       "\n",
       "  const NB_LOAD_WARNING = {'data': {'text/html':\n",
       "     \"<div style='background-color: #fdd'>\\n\"+\n",
       "     \"<p>\\n\"+\n",
       "     \"BokehJS does not appear to have successfully loaded. If loading BokehJS from CDN, this \\n\"+\n",
       "     \"may be due to a slow or bad network connection. Possible fixes:\\n\"+\n",
       "     \"</p>\\n\"+\n",
       "     \"<ul>\\n\"+\n",
       "     \"<li>re-rerun `output_notebook()` to attempt to load from CDN again, or</li>\\n\"+\n",
       "     \"<li>use INLINE resources instead, as so:</li>\\n\"+\n",
       "     \"</ul>\\n\"+\n",
       "     \"<code>\\n\"+\n",
       "     \"from bokeh.resources import INLINE\\n\"+\n",
       "     \"output_notebook(resources=INLINE)\\n\"+\n",
       "     \"</code>\\n\"+\n",
       "     \"</div>\"}};\n",
       "\n",
       "  function display_loaded() {\n",
       "    const el = document.getElementById(\"1002\");\n",
       "    if (el != null) {\n",
       "      el.textContent = \"BokehJS is loading...\";\n",
       "    }\n",
       "    if (root.Bokeh !== undefined) {\n",
       "      if (el != null) {\n",
       "        el.textContent = \"BokehJS \" + root.Bokeh.version + \" successfully loaded.\";\n",
       "      }\n",
       "    } else if (Date.now() < root._bokeh_timeout) {\n",
       "      setTimeout(display_loaded, 100)\n",
       "    }\n",
       "  }\n",
       "\n",
       "  function run_callbacks() {\n",
       "    try {\n",
       "      root._bokeh_onload_callbacks.forEach(function(callback) {\n",
       "        if (callback != null)\n",
       "          callback();\n",
       "      });\n",
       "    } finally {\n",
       "      delete root._bokeh_onload_callbacks\n",
       "    }\n",
       "    console.debug(\"Bokeh: all callbacks have finished\");\n",
       "  }\n",
       "\n",
       "  function load_libs(css_urls, js_urls, callback) {\n",
       "    if (css_urls == null) css_urls = [];\n",
       "    if (js_urls == null) js_urls = [];\n",
       "\n",
       "    root._bokeh_onload_callbacks.push(callback);\n",
       "    if (root._bokeh_is_loading > 0) {\n",
       "      console.debug(\"Bokeh: BokehJS is being loaded, scheduling callback at\", now());\n",
       "      return null;\n",
       "    }\n",
       "    if (js_urls == null || js_urls.length === 0) {\n",
       "      run_callbacks();\n",
       "      return null;\n",
       "    }\n",
       "    console.debug(\"Bokeh: BokehJS not loaded, scheduling load and callback at\", now());\n",
       "    root._bokeh_is_loading = css_urls.length + js_urls.length;\n",
       "\n",
       "    function on_load() {\n",
       "      root._bokeh_is_loading--;\n",
       "      if (root._bokeh_is_loading === 0) {\n",
       "        console.debug(\"Bokeh: all BokehJS libraries/stylesheets loaded\");\n",
       "        run_callbacks()\n",
       "      }\n",
       "    }\n",
       "\n",
       "    function on_error(url) {\n",
       "      console.error(\"failed to load \" + url);\n",
       "    }\n",
       "\n",
       "    for (let i = 0; i < css_urls.length; i++) {\n",
       "      const url = css_urls[i];\n",
       "      const element = document.createElement(\"link\");\n",
       "      element.onload = on_load;\n",
       "      element.onerror = on_error.bind(null, url);\n",
       "      element.rel = \"stylesheet\";\n",
       "      element.type = \"text/css\";\n",
       "      element.href = url;\n",
       "      console.debug(\"Bokeh: injecting link tag for BokehJS stylesheet: \", url);\n",
       "      document.body.appendChild(element);\n",
       "    }\n",
       "\n",
       "    for (let i = 0; i < js_urls.length; i++) {\n",
       "      const url = js_urls[i];\n",
       "      const element = document.createElement('script');\n",
       "      element.onload = on_load;\n",
       "      element.onerror = on_error.bind(null, url);\n",
       "      element.async = false;\n",
       "      element.src = url;\n",
       "      console.debug(\"Bokeh: injecting script tag for BokehJS library: \", url);\n",
       "      document.head.appendChild(element);\n",
       "    }\n",
       "  };\n",
       "\n",
       "  function inject_raw_css(css) {\n",
       "    const element = document.createElement(\"style\");\n",
       "    element.appendChild(document.createTextNode(css));\n",
       "    document.body.appendChild(element);\n",
       "  }\n",
       "\n",
       "  const js_urls = [\"https://cdn.bokeh.org/bokeh/release/bokeh-2.4.3.min.js\", \"https://cdn.bokeh.org/bokeh/release/bokeh-gl-2.4.3.min.js\", \"https://cdn.bokeh.org/bokeh/release/bokeh-widgets-2.4.3.min.js\", \"https://cdn.bokeh.org/bokeh/release/bokeh-tables-2.4.3.min.js\", \"https://cdn.bokeh.org/bokeh/release/bokeh-mathjax-2.4.3.min.js\"];\n",
       "  const css_urls = [];\n",
       "\n",
       "  const inline_js = [    function(Bokeh) {\n",
       "      Bokeh.set_log_level(\"info\");\n",
       "    },\n",
       "function(Bokeh) {\n",
       "    }\n",
       "  ];\n",
       "\n",
       "  function run_inline_js() {\n",
       "    if (root.Bokeh !== undefined || force === true) {\n",
       "          for (let i = 0; i < inline_js.length; i++) {\n",
       "      inline_js[i].call(root, root.Bokeh);\n",
       "    }\n",
       "if (force === true) {\n",
       "        display_loaded();\n",
       "      }} else if (Date.now() < root._bokeh_timeout) {\n",
       "      setTimeout(run_inline_js, 100);\n",
       "    } else if (!root._bokeh_failed_load) {\n",
       "      console.log(\"Bokeh: BokehJS failed to load within specified timeout.\");\n",
       "      root._bokeh_failed_load = true;\n",
       "    } else if (force !== true) {\n",
       "      const cell = $(document.getElementById(\"1002\")).parents('.cell').data().cell;\n",
       "      cell.output_area.append_execute_result(NB_LOAD_WARNING)\n",
       "    }\n",
       "  }\n",
       "\n",
       "  if (root._bokeh_is_loading === 0) {\n",
       "    console.debug(\"Bokeh: BokehJS loaded, going straight to plotting\");\n",
       "    run_inline_js();\n",
       "  } else {\n",
       "    load_libs(css_urls, js_urls, function() {\n",
       "      console.debug(\"Bokeh: BokehJS plotting callback run at\", now());\n",
       "      run_inline_js();\n",
       "    });\n",
       "  }\n",
       "}(window));"
      ],
      "application/vnd.bokehjs_load.v0+json": "(function(root) {\n  function now() {\n    return new Date();\n  }\n\n  const force = true;\n\n  if (typeof root._bokeh_onload_callbacks === \"undefined\" || force === true) {\n    root._bokeh_onload_callbacks = [];\n    root._bokeh_is_loading = undefined;\n  }\n\n\n  if (typeof (root._bokeh_timeout) === \"undefined\" || force === true) {\n    root._bokeh_timeout = Date.now() + 5000;\n    root._bokeh_failed_load = false;\n  }\n\n  const NB_LOAD_WARNING = {'data': {'text/html':\n     \"<div style='background-color: #fdd'>\\n\"+\n     \"<p>\\n\"+\n     \"BokehJS does not appear to have successfully loaded. If loading BokehJS from CDN, this \\n\"+\n     \"may be due to a slow or bad network connection. Possible fixes:\\n\"+\n     \"</p>\\n\"+\n     \"<ul>\\n\"+\n     \"<li>re-rerun `output_notebook()` to attempt to load from CDN again, or</li>\\n\"+\n     \"<li>use INLINE resources instead, as so:</li>\\n\"+\n     \"</ul>\\n\"+\n     \"<code>\\n\"+\n     \"from bokeh.resources import INLINE\\n\"+\n     \"output_notebook(resources=INLINE)\\n\"+\n     \"</code>\\n\"+\n     \"</div>\"}};\n\n  function display_loaded() {\n    const el = document.getElementById(\"1002\");\n    if (el != null) {\n      el.textContent = \"BokehJS is loading...\";\n    }\n    if (root.Bokeh !== undefined) {\n      if (el != null) {\n        el.textContent = \"BokehJS \" + root.Bokeh.version + \" successfully loaded.\";\n      }\n    } else if (Date.now() < root._bokeh_timeout) {\n      setTimeout(display_loaded, 100)\n    }\n  }\n\n  function run_callbacks() {\n    try {\n      root._bokeh_onload_callbacks.forEach(function(callback) {\n        if (callback != null)\n          callback();\n      });\n    } finally {\n      delete root._bokeh_onload_callbacks\n    }\n    console.debug(\"Bokeh: all callbacks have finished\");\n  }\n\n  function load_libs(css_urls, js_urls, callback) {\n    if (css_urls == null) css_urls = [];\n    if (js_urls == null) js_urls = [];\n\n    root._bokeh_onload_callbacks.push(callback);\n    if (root._bokeh_is_loading > 0) {\n      console.debug(\"Bokeh: BokehJS is being loaded, scheduling callback at\", now());\n      return null;\n    }\n    if (js_urls == null || js_urls.length === 0) {\n      run_callbacks();\n      return null;\n    }\n    console.debug(\"Bokeh: BokehJS not loaded, scheduling load and callback at\", now());\n    root._bokeh_is_loading = css_urls.length + js_urls.length;\n\n    function on_load() {\n      root._bokeh_is_loading--;\n      if (root._bokeh_is_loading === 0) {\n        console.debug(\"Bokeh: all BokehJS libraries/stylesheets loaded\");\n        run_callbacks()\n      }\n    }\n\n    function on_error(url) {\n      console.error(\"failed to load \" + url);\n    }\n\n    for (let i = 0; i < css_urls.length; i++) {\n      const url = css_urls[i];\n      const element = document.createElement(\"link\");\n      element.onload = on_load;\n      element.onerror = on_error.bind(null, url);\n      element.rel = \"stylesheet\";\n      element.type = \"text/css\";\n      element.href = url;\n      console.debug(\"Bokeh: injecting link tag for BokehJS stylesheet: \", url);\n      document.body.appendChild(element);\n    }\n\n    for (let i = 0; i < js_urls.length; i++) {\n      const url = js_urls[i];\n      const element = document.createElement('script');\n      element.onload = on_load;\n      element.onerror = on_error.bind(null, url);\n      element.async = false;\n      element.src = url;\n      console.debug(\"Bokeh: injecting script tag for BokehJS library: \", url);\n      document.head.appendChild(element);\n    }\n  };\n\n  function inject_raw_css(css) {\n    const element = document.createElement(\"style\");\n    element.appendChild(document.createTextNode(css));\n    document.body.appendChild(element);\n  }\n\n  const js_urls = [\"https://cdn.bokeh.org/bokeh/release/bokeh-2.4.3.min.js\", \"https://cdn.bokeh.org/bokeh/release/bokeh-gl-2.4.3.min.js\", \"https://cdn.bokeh.org/bokeh/release/bokeh-widgets-2.4.3.min.js\", \"https://cdn.bokeh.org/bokeh/release/bokeh-tables-2.4.3.min.js\", \"https://cdn.bokeh.org/bokeh/release/bokeh-mathjax-2.4.3.min.js\"];\n  const css_urls = [];\n\n  const inline_js = [    function(Bokeh) {\n      Bokeh.set_log_level(\"info\");\n    },\nfunction(Bokeh) {\n    }\n  ];\n\n  function run_inline_js() {\n    if (root.Bokeh !== undefined || force === true) {\n          for (let i = 0; i < inline_js.length; i++) {\n      inline_js[i].call(root, root.Bokeh);\n    }\nif (force === true) {\n        display_loaded();\n      }} else if (Date.now() < root._bokeh_timeout) {\n      setTimeout(run_inline_js, 100);\n    } else if (!root._bokeh_failed_load) {\n      console.log(\"Bokeh: BokehJS failed to load within specified timeout.\");\n      root._bokeh_failed_load = true;\n    } else if (force !== true) {\n      const cell = $(document.getElementById(\"1002\")).parents('.cell').data().cell;\n      cell.output_area.append_execute_result(NB_LOAD_WARNING)\n    }\n  }\n\n  if (root._bokeh_is_loading === 0) {\n    console.debug(\"Bokeh: BokehJS loaded, going straight to plotting\");\n    run_inline_js();\n  } else {\n    load_libs(css_urls, js_urls, function() {\n      console.debug(\"Bokeh: BokehJS plotting callback run at\", now());\n      run_inline_js();\n    });\n  }\n}(window));"
     },
     "metadata": {},
     "output_type": "display_data"
    }
   ],
   "source": [
    "from mylib import Puller, PlotDisplayer, Slider, Time\n",
    "import time\n",
    "import numpy as np\n",
    "import pandas as pd\n",
    "import datetime\n",
    "from bokeh.io import push_notebook, show, output_notebook\n",
    "from bokeh.plotting import figure\n",
    "from bokeh.layouts import gridplot, layout\n",
    "from jupyter_ui_poll import ui_events\n",
    "import ipywidgets\n",
    "import matplotlib\n",
    "import scipy\n",
    "from scipy import stats\n",
    "import random\n",
    "import os\n",
    "\n",
    "output_notebook()\n",
    "pl = Puller(simulate=True)  #simulate=True\n",
    "random.seed()\n",
    "\n",
    "# инициализация запускать только один раз"
   ]
  },
  {
   "cell_type": "code",
   "execution_count": 3,
   "metadata": {},
   "outputs": [],
   "source": [
    "Time.SetZeroTime()\n",
    "Time.unfreez()"
   ]
  },
  {
   "cell_type": "code",
   "execution_count": 4,
   "metadata": {
    "pycharm": {
     "name": "#%%\n"
    }
   },
   "outputs": [
    {
     "data": {
      "application/vnd.jupyter.widget-view+json": {
       "model_id": "e56b6ed33a46429cb5d4d8adabd19386",
       "version_major": 2,
       "version_minor": 0
      },
      "text/plain": [
       "GridspecLayout(children=(Button(description='Stop All Motors', layout=Layout(grid_area='widget001'), style=But…"
      ]
     },
     "metadata": {},
     "output_type": "display_data"
    }
   ],
   "source": [
    "pl.ms.StopButton() # кнопки для остоновки моторчиков в нештатной ситуации"
   ]
  },
  {
   "cell_type": "code",
   "execution_count": 5,
   "metadata": {},
   "outputs": [
    {
     "data": {
      "text/plain": [
       "0"
      ]
     },
     "execution_count": 5,
     "metadata": {},
     "output_type": "execute_result"
    }
   ],
   "source": [
    "pl.ms.motorM.Set_velocity(v=20, a=20)"
   ]
  },
  {
   "cell_type": "code",
   "execution_count": 6,
   "metadata": {
    "pycharm": {
     "name": "#%%\n"
    }
   },
   "outputs": [],
   "source": [
    "pl.ms.MoveToStart(zapas=10) # сдвиг моторчиков на начальные позиции для растяжки\n",
    "pl.ms.motorM.MoveTo(0);\n",
    "while pl.ms.IsInMotion():\n",
    "    pass"
   ]
  },
  {
   "cell_type": "code",
   "execution_count": 7,
   "metadata": {
    "pycharm": {
     "name": "#%%\n"
    }
   },
   "outputs": [
    {
     "data": {
      "text/plain": [
       "9275.785413727697"
      ]
     },
     "execution_count": 7,
     "metadata": {},
     "output_type": "execute_result"
    }
   ],
   "source": [
    "pl.tg.SetZeroWeight(3) # калибровка тензодатчика"
   ]
  },
  {
   "cell_type": "code",
   "execution_count": 8,
   "metadata": {},
   "outputs": [],
   "source": [
    "# pl.sim.l0=pl.ms.Distance(useL0=False)+2"
   ]
  },
  {
   "cell_type": "code",
   "execution_count": 9,
   "metadata": {},
   "outputs": [
    {
     "data": {
      "text/plain": [
       "0.0"
      ]
     },
     "execution_count": 9,
     "metadata": {},
     "output_type": "execute_result"
    }
   ],
   "source": [
    "pl.tg.ReadValue(tau=0)"
   ]
  },
  {
   "cell_type": "code",
   "execution_count": 10,
   "metadata": {},
   "outputs": [
    {
     "name": "stdout",
     "output_type": "stream",
     "text": [
      "w=  0.0 , dw=  -20.0 , dx=   0.04623303699500446\n",
      "w=  16.8279816240738 , dw=  -3.1720183759262 , dx=   0.007332602146151499\n",
      "w=  19.495859861237477 , dw=  -0.5041401387625228 , dx=   0.00116539648430372\n",
      "w=  19.919848625380837 , dw=  -0.08015137461916311 , dx=   0.00018528207339841147\n",
      "SetW finish value= 19.987256357677325\n"
     ]
    }
   ],
   "source": [
    "pl.SetW(20, dw=0.1, tau=1,quiet=False); # натяжка волокна"
   ]
  },
  {
   "cell_type": "code",
   "execution_count": 11,
   "metadata": {},
   "outputs": [],
   "source": [
    "pl.ms.motorM.MoveTo(pl.ms.motorM.position_min+2); # опускание молибдена вниз перед разогревом"
   ]
  },
  {
   "cell_type": "code",
   "execution_count": 12,
   "metadata": {},
   "outputs": [],
   "source": [
    "x0=60\n",
    "pl.ms.x0=x0\n",
    "pl.sim.hotFL=True"
   ]
  },
  {
   "cell_type": "code",
   "execution_count": 13,
   "metadata": {},
   "outputs": [],
   "source": [
    "while pl.ms.IsInMotion():\n",
    "    pass\n",
    "dp=PlotDisplayer()\n",
    "# dp2=PlotDisplayer()\n",
    "# dp2.CreateMaket(mainParam= 'time',obr_coff=pd.DataFrame({\n",
    "#     'time': pl.times,\n",
    "#     'kof': pl.trueKmas\n",
    "# }))\n",
    "dp.CreateMaket(mainParam='time',power=pl.data[['time','power']],\n",
    "                    tension=pl.data[['time','tension','tensionWgl', 'tensionEXPgl']],\n",
    "                  motors=pl.data[['time','motorR','motorL','motorM']]\n",
    "                #   v_and_a=pl.data[['time','vL','vR','aL','aR']]\n",
    "         )\n",
    "sl=Slider()\n",
    "sl.NewSl('v',min=0.1,max=9,value=5,step=0.1)\n",
    "sl.NewSl('a',min=0.1,max=9,value=5,step=0.1)\n",
    "sl.NewSl('dvKof', max=3,value=0,step=0.01)\n",
    "sl.NewSl('dv', max=0.5,value=0.001,step=0.0001)\n",
    "sl.NewSl('window',min=50, max=10000,value=100, step=50)\n",
    "sl.NewSl('molibdenH',min=-10, max=23.5,value=0.0,step=0.1)\n",
    "sl.NewSl('Kp',min=0, max=10,value=0.35,step=0.01)\n",
    "sl.NewSl('Ki',min=0, max=10,value=0,step=0.01)\n",
    "sl.NewSl('Kd',min=0, max=10,value=0,step=0.01)\n",
    "sl.NewSl('T0',min=0, max=200,value=20,step=0.01)\n",
    "sl.NewBtn('molibden','up molibden','doun molibden')\n",
    "sl.NewBtn('end','end','end2','end3','vse','bolshe ne jmi','nu pravda ne nado', 'samiy umniy da?')\n",
    "sl.NewBtn('start dv','start dv','stop dv')\n",
    "sl.NewBtn('start stabili','start st','stop st')\n",
    "sl.NewTt('x')\n",
    "sl.NewTt('L')\n",
    "sl.NewTt('R')\n",
    "sl.NewTt('dv')\n",
    "sl.NewTt('T')"
   ]
  },
  {
   "cell_type": "code",
   "execution_count": null,
   "metadata": {},
   "outputs": [
    {
     "data": {
      "text/html": [
       "\n",
       "  <div class=\"bk-root\" id=\"e14bf805-69c2-47b6-bd3a-c26af8d13501\" data-root-id=\"1247\"></div>\n"
      ]
     },
     "metadata": {},
     "output_type": "display_data"
    },
    {
     "data": {
      "application/javascript": [
       "(function(root) {\n",
       "  function embed_document(root) {\n",
       "  const docs_json = {\"7f3c01fc-d5f8-4715-b1a1-1b1d4e68fb6f\":{\"defs\":[],\"roots\":{\"references\":[{\"attributes\":{\"children\":[{\"id\":\"1244\"},{\"id\":\"1245\"},{\"id\":\"1246\"}]},\"id\":\"1247\",\"type\":\"Column\"},{\"attributes\":{},\"id\":\"1125\",\"type\":\"Selection\"},{\"attributes\":{},\"id\":\"1099\",\"type\":\"AllLabels\"},{\"attributes\":{\"overlay\":{\"id\":\"1175\"}},\"id\":\"1171\",\"type\":\"BoxZoomTool\"},{\"attributes\":{},\"id\":\"1196\",\"type\":\"AllLabels\"},{\"attributes\":{},\"id\":\"1027\",\"type\":\"ResetTool\"},{\"attributes\":{},\"id\":\"1172\",\"type\":\"SaveTool\"},{\"attributes\":{},\"id\":\"1101\",\"type\":\"BasicTickFormatter\"},{\"attributes\":{},\"id\":\"1174\",\"type\":\"HelpTool\"},{\"attributes\":{\"bottom_units\":\"screen\",\"coordinates\":null,\"fill_alpha\":0.5,\"fill_color\":\"lightgrey\",\"group\":null,\"left_units\":\"screen\",\"level\":\"overlay\",\"line_alpha\":1.0,\"line_color\":\"black\",\"line_dash\":[4,4],\"line_width\":2,\"right_units\":\"screen\",\"syncable\":false,\"top_units\":\"screen\"},\"id\":\"1029\",\"type\":\"BoxAnnotation\"},{\"attributes\":{},\"id\":\"1173\",\"type\":\"ResetTool\"},{\"attributes\":{\"bottom_units\":\"screen\",\"coordinates\":null,\"fill_alpha\":0.5,\"fill_color\":\"lightgrey\",\"group\":null,\"left_units\":\"screen\",\"level\":\"overlay\",\"line_alpha\":1.0,\"line_color\":\"black\",\"line_dash\":[4,4],\"line_width\":2,\"right_units\":\"screen\",\"syncable\":false,\"top_units\":\"screen\"},\"id\":\"1081\",\"type\":\"BoxAnnotation\"},{\"attributes\":{},\"id\":\"1102\",\"type\":\"AllLabels\"},{\"attributes\":{},\"id\":\"1104\",\"type\":\"Selection\"},{\"attributes\":{},\"id\":\"1052\",\"type\":\"Selection\"},{\"attributes\":{\"bottom_units\":\"screen\",\"coordinates\":null,\"fill_alpha\":0.5,\"fill_color\":\"lightgrey\",\"group\":null,\"left_units\":\"screen\",\"level\":\"overlay\",\"line_alpha\":1.0,\"line_color\":\"black\",\"line_dash\":[4,4],\"line_width\":2,\"right_units\":\"screen\",\"syncable\":false,\"top_units\":\"screen\"},\"id\":\"1175\",\"type\":\"BoxAnnotation\"},{\"attributes\":{},\"id\":\"1197\",\"type\":\"UnionRenderers\"},{\"attributes\":{},\"id\":\"1198\",\"type\":\"Selection\"},{\"attributes\":{},\"id\":\"1051\",\"type\":\"UnionRenderers\"},{\"attributes\":{\"label\":{\"value\":\"tensionWgl\"},\"renderers\":[{\"id\":\"1113\"}]},\"id\":\"1127\",\"type\":\"LegendItem\"},{\"attributes\":{\"source\":{\"id\":\"1037\"}},\"id\":\"1043\",\"type\":\"CDSView\"},{\"attributes\":{\"line_alpha\":0.2,\"line_color\":\"green\",\"x\":{\"field\":\"time\"},\"y\":{\"field\":\"tensionEXPgl\"}},\"id\":\"1132\",\"type\":\"Line\"},{\"attributes\":{\"line_color\":\"green\",\"x\":{\"field\":\"time\"},\"y\":{\"field\":\"tensionEXPgl\"}},\"id\":\"1130\",\"type\":\"Line\"},{\"attributes\":{\"line_alpha\":0.2,\"line_color\":\"red\",\"x\":{\"field\":\"time\"},\"y\":{\"field\":\"motorR\"}},\"id\":\"1187\",\"type\":\"Line\"},{\"attributes\":{\"line_color\":\"red\",\"x\":{\"field\":\"time\"},\"y\":{\"field\":\"motorR\"}},\"id\":\"1185\",\"type\":\"Line\"},{\"attributes\":{\"coordinates\":null,\"data_source\":{\"id\":\"1037\"},\"glyph\":{\"id\":\"1039\"},\"group\":null,\"hover_glyph\":null,\"muted_glyph\":{\"id\":\"1041\"},\"nonselection_glyph\":{\"id\":\"1040\"},\"view\":{\"id\":\"1043\"}},\"id\":\"1042\",\"type\":\"GlyphRenderer\"},{\"attributes\":{\"line_alpha\":0.2,\"line_color\":\"red\",\"x\":{\"field\":\"time\"},\"y\":{\"field\":\"tension\"}},\"id\":\"1093\",\"type\":\"Line\"},{\"attributes\":{\"coordinates\":null,\"data_source\":{\"id\":\"1128\"},\"glyph\":{\"id\":\"1130\"},\"group\":null,\"hover_glyph\":null,\"muted_glyph\":{\"id\":\"1132\"},\"nonselection_glyph\":{\"id\":\"1131\"},\"view\":{\"id\":\"1134\"}},\"id\":\"1133\",\"type\":\"GlyphRenderer\"},{\"attributes\":{\"line_color\":\"red\",\"x\":{\"field\":\"time\"},\"y\":{\"field\":\"tension\"}},\"id\":\"1091\",\"type\":\"Line\"},{\"attributes\":{\"source\":{\"id\":\"1128\"}},\"id\":\"1134\",\"type\":\"CDSView\"},{\"attributes\":{\"label\":{\"value\":\"power\"},\"renderers\":[{\"id\":\"1042\"}]},\"id\":\"1055\",\"type\":\"LegendItem\"},{\"attributes\":{\"label\":{\"value\":\"motorR\"},\"renderers\":[{\"id\":\"1188\"}]},\"id\":\"1201\",\"type\":\"LegendItem\"},{\"attributes\":{\"line_color\":\"red\",\"x\":{\"field\":\"time\"},\"y\":{\"field\":\"power\"}},\"id\":\"1039\",\"type\":\"Line\"},{\"attributes\":{\"label\":{\"value\":\"tension\"},\"renderers\":[{\"id\":\"1094\"}]},\"id\":\"1107\",\"type\":\"LegendItem\"},{\"attributes\":{\"coordinates\":null,\"data_source\":{\"id\":\"1183\"},\"glyph\":{\"id\":\"1185\"},\"group\":null,\"hover_glyph\":null,\"muted_glyph\":{\"id\":\"1187\"},\"nonselection_glyph\":{\"id\":\"1186\"},\"view\":{\"id\":\"1189\"}},\"id\":\"1188\",\"type\":\"GlyphRenderer\"},{\"attributes\":{\"coordinates\":null,\"data_source\":{\"id\":\"1089\"},\"glyph\":{\"id\":\"1091\"},\"group\":null,\"hover_glyph\":null,\"muted_glyph\":{\"id\":\"1093\"},\"nonselection_glyph\":{\"id\":\"1092\"},\"view\":{\"id\":\"1095\"}},\"id\":\"1094\",\"type\":\"GlyphRenderer\"},{\"attributes\":{\"source\":{\"id\":\"1183\"}},\"id\":\"1189\",\"type\":\"CDSView\"},{\"attributes\":{},\"id\":\"1195\",\"type\":\"BasicTickFormatter\"},{\"attributes\":{\"data\":{\"index\":[],\"power\":[],\"time\":[]},\"selected\":{\"id\":\"1052\"},\"selection_policy\":{\"id\":\"1051\"}},\"id\":\"1037\",\"type\":\"ColumnDataSource\"},{\"attributes\":{\"source\":{\"id\":\"1089\"}},\"id\":\"1095\",\"type\":\"CDSView\"},{\"attributes\":{},\"id\":\"1147\",\"type\":\"Selection\"},{\"attributes\":{\"label\":{\"value\":\"tensionEXPgl\"},\"renderers\":[{\"id\":\"1133\"}]},\"id\":\"1149\",\"type\":\"LegendItem\"},{\"attributes\":{\"line_alpha\":0.1,\"line_color\":\"red\",\"x\":{\"field\":\"time\"},\"y\":{\"field\":\"motorR\"}},\"id\":\"1186\",\"type\":\"Line\"},{\"attributes\":{\"coordinates\":null,\"group\":null,\"items\":[{\"id\":\"1055\"}]},\"id\":\"1054\",\"type\":\"Legend\"},{\"attributes\":{\"below\":[{\"id\":\"1015\"}],\"center\":[{\"id\":\"1018\"},{\"id\":\"1022\"},{\"id\":\"1054\"}],\"height\":300,\"left\":[{\"id\":\"1019\"}],\"renderers\":[{\"id\":\"1042\"}],\"title\":{\"id\":\"1005\"},\"toolbar\":{\"id\":\"1030\"},\"width\":980,\"x_range\":{\"id\":\"1007\"},\"x_scale\":{\"id\":\"1011\"},\"y_range\":{\"id\":\"1009\"},\"y_scale\":{\"id\":\"1013\"}},\"id\":\"1004\",\"subtype\":\"Figure\",\"type\":\"Plot\"},{\"attributes\":{\"line_alpha\":0.2,\"line_color\":\"red\",\"x\":{\"field\":\"time\"},\"y\":{\"field\":\"power\"}},\"id\":\"1041\",\"type\":\"Line\"},{\"attributes\":{\"line_alpha\":0.1,\"line_color\":\"green\",\"x\":{\"field\":\"time\"},\"y\":{\"field\":\"tensionEXPgl\"}},\"id\":\"1131\",\"type\":\"Line\"},{\"attributes\":{\"line_alpha\":0.1,\"line_color\":\"red\",\"x\":{\"field\":\"time\"},\"y\":{\"field\":\"power\"}},\"id\":\"1040\",\"type\":\"Line\"},{\"attributes\":{},\"id\":\"1146\",\"type\":\"UnionRenderers\"},{\"attributes\":{\"tools\":[{\"id\":\"1023\"},{\"id\":\"1024\"},{\"id\":\"1025\"},{\"id\":\"1026\"},{\"id\":\"1027\"},{\"id\":\"1028\"}]},\"id\":\"1030\",\"type\":\"Toolbar\"},{\"attributes\":{},\"id\":\"1155\",\"type\":\"DataRange1d\"},{\"attributes\":{},\"id\":\"1068\",\"type\":\"BasicTicker\"},{\"attributes\":{},\"id\":\"1061\",\"type\":\"DataRange1d\"},{\"attributes\":{},\"id\":\"1098\",\"type\":\"BasicTickFormatter\"},{\"attributes\":{},\"id\":\"1193\",\"type\":\"AllLabels\"},{\"attributes\":{\"axis\":{\"id\":\"1019\"},\"coordinates\":null,\"dimension\":1,\"group\":null,\"ticker\":null},\"id\":\"1022\",\"type\":\"Grid\"},{\"attributes\":{\"coordinates\":null,\"group\":null,\"text\":\"tension\"},\"id\":\"1057\",\"type\":\"Title\"},{\"attributes\":{},\"id\":\"1162\",\"type\":\"BasicTicker\"},{\"attributes\":{\"data\":{\"index\":[],\"tension\":[],\"tensionEXPgl\":[],\"tensionWgl\":[],\"time\":[]},\"selected\":{\"id\":\"1104\"},\"selection_policy\":{\"id\":\"1103\"}},\"id\":\"1089\",\"type\":\"ColumnDataSource\"},{\"attributes\":{},\"id\":\"1124\",\"type\":\"UnionRenderers\"},{\"attributes\":{},\"id\":\"1218\",\"type\":\"UnionRenderers\"},{\"attributes\":{\"data\":{\"index\":[],\"tension\":[],\"tensionEXPgl\":[],\"tensionWgl\":[],\"time\":[]},\"selected\":{\"id\":\"1125\"},\"selection_policy\":{\"id\":\"1124\"}},\"id\":\"1108\",\"type\":\"ColumnDataSource\"},{\"attributes\":{\"data\":{\"index\":[],\"motorL\":[],\"motorM\":[],\"motorR\":[],\"time\":[]},\"selected\":{\"id\":\"1219\"},\"selection_policy\":{\"id\":\"1218\"}},\"id\":\"1202\",\"type\":\"ColumnDataSource\"},{\"attributes\":{},\"id\":\"1009\",\"type\":\"DataRange1d\"},{\"attributes\":{\"coordinates\":null,\"formatter\":{\"id\":\"1098\"},\"group\":null,\"major_label_policy\":{\"id\":\"1099\"},\"ticker\":{\"id\":\"1072\"}},\"id\":\"1071\",\"type\":\"LinearAxis\"},{\"attributes\":{\"coordinates\":null,\"group\":null,\"text\":\"motors\"},\"id\":\"1151\",\"type\":\"Title\"},{\"attributes\":{},\"id\":\"1007\",\"type\":\"DataRange1d\"},{\"attributes\":{},\"id\":\"1059\",\"type\":\"DataRange1d\"},{\"attributes\":{},\"id\":\"1050\",\"type\":\"AllLabels\"},{\"attributes\":{\"below\":[{\"id\":\"1067\"}],\"center\":[{\"id\":\"1070\"},{\"id\":\"1074\"},{\"id\":\"1106\"}],\"height\":300,\"left\":[{\"id\":\"1071\"}],\"renderers\":[{\"id\":\"1094\"},{\"id\":\"1113\"},{\"id\":\"1133\"}],\"title\":{\"id\":\"1057\"},\"toolbar\":{\"id\":\"1082\"},\"width\":980,\"x_range\":{\"id\":\"1059\"},\"x_scale\":{\"id\":\"1063\"},\"y_range\":{\"id\":\"1061\"},\"y_scale\":{\"id\":\"1065\"}},\"id\":\"1056\",\"subtype\":\"Figure\",\"type\":\"Plot\"},{\"attributes\":{\"below\":[{\"id\":\"1161\"}],\"center\":[{\"id\":\"1164\"},{\"id\":\"1168\"},{\"id\":\"1200\"}],\"height\":300,\"left\":[{\"id\":\"1165\"}],\"renderers\":[{\"id\":\"1188\"},{\"id\":\"1207\"},{\"id\":\"1227\"}],\"title\":{\"id\":\"1151\"},\"toolbar\":{\"id\":\"1176\"},\"width\":980,\"x_range\":{\"id\":\"1153\"},\"x_scale\":{\"id\":\"1157\"},\"y_range\":{\"id\":\"1155\"},\"y_scale\":{\"id\":\"1159\"}},\"id\":\"1150\",\"subtype\":\"Figure\",\"type\":\"Plot\"},{\"attributes\":{},\"id\":\"1065\",\"type\":\"LinearScale\"},{\"attributes\":{},\"id\":\"1023\",\"type\":\"PanTool\"},{\"attributes\":{\"line_color\":\"blue\",\"x\":{\"field\":\"time\"},\"y\":{\"field\":\"tensionWgl\"}},\"id\":\"1110\",\"type\":\"Line\"},{\"attributes\":{\"coordinates\":null,\"formatter\":{\"id\":\"1046\"},\"group\":null,\"major_label_policy\":{\"id\":\"1047\"},\"ticker\":{\"id\":\"1020\"}},\"id\":\"1019\",\"type\":\"LinearAxis\"},{\"attributes\":{\"axis\":{\"id\":\"1067\"},\"coordinates\":null,\"group\":null,\"ticker\":null},\"id\":\"1070\",\"type\":\"Grid\"},{\"attributes\":{\"data\":{\"index\":[],\"motorL\":[],\"motorM\":[],\"motorR\":[],\"time\":[]},\"selected\":{\"id\":\"1198\"},\"selection_policy\":{\"id\":\"1197\"}},\"id\":\"1183\",\"type\":\"ColumnDataSource\"},{\"attributes\":{\"coordinates\":null,\"group\":null,\"text\":\"power\"},\"id\":\"1005\",\"type\":\"Title\"},{\"attributes\":{},\"id\":\"1063\",\"type\":\"LinearScale\"},{\"attributes\":{\"line_color\":\"blue\",\"x\":{\"field\":\"time\"},\"y\":{\"field\":\"motorL\"}},\"id\":\"1204\",\"type\":\"Line\"},{\"attributes\":{},\"id\":\"1016\",\"type\":\"BasicTicker\"},{\"attributes\":{\"coordinates\":null,\"formatter\":{\"id\":\"1101\"},\"group\":null,\"major_label_policy\":{\"id\":\"1102\"},\"ticker\":{\"id\":\"1068\"}},\"id\":\"1067\",\"type\":\"LinearAxis\"},{\"attributes\":{\"coordinates\":null,\"formatter\":{\"id\":\"1192\"},\"group\":null,\"major_label_policy\":{\"id\":\"1193\"},\"ticker\":{\"id\":\"1166\"}},\"id\":\"1165\",\"type\":\"LinearAxis\"},{\"attributes\":{},\"id\":\"1013\",\"type\":\"LinearScale\"},{\"attributes\":{\"coordinates\":null,\"data_source\":{\"id\":\"1108\"},\"glyph\":{\"id\":\"1110\"},\"group\":null,\"hover_glyph\":null,\"muted_glyph\":{\"id\":\"1112\"},\"nonselection_glyph\":{\"id\":\"1111\"},\"view\":{\"id\":\"1114\"}},\"id\":\"1113\",\"type\":\"GlyphRenderer\"},{\"attributes\":{},\"id\":\"1153\",\"type\":\"DataRange1d\"},{\"attributes\":{\"axis\":{\"id\":\"1015\"},\"coordinates\":null,\"group\":null,\"ticker\":null},\"id\":\"1018\",\"type\":\"Grid\"},{\"attributes\":{\"children\":[{\"id\":\"1004\"}]},\"id\":\"1244\",\"type\":\"Row\"},{\"attributes\":{\"coordinates\":null,\"data_source\":{\"id\":\"1202\"},\"glyph\":{\"id\":\"1204\"},\"group\":null,\"hover_glyph\":null,\"muted_glyph\":{\"id\":\"1206\"},\"nonselection_glyph\":{\"id\":\"1205\"},\"view\":{\"id\":\"1208\"}},\"id\":\"1207\",\"type\":\"GlyphRenderer\"},{\"attributes\":{},\"id\":\"1011\",\"type\":\"LinearScale\"},{\"attributes\":{},\"id\":\"1159\",\"type\":\"LinearScale\"},{\"attributes\":{\"coordinates\":null,\"data_source\":{\"id\":\"1222\"},\"glyph\":{\"id\":\"1224\"},\"group\":null,\"hover_glyph\":null,\"muted_glyph\":{\"id\":\"1226\"},\"nonselection_glyph\":{\"id\":\"1225\"},\"view\":{\"id\":\"1228\"}},\"id\":\"1227\",\"type\":\"GlyphRenderer\"},{\"attributes\":{\"coordinates\":null,\"formatter\":{\"id\":\"1049\"},\"group\":null,\"major_label_policy\":{\"id\":\"1050\"},\"ticker\":{\"id\":\"1016\"}},\"id\":\"1015\",\"type\":\"LinearAxis\"},{\"attributes\":{\"axis\":{\"id\":\"1161\"},\"coordinates\":null,\"group\":null,\"ticker\":null},\"id\":\"1164\",\"type\":\"Grid\"},{\"attributes\":{\"data\":{\"index\":[],\"tension\":[],\"tensionEXPgl\":[],\"tensionWgl\":[],\"time\":[]},\"selected\":{\"id\":\"1147\"},\"selection_policy\":{\"id\":\"1146\"}},\"id\":\"1128\",\"type\":\"ColumnDataSource\"},{\"attributes\":{\"axis\":{\"id\":\"1071\"},\"coordinates\":null,\"dimension\":1,\"group\":null,\"ticker\":null},\"id\":\"1074\",\"type\":\"Grid\"},{\"attributes\":{},\"id\":\"1157\",\"type\":\"LinearScale\"},{\"attributes\":{\"coordinates\":null,\"group\":null,\"items\":[{\"id\":\"1201\"},{\"id\":\"1221\"},{\"id\":\"1243\"}]},\"id\":\"1200\",\"type\":\"Legend\"},{\"attributes\":{\"coordinates\":null,\"formatter\":{\"id\":\"1195\"},\"group\":null,\"major_label_policy\":{\"id\":\"1196\"},\"ticker\":{\"id\":\"1162\"}},\"id\":\"1161\",\"type\":\"LinearAxis\"},{\"attributes\":{},\"id\":\"1028\",\"type\":\"HelpTool\"},{\"attributes\":{},\"id\":\"1072\",\"type\":\"BasicTicker\"},{\"attributes\":{},\"id\":\"1169\",\"type\":\"PanTool\"},{\"attributes\":{},\"id\":\"1046\",\"type\":\"BasicTickFormatter\"},{\"attributes\":{},\"id\":\"1166\",\"type\":\"BasicTicker\"},{\"attributes\":{},\"id\":\"1020\",\"type\":\"BasicTicker\"},{\"attributes\":{},\"id\":\"1076\",\"type\":\"WheelZoomTool\"},{\"attributes\":{\"line_alpha\":0.1,\"line_color\":\"red\",\"x\":{\"field\":\"time\"},\"y\":{\"field\":\"tension\"}},\"id\":\"1092\",\"type\":\"Line\"},{\"attributes\":{\"line_alpha\":0.2,\"line_color\":\"blue\",\"x\":{\"field\":\"time\"},\"y\":{\"field\":\"tensionWgl\"}},\"id\":\"1112\",\"type\":\"Line\"},{\"attributes\":{},\"id\":\"1075\",\"type\":\"PanTool\"},{\"attributes\":{\"axis\":{\"id\":\"1165\"},\"coordinates\":null,\"dimension\":1,\"group\":null,\"ticker\":null},\"id\":\"1168\",\"type\":\"Grid\"},{\"attributes\":{},\"id\":\"1047\",\"type\":\"AllLabels\"},{\"attributes\":{\"source\":{\"id\":\"1108\"}},\"id\":\"1114\",\"type\":\"CDSView\"},{\"attributes\":{},\"id\":\"1024\",\"type\":\"WheelZoomTool\"},{\"attributes\":{\"overlay\":{\"id\":\"1081\"}},\"id\":\"1077\",\"type\":\"BoxZoomTool\"},{\"attributes\":{},\"id\":\"1078\",\"type\":\"SaveTool\"},{\"attributes\":{\"tools\":[{\"id\":\"1169\"},{\"id\":\"1170\"},{\"id\":\"1171\"},{\"id\":\"1172\"},{\"id\":\"1173\"},{\"id\":\"1174\"}]},\"id\":\"1176\",\"type\":\"Toolbar\"},{\"attributes\":{\"overlay\":{\"id\":\"1029\"}},\"id\":\"1025\",\"type\":\"BoxZoomTool\"},{\"attributes\":{\"coordinates\":null,\"group\":null,\"items\":[{\"id\":\"1107\"},{\"id\":\"1127\"},{\"id\":\"1149\"}]},\"id\":\"1106\",\"type\":\"Legend\"},{\"attributes\":{},\"id\":\"1026\",\"type\":\"SaveTool\"},{\"attributes\":{\"line_alpha\":0.1,\"line_color\":\"blue\",\"x\":{\"field\":\"time\"},\"y\":{\"field\":\"tensionWgl\"}},\"id\":\"1111\",\"type\":\"Line\"},{\"attributes\":{},\"id\":\"1049\",\"type\":\"BasicTickFormatter\"},{\"attributes\":{\"tools\":[{\"id\":\"1075\"},{\"id\":\"1076\"},{\"id\":\"1077\"},{\"id\":\"1078\"},{\"id\":\"1079\"},{\"id\":\"1080\"}]},\"id\":\"1082\",\"type\":\"Toolbar\"},{\"attributes\":{},\"id\":\"1079\",\"type\":\"ResetTool\"},{\"attributes\":{\"line_alpha\":0.1,\"line_color\":\"blue\",\"x\":{\"field\":\"time\"},\"y\":{\"field\":\"motorL\"}},\"id\":\"1205\",\"type\":\"Line\"},{\"attributes\":{},\"id\":\"1170\",\"type\":\"WheelZoomTool\"},{\"attributes\":{},\"id\":\"1080\",\"type\":\"HelpTool\"},{\"attributes\":{\"data\":{\"index\":[],\"motorL\":[],\"motorM\":[],\"motorR\":[],\"time\":[]},\"selected\":{\"id\":\"1241\"},\"selection_policy\":{\"id\":\"1240\"}},\"id\":\"1222\",\"type\":\"ColumnDataSource\"},{\"attributes\":{},\"id\":\"1219\",\"type\":\"Selection\"},{\"attributes\":{},\"id\":\"1192\",\"type\":\"BasicTickFormatter\"},{\"attributes\":{\"label\":{\"value\":\"motorM\"},\"renderers\":[{\"id\":\"1227\"}]},\"id\":\"1243\",\"type\":\"LegendItem\"},{\"attributes\":{},\"id\":\"1240\",\"type\":\"UnionRenderers\"},{\"attributes\":{},\"id\":\"1241\",\"type\":\"Selection\"},{\"attributes\":{\"line_color\":\"green\",\"x\":{\"field\":\"time\"},\"y\":{\"field\":\"motorM\"}},\"id\":\"1224\",\"type\":\"Line\"},{\"attributes\":{\"label\":{\"value\":\"motorL\"},\"renderers\":[{\"id\":\"1207\"}]},\"id\":\"1221\",\"type\":\"LegendItem\"},{\"attributes\":{\"line_alpha\":0.2,\"line_color\":\"blue\",\"x\":{\"field\":\"time\"},\"y\":{\"field\":\"motorL\"}},\"id\":\"1206\",\"type\":\"Line\"},{\"attributes\":{\"source\":{\"id\":\"1202\"}},\"id\":\"1208\",\"type\":\"CDSView\"},{\"attributes\":{\"line_alpha\":0.1,\"line_color\":\"green\",\"x\":{\"field\":\"time\"},\"y\":{\"field\":\"motorM\"}},\"id\":\"1225\",\"type\":\"Line\"},{\"attributes\":{\"line_alpha\":0.2,\"line_color\":\"green\",\"x\":{\"field\":\"time\"},\"y\":{\"field\":\"motorM\"}},\"id\":\"1226\",\"type\":\"Line\"},{\"attributes\":{\"source\":{\"id\":\"1222\"}},\"id\":\"1228\",\"type\":\"CDSView\"},{\"attributes\":{\"children\":[{\"id\":\"1056\"}]},\"id\":\"1245\",\"type\":\"Row\"},{\"attributes\":{\"children\":[{\"id\":\"1150\"}]},\"id\":\"1246\",\"type\":\"Row\"},{\"attributes\":{},\"id\":\"1103\",\"type\":\"UnionRenderers\"}],\"root_ids\":[\"1247\"]},\"title\":\"Bokeh Application\",\"version\":\"2.4.3\"}};\n",
       "  const render_items = [{\"docid\":\"7f3c01fc-d5f8-4715-b1a1-1b1d4e68fb6f\",\"notebook_comms_target\":\"1286\",\"root_ids\":[\"1247\"],\"roots\":{\"1247\":\"e14bf805-69c2-47b6-bd3a-c26af8d13501\"}}];\n",
       "  root.Bokeh.embed.embed_items_notebook(docs_json, render_items);\n",
       "  }\n",
       "  if (root.Bokeh !== undefined) {\n",
       "    embed_document(root);\n",
       "  } else {\n",
       "    let attempts = 0;\n",
       "    const timer = setInterval(function(root) {\n",
       "      if (root.Bokeh !== undefined) {\n",
       "        clearInterval(timer);\n",
       "        embed_document(root);\n",
       "      } else {\n",
       "        attempts++;\n",
       "        if (attempts > 100) {\n",
       "          clearInterval(timer);\n",
       "          console.log(\"Bokeh: ERROR: Unable to run BokehJS code because BokehJS library is missing\");\n",
       "        }\n",
       "      }\n",
       "    }, 10, root)\n",
       "  }\n",
       "})(window);"
      ],
      "application/vnd.bokehjs_exec.v0+json": ""
     },
     "metadata": {
      "application/vnd.bokehjs_exec.v0+json": {
       "id": "1247"
      }
     },
     "output_type": "display_data"
    },
    {
     "data": {
      "application/vnd.jupyter.widget-view+json": {
       "model_id": "5f4ba3a15b9943ddb4a04b4dc44b7aa4",
       "version_major": 2,
       "version_minor": 0
      },
      "text/plain": [
       "VBox(children=(Box(children=(Output(layout=Layout(border='1px solid black', grid_area='widget001')), Output(la…"
      ]
     },
     "metadata": {},
     "output_type": "display_data"
    },
    {
     "name": "stdout",
     "output_type": "stream",
     "text": [
      "44.47056732117856 87.75083747584449 1.9732340458371946 0.27130685292571144 0.9732340458371946 10\n",
      "44.839359165702014 131.10521002621732 2.9238867919972584 0.25326333758338393 0.9749916874057384 10\n",
      "45.18775018558935 174.11476876645162 3.853140907687364 0.2449336399399229 0.9758041643392188 10\n",
      "45.408591334531124 215.78856629546044 4.752152840543267 0.26558869811059793 0.9737907152726709 10\n",
      "45.72388260411231 257.19318133999496 5.62491999130589 0.2713867331944826 0.9732262716485289 10\n",
      "45.94905567143572 297.63556671222375 6.477512156952753 0.26555712301910717 0.973793790030618 10\n",
      "46.11422019668041 337.5594757579353 7.3200733812307845 0.24605691203797875 0.9756945611359481 10\n",
      "46.2432948406092 376.0616131579583 8.13224088928271 0.25994877411918793 0.9743400807388501 10\n",
      "46.34814392050753 412.54517121922083 8.901007382879968 0.28846249554608505 0.9715658316630195 10\n",
      "46.421062793757784 446.9726492541961 9.628660404438225 0.31075191815397574 0.969402679188249 10\n",
      "46.445898906178414 481.8565107449371 10.37457605715192 0.26742759373746594 0.9736116617874291 10\n",
      "46.432693684780475 516.2017622008198 11.117204737359838 0.25120789338129157 0.9751921121042186 10\n",
      "46.38922964088483 549.1342334575904 11.837537241049908 0.2547810626900784 0.9748437216983065 10\n",
      "46.33759709782919 579.6480199331057 12.509237773148598 0.28125607000067987 0.972266235686014 10\n",
      "46.36271630287193 603.112756976625 13.008572514101491 0.4084662230003673 0.9599763576225405 10\n",
      "46.38475706581063 631.5324229135831 13.615085275052012 0.30715222414564636 0.9697516973039945 10\n",
      "46.40669894529512 659.9230679304237 14.220426854932096 0.294152669474002 0.9710131510639101 10\n",
      "46.42578915375809 687.9666444715699 14.818631131785084 0.2866167821698582 0.9717451714181381 10\n",
      "46.44198413738032 716.0609871788606 15.418397824276333 0.273802315282623 0.9729912092453483 10\n",
      "46.456885242209026 742.7741343827827 15.988461785809207 0.28280769464818434 0.9721153881637307 10\n",
      "46.47117964232007 766.7408974730791 16.499277689409645 0.3107390155138887 0.9694039299744428 10\n",
      "46.48441343402854 790.1886716391771 16.999002746600773 0.30790211589066985 0.9696789791513126 10\n",
      "46.51287196934031 815.2628483160256 17.52768241989914 0.28117982850320544 0.9722736484176472 10\n",
      "46.52217765806363 843.0881804624561 18.122285389543123 0.23400629500064696 0.9768710420097657 10\n",
      "46.52498472964958 869.3207677220976 18.68503069423028 0.24423859648340596 0.9758719893261837 10\n",
      "46.51994595722396 890.703919206838 19.146710102068013 0.2923342296953422 0.9711897400131916 10\n",
      "46.508437482367164 915.7538004674133 19.690057332384146 0.24139215625274346 0.9761498049926319 10\n",
      "46.492050489693675 940.4139414524188 20.227413752398146 0.2377674409699182 0.9765036956380472 10\n",
      "46.476962621451854 962.2951227089522 20.704776483495856 0.26177733366129274 0.974161933141832 10\n",
      "46.44595725041105 982.9055637733338 21.162349146429424 0.26547460112917776 0.9738018259941705 10\n",
      "46.441198968352836 1003.0372843477735 21.598005792901454 0.27029354150604235 0.9733326697512129 10\n",
      "46.45833576680834 1025.6309200539672 22.076359454673327 0.24448978657898124 0.9758474766962247 10\n",
      "46.49113741566841 1048.53921708155 22.55352902439793 0.2396776506907159 0.9763171807675599 10\n",
      "46.52211315963812 1069.4183937452765 22.98731336806703 0.2542592952500442 0.9748945871966034 10\n",
      "46.55141387684481 1089.6450783580606 23.407346579006102 0.2555359368629624 0.9747701360409262 10\n",
      "46.57915871152107 1111.1076488279418 23.854180272112046 0.23915884774537943 0.9763678337043897 10\n",
      "46.605465351947544 1129.9030439382313 24.24400304568604 0.259123101956547 0.9744205326083091 10\n",
      "46.630707964981134 1145.5602237953976 24.566648755487346 0.2833676550303892 0.9720609550773331 10\n",
      "46.654280430552575 1166.7651927585405 25.00874907920472 0.2297147255783898 0.9772903629699182 10\n",
      "46.676662316578444 1186.7938985914707 25.425851800246427 0.2358365537831446 0.9766922656902106 10\n",
      "46.68493605047226 1197.623722472976 25.653322544518318 0.3085476361155699 0.9696163864323074 10\n",
      "46.679016977577234 1212.7907661660859 25.981497569853772 0.2653764347212544 0.9738113855038203 10\n",
      "46.65659538551133 1231.503389812453 26.3950547534997 0.2283019243768507 0.9774284444236764 10\n",
      "46.60933403463713 1246.0837511210277 26.734639679576123 0.2533874083800356 0.9749795906812425 10\n",
      "46.59078415458875 1232.068079939242 26.444458969637125 0.49462093753061254 0.9517412343909528 10\n",
      "46.57792161365768 1243.0948316296976 26.68849936973561 0.2900324920287005 0.9714133081425682 10\n",
      "46.57023776043998 1257.5529119686162 27.003360352969246 0.26006963382126713 0.974328304964823 10\n",
      "46.56610315418091 1274.5742487846708 27.371288608036206 0.236854501657362 0.9765928485688065 10\n",
      "46.56225212707615 1288.0653958435778 27.663296704983953 0.26206638526407033 0.9741337752419743 10\n",
      "46.558891216484824 1296.2880897437299 27.841902070141245 0.3014232927823599 0.9703074205651446 10\n",
      "46.55565695614075 1299.8019540082983 27.91931290396822 0.3369817379331508 0.9668632852795482 10\n",
      "46.55231725715958 1315.0857311880404 28.24962985029032 0.24278730593216125 0.9760136269835381 10\n",
      "46.54909020950343 1329.2994097219982 28.556936424304364 0.24826075116493485 0.9754795574435169 10\n",
      "46.54592526255901 1338.8439937730948 28.763935537232623 0.2816196799778652 0.9722308837583561 10\n",
      "46.542779513008746 1352.0395529892223 29.04939428061717 0.2515532668418956 0.9751584321383792 10\n",
      "46.538339500898424 1366.830829899721 29.369995675787578 0.23665535756399692 0.9766122970321996 10\n",
      "46.533462490075124 1378.2686895324002 29.618872436719357 0.2590722236469887 0.9744254903078708 10\n",
      "46.52752110117512 1386.6987898003122 29.803839899076188 0.27903032399056826 0.972482661540054 10\n",
      "46.52069232480734 1400.4820110847509 30.104496324057035 0.23744565788118166 0.9765351183811443 10\n",
      "46.52731186572947 1394.3730597451777 29.96891511310861 0.3845117768832651 0.9622786842628236 10\n",
      "46.544296410254184 1407.2256265638898 30.23411535025081 0.24824320361896213 0.9754812691722566 10\n",
      "46.554658355254546 1410.601019014392 30.299889825207575 0.3138717838452436 0.9691002857460658 10\n",
      "46.56436409456492 1417.7387810525406 30.446862286647693 0.2855671570264917 0.9718471735877331 10\n",
      "46.57329473939505 1431.1151684911945 30.728235494163012 0.23885659844705742 0.976397344799637 10\n",
      "46.58169095531883 1443.18077651778 30.981717213788556 0.24594185164591664 0.9757057875804076 10\n",
      "46.58945953630256 1449.97824994277 31.122452682949568 0.28126433213630264 0.9722654323867959 10\n",
      "46.596664999175275 1459.7572482183648 31.327504838472912 0.258744587203104 0.9744574165611257 10\n",
      "46.603540275600565 1469.7236996241584 31.5367392891745 0.2556593494242918 0.9747581062272382 10\n",
      "46.60991078640361 1480.2032996890975 31.75726524069816 0.25026958505702623 0.9752836194849128 10\n",
      "46.615946359874066 1481.8332994201 31.788120056179487 0.3099262252895869 0.9694827253803745 10\n",
      "46.624607921185515 1488.9132219675437 31.93406418525622 0.27234659324074784 0.9731328600302916 10\n",
      "46.635628448719 1494.1504182739636 32.03881813058328 0.2843466395008818 0.9719657964774094 10\n",
      "46.64822777912663 1504.192011980806 32.245426752393726 0.250752126599771 0.9752365591341147 10\n",
      "46.66047690568559 1507.1131716929583 32.29956639190107 0.2977198290276135 0.970666836951617 10\n",
      "46.6729819281543 1512.7883892112254 32.41250776605456 0.2784765564131533 0.972536515967938 10\n",
      "46.66751247315903 1522.888022439146 32.63272331721216 0.24352257669418975 0.9759418661934248 10\n",
      "46.66654080600455 1533.3098877443679 32.8567290667295 0.24066934272510565 0.9762203649710914 10\n",
      "46.67784025401705 1537.926582182278 32.94768082269885 0.28056975687333363 0.9723329658839611 10\n",
      "46.688735292841585 1545.5048616929448 33.1023072696061 0.25992968617083534 0.9743419405559391 10\n",
      "46.69068741347575 1556.3327096510698 33.332829218571 0.2351988744854765 0.9767545493198408 10\n",
      "46.69267579424268 1564.4548590290763 33.50535886876668 0.2513780974989217 0.9751755140741756 10\n",
      "46.69474754301235 1562.8176821495867 33.468811041541976 0.31425423962902244 0.9690632226538854 10\n",
      "46.696687989556494 1569.076905160434 33.60146024727388 0.2625691125262719 0.9740848041123562 10\n",
      "46.698483053888296 1576.6918700872404 33.76323526971523 0.2526251494954508 0.975053912199347 10\n",
      "46.70021717797322 1580.8293264786334 33.850577620530906 0.2740316823129163 0.9729688922908714 10\n",
      "46.709932385320506 1585.5888556407929 33.945432473781416 0.271034319104281 0.9732605701179969 10\n",
      "46.71931147956361 1594.633687096745 34.13221720517616 0.24248169632510042 0.9760434553534305 10\n",
      "46.70747202127438 1602.7131848595525 34.313849915267234 0.24268500445771934 0.9760236117979227 10\n",
      "46.71758893390486 1605.103852597658 34.357591845515145 0.2826367228882347 0.9721320087336915 10\n",
      "46.729250394943776 1597.060244754482 34.176885596420526 0.34969592198174837 0.9656347786421259 10\n",
      "46.74497863551066 1598.3157992773852 34.19224579692493 0.29233267509216176 0.9711898909946692 10\n",
      "46.76308283883675 1602.7110610991356 34.272998352625365 0.2725267949725563 0.973115324165626 10\n",
      "46.7806116956153 1611.9303549195142 34.45723124374192 0.24089880220968496 0.9761979649259094 10\n",
      "46.79784101206231 1613.1272137119272 34.470120390727814 0.29065768720309393 0.9713525777497463 10\n",
      "46.81458438757363 1619.3998247904835 34.591780445675255 0.2581146569659154 0.9745188025137033 10\n",
      "46.8308641020085 1626.3740424741377 34.728678909949586 0.25267612780655924 0.9750489415518484 10\n",
      "46.84672631073098 1632.9871594009364 34.858084822607445 0.25388013702165324 0.9749315518278261 10\n",
      "46.86208788836473 1633.4130499489747 34.855746373061855 0.29176354608249966 0.9712451658016646 10\n",
      "46.87688800290263 1641.6341139023332 35.02011724414562 0.2426597907569672 0.9760260727177527 10\n",
      "46.89117283396203 1649.189732681955 35.17057972769431 0.24557642803841162 0.9757414428247432 10\n",
      "46.899824984325704 1644.754888630862 35.069531478647356 0.3180645008440308 0.968694054588473 10\n",
      "46.90373740005885 1649.8114050036525 35.17441245527659 0.2585551423317085 0.9744758773319862 10\n",
      "46.903168542663174 1657.0819000936717 35.329849807191344 0.24303666898773457 0.9759892891129571 10\n",
      "46.90263289561569 1663.6586868122872 35.4704754105137 0.24625037779493653 0.9756756849698603 10\n",
      "46.88163030972991 1656.3034084710596 35.32947547959541 0.3269634329162443 0.9678324037748846 10\n",
      "46.881324724072385 1657.6391906294248 35.35819860862994 0.27876946191242524 0.9725080302557442 10\n",
      "46.88175849820173 1659.4572047012052 35.39665016543392 0.2757111141974633 0.972805502513317 10\n",
      "46.882232941152964 1663.8262669384105 35.48948423653074 0.25962714730452063 0.9743714186324599 10\n",
      "46.87505534136513 1669.9891728287375 35.62639362593023 0.2462022108880646 0.975680384509164 10\n",
      "46.87598737423383 1662.8376319828837 35.47312227703368 0.32906801172926947 0.9676287372500945 10\n",
      "46.87670688912686 1664.9375415920722 35.517374237273 0.2731249241204097 0.973057121042332 10\n",
      "46.877009627112955 1655.9528680127644 35.325480042032936 0.3413405513380212 0.9664419394497564 10\n",
      "46.88538426784534 1640.0931514052756 34.98090454022523 0.38805782106099684 0.9619375164836309 10\n",
      "46.891052476709504 1626.8615939654217 34.694499441518694 0.3746772532265936 0.9632255050115335 10\n",
      "46.90916981859763 1604.759108199799 34.209923441526676 0.4373242674984823 0.9572100470135207 10\n",
      "46.92197215372984 1579.5072907380616 33.66242334322911 0.46290477180734513 0.9547645845819376 10\n",
      "46.97410630900947 1549.2657163217239 32.981270705400945 0.5123173992531775 0.9500584785389102 10\n",
      "47.036887027036464 1545.404562158587 32.85516240201652 0.34740392245208795 0.9658561274535726 10\n",
      "47.109368411978835 1551.3004362561182 32.929765109346235 0.2857023305552957 0.9718340368753289 10\n",
      "47.18006702180263 1562.0428620364908 33.10811028128991 0.2526830837193046 0.9750482633165483 10\n",
      "47.24897437349865 1569.1890825816868 33.21107184628806 0.27468036366727233 0.9729057796600131 10\n",
      "47.31603633192435 1574.462450536807 33.275451043529394 0.2857639802567036 0.9718280455659779 10\n",
      "47.444311966190405 1591.3727017000317 33.54190704323144 0.28581706088766623 0.9718228870550841 10\n",
      "47.50601680967176 1598.0061333085814 33.63797347419881 0.27319172570337 0.9730506208884434 10\n",
      "47.61090879813618 1620.8752808711934 34.04419957080604 0.2377790898800498 0.9765025581183303 10\n",
      "47.644285903161915 1625.8361045244903 34.12447208945557 0.27387320483522615 0.9729843117786453 10\n",
      "47.66520270750938 1630.1059580297008 34.199077428299425 0.27492696247293225 0.972881788215499 10\n",
      "47.70638159453444 1628.9092995448102 34.14447386492689 0.313226660954399 0.969162806640513 10\n",
      "47.75219415162627 1592.0101834426152 33.338995447780846 0.5432696200179379 0.9471223828403862 10\n",
      "47.82083612096038 1581.171604018846 33.06449096831667 0.38978528847452765 0.9617713592642453 10\n",
      "47.95251976291065 1572.6077476426087 32.79510139233513 0.3461745248030752 0.9659748768781738 10\n",
      "48.015333093050394 1572.1041971315142 32.74171177954519 0.32647511495301273 0.967879665923639 10\n",
      "48.075915714971174 1578.858281146935 32.840940368303116 0.27896959898103546 0.9724885669598736 10\n",
      "48.13450618804686 1590.4543590082735 33.04187546445065 0.24632263436794233 0.9756686350971943 10\n",
      "48.17782566386733 1601.2776107685424 33.23681774143405 0.24666503017456876 0.9756352291841682 10\n",
      "48.2198179670393 1609.0231129330882 33.36850242846079 0.26472426900089374 0.9738748962151454 10\n",
      "48.27245853111859 1628.8560256150645 33.742968043880154 0.24595646107474067 0.9757043621310232 10\n",
      "48.28260686107712 1633.2888516336293 33.82768574060363 0.2749980453989167 0.9728748727116634 10\n",
      "48.26225875513125 1640.4481688113358 33.99028995170938 0.2506629767667903 0.9752452533905056 10\n",
      "48.25536315286937 1632.8797243568686 33.838305582408076 0.3447920706975225 0.9661084277027955 10\n",
      "48.25258625703624 1641.3600846360303 34.01600229037849 0.2460110022051225 0.9756990405436526 10\n",
      "48.250765605183965 1642.9453293535892 34.0501401117058 0.2880526381725872 0.9716056528210582 10\n",
      "48.2485250370255 1642.9291454314928 34.051385906009 0.2977064843377093 0.9706681322772753 10\n",
      "48.2453332658866 1653.2253775231418 34.26705269941844 0.2330323507973162 0.9769661884319325 10\n",
      "48.26935978782107 1662.2675110901964 34.43732252503598 0.24511612857065757 0.9757863571851179 10\n",
      "48.292199358042915 1664.7481958393385 34.47240378299482 0.2841960168569244 0.971980436593476 10\n",
      "48.28633921694588 1664.528661086813 34.47204091426864 0.29448622821531956 0.9709807626116386 10\n",
      "48.30752610623563 1674.3995293994874 34.66125600630484 0.23801084623462998 0.9764799273132622 10\n",
      "48.32763465529676 1680.5136240127174 34.77334729910129 0.25950571570889736 0.9743832506519082 10\n",
      "48.319374986042526 1683.9150753503402 34.849686607841136 0.26921470079363985 0.9734376825067967 10\n",
      "48.3091399751325 1686.0300639634543 34.90085033249093 0.2760404693857481 0.9727734631869913 10\n",
      "48.29877514261072 1693.5421807151513 35.06387430560437 0.2427377554327279 0.9760184631917871 10\n",
      "48.274729886715285 1697.8710974351266 35.17101186105991 0.2579370015115785 0.9745361155255524 10\n",
      "48.23877906618317 1699.3665567358003 35.22822487700787 0.2717162413883045 0.9731942035737714 10\n",
      "48.20845163171369 1679.384891074303 34.83590188508622 0.4032517967851277 0.9604770607436891 10\n",
      "48.18012834779323 1686.1475398519335 34.99674238475048 0.243838105333964 0.9759110729182815 10\n",
      "48.13997597176909 1692.0014787287348 35.147534758242955 0.24564587656449532 0.9757346664677693 10\n",
      "48.10401850527284 1689.4250392359384 35.12024757455045 0.29663502304295264 0.9707721411826306 10\n",
      "48.06900088619217 1692.3941359189716 35.20759959055259 0.26329988497724344 0.9740136232792619 10\n",
      "48.0349538391283 1698.0737053640228 35.350792904911806 0.24636855246056655 0.9756641550232044 10\n",
      "47.923804852470035 1703.0053285214192 35.535686988209676 0.2682233097882829 0.9735341930269721 10\n",
      "47.886250791816884 1709.4209656056819 35.69753190821527 0.23868900953311822 0.9764137082738122 10\n",
      "47.82192813319627 1711.8970788704198 35.79732448474996 0.2816066329090461 0.9722321522355084 10\n",
      "47.79543003151446 1718.1921349772172 35.94887908413645 0.23986759370149002 0.9762986364811999 10\n",
      "47.72722287978353 1722.310797548502 36.086549638278754 0.2760775734927279 0.9727698538046229 10\n",
      "47.70615791495199 1710.3700276586032 35.85218559641211 0.3480436008629795 0.9657943456983404 10\n",
      "47.68886910217511 1711.1483197635093 35.88150341953617 0.2744782948354896 0.972925439252075 10\n",
      "47.6728728435469 1717.233440053219 36.021186423751836 0.24268732891421507 0.9760233849255067 10\n",
      "47.68249239082383 1721.225134411182 36.09763349414218 0.25973570742299046 0.974360840902212 10\n",
      "47.666744727404186 1719.3287370773317 36.0697745757509 0.2888767271690824 0.9715255871674224 10\n",
      "47.651505673775866 1724.7376788328595 36.19482017295494 0.24556327664888045 0.9757427260611666 10\n",
      "47.63690299239953 1731.2029880199646 36.34163598536576 0.2385426089039413 0.9764280031365736 10\n",
      "47.64761405303988 1736.2963669456853 36.44036330996328 0.2511270372039007 0.975199997166737 10\n",
      "47.658142523336224 1739.3783315145822 36.49698119608586 0.2622938629329781 0.9741116161259709 10\n",
      "47.64358529573295 1739.566870770382 36.51208992716551 0.27356350379355376 0.9730144456707566 10\n",
      "47.65419996991539 1745.7226178146411 36.6331324188998 0.24367545662337875 0.9759269461151344 10\n",
      "47.65611680674305 1750.2622330433996 36.72691671755656 0.2504871388329377 0.97526240205231 10\n",
      "47.646714388871544 1745.187549714794 36.627657795484915 0.3038767119038539 0.9700693926875117 10\n",
      "47.62762042699398 1751.4078332029867 36.77294430209112 0.23611770563900336 0.9766648061919166 10\n",
      "47.598904210546394 1754.2142952737136 36.85408990749488 0.25304721164138755 0.9750127597331393 10\n",
      "47.5709601330002 1752.5530694842325 36.84081768760598 0.27879197677518164 0.972505840669726 10\n",
      "47.544829486383584 1749.1740023831885 36.789994228165995 0.2893804327852507 0.9714766521104252 10\n",
      "47.52049010463976 1756.009784249576 36.95268673329874 0.23022095576689594 0.9772408908336762 10\n",
      "47.45841285433474 1754.935475100197 36.978385275686804 0.3042988169537182 0.9700284464327616 10\n"
     ]
    }
   ],
   "source": [
    "pl.MotorsControlStart()\n",
    "t0 = time.time()\n",
    "t = t0\n",
    "k = 1\n",
    "dp.Show()\n",
    "# dp2.Show()\n",
    "sl.Display()\n",
    "pl.Clear()\n",
    "\n",
    "with ui_events() as poll:\n",
    "    while True:\n",
    "        poll(10)\n",
    "        t = time.time()  \n",
    "        T = sl.Sl['T0']() * k**2\n",
    "        if pl.PulMotorsControl(sl.Sl['molibdenH'](), T,\n",
    "                                    upFl=sl.BtnFl['molibden'], stFl=sl.BtnFl['end'],\n",
    "                                    vsFl=sl.BtnFl['start stabili'], dhKof=0.5, ah=9,Kp=sl.Sl['Kp']()*0.001,Ki=sl.Sl['Ki'](),Kd=sl.Sl['Kd']()\n",
    "                                 )==-1:\n",
    "            break\n",
    "        x=pl.data['x'].iloc[-1]\n",
    "        pl.v=sl.Sl['v']()\n",
    "        pl.a=sl.Sl['a']()\n",
    "        T=sl.Sl['T0']()\n",
    "        ww=int(sl.Sl['window']())\n",
    "        k = pl.ms.R_x(x)/pl.ms.R_x(0)\n",
    "        sl.ChangeValueTt('x',x)\n",
    "        sl.ChangeValueTt('L',pl.ms.L_x(x))\n",
    "        sl.ChangeValueTt('R',pl.ms.R_x(x))\n",
    "        sl.ChangeValueTt('dv',pl.dv)\n",
    "        sl.ChangeValueTt('T',T)\n",
    "        dp.Apdate(for_all=pl.data.iloc[-ww:])\n",
    "#         dp2.Apdate(for_all=pd.DataFrame({\n",
    "#                     'time': pl.times,\n",
    "#                     'kof': pl.trueKmas\n",
    "#                 }))\n",
    "        push_notebook()    \n",
    "        Time.sleep(0.04)\n",
    "print('ura')\n",
    "pl.Save()\n",
    "with ui_events() as poll:\n",
    "    while sl.BtnFl['end']<3:\n",
    "        poll(10)\n",
    "        pl.SetW(2,dw=1,tau=0.5)\n",
    "print('vse')"
   ]
  },
  {
   "cell_type": "code",
   "execution_count": 23,
   "metadata": {
    "pycharm": {
     "name": "#%%\n"
    }
   },
   "outputs": [
    {
     "name": "stdout",
     "output_type": "stream",
     "text": [
      "ending\n",
      "end\n"
     ]
    }
   ],
   "source": [
    "pl.ms.End() # растановка моторчиков на нули (запускать перед отключением питания)"
   ]
  },
  {
   "cell_type": "code",
   "execution_count": null,
   "metadata": {},
   "outputs": [],
   "source": [
    "pl.ms.Move(60, v=1, a=1, vdiff=0, da=0)"
   ]
  },
  {
   "cell_type": "markdown",
   "metadata": {},
   "source": [
    "### Для калибровки"
   ]
  },
  {
   "cell_type": "code",
   "execution_count": 52,
   "metadata": {},
   "outputs": [
    {
     "data": {
      "text/html": [
       "\n",
       "  <div class=\"bk-root\" id=\"c70f3e30-2215-428a-9491-ba4441d09867\" data-root-id=\"16510\"></div>\n"
      ]
     },
     "metadata": {},
     "output_type": "display_data"
    },
    {
     "data": {
      "application/javascript": [
       "(function(root) {\n",
       "  function embed_document(root) {\n",
       "  const docs_json = {\"1a7b9f2d-1113-4bda-a7fe-49397464a9ed\":{\"defs\":[],\"roots\":{\"references\":[{\"attributes\":{\"children\":[{\"id\":\"16509\"}]},\"id\":\"16510\",\"type\":\"Column\"},{\"attributes\":{\"overlay\":{\"id\":\"16482\"}},\"id\":\"16478\",\"type\":\"BoxZoomTool\"},{\"attributes\":{},\"id\":\"16479\",\"type\":\"SaveTool\"},{\"attributes\":{},\"id\":\"16499\",\"type\":\"BasicTickFormatter\"},{\"attributes\":{},\"id\":\"16504\",\"type\":\"UnionRenderers\"},{\"attributes\":{},\"id\":\"16464\",\"type\":\"LinearScale\"},{\"attributes\":{},\"id\":\"16473\",\"type\":\"BasicTicker\"},{\"attributes\":{\"tools\":[{\"id\":\"16476\"},{\"id\":\"16477\"},{\"id\":\"16478\"},{\"id\":\"16479\"},{\"id\":\"16480\"},{\"id\":\"16481\"}]},\"id\":\"16483\",\"type\":\"Toolbar\"},{\"attributes\":{},\"id\":\"16462\",\"type\":\"DataRange1d\"},{\"attributes\":{},\"id\":\"16477\",\"type\":\"WheelZoomTool\"},{\"attributes\":{\"below\":[{\"id\":\"16468\"}],\"center\":[{\"id\":\"16471\"},{\"id\":\"16475\"},{\"id\":\"16507\"}],\"height\":300,\"left\":[{\"id\":\"16472\"}],\"renderers\":[{\"id\":\"16495\"}],\"title\":{\"id\":\"16458\"},\"toolbar\":{\"id\":\"16483\"},\"width\":980,\"x_range\":{\"id\":\"16460\"},\"x_scale\":{\"id\":\"16464\"},\"y_range\":{\"id\":\"16462\"},\"y_scale\":{\"id\":\"16466\"}},\"id\":\"16457\",\"subtype\":\"Figure\",\"type\":\"Plot\"},{\"attributes\":{},\"id\":\"16503\",\"type\":\"AllLabels\"},{\"attributes\":{\"bottom_units\":\"screen\",\"coordinates\":null,\"fill_alpha\":0.5,\"fill_color\":\"lightgrey\",\"group\":null,\"left_units\":\"screen\",\"level\":\"overlay\",\"line_alpha\":1.0,\"line_color\":\"black\",\"line_dash\":[4,4],\"line_width\":2,\"right_units\":\"screen\",\"syncable\":false,\"top_units\":\"screen\"},\"id\":\"16482\",\"type\":\"BoxAnnotation\"},{\"attributes\":{},\"id\":\"16500\",\"type\":\"AllLabels\"},{\"attributes\":{\"coordinates\":null,\"formatter\":{\"id\":\"16502\"},\"group\":null,\"major_label_policy\":{\"id\":\"16503\"},\"ticker\":{\"id\":\"16469\"}},\"id\":\"16468\",\"type\":\"LinearAxis\"},{\"attributes\":{},\"id\":\"16460\",\"type\":\"DataRange1d\"},{\"attributes\":{\"coordinates\":null,\"group\":null,\"items\":[{\"id\":\"16508\"}]},\"id\":\"16507\",\"type\":\"Legend\"},{\"attributes\":{\"data\":{\"index\":[],\"tension\":[],\"time\":[]},\"selected\":{\"id\":\"16505\"},\"selection_policy\":{\"id\":\"16504\"}},\"id\":\"16490\",\"type\":\"ColumnDataSource\"},{\"attributes\":{},\"id\":\"16505\",\"type\":\"Selection\"},{\"attributes\":{},\"id\":\"16476\",\"type\":\"PanTool\"},{\"attributes\":{},\"id\":\"16481\",\"type\":\"HelpTool\"},{\"attributes\":{\"coordinates\":null,\"group\":null,\"text\":\"tension\"},\"id\":\"16458\",\"type\":\"Title\"},{\"attributes\":{\"line_color\":\"red\",\"x\":{\"field\":\"time\"},\"y\":{\"field\":\"tension\"}},\"id\":\"16492\",\"type\":\"Line\"},{\"attributes\":{},\"id\":\"16469\",\"type\":\"BasicTicker\"},{\"attributes\":{\"source\":{\"id\":\"16490\"}},\"id\":\"16496\",\"type\":\"CDSView\"},{\"attributes\":{\"line_alpha\":0.2,\"line_color\":\"red\",\"x\":{\"field\":\"time\"},\"y\":{\"field\":\"tension\"}},\"id\":\"16494\",\"type\":\"Line\"},{\"attributes\":{\"axis\":{\"id\":\"16472\"},\"coordinates\":null,\"dimension\":1,\"group\":null,\"ticker\":null},\"id\":\"16475\",\"type\":\"Grid\"},{\"attributes\":{\"coordinates\":null,\"formatter\":{\"id\":\"16499\"},\"group\":null,\"major_label_policy\":{\"id\":\"16500\"},\"ticker\":{\"id\":\"16473\"}},\"id\":\"16472\",\"type\":\"LinearAxis\"},{\"attributes\":{\"label\":{\"value\":\"tension\"},\"renderers\":[{\"id\":\"16495\"}]},\"id\":\"16508\",\"type\":\"LegendItem\"},{\"attributes\":{\"coordinates\":null,\"data_source\":{\"id\":\"16490\"},\"glyph\":{\"id\":\"16492\"},\"group\":null,\"hover_glyph\":null,\"muted_glyph\":{\"id\":\"16494\"},\"nonselection_glyph\":{\"id\":\"16493\"},\"view\":{\"id\":\"16496\"}},\"id\":\"16495\",\"type\":\"GlyphRenderer\"},{\"attributes\":{},\"id\":\"16480\",\"type\":\"ResetTool\"},{\"attributes\":{},\"id\":\"16502\",\"type\":\"BasicTickFormatter\"},{\"attributes\":{\"axis\":{\"id\":\"16468\"},\"coordinates\":null,\"group\":null,\"ticker\":null},\"id\":\"16471\",\"type\":\"Grid\"},{\"attributes\":{\"children\":[{\"id\":\"16457\"}]},\"id\":\"16509\",\"type\":\"Row\"},{\"attributes\":{\"line_alpha\":0.1,\"line_color\":\"red\",\"x\":{\"field\":\"time\"},\"y\":{\"field\":\"tension\"}},\"id\":\"16493\",\"type\":\"Line\"},{\"attributes\":{},\"id\":\"16466\",\"type\":\"LinearScale\"}],\"root_ids\":[\"16510\"]},\"title\":\"Bokeh Application\",\"version\":\"2.4.3\"}};\n",
       "  const render_items = [{\"docid\":\"1a7b9f2d-1113-4bda-a7fe-49397464a9ed\",\"notebook_comms_target\":\"16601\",\"root_ids\":[\"16510\"],\"roots\":{\"16510\":\"c70f3e30-2215-428a-9491-ba4441d09867\"}}];\n",
       "  root.Bokeh.embed.embed_items_notebook(docs_json, render_items);\n",
       "  }\n",
       "  if (root.Bokeh !== undefined) {\n",
       "    embed_document(root);\n",
       "  } else {\n",
       "    let attempts = 0;\n",
       "    const timer = setInterval(function(root) {\n",
       "      if (root.Bokeh !== undefined) {\n",
       "        clearInterval(timer);\n",
       "        embed_document(root);\n",
       "      } else {\n",
       "        attempts++;\n",
       "        if (attempts > 100) {\n",
       "          clearInterval(timer);\n",
       "          console.log(\"Bokeh: ERROR: Unable to run BokehJS code because BokehJS library is missing\");\n",
       "        }\n",
       "      }\n",
       "    }, 10, root)\n",
       "  }\n",
       "})(window);"
      ],
      "application/vnd.bokehjs_exec.v0+json": ""
     },
     "metadata": {
      "application/vnd.bokehjs_exec.v0+json": {
       "id": "16510"
      }
     },
     "output_type": "display_data"
    },
    {
     "data": {
      "application/vnd.jupyter.widget-view+json": {
       "model_id": "05a61669d1c9441493497d1ec51747a4",
       "version_major": 2,
       "version_minor": 0
      },
      "text/plain": [
       "VBox(children=(Box(children=(Output(layout=Layout(border='1px solid black', grid_area='widget001')),)), Box(),…"
      ]
     },
     "metadata": {},
     "output_type": "display_data"
    }
   ],
   "source": [
    "pl.Clear()\n",
    "\n",
    "dp1 = PlotDisplayer()\n",
    "dp1.CreateMaket(mainParam='time', tension=pl.data[['time', 'tension']])\n",
    "\n",
    "sl1 = Slider()\n",
    "sl1.NewBtn('stop', 'stop', 'stopped')\n",
    "sl1.NewTt('Tension')\n",
    "\n",
    "dp1.Show()\n",
    "sl1.Display()\n",
    "\n",
    "with ui_events() as poll:\n",
    "    while not sl1.BtnFl['stop']:\n",
    "        poll(10)\n",
    "        \n",
    "        pl.Read(False, False, False)\n",
    "        \n",
    "        dp1.Apdate(for_all=pl.data.iloc[-200:])\n",
    "        sl1.ChangeValueTt('Tension', pl.tg.ReadValue(tau=0))\n",
    "        Time.sleep(.04)\n",
    "        push_notebook()"
   ]
  },
  {
   "cell_type": "code",
   "execution_count": 47,
   "metadata": {},
   "outputs": [],
   "source": [
    "pl.tg.weightCoef = -0.0075585384235655265"
   ]
  },
  {
   "cell_type": "code",
   "execution_count": 50,
   "metadata": {},
   "outputs": [],
   "source": [
    "pl.tg.weightCoef *= 265598 / 1000 ** 2"
   ]
  },
  {
   "cell_type": "code",
   "execution_count": 37,
   "metadata": {},
   "outputs": [],
   "source": [
    "pl.tg.weightCoef *= 1000 / 9.8"
   ]
  },
  {
   "cell_type": "code",
   "execution_count": 54,
   "metadata": {},
   "outputs": [
    {
     "data": {
      "text/plain": [
       "-0.0020075326882221566"
      ]
     },
     "execution_count": 54,
     "metadata": {},
     "output_type": "execute_result"
    }
   ],
   "source": [
    "-0.0075585384235655265 * 265598 / 1000 ** 2"
   ]
  }
 ],
 "metadata": {
  "kernelspec": {
   "display_name": "Python 3 (ipykernel)",
   "language": "python",
   "name": "python3"
  },
  "language_info": {
   "codemirror_mode": {
    "name": "ipython",
    "version": 3
   },
   "file_extension": ".py",
   "mimetype": "text/x-python",
   "name": "python",
   "nbconvert_exporter": "python",
   "pygments_lexer": "ipython3",
   "version": "3.8.13"
  },
  "vscode": {
   "interpreter": {
    "hash": "3d93dcc60e22d28d0084fc331a34bf2dc08a93f49a5a7819d10d740b51b56018"
   }
  }
 },
 "nbformat": 4,
 "nbformat_minor": 4
}
