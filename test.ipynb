{
 "cells": [
  {
   "cell_type": "code",
   "execution_count": 1,
   "metadata": {},
   "outputs": [],
   "source": [
    "from mylib.sacred_logger import ex, save_data\n",
    "import pandas as pd\n",
    "from random import random\n",
    "from pathlib import Path"
   ]
  },
  {
   "cell_type": "code",
   "execution_count": 2,
   "metadata": {},
   "outputs": [
    {
     "name": "stdout",
     "output_type": "stream",
     "text": [
      "   x  y\n",
      "0  2  4\n",
      "1  3  5\n"
     ]
    }
   ],
   "source": [
    "df = pd.DataFrame({'x': [2, 3], 'y': [4, 5]})\n",
    "print(df)"
   ]
  },
  {
   "cell_type": "code",
   "execution_count": 3,
   "metadata": {},
   "outputs": [
    {
     "ename": "AttributeError",
     "evalue": "'function' object has no attribute 'log_scalar'",
     "output_type": "error",
     "traceback": [
      "\u001b[0;31m---------------------------------------------------------------------------\u001b[0m",
      "\u001b[0;31mAttributeError\u001b[0m                            Traceback (most recent call last)",
      "\u001b[1;32m/home/korbash/projects/table_control/test.ipynb Cell 4\u001b[0m in \u001b[0;36m<cell line: 1>\u001b[0;34m()\u001b[0m\n\u001b[1;32m      <a href='vscode-notebook-cell:/home/korbash/projects/table_control/test.ipynb#ch0000002?line=3'>4</a>\u001b[0m params \u001b[39m=\u001b[39m {\u001b[39m'\u001b[39m\u001b[39mq\u001b[39m\u001b[39m'\u001b[39m:q, \u001b[39m'\u001b[39m\u001b[39mw\u001b[39m\u001b[39m'\u001b[39m:w}\n\u001b[1;32m      <a href='vscode-notebook-cell:/home/korbash/projects/table_control/test.ipynb#ch0000002?line=4'>5</a>\u001b[0m \u001b[39mfor\u001b[39;00m name, val \u001b[39min\u001b[39;00m params\u001b[39m.\u001b[39mitems():\n\u001b[0;32m----> <a href='vscode-notebook-cell:/home/korbash/projects/table_control/test.ipynb#ch0000002?line=5'>6</a>\u001b[0m     ex\u001b[39m.\u001b[39;49mrun\u001b[39m.\u001b[39;49mlog_scalar(name, val)\n",
      "\u001b[0;31mAttributeError\u001b[0m: 'function' object has no attribute 'log_scalar'"
     ]
    }
   ],
   "source": [
    "for i in range(5):\n",
    "    q=random()\n",
    "    w=random()\n",
    "    params = {'q':q, 'w':w}\n",
    "    for name, val in params.items():\n",
    "        ex.run.log_scalar(name, val)\n"
   ]
  },
  {
   "cell_type": "code",
   "execution_count": 4,
   "metadata": {},
   "outputs": [
    {
     "name": "stderr",
     "output_type": "stream",
     "text": [
      "INFO - test - Running command 'push_to_mango'\n",
      "INFO - test - Started run with ID \"222\"\n",
      "INFO - test - Completed after 0:00:01\n"
     ]
    },
    {
     "name": "stdout",
     "output_type": "stream",
     "text": [
      "Added text/csv as content-type of artifact /home/korbash/projects/table_control/data/pull_resalts.csv.\n"
     ]
    }
   ],
   "source": [
    "save_data(df, name='pull_resalts.csv')\n",
    "ex.run()\n",
    "ex.add_artifact('data/pull_resalts.csv',)"
   ]
  },
  {
   "cell_type": "code",
   "execution_count": null,
   "metadata": {},
   "outputs": [],
   "source": []
  }
 ],
 "metadata": {
  "kernelspec": {
   "display_name": "Python 3 (ipykernel)",
   "language": "python",
   "name": "python3"
  },
  "language_info": {
   "codemirror_mode": {
    "name": "ipython",
    "version": 3
   },
   "file_extension": ".py",
   "mimetype": "text/x-python",
   "name": "python",
   "nbconvert_exporter": "python",
   "pygments_lexer": "ipython3",
   "version": "3.8.13"
  },
  "vscode": {
   "interpreter": {
    "hash": "3d93dcc60e22d28d0084fc331a34bf2dc08a93f49a5a7819d10d740b51b56018"
   }
  }
 },
 "nbformat": 4,
 "nbformat_minor": 2
}
