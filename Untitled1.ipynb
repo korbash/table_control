{
 "cells": [
  {
   "cell_type": "code",
   "execution_count": 8,
   "id": "307beeea",
   "metadata": {},
   "outputs": [],
   "source": [
    "import asyncio"
   ]
  },
  {
   "cell_type": "code",
   "execution_count": 9,
   "id": "9932b40b",
   "metadata": {},
   "outputs": [],
   "source": [
    "def wait_for_change(widget, value):\n",
    "    future = asyncio.Future()\n",
    "    def getvalue(change):\n",
    "        # make the new value available\n",
    "        print('kuku1')\n",
    "        future.set_result(change.new)\n",
    "        print('kuku2')\n",
    "        widget.unobserve(getvalue, value)\n",
    "        print('kuku3')\n",
    "    print('kuku0')\n",
    "    widget.observe(getvalue, value)\n",
    "    print('kuku4')\n",
    "    return future"
   ]
  },
  {
   "cell_type": "code",
   "execution_count": 10,
   "id": "ce4c168a",
   "metadata": {},
   "outputs": [
    {
     "data": {
      "application/vnd.jupyter.widget-view+json": {
       "model_id": "90df90c629134dd087ced81257114b12",
       "version_major": 2,
       "version_minor": 0
      },
      "text/plain": [
       "IntSlider(value=0)"
      ]
     },
     "execution_count": 10,
     "metadata": {},
     "output_type": "execute_result"
    },
    {
     "name": "stdout",
     "output_type": "stream",
     "text": [
      "kuku0\n",
      "kuku4\n",
      "kuku1\n",
      "kuku2\n",
      "kuku3\n",
      "kuku0\n",
      "kuku4\n",
      "kuku1\n",
      "kuku2\n",
      "kuku3\n",
      "kuku0\n",
      "kuku4\n"
     ]
    }
   ],
   "source": [
    "from ipywidgets import IntSlider, Output\n",
    "slider = IntSlider()\n",
    "out = Output()\n",
    "\n",
    "async def f():\n",
    "    for i in range(100):\n",
    "        out.append_stdout('did work ' + str(i) + '\\n')\n",
    "        x = await wait_for_change(slider, 'value')\n",
    "        out.append_stdout('async function continued with value ' + str(x) + '\\n')\n",
    "asyncio.ensure_future(f())\n",
    "\n",
    "slider"
   ]
  },
  {
   "cell_type": "code",
   "execution_count": 11,
   "id": "b463e5bf",
   "metadata": {
    "scrolled": true
   },
   "outputs": [
    {
     "data": {
      "application/vnd.jupyter.widget-view+json": {
       "model_id": "5911ebc75f56407682d5596fb0bfc593",
       "version_major": 2,
       "version_minor": 0
      },
      "text/plain": [
       "Output(outputs=({'output_type': 'stream', 'name': 'stdout', 'text': 'did work 0\\n'},))"
      ]
     },
     "execution_count": 11,
     "metadata": {},
     "output_type": "execute_result"
    }
   ],
   "source": [
    "out"
   ]
  }
 ],
 "metadata": {
  "kernelspec": {
   "display_name": "Python 3 (ipykernel)",
   "language": "python",
   "name": "python3"
  },
  "language_info": {
   "codemirror_mode": {
    "name": "ipython",
    "version": 3
   },
   "file_extension": ".py",
   "mimetype": "text/x-python",
   "name": "python",
   "nbconvert_exporter": "python",
   "pygments_lexer": "ipython3",
   "version": "3.11.0"
  }
 },
 "nbformat": 4,
 "nbformat_minor": 5
}
